{
  "cells": [
    {
      "cell_type": "markdown",
      "metadata": {
        "id": "5h0hJ-jDXusx"
      },
      "source": [
        "# Labor V. Neural Network\n",
        "\n",
        "<img src=\"https://media.geeksforgeeks.org/wp-content/cdn-uploads/20230602113310/Neural-Networks-Architecture.png\">"
      ]
    },
    {
      "cell_type": "markdown",
      "metadata": {
        "id": "v4I7TngOY6KI"
      },
      "source": [
        "## I have an idea. I do text classification!\n",
        "\n",
        "<img src=\"https://gmu.ac.ae/wp-content/uploads/2017/03/idea.jpg\">"
      ]
    },
    {
      "cell_type": "markdown",
      "metadata": {
        "id": "BOk1S7gdYpxv"
      },
      "source": [
        "## I need some data!\n",
        "\n",
        "<img src=\"https://staging.herovired.com/wp-content/uploads/2023/04/What-Is-Data-Definition-01.webp\">\n",
        "\n",
        "## [Huggingface](https://huggingface.co/docs/datasets/index)\n",
        "\n",
        "- IMDB dataset: hf://datasets/scikit-learn/imdb/IMDB Dataset.csv"
      ]
    },
    {
      "cell_type": "code",
      "execution_count": null,
      "metadata": {
        "id": "VsB9NgY7XtWx"
      },
      "outputs": [],
      "source": [
        "import pandas as pd\n",
        "\n",
        "splits = {'train': 'data/train-00000-of-00001.parquet', 'test': 'data/test-00000-of-00001.parquet'}\n",
        "df = pd.read_parquet(\"hf://datasets/fancyzhx/ag_news/\" + splits[\"train\"])\n",
        "df.head()"
      ]
    },
    {
      "cell_type": "markdown",
      "metadata": {
        "id": "ae3k7lLkaWmw"
      },
      "source": [
        "## Text cleaning\n",
        "\n",
        "<img src=\"https://www.henryford.com/-/media/project/hfhs/henryford/henry-ford-blog/images/mobile-interior-banner-images/2019/02/bucket-of-cleaning-products.jpg\">"
      ]
    },
    {
      "cell_type": "code",
      "execution_count": null,
      "metadata": {
        "id": "naeIEF2uZ1Bg"
      },
      "outputs": [],
      "source": [
        "# Lower case\n",
        "# Remove white spaces\n",
        "# Remove special characters\n",
        "# Expand contraction: !pip install contractions\n",
        "# Removing HTML or XML tags\n",
        "# Removing Punctuation\n",
        "# Remove Numbers\n",
        "# Remove stop words\n",
        "# Lemmatization\n",
        "# Steeming"
      ]
    },
    {
      "cell_type": "markdown",
      "metadata": {
        "id": "iW3Xa27sg9Yy"
      },
      "source": [
        "## Training, validation and test set\n",
        "\n",
        "<img src=\"https://www.brainstobytes.com/content/images/2020/01/Sets.png\">\n",
        "\n"
      ]
    },
    {
      "cell_type": "code",
      "execution_count": null,
      "metadata": {
        "id": "A_9Jo7oWelHw"
      },
      "outputs": [],
      "source": [
        "# Train and test set\n",
        "# ToDo"
      ]
    },
    {
      "cell_type": "code",
      "execution_count": null,
      "metadata": {
        "id": "H3-BxZgKdqUC"
      },
      "outputs": [],
      "source": [
        "# CountVectorizer\n",
        "# ToDo"
      ]
    },
    {
      "cell_type": "code",
      "execution_count": null,
      "metadata": {
        "id": "SbzPCwnLgoXB"
      },
      "outputs": [],
      "source": [
        "# TFIDF\n",
        "# ToDo"
      ]
    },
    {
      "cell_type": "code",
      "execution_count": null,
      "metadata": {
        "id": "_-VQ0w5ljvbx"
      },
      "outputs": [],
      "source": [
        "# Labels\n",
        "# ToDo"
      ]
    },
    {
      "cell_type": "markdown",
      "metadata": {
        "id": "qftgX38kjWZi"
      },
      "source": [
        "## Modelling"
      ]
    },
    {
      "cell_type": "code",
      "execution_count": null,
      "metadata": {
        "id": "q9sIWrHXjjVT"
      },
      "outputs": [],
      "source": [
        "# Model CV\n",
        "# ToDo"
      ]
    },
    {
      "cell_type": "code",
      "execution_count": null,
      "metadata": {
        "id": "ARn3n12plwgq"
      },
      "outputs": [],
      "source": [
        "# Model CV\n",
        "# To Do"
      ]
    },
    {
      "cell_type": "markdown",
      "metadata": {},
      "source": [
        "## Evaluating"
      ]
    },
    {
      "cell_type": "code",
      "execution_count": null,
      "metadata": {
        "id": "fq6IAFYqlmnj"
      },
      "outputs": [],
      "source": [
        "# Evaluate the model on the test set\n",
        "loss_cv, accuracy_cv = model_cv.evaluate(test_df_cv, test_df_labels)\n",
        "print('Test accuracy (CV):', accuracy_cv)\n",
        "\n",
        "loss_tfidf, accuracy_tfidf = model_tfidf.evaluate(test_df_tfidf, test_df_labels)\n",
        "print('Test accuracy (TFIDF):', accuracy_tfidf)"
      ]
    },
    {
      "cell_type": "markdown",
      "metadata": {},
      "source": [
        "## Predicition / Inferation"
      ]
    },
    {
      "cell_type": "code",
      "execution_count": null,
      "metadata": {},
      "outputs": [],
      "source": [
        "# ToDo"
      ]
    }
  ],
  "metadata": {
    "colab": {
      "provenance": []
    },
    "kernelspec": {
      "display_name": "Python 3",
      "name": "python3"
    },
    "language_info": {
      "name": "python"
    }
  },
  "nbformat": 4,
  "nbformat_minor": 0
}
