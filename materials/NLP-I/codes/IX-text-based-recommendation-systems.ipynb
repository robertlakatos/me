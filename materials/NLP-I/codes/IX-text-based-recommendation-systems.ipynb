{
  "cells": [
    {
      "cell_type": "markdown",
      "metadata": {
        "id": "vw4ioXmwOP7s"
      },
      "source": [
        "# IX Text-Based Recommendation Systems"
      ]
    },
    {
      "cell_type": "markdown",
      "source": [
        "## Download and prepare movie data"
      ],
      "metadata": {
        "id": "MiOGhSwCSbqC"
      }
    },
    {
      "cell_type": "code",
      "execution_count": null,
      "metadata": {
        "vscode": {
          "languageId": "plaintext"
        },
        "id": "PGerOCxBOP7u"
      },
      "outputs": [],
      "source": [
        "import pandas as pd\n",
        "\n",
        "df_movies = pd.read_parquet(\"hf://datasets/AiresPucrs/tmdb-5000-movies/data/train-00000-of-00001-6db04ab1c75d6817.parquet\")\n",
        "df_movies = df_movies[[\"original_title\", \"overview\", \"genres\", \"title\", \"popularity\"]]\n",
        "df_movies.head()"
      ]
    },
    {
      "cell_type": "code",
      "source": [
        "# prompt: The genres column of the df_movies consits of the data in json format. Extract the name of genres from the data en wirte back in the genres column\n",
        "\n",
        "import json\n",
        "\n",
        "def extract_genre_names(genres_str):\n",
        "  try:\n",
        "    genres_list = json.loads(genres_str)\n",
        "    return \", \".join([genre['name'] for genre in genres_list])\n",
        "  except (json.JSONDecodeError, TypeError):\n",
        "    return []\n",
        "\n",
        "df_movies['genres'] = df_movies['genres'].apply(extract_genre_names)\n",
        "df_movies.head()"
      ],
      "metadata": {
        "id": "kNQ4soiIRwhJ"
      },
      "execution_count": null,
      "outputs": []
    },
    {
      "cell_type": "markdown",
      "source": [
        "## Download embedded data"
      ],
      "metadata": {
        "id": "D_LuF5AxSlwy"
      }
    },
    {
      "cell_type": "code",
      "source": [
        "# ToDo: Download data from: https://huggingface.co/datasets/karmiq/glove"
      ],
      "metadata": {
        "id": "O6cm9nWcSSda"
      },
      "execution_count": null,
      "outputs": []
    },
    {
      "cell_type": "markdown",
      "source": [
        "## Apply the vectorization on the columns of the data\n",
        "\n",
        "- original_title\n",
        "- overview\n",
        "- genres\n",
        "- title"
      ],
      "metadata": {
        "id": "KrEwZbGFSr0r"
      }
    },
    {
      "cell_type": "code",
      "source": [
        "# ToDo: tf-idf"
      ],
      "metadata": {
        "id": "k0-LYPAZSxDZ"
      },
      "execution_count": null,
      "outputs": []
    },
    {
      "cell_type": "code",
      "source": [
        "# ToDo: Glove Embedding"
      ],
      "metadata": {
        "id": "1BZxJO8NSzeK"
      },
      "execution_count": null,
      "outputs": []
    },
    {
      "cell_type": "markdown",
      "source": [
        "## Analyze the data"
      ],
      "metadata": {
        "id": "H4uB96IATgKZ"
      }
    },
    {
      "cell_type": "code",
      "source": [
        "# ToDo: What is the average popularity"
      ],
      "metadata": {
        "id": "nefDgN_-TqLt"
      },
      "execution_count": null,
      "outputs": []
    },
    {
      "cell_type": "code",
      "source": [
        "# ToDo: Which is the most popular movie?"
      ],
      "metadata": {
        "id": "WV7_KcOIUH7i"
      },
      "execution_count": null,
      "outputs": []
    },
    {
      "cell_type": "code",
      "source": [
        "# ToDo: Which is the least popular"
      ],
      "metadata": {
        "id": "twBWfSNUUIQ5"
      },
      "execution_count": null,
      "outputs": []
    },
    {
      "cell_type": "code",
      "source": [
        "# ToDo: How are the genres divided?"
      ],
      "metadata": {
        "id": "6vAj2YMmUIkZ"
      },
      "execution_count": null,
      "outputs": []
    },
    {
      "cell_type": "code",
      "source": [
        "# ToDo: Represent the overview vectorially."
      ],
      "metadata": {
        "id": "uIhmDXhsUMPy"
      },
      "execution_count": null,
      "outputs": []
    },
    {
      "cell_type": "markdown",
      "source": [
        "## Create a semantic search function"
      ],
      "metadata": {
        "id": "sMFx8t86TGJJ"
      }
    },
    {
      "cell_type": "code",
      "source": [
        "def get_top_n_best_fit(text):\n",
        "  # ToDo:\n",
        "  return None"
      ],
      "metadata": {
        "id": "uR30MEI6TKWx"
      },
      "execution_count": null,
      "outputs": []
    },
    {
      "cell_type": "markdown",
      "source": [
        "## Let's play! Create an application."
      ],
      "metadata": {
        "id": "8tIcgba8TMFh"
      }
    },
    {
      "cell_type": "code",
      "source": [
        "# input text\n",
        "# run semantic search\n",
        "# get result by popularity"
      ],
      "metadata": {
        "id": "FtxurAHVTLTB"
      },
      "execution_count": null,
      "outputs": []
    }
  ],
  "metadata": {
    "language_info": {
      "name": "python"
    },
    "colab": {
      "provenance": []
    },
    "kernelspec": {
      "name": "python3",
      "display_name": "Python 3"
    }
  },
  "nbformat": 4,
  "nbformat_minor": 0
}