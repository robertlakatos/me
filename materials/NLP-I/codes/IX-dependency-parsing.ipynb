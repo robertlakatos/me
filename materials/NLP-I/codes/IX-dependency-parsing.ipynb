{
  "cells": [
    {
      "cell_type": "markdown",
      "metadata": {
        "id": "t_GfEReJOxrT"
      },
      "source": [
        "# Dependency Parsing"
      ]
    },
    {
      "cell_type": "markdown",
      "metadata": {
        "id": "c_nhBoTqPewv"
      },
      "source": [
        "## Load the spaCy Model"
      ]
    },
    {
      "cell_type": "code",
      "execution_count": null,
      "metadata": {
        "id": "Ty3RDBh-OxrW"
      },
      "outputs": [],
      "source": [
        "import spacy\n",
        "\n",
        "# Load the small English language model\n",
        "nlp = spacy.load(\"en_core_web_sm\")"
      ]
    },
    {
      "cell_type": "markdown",
      "metadata": {
        "id": "W4mTDQAaPnal"
      },
      "source": [
        "## Parse a Sentence"
      ]
    },
    {
      "cell_type": "code",
      "execution_count": null,
      "metadata": {
        "id": "ySKKh5ziOxrX"
      },
      "outputs": [],
      "source": [
        "sentence = \"The quick brown fox jumps over the lazy dog.\"\n",
        "\n",
        "# Process the sentence using the spaCy model\n",
        "doc = nlp(sentence)\n",
        "\n",
        "# Print dependency information for each token\n",
        "for token in doc:\n",
        "    print(f\"{token.text} -> {token.dep_} -> {token.head.text}\")"
      ]
    },
    {
      "cell_type": "markdown",
      "metadata": {
        "id": "9e_v52d8Pjt8"
      },
      "source": [
        "## Visualize the Dependency Tree"
      ]
    },
    {
      "cell_type": "code",
      "execution_count": null,
      "metadata": {
        "id": "dad7ltX1PNnF"
      },
      "outputs": [],
      "source": [
        "from spacy import displacy\n",
        "\n",
        "# Render the dependency tree for the sentence\n",
        "displacy.render(doc, style=\"dep\", jupyter=True)"
      ]
    },
    {
      "cell_type": "markdown",
      "metadata": {
        "id": "BB8w-HjMPzW_"
      },
      "source": [
        "Dependency Labels Explained\n",
        "\n",
        "To understand what the dependency labels represent, you can refer to spaCy's official documentation. Common labels include:\n",
        "\n",
        "    nsubj (nominal subject)\n",
        "    dobj (direct object)\n",
        "    prep (preposition)\n",
        "    pobj (object of preposition)"
      ]
    },
    {
      "cell_type": "code",
      "execution_count": null,
      "metadata": {
        "id": "ZhuzFY2zPtfd"
      },
      "outputs": [],
      "source": [
        "for token in doc:\n",
        "    print(f\"Word: {token.text}\")\n",
        "    print(f\"  Dependency Label: {token.dep_}\")\n",
        "    print(f\"  Head Word: {token.head.text}\")\n",
        "    print(f\"  POS: {token.pos_}\")\n",
        "    print(f\"  Children: {[child.text for child in token.children]}\")"
      ]
    },
    {
      "cell_type": "code",
      "execution_count": null,
      "metadata": {
        "id": "8VPW8dk3Sf1F"
      },
      "outputs": [],
      "source": [
        "import networkx as nx\n",
        "import matplotlib.pyplot as plt\n",
        "\n",
        "# Create a graph\n",
        "graph = nx.Graph()\n",
        "\n",
        "# Iterate through the tokens and add edges based on dependencies\n",
        "for token in doc:\n",
        "  graph.add_node(token.text)\n",
        "  # Add edges between the token and its head word (dependency relationship)\n",
        "  graph.add_edge(token.text, token.head.text)\n",
        "\n",
        "\n",
        "# Calculate node size based on the number of connections\n",
        "node_sizes = [graph.degree(node) * 500 for node in graph.nodes()]\n",
        "\n",
        "\n",
        "# Draw the graph\n",
        "plt.figure(figsize=(10, 6))  # Adjust the figure size as needed\n",
        "pos = nx.spring_layout(graph) # You can experiment with other layout algorithms like nx.circular_layout\n",
        "nx.draw(graph, pos, with_labels=True, node_size=node_sizes, font_size=10, node_color='skyblue', edge_color='gray')\n",
        "\n",
        "plt.title(\"Dependency Graph\")\n",
        "plt.show()"
      ]
    },
    {
      "cell_type": "markdown",
      "metadata": {
        "id": "-JlyZrwbThAO"
      },
      "source": [
        "## We create an key words finder application"
      ]
    },
    {
      "cell_type": "code",
      "execution_count": null,
      "metadata": {
        "id": "TfmqmJXTTW51"
      },
      "outputs": [],
      "source": [
        "text_input = input(\"Enter your senctenc: \")\n",
        "text_input"
      ]
    }
  ],
  "metadata": {
    "colab": {
      "provenance": []
    },
    "kernelspec": {
      "display_name": "NLP",
      "language": "python",
      "name": "python3"
    },
    "language_info": {
      "codemirror_mode": {
        "name": "ipython",
        "version": 3
      },
      "file_extension": ".py",
      "mimetype": "text/x-python",
      "name": "python",
      "nbconvert_exporter": "python",
      "pygments_lexer": "ipython3",
      "version": "3.11.4"
    }
  },
  "nbformat": 4,
  "nbformat_minor": 0
}
