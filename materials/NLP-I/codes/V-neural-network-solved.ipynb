{
  "cells": [
    {
      "cell_type": "markdown",
      "metadata": {
        "id": "5h0hJ-jDXusx"
      },
      "source": [
        "# Labor V. Neural Network\n",
        "\n",
        "<img src=\"https://media.geeksforgeeks.org/wp-content/cdn-uploads/20230602113310/Neural-Networks-Architecture.png\">"
      ]
    },
    {
      "cell_type": "markdown",
      "metadata": {
        "id": "v4I7TngOY6KI"
      },
      "source": [
        "## I have an idea. I do text classification!\n",
        "\n",
        "<img src=\"https://gmu.ac.ae/wp-content/uploads/2017/03/idea.jpg\">"
      ]
    },
    {
      "cell_type": "markdown",
      "metadata": {
        "id": "BOk1S7gdYpxv"
      },
      "source": [
        "## I need some data!\n",
        "\n",
        "<img src=\"https://staging.herovired.com/wp-content/uploads/2023/04/What-Is-Data-Definition-01.webp\">\n",
        "\n",
        "## [Huggingface](https://huggingface.co/docs/datasets/index)\n",
        "\n",
        "- IMDB dataset: hf://datasets/scikit-learn/imdb/IMDB Dataset.csv"
      ]
    },
    {
      "cell_type": "code",
      "execution_count": 2,
      "metadata": {
        "id": "VsB9NgY7XtWx",
        "outputId": "1c432992-a939-428d-931e-70801b914372",
        "colab": {
          "base_uri": "https://localhost:8080/",
          "height": 206
        }
      },
      "outputs": [
        {
          "output_type": "execute_result",
          "data": {
            "text/plain": [
              "                                                text  label\n",
              "0  Wall St. Bears Claw Back Into the Black (Reute...      2\n",
              "1  Carlyle Looks Toward Commercial Aerospace (Reu...      2\n",
              "2  Oil and Economy Cloud Stocks' Outlook (Reuters...      2\n",
              "3  Iraq Halts Oil Exports from Main Southern Pipe...      2\n",
              "4  Oil prices soar to all-time record, posing new...      2"
            ],
            "text/html": [
              "\n",
              "  <div id=\"df-95fedbd9-f8d2-4ef3-9f30-a9252f7b3dd4\" class=\"colab-df-container\">\n",
              "    <div>\n",
              "<style scoped>\n",
              "    .dataframe tbody tr th:only-of-type {\n",
              "        vertical-align: middle;\n",
              "    }\n",
              "\n",
              "    .dataframe tbody tr th {\n",
              "        vertical-align: top;\n",
              "    }\n",
              "\n",
              "    .dataframe thead th {\n",
              "        text-align: right;\n",
              "    }\n",
              "</style>\n",
              "<table border=\"1\" class=\"dataframe\">\n",
              "  <thead>\n",
              "    <tr style=\"text-align: right;\">\n",
              "      <th></th>\n",
              "      <th>text</th>\n",
              "      <th>label</th>\n",
              "    </tr>\n",
              "  </thead>\n",
              "  <tbody>\n",
              "    <tr>\n",
              "      <th>0</th>\n",
              "      <td>Wall St. Bears Claw Back Into the Black (Reute...</td>\n",
              "      <td>2</td>\n",
              "    </tr>\n",
              "    <tr>\n",
              "      <th>1</th>\n",
              "      <td>Carlyle Looks Toward Commercial Aerospace (Reu...</td>\n",
              "      <td>2</td>\n",
              "    </tr>\n",
              "    <tr>\n",
              "      <th>2</th>\n",
              "      <td>Oil and Economy Cloud Stocks' Outlook (Reuters...</td>\n",
              "      <td>2</td>\n",
              "    </tr>\n",
              "    <tr>\n",
              "      <th>3</th>\n",
              "      <td>Iraq Halts Oil Exports from Main Southern Pipe...</td>\n",
              "      <td>2</td>\n",
              "    </tr>\n",
              "    <tr>\n",
              "      <th>4</th>\n",
              "      <td>Oil prices soar to all-time record, posing new...</td>\n",
              "      <td>2</td>\n",
              "    </tr>\n",
              "  </tbody>\n",
              "</table>\n",
              "</div>\n",
              "    <div class=\"colab-df-buttons\">\n",
              "\n",
              "  <div class=\"colab-df-container\">\n",
              "    <button class=\"colab-df-convert\" onclick=\"convertToInteractive('df-95fedbd9-f8d2-4ef3-9f30-a9252f7b3dd4')\"\n",
              "            title=\"Convert this dataframe to an interactive table.\"\n",
              "            style=\"display:none;\">\n",
              "\n",
              "  <svg xmlns=\"http://www.w3.org/2000/svg\" height=\"24px\" viewBox=\"0 -960 960 960\">\n",
              "    <path d=\"M120-120v-720h720v720H120Zm60-500h600v-160H180v160Zm220 220h160v-160H400v160Zm0 220h160v-160H400v160ZM180-400h160v-160H180v160Zm440 0h160v-160H620v160ZM180-180h160v-160H180v160Zm440 0h160v-160H620v160Z\"/>\n",
              "  </svg>\n",
              "    </button>\n",
              "\n",
              "  <style>\n",
              "    .colab-df-container {\n",
              "      display:flex;\n",
              "      gap: 12px;\n",
              "    }\n",
              "\n",
              "    .colab-df-convert {\n",
              "      background-color: #E8F0FE;\n",
              "      border: none;\n",
              "      border-radius: 50%;\n",
              "      cursor: pointer;\n",
              "      display: none;\n",
              "      fill: #1967D2;\n",
              "      height: 32px;\n",
              "      padding: 0 0 0 0;\n",
              "      width: 32px;\n",
              "    }\n",
              "\n",
              "    .colab-df-convert:hover {\n",
              "      background-color: #E2EBFA;\n",
              "      box-shadow: 0px 1px 2px rgba(60, 64, 67, 0.3), 0px 1px 3px 1px rgba(60, 64, 67, 0.15);\n",
              "      fill: #174EA6;\n",
              "    }\n",
              "\n",
              "    .colab-df-buttons div {\n",
              "      margin-bottom: 4px;\n",
              "    }\n",
              "\n",
              "    [theme=dark] .colab-df-convert {\n",
              "      background-color: #3B4455;\n",
              "      fill: #D2E3FC;\n",
              "    }\n",
              "\n",
              "    [theme=dark] .colab-df-convert:hover {\n",
              "      background-color: #434B5C;\n",
              "      box-shadow: 0px 1px 3px 1px rgba(0, 0, 0, 0.15);\n",
              "      filter: drop-shadow(0px 1px 2px rgba(0, 0, 0, 0.3));\n",
              "      fill: #FFFFFF;\n",
              "    }\n",
              "  </style>\n",
              "\n",
              "    <script>\n",
              "      const buttonEl =\n",
              "        document.querySelector('#df-95fedbd9-f8d2-4ef3-9f30-a9252f7b3dd4 button.colab-df-convert');\n",
              "      buttonEl.style.display =\n",
              "        google.colab.kernel.accessAllowed ? 'block' : 'none';\n",
              "\n",
              "      async function convertToInteractive(key) {\n",
              "        const element = document.querySelector('#df-95fedbd9-f8d2-4ef3-9f30-a9252f7b3dd4');\n",
              "        const dataTable =\n",
              "          await google.colab.kernel.invokeFunction('convertToInteractive',\n",
              "                                                    [key], {});\n",
              "        if (!dataTable) return;\n",
              "\n",
              "        const docLinkHtml = 'Like what you see? Visit the ' +\n",
              "          '<a target=\"_blank\" href=https://colab.research.google.com/notebooks/data_table.ipynb>data table notebook</a>'\n",
              "          + ' to learn more about interactive tables.';\n",
              "        element.innerHTML = '';\n",
              "        dataTable['output_type'] = 'display_data';\n",
              "        await google.colab.output.renderOutput(dataTable, element);\n",
              "        const docLink = document.createElement('div');\n",
              "        docLink.innerHTML = docLinkHtml;\n",
              "        element.appendChild(docLink);\n",
              "      }\n",
              "    </script>\n",
              "  </div>\n",
              "\n",
              "\n",
              "<div id=\"df-d72f1b9b-ce76-423f-94de-fb8a03ebcf40\">\n",
              "  <button class=\"colab-df-quickchart\" onclick=\"quickchart('df-d72f1b9b-ce76-423f-94de-fb8a03ebcf40')\"\n",
              "            title=\"Suggest charts\"\n",
              "            style=\"display:none;\">\n",
              "\n",
              "<svg xmlns=\"http://www.w3.org/2000/svg\" height=\"24px\"viewBox=\"0 0 24 24\"\n",
              "     width=\"24px\">\n",
              "    <g>\n",
              "        <path d=\"M19 3H5c-1.1 0-2 .9-2 2v14c0 1.1.9 2 2 2h14c1.1 0 2-.9 2-2V5c0-1.1-.9-2-2-2zM9 17H7v-7h2v7zm4 0h-2V7h2v10zm4 0h-2v-4h2v4z\"/>\n",
              "    </g>\n",
              "</svg>\n",
              "  </button>\n",
              "\n",
              "<style>\n",
              "  .colab-df-quickchart {\n",
              "      --bg-color: #E8F0FE;\n",
              "      --fill-color: #1967D2;\n",
              "      --hover-bg-color: #E2EBFA;\n",
              "      --hover-fill-color: #174EA6;\n",
              "      --disabled-fill-color: #AAA;\n",
              "      --disabled-bg-color: #DDD;\n",
              "  }\n",
              "\n",
              "  [theme=dark] .colab-df-quickchart {\n",
              "      --bg-color: #3B4455;\n",
              "      --fill-color: #D2E3FC;\n",
              "      --hover-bg-color: #434B5C;\n",
              "      --hover-fill-color: #FFFFFF;\n",
              "      --disabled-bg-color: #3B4455;\n",
              "      --disabled-fill-color: #666;\n",
              "  }\n",
              "\n",
              "  .colab-df-quickchart {\n",
              "    background-color: var(--bg-color);\n",
              "    border: none;\n",
              "    border-radius: 50%;\n",
              "    cursor: pointer;\n",
              "    display: none;\n",
              "    fill: var(--fill-color);\n",
              "    height: 32px;\n",
              "    padding: 0;\n",
              "    width: 32px;\n",
              "  }\n",
              "\n",
              "  .colab-df-quickchart:hover {\n",
              "    background-color: var(--hover-bg-color);\n",
              "    box-shadow: 0 1px 2px rgba(60, 64, 67, 0.3), 0 1px 3px 1px rgba(60, 64, 67, 0.15);\n",
              "    fill: var(--button-hover-fill-color);\n",
              "  }\n",
              "\n",
              "  .colab-df-quickchart-complete:disabled,\n",
              "  .colab-df-quickchart-complete:disabled:hover {\n",
              "    background-color: var(--disabled-bg-color);\n",
              "    fill: var(--disabled-fill-color);\n",
              "    box-shadow: none;\n",
              "  }\n",
              "\n",
              "  .colab-df-spinner {\n",
              "    border: 2px solid var(--fill-color);\n",
              "    border-color: transparent;\n",
              "    border-bottom-color: var(--fill-color);\n",
              "    animation:\n",
              "      spin 1s steps(1) infinite;\n",
              "  }\n",
              "\n",
              "  @keyframes spin {\n",
              "    0% {\n",
              "      border-color: transparent;\n",
              "      border-bottom-color: var(--fill-color);\n",
              "      border-left-color: var(--fill-color);\n",
              "    }\n",
              "    20% {\n",
              "      border-color: transparent;\n",
              "      border-left-color: var(--fill-color);\n",
              "      border-top-color: var(--fill-color);\n",
              "    }\n",
              "    30% {\n",
              "      border-color: transparent;\n",
              "      border-left-color: var(--fill-color);\n",
              "      border-top-color: var(--fill-color);\n",
              "      border-right-color: var(--fill-color);\n",
              "    }\n",
              "    40% {\n",
              "      border-color: transparent;\n",
              "      border-right-color: var(--fill-color);\n",
              "      border-top-color: var(--fill-color);\n",
              "    }\n",
              "    60% {\n",
              "      border-color: transparent;\n",
              "      border-right-color: var(--fill-color);\n",
              "    }\n",
              "    80% {\n",
              "      border-color: transparent;\n",
              "      border-right-color: var(--fill-color);\n",
              "      border-bottom-color: var(--fill-color);\n",
              "    }\n",
              "    90% {\n",
              "      border-color: transparent;\n",
              "      border-bottom-color: var(--fill-color);\n",
              "    }\n",
              "  }\n",
              "</style>\n",
              "\n",
              "  <script>\n",
              "    async function quickchart(key) {\n",
              "      const quickchartButtonEl =\n",
              "        document.querySelector('#' + key + ' button');\n",
              "      quickchartButtonEl.disabled = true;  // To prevent multiple clicks.\n",
              "      quickchartButtonEl.classList.add('colab-df-spinner');\n",
              "      try {\n",
              "        const charts = await google.colab.kernel.invokeFunction(\n",
              "            'suggestCharts', [key], {});\n",
              "      } catch (error) {\n",
              "        console.error('Error during call to suggestCharts:', error);\n",
              "      }\n",
              "      quickchartButtonEl.classList.remove('colab-df-spinner');\n",
              "      quickchartButtonEl.classList.add('colab-df-quickchart-complete');\n",
              "    }\n",
              "    (() => {\n",
              "      let quickchartButtonEl =\n",
              "        document.querySelector('#df-d72f1b9b-ce76-423f-94de-fb8a03ebcf40 button');\n",
              "      quickchartButtonEl.style.display =\n",
              "        google.colab.kernel.accessAllowed ? 'block' : 'none';\n",
              "    })();\n",
              "  </script>\n",
              "</div>\n",
              "\n",
              "    </div>\n",
              "  </div>\n"
            ],
            "application/vnd.google.colaboratory.intrinsic+json": {
              "type": "dataframe",
              "variable_name": "df_ag_new"
            }
          },
          "metadata": {},
          "execution_count": 2
        }
      ],
      "source": [
        "import pandas as pd\n",
        "\n",
        "splits = {'train': 'data/train-00000-of-00001.parquet', 'test': 'data/test-00000-of-00001.parquet'}\n",
        "df_ag_new = pd.read_parquet(\"hf://datasets/fancyzhx/ag_news/\" + splits[\"train\"])\n",
        "df_ag_new.head()"
      ]
    },
    {
      "cell_type": "code",
      "source": [
        "df_ag_new.info()"
      ],
      "metadata": {
        "id": "NBK6VvXP0cck",
        "outputId": "37893b22-143e-48dd-bda6-18f50afbbed7",
        "colab": {
          "base_uri": "https://localhost:8080/"
        }
      },
      "execution_count": 3,
      "outputs": [
        {
          "output_type": "stream",
          "name": "stdout",
          "text": [
            "<class 'pandas.core.frame.DataFrame'>\n",
            "RangeIndex: 120000 entries, 0 to 119999\n",
            "Data columns (total 2 columns):\n",
            " #   Column  Non-Null Count   Dtype \n",
            "---  ------  --------------   ----- \n",
            " 0   text    120000 non-null  object\n",
            " 1   label   120000 non-null  int64 \n",
            "dtypes: int64(1), object(1)\n",
            "memory usage: 1.8+ MB\n"
          ]
        }
      ]
    },
    {
      "cell_type": "markdown",
      "metadata": {
        "id": "ae3k7lLkaWmw"
      },
      "source": [
        "## Text cleaning\n",
        "\n",
        "<img src=\"https://www.henryford.com/-/media/project/hfhs/henryford/henry-ford-blog/images/mobile-interior-banner-images/2019/02/bucket-of-cleaning-products.jpg\">"
      ]
    },
    {
      "cell_type": "code",
      "execution_count": null,
      "metadata": {
        "id": "naeIEF2uZ1Bg"
      },
      "outputs": [],
      "source": [
        "# Lower case\n",
        "# Remove white spaces\n",
        "# Remove special characters\n",
        "# Expand contraction: !pip install contractions\n",
        "# Removing HTML or XML tags\n",
        "# Removing Punctuation\n",
        "# Remove Numbers\n",
        "# Remove stop words\n",
        "# Lemmatization\n",
        "# Steeming"
      ]
    },
    {
      "cell_type": "code",
      "source": [
        "# prompt: Please write me a python which clean the\n",
        "# df_ag_new dataset text column step  by step based on\n",
        "# the following instruction:\n",
        "# - Lower case\n",
        "# - Remove white spaces\n",
        "# - Remove special characters\n",
        "# - Remove stop words\n",
        "# - Lemmatization\n",
        "# Use progress bar to every task (instruction) and use the tqdm\n",
        "# libary for this.\n",
        "\n",
        "import pandas as pd\n",
        "from tqdm import tqdm\n",
        "import re\n",
        "import nltk\n",
        "nltk.download('stopwords')\n",
        "nltk.download('wordnet')\n",
        "from nltk.corpus import stopwords\n",
        "from nltk.stem import WordNetLemmatizer\n",
        "\n",
        "# Assuming df_ag_new is already defined and contains a 'text' column\n",
        "\n",
        "# Lower case\n",
        "tqdm.pandas(desc=\"Lowercasing\")\n",
        "df_ag_new['text'] = df_ag_new['text'].progress_apply(lambda x: x.lower())\n",
        "\n",
        "# Remove white spaces\n",
        "tqdm.pandas(desc=\"Removing whitespace\")\n",
        "df_ag_new['text'] = df_ag_new['text'].progress_apply(lambda x: x.strip())\n",
        "\n",
        "# Remove special characters\n",
        "tqdm.pandas(desc=\"Removing special characters\")\n",
        "df_ag_new['text'] = df_ag_new['text'].progress_apply(lambda x: re.sub(r'[^a-zA-Z0-9\\s]', '', x))\n",
        "\n",
        "# Remove stop words\n",
        "stop_words = set(stopwords.words('english'))\n",
        "tqdm.pandas(desc=\"Removing stop words\")\n",
        "df_ag_new['text'] = df_ag_new['text'].progress_apply(lambda x: ' '.join([word for word in x.split() if word not in stop_words]))\n",
        "\n",
        "# Lemmatization\n",
        "lemmatizer = WordNetLemmatizer()\n",
        "tqdm.pandas(desc=\"Lemmatization\")\n",
        "df_ag_new['text'] = df_ag_new['text'].progress_apply(lambda x: ' '.join([lemmatizer.lemmatize(word) for word in x.split()]))\n",
        "\n",
        "print(df_ag_new.head())\n"
      ],
      "metadata": {
        "id": "l3kXCHzUyXb4",
        "outputId": "eae9c843-f840-4988-8f32-21274c99f164",
        "colab": {
          "base_uri": "https://localhost:8080/"
        }
      },
      "execution_count": 5,
      "outputs": [
        {
          "output_type": "stream",
          "name": "stderr",
          "text": [
            "[nltk_data] Downloading package stopwords to /root/nltk_data...\n",
            "[nltk_data]   Package stopwords is already up-to-date!\n",
            "[nltk_data] Downloading package wordnet to /root/nltk_data...\n",
            "[nltk_data]   Package wordnet is already up-to-date!\n",
            "Lowercasing: 100%|██████████| 120000/120000 [00:00<00:00, 532558.18it/s]\n",
            "Removing whitespace: 100%|██████████| 120000/120000 [00:00<00:00, 920735.69it/s]\n",
            "Removing special characters: 100%|██████████| 120000/120000 [00:00<00:00, 288537.35it/s]\n",
            "Removing stop words: 100%|██████████| 120000/120000 [00:00<00:00, 155116.71it/s]\n",
            "Lemmatization: 100%|██████████| 120000/120000 [00:14<00:00, 8259.92it/s]"
          ]
        },
        {
          "output_type": "stream",
          "name": "stdout",
          "text": [
            "                                                text  label\n",
            "0  wall st bear claw back black reuters reuters s...      2\n",
            "1  carlyle look toward commercial aerospace reute...      2\n",
            "2  oil economy cloud stock outlook reuters reuter...      2\n",
            "3  iraq halt oil export main southern pipeline re...      2\n",
            "4  oil price soar alltime record posing new menac...      2\n"
          ]
        },
        {
          "output_type": "stream",
          "name": "stderr",
          "text": [
            "\n"
          ]
        }
      ]
    },
    {
      "cell_type": "code",
      "source": [
        "# prompt: Write a unit test to the lower casing validation.\n",
        "\n",
        "import pandas as pd\n",
        "import unittest\n",
        "\n",
        "class TestLowerCasing(unittest.TestCase):\n",
        "\n",
        "    def test_lower_casing(self):\n",
        "        # Create a sample DataFrame with a 'text' column\n",
        "        df = pd.DataFrame({'text': ['This Is A Test', 'ANOTHER TEST']})\n",
        "\n",
        "        # Apply the lower casing function to the DataFrame\n",
        "        tqdm.pandas(desc=\"Lowercasing\")\n",
        "        df['text'] = df['text'].progress_apply(lambda x: x.lower())\n",
        "\n",
        "        # Assert that all text values are lower case\n",
        "        self.assertTrue(all([isinstance(text, str) and text.islower() for text in df['text']]))\n",
        "\n",
        "\n",
        "# Run the tests\n",
        "unittest.main(argv=['first-arg-is-ignored'], exit=False)\n"
      ],
      "metadata": {
        "id": "-dZmwp773cBY",
        "outputId": "7530576a-921f-47ee-8c53-1dabc12e5a7b",
        "colab": {
          "base_uri": "https://localhost:8080/"
        }
      },
      "execution_count": 6,
      "outputs": [
        {
          "output_type": "stream",
          "name": "stderr",
          "text": [
            "Lowercasing: 100%|██████████| 2/2 [00:00<00:00, 1158.49it/s]\n",
            ".\n",
            "----------------------------------------------------------------------\n",
            "Ran 1 test in 0.010s\n",
            "\n",
            "OK\n"
          ]
        },
        {
          "output_type": "execute_result",
          "data": {
            "text/plain": [
              "<unittest.main.TestProgram at 0x7a99053ecfd0>"
            ]
          },
          "metadata": {},
          "execution_count": 6
        }
      ]
    },
    {
      "cell_type": "markdown",
      "metadata": {
        "id": "iW3Xa27sg9Yy"
      },
      "source": [
        "## Training, validation and test set\n",
        "\n",
        "<img src=\"https://www.brainstobytes.com/content/images/2020/01/Sets.png\">\n",
        "\n"
      ]
    },
    {
      "cell_type": "code",
      "source": [
        "X = df_ag_new['text'].values\n",
        "y = df_ag_new['label'].values\n",
        "X.shape, y.shape"
      ],
      "metadata": {
        "id": "aO-lDkJ54nH_",
        "outputId": "a4a36296-8396-473a-e690-d88325b6295b",
        "colab": {
          "base_uri": "https://localhost:8080/"
        }
      },
      "execution_count": 7,
      "outputs": [
        {
          "output_type": "execute_result",
          "data": {
            "text/plain": [
              "((120000,), (120000,))"
            ]
          },
          "metadata": {},
          "execution_count": 7
        }
      ]
    },
    {
      "cell_type": "code",
      "execution_count": 9,
      "metadata": {
        "id": "A_9Jo7oWelHw",
        "outputId": "91d11749-9f64-4576-a131-a9f19c261e58",
        "colab": {
          "base_uri": "https://localhost:8080/"
        }
      },
      "outputs": [
        {
          "output_type": "stream",
          "name": "stdout",
          "text": [
            "X_train shape: (96000,)\n",
            "y_train shape: (96000,)\n",
            "X_val shape: (12000,)\n",
            "y_val shape: (12000,)\n",
            "X_test shape: (12000,)\n",
            "y_test shape: (12000,)\n"
          ]
        }
      ],
      "source": [
        "# prompt: Split the X and y varrible train test and validation data.\n",
        "# Train should be 80% and test and validation should be 10-10%\n",
        "\n",
        "from sklearn.model_selection import train_test_split\n",
        "\n",
        "X_train, X_temp, y_train, y_temp = train_test_split(X, y, test_size=0.2, random_state=42)\n",
        "X_val, X_test, y_val, y_test = train_test_split(X_temp, y_temp, test_size=0.5, random_state=42)\n",
        "\n",
        "print(\"X_train shape:\", X_train.shape)\n",
        "print(\"y_train shape:\", y_train.shape)\n",
        "print(\"X_val shape:\", X_val.shape)\n",
        "print(\"y_val shape:\", y_val.shape)\n",
        "print(\"X_test shape:\", X_test.shape)\n",
        "print(\"y_test shape:\", y_test.shape)\n"
      ]
    },
    {
      "cell_type": "code",
      "execution_count": 17,
      "metadata": {
        "id": "H3-BxZgKdqUC",
        "outputId": "9a3ad2b5-2f82-444a-cc0d-e51caec1ff71",
        "colab": {
          "base_uri": "https://localhost:8080/"
        }
      },
      "outputs": [
        {
          "output_type": "execute_result",
          "data": {
            "text/plain": [
              "((96000, 1000), (12000, 1000), (12000, 1000))"
            ]
          },
          "metadata": {},
          "execution_count": 17
        }
      ],
      "source": [
        "# prompt: Apply the counter_vectorization on my X train,\n",
        "# test and val varrible. The new varrible names should be X_train_cv,\n",
        "# text_train_cv and X_val_cv\n",
        "\n",
        "from sklearn.feature_extraction.text import CountVectorizer\n",
        "\n",
        "vectorizer = CountVectorizer(max_features=1000)\n",
        "\n",
        "X_train_cv = vectorizer.fit_transform(X_train)\n",
        "X_test_cv = vectorizer.transform(X_test)\n",
        "X_val_cv = vectorizer.transform(X_val)\n",
        "X_train_cv.shape, X_test_cv.shape, X_val_cv.shape"
      ]
    },
    {
      "cell_type": "code",
      "execution_count": 16,
      "metadata": {
        "id": "SbzPCwnLgoXB",
        "outputId": "e9ae608b-7e31-42f6-8718-5a54edff36d0",
        "colab": {
          "base_uri": "https://localhost:8080/"
        }
      },
      "outputs": [
        {
          "output_type": "stream",
          "name": "stdout",
          "text": [
            "X_train_tfidf shape: (96000, 1000)\n",
            "X_test_tfidf shape: (12000, 1000)\n",
            "X_val_tfidf shape: (12000, 1000)\n"
          ]
        }
      ],
      "source": [
        "# prompt: Apply the TFIDF on my X train, test and val varrible.\n",
        "# The new varrible names should be X_train_tfidf, text_train_tfidf and\n",
        "# X_val_tfidf\n",
        "\n",
        "from sklearn.feature_extraction.text import TfidfVectorizer\n",
        "\n",
        "tfidf_vectorizer = TfidfVectorizer(max_features=1000)\n",
        "\n",
        "X_train_tfidf = tfidf_vectorizer.fit_transform(X_train)\n",
        "X_test_tfidf = tfidf_vectorizer.transform(X_test)\n",
        "X_val_tfidf = tfidf_vectorizer.transform(X_val)\n",
        "\n",
        "print(\"X_train_tfidf shape:\", X_train_tfidf.shape)\n",
        "print(\"X_test_tfidf shape:\", X_test_tfidf.shape)\n",
        "print(\"X_val_tfidf shape:\", X_val_tfidf.shape)\n"
      ]
    },
    {
      "cell_type": "markdown",
      "metadata": {
        "id": "qftgX38kjWZi"
      },
      "source": [
        "## Modelling"
      ]
    },
    {
      "cell_type": "code",
      "source": [
        "set(y_train[:10])"
      ],
      "metadata": {
        "id": "saqPG4GS9P3D",
        "outputId": "78de2b05-38ea-4d2f-df46-83cefd1fad37",
        "colab": {
          "base_uri": "https://localhost:8080/"
        }
      },
      "execution_count": 15,
      "outputs": [
        {
          "output_type": "execute_result",
          "data": {
            "text/plain": [
              "{0, 1, 2, 3}"
            ]
          },
          "metadata": {},
          "execution_count": 15
        }
      ]
    },
    {
      "cell_type": "code",
      "execution_count": 18,
      "metadata": {
        "id": "q9sIWrHXjjVT",
        "outputId": "7cef3380-b58b-485f-c6e1-83254504a90a",
        "colab": {
          "base_uri": "https://localhost:8080/"
        }
      },
      "outputs": [
        {
          "output_type": "stream",
          "name": "stderr",
          "text": [
            "/usr/local/lib/python3.10/dist-packages/keras/src/layers/core/dense.py:87: UserWarning: Do not pass an `input_shape`/`input_dim` argument to a layer. When using Sequential models, prefer using an `Input(shape)` object as the first layer in the model instead.\n",
            "  super().__init__(activity_regularizer=activity_regularizer, **kwargs)\n"
          ]
        },
        {
          "output_type": "stream",
          "name": "stdout",
          "text": [
            "Epoch 1/10\n",
            "\u001b[1m3000/3000\u001b[0m \u001b[32m━━━━━━━━━━━━━━━━━━━━\u001b[0m\u001b[37m\u001b[0m \u001b[1m12s\u001b[0m 4ms/step - accuracy: 0.8262 - loss: 0.4938 - val_accuracy: 0.8665 - val_loss: 0.3650\n",
            "Epoch 2/10\n",
            "\u001b[1m3000/3000\u001b[0m \u001b[32m━━━━━━━━━━━━━━━━━━━━\u001b[0m\u001b[37m\u001b[0m \u001b[1m20s\u001b[0m 4ms/step - accuracy: 0.8910 - loss: 0.3074 - val_accuracy: 0.8746 - val_loss: 0.3495\n",
            "Epoch 3/10\n",
            "\u001b[1m3000/3000\u001b[0m \u001b[32m━━━━━━━━━━━━━━━━━━━━\u001b[0m\u001b[37m\u001b[0m \u001b[1m24s\u001b[0m 5ms/step - accuracy: 0.9150 - loss: 0.2383 - val_accuracy: 0.8798 - val_loss: 0.3504\n",
            "Epoch 4/10\n",
            "\u001b[1m3000/3000\u001b[0m \u001b[32m━━━━━━━━━━━━━━━━━━━━\u001b[0m\u001b[37m\u001b[0m \u001b[1m16s\u001b[0m 3ms/step - accuracy: 0.9382 - loss: 0.1753 - val_accuracy: 0.8744 - val_loss: 0.3820\n",
            "Epoch 5/10\n",
            "\u001b[1m3000/3000\u001b[0m \u001b[32m━━━━━━━━━━━━━━━━━━━━\u001b[0m\u001b[37m\u001b[0m \u001b[1m13s\u001b[0m 4ms/step - accuracy: 0.9578 - loss: 0.1213 - val_accuracy: 0.8752 - val_loss: 0.4401\n",
            "Epoch 6/10\n",
            "\u001b[1m3000/3000\u001b[0m \u001b[32m━━━━━━━━━━━━━━━━━━━━\u001b[0m\u001b[37m\u001b[0m \u001b[1m18s\u001b[0m 3ms/step - accuracy: 0.9705 - loss: 0.0842 - val_accuracy: 0.8705 - val_loss: 0.5225\n",
            "Epoch 7/10\n",
            "\u001b[1m3000/3000\u001b[0m \u001b[32m━━━━━━━━━━━━━━━━━━━━\u001b[0m\u001b[37m\u001b[0m \u001b[1m9s\u001b[0m 3ms/step - accuracy: 0.9805 - loss: 0.0574 - val_accuracy: 0.8683 - val_loss: 0.6045\n",
            "Epoch 8/10\n",
            "\u001b[1m3000/3000\u001b[0m \u001b[32m━━━━━━━━━━━━━━━━━━━━\u001b[0m\u001b[37m\u001b[0m \u001b[1m14s\u001b[0m 4ms/step - accuracy: 0.9849 - loss: 0.0441 - val_accuracy: 0.8653 - val_loss: 0.7056\n",
            "Epoch 9/10\n",
            "\u001b[1m3000/3000\u001b[0m \u001b[32m━━━━━━━━━━━━━━━━━━━━\u001b[0m\u001b[37m\u001b[0m \u001b[1m11s\u001b[0m 4ms/step - accuracy: 0.9885 - loss: 0.0346 - val_accuracy: 0.8689 - val_loss: 0.7899\n",
            "Epoch 10/10\n",
            "\u001b[1m3000/3000\u001b[0m \u001b[32m━━━━━━━━━━━━━━━━━━━━\u001b[0m\u001b[37m\u001b[0m \u001b[1m11s\u001b[0m 4ms/step - accuracy: 0.9914 - loss: 0.0276 - val_accuracy: 0.8646 - val_loss: 0.8601\n",
            "\u001b[1m375/375\u001b[0m \u001b[32m━━━━━━━━━━━━━━━━━━━━\u001b[0m\u001b[37m\u001b[0m \u001b[1m1s\u001b[0m 1ms/step - accuracy: 0.8644 - loss: 0.9043\n",
            "Test accuracy: 0.8652499914169312\n"
          ]
        }
      ],
      "source": [
        "# prompt: Generate a classifcator neural network with two layer and\n",
        "# apply this the counter vectorized data and use the tensorflow machine\n",
        "# learning library.\n",
        "\n",
        "import tensorflow as tf\n",
        "\n",
        "# Define the model\n",
        "model = tf.keras.Sequential([\n",
        "    tf.keras.layers.Dense(128, activation='relu', input_shape=(X_train_cv.shape[1],)),\n",
        "    tf.keras.layers.Dense(64, activation='relu'),\n",
        "    tf.keras.layers.Dense(4, activation='softmax')  # Assuming 4 classes in your dataset\n",
        "])\n",
        "\n",
        "# Compile the model\n",
        "model.compile(optimizer='adam',\n",
        "              loss='sparse_categorical_crossentropy',\n",
        "              metrics=['accuracy'])\n",
        "\n",
        "# Train the model\n",
        "model.fit(X_train_cv.toarray(), y_train, epochs=10, batch_size=32, validation_data=(X_val_cv.toarray(), y_val))\n",
        "\n",
        "# Evaluate the model\n",
        "loss, accuracy = model.evaluate(X_test_cv.toarray(), y_test)\n",
        "print('Test accuracy:', accuracy)\n"
      ]
    },
    {
      "cell_type": "code",
      "execution_count": 19,
      "metadata": {
        "id": "ARn3n12plwgq",
        "outputId": "badc5248-3113-4208-e7a2-adf8cf10dd1c",
        "colab": {
          "base_uri": "https://localhost:8080/"
        }
      },
      "outputs": [
        {
          "output_type": "stream",
          "name": "stdout",
          "text": [
            "Epoch 1/10\n",
            "\u001b[1m3000/3000\u001b[0m \u001b[32m━━━━━━━━━━━━━━━━━━━━\u001b[0m\u001b[37m\u001b[0m \u001b[1m12s\u001b[0m 4ms/step - accuracy: 0.8241 - loss: 0.5063 - val_accuracy: 0.8691 - val_loss: 0.3611\n",
            "Epoch 2/10\n",
            "\u001b[1m3000/3000\u001b[0m \u001b[32m━━━━━━━━━━━━━━━━━━━━\u001b[0m\u001b[37m\u001b[0m \u001b[1m9s\u001b[0m 3ms/step - accuracy: 0.8776 - loss: 0.3365 - val_accuracy: 0.8733 - val_loss: 0.3498\n",
            "Epoch 3/10\n",
            "\u001b[1m3000/3000\u001b[0m \u001b[32m━━━━━━━━━━━━━━━━━━━━\u001b[0m\u001b[37m\u001b[0m \u001b[1m11s\u001b[0m 4ms/step - accuracy: 0.8982 - loss: 0.2850 - val_accuracy: 0.8760 - val_loss: 0.3383\n",
            "Epoch 4/10\n",
            "\u001b[1m3000/3000\u001b[0m \u001b[32m━━━━━━━━━━━━━━━━━━━━\u001b[0m\u001b[37m\u001b[0m \u001b[1m21s\u001b[0m 4ms/step - accuracy: 0.9167 - loss: 0.2372 - val_accuracy: 0.8803 - val_loss: 0.3473\n",
            "Epoch 5/10\n",
            "\u001b[1m3000/3000\u001b[0m \u001b[32m━━━━━━━━━━━━━━━━━━━━\u001b[0m\u001b[37m\u001b[0m \u001b[1m20s\u001b[0m 3ms/step - accuracy: 0.9370 - loss: 0.1845 - val_accuracy: 0.8780 - val_loss: 0.3765\n",
            "Epoch 6/10\n",
            "\u001b[1m3000/3000\u001b[0m \u001b[32m━━━━━━━━━━━━━━━━━━━━\u001b[0m\u001b[37m\u001b[0m \u001b[1m21s\u001b[0m 4ms/step - accuracy: 0.9553 - loss: 0.1322 - val_accuracy: 0.8767 - val_loss: 0.4153\n",
            "Epoch 7/10\n",
            "\u001b[1m3000/3000\u001b[0m \u001b[32m━━━━━━━━━━━━━━━━━━━━\u001b[0m\u001b[37m\u001b[0m \u001b[1m19s\u001b[0m 3ms/step - accuracy: 0.9708 - loss: 0.0891 - val_accuracy: 0.8693 - val_loss: 0.5012\n",
            "Epoch 8/10\n",
            "\u001b[1m3000/3000\u001b[0m \u001b[32m━━━━━━━━━━━━━━━━━━━━\u001b[0m\u001b[37m\u001b[0m \u001b[1m11s\u001b[0m 4ms/step - accuracy: 0.9816 - loss: 0.0596 - val_accuracy: 0.8677 - val_loss: 0.5875\n",
            "Epoch 9/10\n",
            "\u001b[1m3000/3000\u001b[0m \u001b[32m━━━━━━━━━━━━━━━━━━━━\u001b[0m\u001b[37m\u001b[0m \u001b[1m12s\u001b[0m 4ms/step - accuracy: 0.9868 - loss: 0.0424 - val_accuracy: 0.8704 - val_loss: 0.6566\n",
            "Epoch 10/10\n",
            "\u001b[1m3000/3000\u001b[0m \u001b[32m━━━━━━━━━━━━━━━━━━━━\u001b[0m\u001b[37m\u001b[0m \u001b[1m11s\u001b[0m 4ms/step - accuracy: 0.9900 - loss: 0.0321 - val_accuracy: 0.8686 - val_loss: 0.7310\n",
            "\u001b[1m375/375\u001b[0m \u001b[32m━━━━━━━━━━━━━━━━━━━━\u001b[0m\u001b[37m\u001b[0m \u001b[1m1s\u001b[0m 2ms/step - accuracy: 0.8692 - loss: 0.7544\n",
            "Test accuracy (TF-IDF): 0.8709999918937683\n"
          ]
        }
      ],
      "source": [
        "# prompt: Generate a classifcator neural network with two layer and apply this the TFIDF data and use the tensorflow machine learning library.\n",
        "\n",
        "# Define the model\n",
        "model_tfidf = tf.keras.Sequential([\n",
        "    tf.keras.layers.Dense(128, activation='relu', input_shape=(X_train_tfidf.shape[1],)),\n",
        "    tf.keras.layers.Dense(64, activation='relu'),\n",
        "    tf.keras.layers.Dense(4, activation='softmax')  # Assuming 4 classes in your dataset\n",
        "])\n",
        "\n",
        "# Compile the model\n",
        "model_tfidf.compile(optimizer='adam',\n",
        "              loss='sparse_categorical_crossentropy',\n",
        "              metrics=['accuracy'])\n",
        "\n",
        "# Train the model\n",
        "model_tfidf.fit(X_train_tfidf.toarray(), y_train, epochs=10, batch_size=32, validation_data=(X_val_tfidf.toarray(), y_val))\n",
        "\n",
        "# Evaluate the model\n",
        "loss_tfidf, accuracy_tfidf = model_tfidf.evaluate(X_test_tfidf.toarray(), y_test)\n",
        "print('Test accuracy (TF-IDF):', accuracy_tfidf)\n"
      ]
    },
    {
      "cell_type": "markdown",
      "metadata": {
        "id": "jiN-s3p9wtQp"
      },
      "source": [
        "## Evaluating"
      ]
    },
    {
      "cell_type": "code",
      "execution_count": 20,
      "metadata": {
        "id": "fq6IAFYqlmnj",
        "outputId": "9f977dd8-2c47-468f-bd66-fcda9102428b",
        "colab": {
          "base_uri": "https://localhost:8080/"
        }
      },
      "outputs": [
        {
          "output_type": "stream",
          "name": "stdout",
          "text": [
            "\u001b[1m375/375\u001b[0m \u001b[32m━━━━━━━━━━━━━━━━━━━━\u001b[0m\u001b[37m\u001b[0m \u001b[1m1s\u001b[0m 2ms/step - accuracy: 0.8644 - loss: 0.9043\n",
            "Test accuracy (CountVectorizer): 0.8652499914169312\n",
            "\u001b[1m375/375\u001b[0m \u001b[32m━━━━━━━━━━━━━━━━━━━━\u001b[0m\u001b[37m\u001b[0m \u001b[1m1s\u001b[0m 1ms/step - accuracy: 0.8692 - loss: 0.7544\n",
            "Test accuracy (TF-IDF): 0.8709999918937683\n"
          ]
        }
      ],
      "source": [
        "# prompt: Evaulate the counter vectorize and TFIDF models on the test datasets\n",
        "\n",
        "loss_cv, accuracy_cv = model.evaluate(X_test_cv.toarray(), y_test)\n",
        "print('Test accuracy (CountVectorizer):', accuracy_cv)\n",
        "\n",
        "loss_tfidf, accuracy_tfidf = model_tfidf.evaluate(X_test_tfidf.toarray(), y_test)\n",
        "print('Test accuracy (TF-IDF):', accuracy_tfidf)\n"
      ]
    },
    {
      "cell_type": "markdown",
      "metadata": {
        "id": "blapcXsxwtQp"
      },
      "source": [
        "## Predicition / Inferation"
      ]
    },
    {
      "cell_type": "code",
      "execution_count": 21,
      "metadata": {
        "id": "X_tGRXqqwtQq",
        "outputId": "d1e6effd-4ebf-4dfc-e870-b67a3dbb56d0",
        "colab": {
          "base_uri": "https://localhost:8080/"
        }
      },
      "outputs": [
        {
          "output_type": "stream",
          "name": "stdout",
          "text": [
            "\u001b[1m1/1\u001b[0m \u001b[32m━━━━━━━━━━━━━━━━━━━━\u001b[0m\u001b[37m\u001b[0m \u001b[1m0s\u001b[0m 83ms/step\n",
            "Predictions: [3, 0, 2, 3, 3]\n",
            "Actual labels: [0, 0, 2, 3, 0]\n"
          ]
        }
      ],
      "source": [
        "# prompt: Please create a python code which demonstrat the prediction on some elements of the test daset.\n",
        "\n",
        "# Assuming you have already trained your model (e.g., model_tfidf) and have X_test_tfidf\n",
        "\n",
        "# Choose some elements from the test dataset (e.g., the first 5)\n",
        "num_samples_to_predict = 5\n",
        "X_test_samples = X_test_tfidf[:num_samples_to_predict].toarray()\n",
        "\n",
        "# Make predictions using your model\n",
        "predictions = model_tfidf.predict(X_test_samples)\n",
        "\n",
        "# Get the predicted class labels (the class with the highest probability)\n",
        "predicted_labels = [tf.argmax(prediction).numpy() for prediction in predictions]\n",
        "\n",
        "# Print the predicted labels and corresponding actual labels\n",
        "print(\"Predictions:\", predicted_labels)\n",
        "print(\"Actual labels:\", y_test[:num_samples_to_predict].tolist())\n",
        "\n",
        "# You can also print the probabilities for each class if needed:\n",
        "# for i, prediction in enumerate(predictions):\n",
        "#   print(f\"Sample {i+1}: Probabilities: {prediction}\")\n",
        "\n"
      ]
    }
  ],
  "metadata": {
    "colab": {
      "provenance": []
    },
    "kernelspec": {
      "display_name": "Python 3",
      "name": "python3"
    },
    "language_info": {
      "name": "python"
    }
  },
  "nbformat": 4,
  "nbformat_minor": 0
}