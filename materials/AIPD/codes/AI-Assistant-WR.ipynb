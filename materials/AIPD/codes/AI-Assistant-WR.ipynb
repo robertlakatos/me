{
 "cells": [
  {
   "cell_type": "markdown",
   "id": "6c220782-b82e-48ea-873b-92a5530db930",
   "metadata": {
    "id": "6c220782-b82e-48ea-873b-92a5530db930"
   },
   "source": [
    "# Car Dealership AI Assistant"
   ]
  },
  {
   "cell_type": "markdown",
   "id": "4713e8c2-05c4-4815-a01f-c22340e868d3",
   "metadata": {
    "id": "4713e8c2-05c4-4815-a01f-c22340e868d3"
   },
   "source": [
    "In this notebook, you'll develop an AI assistant aimed at aiding customers in making informed decisions regarding purchasing a new car from Car Digger. Additionally, you'll delve briefly into **token limits** pertaining to the model you're utilizing and how they influence the retention of conversation history."
   ]
  },
  {
   "cell_type": "markdown",
   "id": "17942686-f99d-4077-be2e-8d40977391a8",
   "metadata": {
    "id": "17942686-f99d-4077-be2e-8d40977391a8"
   },
   "source": [
    "## Learning Objectives"
   ]
  },
  {
   "cell_type": "markdown",
   "id": "013c3ef1-24e2-4545-bfcf-1cf7871d7d95",
   "metadata": {
    "id": "013c3ef1-24e2-4545-bfcf-1cf7871d7d95"
   },
   "source": [
    "Upon completing this module, you'll gain the ability to:\n",
    "\n",
    "- Understand **token limits** and their influence on LLM behavior.\n",
    "- Construct an AI assistant with the capacity for (restricted) conversation memory, safeguarding against surpassing a designated **token limit**."
   ]
  },
  {
   "cell_type": "markdown",
   "id": "38b0aa11-7c92-4f9b-ad9c-4c01e62d0cd3",
   "metadata": {},
   "source": [
    "# <FONT COLOR=\"purple\">Verify that the runtime environment is GPU in Colab!</FONT>"
   ]
  },
  {
   "cell_type": "markdown",
   "id": "86dd9b97-dd0f-4dc5-9d91-b694a4e88352",
   "metadata": {},
   "source": [
    "## Install Dependencie(s)"
   ]
  },
  {
   "cell_type": "code",
   "execution_count": null,
   "id": "179c7bb4-4825-4987-9e46-5a8b8761e1f5",
   "metadata": {},
   "outputs": [],
   "source": [
    "# The 'device_map' paramter requires Accelerate package.\n",
    "# Restart workspace after the install!\n",
    "!pip install accelerate flash_attn"
   ]
  },
  {
   "cell_type": "markdown",
   "id": "63f19484-acf2-4669-bbca-298c1c512bd7",
   "metadata": {
    "id": "63f19484-acf2-4669-bbca-298c1c512bd7"
   },
   "source": [
    "## Create Microsoft [Phi-3-mini-4k-instruct](https://huggingface.co/microsoft/Phi-3-mini-4k-instruct) Pipeline"
   ]
  },
  {
   "cell_type": "code",
   "execution_count": 1,
   "id": "ab62455a-b3bf-41eb-8499-b85dc053c31f",
   "metadata": {
    "id": "ab62455a-b3bf-41eb-8499-b85dc053c31f",
    "tags": []
   },
   "outputs": [
    {
     "name": "stderr",
     "output_type": "stream",
     "text": [
      "Special tokens have been added in the vocabulary, make sure the associated word embeddings are fine-tuned or trained.\n"
     ]
    },
    {
     "data": {
      "application/vnd.jupyter.widget-view+json": {
       "model_id": "9117c27cb9f443ffb9a6172e29697fcb",
       "version_major": 2,
       "version_minor": 0
      },
      "text/plain": [
       "Loading checkpoint shards:   0%|          | 0/2 [00:00<?, ?it/s]"
      ]
     },
     "metadata": {},
     "output_type": "display_data"
    }
   ],
   "source": [
    "import torch\n",
    "from transformers import AutoModelForCausalLM\n",
    "from transformers import AutoTokenizer\n",
    "from transformers import TextStreamer\n",
    "\n",
    "# Microsoft Phi-3-mini-4k-instruct model\n",
    "model = \"microsoft/Phi-3-mini-4k-instruct\"\n",
    "\n",
    "# The tokenizer is responsible for converting the text into a format understandable by the model.\n",
    "tokenizer = AutoTokenizer.from_pretrained(model)\n",
    "\n",
    "# Load model\n",
    "model = AutoModelForCausalLM.from_pretrained(model, \n",
    "                                             torch_dtype=torch.float16, \n",
    "                                             device_map=\"auto\",\n",
    "                                             trust_remote_code=True,\n",
    "                                             attn_implementation=\"eager\")\n",
    "\n",
    "# The task of the streamer object is to ensure that the model's response is continuous. This reduces the waiting time.\n",
    "streamer = TextStreamer(tokenizer, skip_prompt=True)"
   ]
  },
  {
   "cell_type": "markdown",
   "id": "c77ceca2-1a25-4ede-8cf8-11f98dcd14e6",
   "metadata": {
    "id": "c77ceca2-1a25-4ede-8cf8-11f98dcd14e6"
   },
   "source": [
    "## Generate Functions\n",
    "\n",
    "In this notebook, we will use the following `generate` function to support our interaction with the LLM.\n",
    "\n",
    "```python\n",
    "# Microsoft Phi-3-mini-4k-instruct default prompt template\n",
    "\n",
    "<|system|>\n",
    "{system}<|end|>\n",
    "<|user|>\n",
    "{question}<|end|>\n",
    "<|assistant|> \n",
    "{response}<|end|>\n",
    "<|user|>\n",
    "{question}<|end|>\n",
    "<|assistant|> \n",
    "```"
   ]
  },
  {
   "cell_type": "code",
   "execution_count": 2,
   "id": "42343e1f-40d8-4b9a-a56c-53f60774dcd5",
   "metadata": {
    "id": "42343e1f-40d8-4b9a-a56c-53f60774dcd5",
    "tags": []
   },
   "outputs": [],
   "source": [
    "def generate(question, system=None, history=[], model=model, max_new_tokens = 512, do_sample=False, temperature=1):\n",
    "    \"\"\"\n",
    "    This function facilitates the generation of text responses leveraging a designated large language model (LLM) pipeline.\n",
    "    It accepts a prompt as input and transmits it to the specified LLM pipeline to produce a textual output.\n",
    "    The function offers comprehensive control over the generative process through the inclusion of configurable parameters and keyword arguments.\n",
    "\n",
    "    - question (str): This parameter holds the user question or any other instruction.\n",
    "    - system (str): This parameter holds contextual information to be provided to the language model for all conversations.\n",
    "    - history (array, opitonal) - This parameter stores the chat history. Each tuple within the list comprises a question and the corresponding assistant response.\n",
    "    - model (object): This object contains the model.\n",
    "    - max_new_tokens (int, optional) — The maximum numbers of tokens to generate, ignoring the number of tokens in the prompt.\n",
    "    - do_sample (bool, optional, defaults to False) — Whether or not to use sampling ; use greedy decoding otherwise.\n",
    "    - temperature (float, optional, defaults to 1.0) — The value used to modulate the next token probabilities.\n",
    "    \"\"\"\n",
    "\n",
    "    if system is None:\n",
    "        system = \"\"\"This is a chat between a user and an artificial intelligence assistant.\n",
    "        The assistant gives helpful, detailed, and polite answers to the user's questions based on the context.\n",
    "        The assistant should also indicate when the answer cannot be found in the context.\"\"\"\n",
    "\n",
    "    prompt = f\"<|system|>\\n{system}<|end|>\\n\"\n",
    "\n",
    "    # Add each example from the history to the prompt\n",
    "    for prev_question, prev_response in history:\n",
    "        prompt += f\"<|user|>{prev_question}<|end|>\\n<|assistant|>{prev_response}<|end|>\\n\"\n",
    "    \n",
    "    # Add the user_message prompt at the end\n",
    "    prompt += f\"<|user|>{question}<|end|>\\n<|assistant|>\"\n",
    "    tokenized_prompt = tokenizer(prompt, return_tensors=\"pt\").to(model.device)\n",
    "\n",
    "    outputs = model.generate(input_ids=tokenized_prompt.input_ids,\n",
    "                             max_new_tokens=max_new_tokens,\n",
    "                             streamer=streamer,\n",
    "                             temperature=1, \n",
    "                             do_sample=do_sample)\n",
    "\n",
    "    # Return the decoded text from outputs\n",
    "    return tokenizer.decode(outputs[0][tokenized_prompt.input_ids.shape[-1]:], skip_special_tokens=True).strip()"
   ]
  },
  {
   "cell_type": "markdown",
   "id": "f9d3b17d-2b8b-49a3-ba12-d6b1a6b20cc9",
   "metadata": {
    "id": "f9d3b17d-2b8b-49a3-ba12-d6b1a6b20cc9"
   },
   "source": [
    "## Chat Assitant Class"
   ]
  },
  {
   "cell_type": "code",
   "execution_count": 3,
   "id": "36e18ccd-72e4-40aa-a2fb-d8359fb5fda8",
   "metadata": {
    "id": "36e18ccd-72e4-40aa-a2fb-d8359fb5fda8",
    "tags": []
   },
   "outputs": [],
   "source": [
    "class ChatAssitant:\n",
    "    \"\"\"\n",
    "    This is a Chat Assistant interface designed to generate conversational responses utilizing the Phi-3 language model.\n",
    "    \"\"\"\n",
    "\n",
    "    def __init__(self, system_context=None, tokenizer=None, max_tokens=0):\n",
    "        \"\"\"\n",
    "        Constructor of the Chat Assistant class.\n",
    "\n",
    "        Parameters:\n",
    "        - system_context (str): This parameter holds contextual information to be provided to the language model for all conversations.\n",
    "        - tokenizer (object): The tokenizer used to tokenize the conversation for maintaining the history limit.\n",
    "        - max_tokens (int): The maximum number of tokens allowed in the history.\n",
    "        - history (list of tuples): This parameter stores the chat history. Each tuple within the list comprises a user message and the corresponding agent response.\n",
    "        \"\"\"\n",
    "        self.tokenizer = tokenizer\n",
    "        self.max_tokens = max_tokens\n",
    "        self.system_context = system_context\n",
    "        self.history = []\n",
    "\n",
    "    def chat(self, user_message):\n",
    "        \"\"\"\n",
    "        This function generates a response from the chatbot in response to the user's message.\n",
    "        This method creates a prompt using the current system context and conversation history.\n",
    "        It then sends this prompt to the language model.\n",
    "        Finally, it stores the new user message and the model's response in the conversation history.\n",
    "\n",
    "        Parameters:\n",
    "        - user_msg (str): The user's input for which the chatbot will generate a response.\n",
    "\n",
    "        Returns:\n",
    "        - str: The generated response from the Chat Assistant.\n",
    "        \"\"\"\n",
    "\n",
    "        prompt = generate(user_message, self.system_context, self.history)\n",
    "        response = generate(prompt)\n",
    "\n",
    "        # Store this interaction in the conversation history\n",
    "        self.history.append((user_message, response))\n",
    "\n",
    "        if self.tokenizer is not None and self.max_tokens > 0:\n",
    "            self._history_trimmer()\n",
    "\n",
    "        return response\n",
    "\n",
    "    def _history_trimmer(self):\n",
    "        \"\"\"\n",
    "        Trims the conversation history to maintain the number of tokens below the specified limit.\n",
    "        \"\"\"\n",
    "        # Combine the conversation history into a unified string.\n",
    "        history_string = ''.join(user + assitant for user, assitant in self.history)\n",
    "        # Compute the total number of tokens in the conversation history.\n",
    "        history_tokens = len(self.tokenizer.encode(history_string))\n",
    "\n",
    "        # While the history exceeds the maximum token limit, remove the oldest items\n",
    "        while history_tokens > self.max_tokens:\n",
    "            # Check history. We need one item at least.\n",
    "            if self.history:\n",
    "                # Pop the oldest item from history.\n",
    "                self.history.pop(0)\n",
    "                # Recalculate the history string\n",
    "                history_string = ''.join(user + assitant for user, assitant in self.history)\n",
    "                history_tokens = len(self.tokenizer.encode(history_string))\n",
    "            else:\n",
    "                # If the conversation history is empty, exit the loop.\n",
    "                break\n",
    "\n",
    "    def reset(self):\n",
    "        # Clear conversation history\n",
    "        self.history = []"
   ]
  },
  {
   "cell_type": "markdown",
   "id": "8dd12556-fb8e-4768-9044-811622cec89b",
   "metadata": {
    "id": "8dd12556-fb8e-4768-9044-811622cec89b"
   },
   "source": [
    "### Get Number of Tokens"
   ]
  },
  {
   "cell_type": "code",
   "execution_count": 4,
   "id": "4f2f0379-07aa-4583-9b37-2995aa882ef0",
   "metadata": {
    "id": "4f2f0379-07aa-4583-9b37-2995aa882ef0",
    "tags": []
   },
   "outputs": [],
   "source": [
    "def get_token_count(text, tokenizer):\n",
    "    \"\"\"\n",
    "    This function accepts a text string and a tokenizer. It employs the tokenizer to encode the text into tokens and subsequently returns the count of these tokens.\n",
    "\n",
    "    Parameters:\n",
    "    - text (str): The input string to be tokenized.\n",
    "    - tokenizer: A tokenizer instance capable of encoding text into tokens.\n",
    "\n",
    "    Returns:\n",
    "    - int: The count of tokens in the input text determined by the tokenizer.\n",
    "    \"\"\"\n",
    "    return len(tokenizer.encode(text))"
   ]
  },
  {
   "cell_type": "markdown",
   "id": "2821401d-ac98-4b30-9f6f-70ce07b731ea",
   "metadata": {
    "id": "2821401d-ac98-4b30-9f6f-70ce07b731ea"
   },
   "source": [
    "### Concatenate History"
   ]
  },
  {
   "cell_type": "code",
   "execution_count": 5,
   "id": "0ea30bb2-94e3-4f6d-94fd-d46e43645c9c",
   "metadata": {
    "id": "0ea30bb2-94e3-4f6d-94fd-d46e43645c9c",
    "tags": []
   },
   "outputs": [],
   "source": [
    "def concat_history(items):\n",
    "    \"\"\"\n",
    "    Each tuple in the list contains two strings. The function concatenates all the first elements followed by all the second elements in their respective order of appearance in the list.\n",
    "\n",
    "    Parameters:\n",
    "    - tuples_list (list of 2-tuples): A list where each element is a tuple of two strings.\n",
    "\n",
    "    Returns:\n",
    "    - str: A single string resulting from the concatenation of all the texts from the tuples.\n",
    "\n",
    "    Example usage:\n",
    "    ```\n",
    "    conversation_tuples = [\n",
    "    ('Question 1', 'Answer 1'),\n",
    "    ('Question 2', 'Answer 2'),\n",
    "    ('Question 3', 'Answer 3')\n",
    "    ]\n",
    "\n",
    "    concatenated_text = concatenate_texts_from_tuples(conversation_tuples)\n",
    "    print(concatenated_text)\n",
    "    ```\n",
    "    \"\"\"\n",
    "\n",
    "    return ''.join(question + response for question, response in items)"
   ]
  },
  {
   "cell_type": "markdown",
   "id": "fc3e234d-548f-4f7e-9e1f-02369d21e1d8",
   "metadata": {
    "id": "fc3e234d-548f-4f7e-9e1f-02369d21e1d8"
   },
   "source": [
    "---"
   ]
  },
  {
   "cell_type": "markdown",
   "id": "ef88361d-a326-4a8d-bd75-31742be6378b",
   "metadata": {
    "id": "ef88361d-a326-4a8d-bd75-31742be6378b",
    "tags": []
   },
   "source": [
    "## Sample: Ferrari F40 data in JSON format"
   ]
  },
  {
   "cell_type": "markdown",
   "id": "1c3f518c-6e91-4968-bae6-77565d2711f5",
   "metadata": {
    "id": "1c3f518c-6e91-4968-bae6-77565d2711f5"
   },
   "source": [
    "![ferrari.png](data:image/jpeg;base64,/9j/4AAQSkZJRgABAQEAkACQAAD/4QA2RXhpZgAATU0AKgAAAAgAAgESAAMAAAABAAEAAIdpAAQAAAABAAAAJgAAAAAAAAAAAAAAAP/tAIRQaG90b3Nob3AgMy4wADhCSU0EBAAAAAAAZxwBWgADGyVHHAEAAAIABBwCAAACAAQcAuYARWh0dHBzOi8vZmxpY2tyLmNvbS9lL1NoSjQwQkZjSFg0RUdaRVBUeThqb20zcllnSUxJTFFJSjdvbjA4UGMlMkZ3OCUzRBwCAAACAAQA/+AAEEpGSUYAAQIAAAEAAQAA/+ICNElDQ19QUk9GSUxFAAEBAAACJGFwcGwEAAAAbW50clJHQiBYWVogB+EABwAHAA0AFgAgYWNzcEFQUEwAAAAAQVBQTAAAAAAAAAAAAAAAAAAAAAAAAPbWAAEAAAAA0y1hcHBsyhqVgiV/EE04mRPV0eoVggAAAAAAAAAAAAAAAAAAAAAAAAAAAAAAAAAAAAAAAAAKZGVzYwAAAPwAAABlY3BydAAAAWQAAAAjd3RwdAAAAYgAAAAUclhZWgAAAZwAAAAUZ1hZWgAAAbAAAAAUYlhZWgAAAcQAAAAUclRSQwAAAdgAAAAgY2hhZAAAAfgAAAAsYlRSQwAAAdgAAAAgZ1RSQwAAAdgAAAAgZGVzYwAAAAAAAAALRGlzcGxheSBQMwAAAAAAAAAAAAAAAAAAAAAAAAAAAAAAAAAAAAAAAAAAAAAAAAAAAAAAAAAAAAAAAAAAAAAAAAAAAAAAAAAAAAAAAAAAAAAAAAAAAAAAAAAAAAB0ZXh0AAAAAENvcHlyaWdodCBBcHBsZSBJbmMuLCAyMDE3AABYWVogAAAAAAAA81EAAQAAAAEWzFhZWiAAAAAAAACD3wAAPb////+7WFlaIAAAAAAAAEq/AACxNwAACrlYWVogAAAAAAAAKDgAABELAADIuXBhcmEAAAAAAAMAAAACZmYAAPKnAAANWQAAE9AAAApbc2YzMgAAAAAAAQxCAAAF3v//8yYAAAeTAAD9kP//+6L///2jAAAD3AAAwG7/2wBDAAIBAQIBAQICAgICAgICAwUDAwMDAwYEBAMFBwYHBwcGBwcICQsJCAgKCAcHCg0KCgsMDAwMBwkODw0MDgsMDAz/2wBDAQICAgMDAwYDAwYMCAcIDAwMDAwMDAwMDAwMDAwMDAwMDAwMDAwMDAwMDAwMDAwMDAwMDAwMDAwMDAwMDAwMDAz/wAARCAHxBAADASIAAhEBAxEB/8QAHwAAAQUBAQEBAQEAAAAAAAAAAAECAwQFBgcICQoL/8QAtRAAAgEDAwIEAwUFBAQAAAF9AQIDAAQRBRIhMUEGE1FhByJxFDKBkaEII0KxwRVS0fAkM2JyggkKFhcYGRolJicoKSo0NTY3ODk6Q0RFRkdISUpTVFVWV1hZWmNkZWZnaGlqc3R1dnd4eXqDhIWGh4iJipKTlJWWl5iZmqKjpKWmp6ipqrKztLW2t7i5usLDxMXGx8jJytLT1NXW19jZ2uHi4+Tl5ufo6erx8vP09fb3+Pn6/8QAHwEAAwEBAQEBAQEBAQAAAAAAAAECAwQFBgcICQoL/8QAtREAAgECBAQDBAcFBAQAAQJ3AAECAxEEBSExBhJBUQdhcRMiMoEIFEKRobHBCSMzUvAVYnLRChYkNOEl8RcYGRomJygpKjU2Nzg5OkNERUZHSElKU1RVVldYWVpjZGVmZ2hpanN0dXZ3eHl6goOEhYaHiImKkpOUlZaXmJmaoqOkpaanqKmqsrO0tba3uLm6wsPExcbHyMnK0tPU1dbX2Nna4uPk5ebn6Onq8vP09fb3+Pn6/9oADAMBAAIRAxEAPwD9/KKKKACiiigAooooAKKKKACiiigAooooAKKKKACiiigAooooAKKKKACiiigAooooAKKKKACiiigAooooAKKKKACiiigAooooAKKKKACiiigAooooAKKKKACiiigAooooAKKKKACiiigAooooAKKKKACiiigAooooAKKKKACiiigAooooAKKKKACiiigAooooAKKKKACiiigAooooAKKKKACiiigAooooAKKKM4oAKM0gNKRmgA3UbqjooDUkooBzRQAUUUUAFFFFABRRRQAUUUUAFFFFABRRRQAUUUUAFFFFABRRRQAUUUUAFFFFABRRRQAUUUUAFFFFABRRRQAUUUUAFFFFABRRRQAUUUUAFFFFABRRRQAUUUUAFFFFABRRRQAUUUUAFFFFABRRRQAUUUUAFFFFABRRRQAUUUUAFFFFABRRRQAUUUUAFFFFABRRRQAUUUUAFFFFABRRRQAUUUUAFFFFABRRRQAUUUUAFFFFABRRRQAUUUUAFFFFABRRRQAUUUUAFFFFABRRRQAUUUUAFFFFABRRRQAUUUUAFFFFABRRRQAUUUUAFFFFABRRRQAhYCsXU/iPoOjXzW13rGm21wmN0clwiuM+oJzWrO2Eb6c+1fzv/tHftE65qnx+8Z6hHfXitda5fSBg+Mos8gT5s5wFAGB6ivHzjNPqVJVEr3dj9G8N+A1xRi6uHnV9kqaTbtfd2R/QIfihoLD93qlrJ/uPu/lVd/i3pKthbgyf7qmv56PDf7aXjjwYI1tde1CNf4cyHn8s16j4P/4Ky+OtC8r7RffaY4duVkG4tjrycda+bjxk72nTaP1jEfR1qx/3bFRl6+6fuJbfFzSpX2s0iH3StKz8baXfHEd7Du9CwFfj34M/4LNXcir/AGppNv8AL1Kt1r2HwR/wVw8C+IJlhu/Ps2boSdqj6npXdR4qw8vtfefMZl4F5xR+Cm5f4WmfpvDqEFx/q5o3/wB1gakDqe4r4Z8L/t6+A/Erx/ZdehVuweTGfrzXp3hf9pu01KPfZ6/A6nsZga9OlnuHn1Picf4c5thdZ05L1i0fTWaM143pXx+vHkX57W4XuQOtdFYfHWCQ7Zrfn/pm1d8cdTktD5qvw7jqTs4X9D0KjOK4/TvjTo+oPtLSxt/tLwK2rXxlpl9/q72D6F9uK6FWg+qPPrZfiaXxwa+RrZpNwqOK4WUfLJG30bNKw5+9/wCPVpoccrokooByKaXAHWgB2aM4pqnmhjg0rgOooopgFFFFABRRRQAUUUUAFFFFABRRRQAUUUUAFFFFABRRRQAUUUUAFFFFABRRRQAUUUUAFFFFABRRRQAUUUUAFFFFABRRRQAUUUUAFFFFABRRRQAUUUUAFFFFABRRRQAUUUUAFFFFABRRRQAUUUUAFFFFABRRRQAUUUUAFFFFABRRRQAUUUUAFFFFABRRRQAUUUUAFFFFABRRRQAUUUUAFFFFABRRRQAUUUUAFFFFABRRRQAUUUUAFFFFABRRRQAUUUUAFFFFABRRRQAUUUUAFFFFABRRRQAZo3U3IApobd3FAEN8jXNo6xyeWzoVVvfFfzh/ttfAjVv2cv2htc8J63eaddapp8i3EklrIxjZJ185NpO1sndg5H8Jr9wP23v2kG+FfhdND0i6aPXNSXe8kZO+2h7n2LHj2Ffml8Y/g5oPxf12bUNetft+oSKTJNLKfMkx93LHuvQD0r4nijMMO19WfxJ3P6U8DsnzDCueZTsqVTSzWsrPSXoj4FmlkiPzKTs+9ntVQyNF97d83WvqPxB+wxozW3m2OpX1mZlyoVt0cR/rXH69+w3rlmkcmn69Y3Sb9pFzCVIr4uMoN3Z/SSxUlZnh0N7JJPyzY9BVi38RmBGTLK3sea7TXf2YfGekNn+zba/64a3mBHPTO6uD8SaJfeHNVms9Q0+4s7mAbZIpDyp9K0nT5+ifyN1jGtWy5H4wuraVXWXZtb+H5f61vaB8c9f8OPHLa6pfRtD9xlnbcv8AQ1wB1C3kK7d27rg9Ks28qKzcrj0JrN4dm8cfOSs2n6nvXhH9v34geGRGIPEF4yx9UlbOfxr1rwX/AMFgfHGijbcNZ3y4+YSoRj8a+MRYPOoZeNwyOOoqOXTplb7rDjJwela041YLmUmeXjMLlmIusTh4O3W3X5H6V+Bf+C0VrNIseraRGu7b80Z/x3V7D4K/4Kz/AA+16aNLiS4s2Zct5gVsH8DX45SPcW6Lx5e0ZBBpY9TmX+OT+EkqADXd9ex0fhnc+YxnBfDuI+Ki4f4ZH7xeEP25PBev/wDIP8SW6N3HmeXj8jXp/hn9o+O9gRrXXIZl7ASqSf1r+d638cajYsPLmmUjqS2M/rXT+HP2jPEnh1h9l1a+hwvAWTbj8jXTTzrGQ+KNz5nHeEmSV1ahWaf95J/kf0S6d+0DcbF8xrWZevPWtjTvj/DMP3tm/wBUYH9K/AvwZ/wUZ8feGETZrl1IqnJ+0Sl8D0r1rwR/wWE8W6Sii+hsrxfmwXQDP15r0qHE0/8Al5Fo+QxngXzf7rOE/R2P21svjNotxtDStDu4BZSQPrW5Y+LtL1Afu762Y+m8Kf1r8ivBv/BZHTb+OP8AtLS/JYjc5hkI/IGvW/Bf/BTv4f8AilVEl81vIy7tsoGF/HNelQ4mozV7/efF5h4K5nQ2g/k1L8j9LUnSRcqysPUGnbq+JPCP7YXhvWJlax8TW7NIuQBPtYH6k16XoH7R95dH/RtTW4QdMOsn55r0aWdUJrdHxmO8Pczw3xRfzTR9IbqTeBXjFj+0NqCt88NrcDHX7rY+vStjTf2jLWdgtxZTRM3TawbNdsMdRltI8Ctw1j6f2L+h6fuHrSk4rkNP+L+h3iruuZIieqyJ0rbsfF+l6iP3N/bSZ6YcVuq9N7SR5dTBYin8cH9xqZpN4FRrOh6Mv/fVLw3f8q1Vjl1XQk3UZpuf84o/76oAduozimDn0pzfSgBaKKKACiiigAooooAKKKKACiiigAooooAKKKKACiiigAooooAKKKKACiiigAooooAKKKKACiiigAooooAKKKKACiiigAooooAKKKKACiiigAooooAKKKKACiiigAooooAKKKKACiiigAooooAKKKKACiiigAooooAKKKKACiiigAooooAKKKKACiiigAooooAKKZ/nrR26/rRuA+jNNJ96Ovc0BcduozUeeetLux3/AFoegD80ZqvLqdvbtiS5t4z6M4FSCRSu7zFx65pcyHyskozVG71+ysVzLdQxj/acCsq6+KGh2wO7UYW2jJ25bA/ClKpGPxM1hhq0/gg38joy2DRurz/Xf2ivDHhmwe5vLz7Pbx8mWXbGg/4ExxXE6j+314BtjiHW9IZSdu9r1ACfTjNZPEQR1RynGSaXI0/PQ92JxTWlVRyyj6mvCF/bItdVXbYzaPJvjWVf9I5KNja30ORg981na98atU8W6fd2TTWclrcIYp0hwcIy4IODkemRWM8dCKvZnpYfhjGVZW0Xzv8AkfQ0N3FcKGjkV1PQg5BqTcK+TfB8jeBl8nR0XTYxwFtwUQfgCK6yw+NPiKy+9deYidVdA2fxNYQzSm/iR6NfgvER/hTT/A+hg2aM4ryfTf2k1BVbrTpMjq0bV0Gl/HjQ9Q275J7dmOMOvT8s11xxVOWzPDr5Dj6XxU38tTuM0Vj6f410vUwPJvrdt3QbwprTW6jkxtkVs9MNW/MnszzJUpx+JMlzQTimhgO9DHmqMx2c0E4qP/PWnZ+lGwCA7hXKfF34mWfwk8C32tXzDy7eMlRnmR/4UHua6h5FijZmZVCjJOeAK/P79uD9pFvij46bS9NuGbQ9HZoUCn93cvjmU46jPyj2Ge9eTm+ZRwmHcur2Xc+w4H4Vq57mUcOl7kdZPsu3q+h5N8V/ihdfEHxvdarqUzTXF1JvOzO3j7oX0HtXI6hqKz3aqquzMMjHp71TvwJZJSUOXdSDz83t7H2qqkrx38IzsWQ/OwU8Hr+Vfk1atOrJzm7t9T+4svy2hhqEadBWUVZITVdTa3nkDRttyACD8v51Zhs/NgEnl+XG3DOzdSOpH1qPVGa3X5o8tHwRjIcllwR9Kbe6qbbR2kuNuyFXc5OQBtrJQseg/ejFRRx/xa8cwfDTwXdapcLF9okJitFyMu/Y56YGBzXwn8SPFlx4l165uJZpJJJHZiHfJP1NepftK/Fub4geKZBFI0enWv7u3XdlTjqceprxLWJlMhbo3cnvXpZfFuV2Y5s1SpKHUZG+2TlsV13gHw3DrF/Gky+ZCTgrnp+NcPDdK/TBb1ruvhpqrG9jh4w2FVh2J6Zr3VTj1R8bLGVFpGR+zn7Df/BJr4JfGH9kLwxrHifwYt1rmrRyTS6hFeT29wP3rouDG4GMKKf8Rf8Ag3b+Fuu27r4a8UeMfDsjHOJnivos/RlVv/Hq+sv2G9I/sX9kf4f2+1lzo0ExDdcyDef/AEKvWUGGz7V9rRwNB0knBH8k5hxjnNLMa0qOJmlzvrdaPs9D8f8A4jf8G3njOwaSXwz498O6ovURX9lJZySD03pvArwP4if8EQ/j94ESSRPBceuRoN27SdQhlLewRipr9/qD0rnq5HhZ7Kx7WB8WuIMP8U1P1X+R/ML4/wD2T/iD8MHmXXvBPirR/JPzNc6XKgx6hwuK4G40BreVgyg+X95ScMv1Ff1YNbJMjLIqMrDBDfNn8689+If7Ivwv+KkUi+Ifh/4T1Qy/fkl0yISn/gaqG/WuWXDsV/DkfUYXxuxD0xOHT84ux/MDcaXLDIv3s9F44NRMsyRE8qFbOAc1/QT8S/8Aght+z38QQzW/hfUfD0zZOdK1GSNc/wC65Za+ffiZ/wAG0HhzU/Mk8J/EjVtPYqwWLVdOjvBz0y67W4rzpcN1V1ufS4Xxkyyo/wB7GUPXX8j8d01GSHawOB0J5qzD4hmtmRfNdWzg4JG6v0A+JP8AwbnfGrwszPoOqeD/ABTEfu+VdvZzD6rKoH/j1fP/AMSf+CUnx8+FrTLqHwr8TTwx7iZtPRb6EbfeEt1rgr5HWhrKN/Q+wy/xMymq/wB3XXz0PDtN+KWraLKrW99dRbP7kpFdh4a/a48XeFTH9l1e8AXsZWOfrXF+J/hlrfgqRo9Y0fWNJZOv221e3z/32BWKdMYjCtuXOCR2rzfqMoO/Kz6qhxVSr/BOM/uf5n014F/4Kh/EDw++2XUpZdnJ8xRg/rjPvtxXsHgr/gsnq1mY11KzhmjaTDnuo9q/P2e2dTjv65poUpuXc+3ps/8Ar0claO02vUdeWX1ver0Iten+R+sXg/8A4K/+FNZjVNQhktpO4b7o/wCBV6/4J/4KC+AfFAVYdbWGRuik8j8K/EBL2SJgqt9761YtfEl1CAVkZdv8XT+taxxmNpu6kmefX4YyHERTUXBvs/8AM/oK8MftN6VeIrWOuKNoyoSYLj6813WjftE6lujMOpx3Ct034bP0r+d3Q/jT4g0F/Ms9UvbcZU7kmZePTAzXo3g39u7x74bG6PW7qZi3ImUPn8xxW9PO8TB++vuPncX4W5VX1o1E/VH9AOkftMXafLdW9rMfVPlrf0/9oqwuV/f2kqfRt386/DnwN/wVo8YaIBHeww3ingkSMrJ9f734V7H4L/4LGaZPtXUdOvLdT95htf8ALBrup8Stdz5XHeCf/PmKl6M/YCw+MmhX4/4+lj/66KRW5YeKtNv0zDfWrf7sgr8vPCf/AAU/8A+KFVZNUhspG2/8fAePb/wIqBXrXgz9qXwz4riSSw1mym8wZBhulZh+ANetS4gpv4rHxeYeEOMw6u4yj8r/AJH30sqsuQwI9c07NfHujfGt7Xa1vrE0IXgFZWX9K6/RP2h9ajiQrqUV0vcuinP5Gu6ObU3ufJ4rgHH0tU0/W6PpPNGa8P0X9pu8TatzZ28nqUymf510mlftNaPdlVurW8tXb/ZDAfka6o46kzwsRw3mFJ2lTv6anpmaM1yOm/Gnw7qAwuoLCeOJAV/Uit208SafqSBob22mVuPllXNdEakJbM8urg69L+JBr5M0aN1RiQH+L9aM4rRNPY5XoSbqM00jB60Z+v5UDHbqM1Gv4U/FAC0UUUAFFFFABRRRQAUUUUAFFFFABRRRQAUUUUAFFFFABRRRQAUUUUAFFFFABRRRQAUUUUAFFFFABRRRQAUUUUAFFFFABRRRQAUUUUAFFFFABRRRQAUUUUAFFFFABRRRQAUUUUAFFFFABRRRQAZozTSeKaG91oDzH7gKXOTVTVdWtdFs3uLu4htbeEbnklcIiD3J4FeBfGH9uzSfC5az8Nw/2tfN8i3MinyWP+wo+dz+Cr71jUrwh8TOzB4GviZWpK/n0Xqz6Fa4jQfM6jBx1rOv/GmkaeoNxqVjFkZG+Zef1r4D8dePfHHxK1BLzUJZZpIzuhjkuhBHF/uKgyo9uTWPB8efEHgKZV1izuRbsNvnsGljP/bRckf8DxXBLMn9mJ9JheGKM3y1a6T7f8E++r74z+HbAc6gsv8A1yjLj9Kyrz9onRYE/cw3kx9NgT+dfKPhb9oLRfEkZ/feQw5Ys4kRfq45rrdL1qHU0VoJo5l9VYMB+Vc9TM5vbQ9qlwbhIayba9f8j2q9/aVH/LHTztPTzJBmse8/aI1i4dgkdnCF6EKX/nivM1lJOVPDdCvGKckwUsCeTnA9a5pY6tLaR6FLhvAx2hzHaah8ateul+a+kj/65qEP6ZrHvvHmp6hJma+upPRWlJH9Kxmk81N3r0pkiLL8rOys3Q46VHt6kt5HoQy7C01enTX3Fq51lriTLN5h9c//AF6il1dogq/apIF9FnaP+RrLm0VpHb9++735H6VVPh11P8L/AENdNOKe8jzcU5Q+Ghf5GrP4lEJbbqLbuu0kP/Wq48dmB23Mlwcc4Qrk/j2rPn0XaeVkLeoFU7iNkT5doYdcjpXUqEZdTw8RnGJpRtCnyHyL+2z+0Z4n/wCGnf7J0fWbnR9P03SLd3tCsc0MzO24s8bhgfT61nfDz9rO60OKQa14M8H61M6eV9ujiNhKw90VXjb67VrzT9r3xNcx/tr6pcWul2+rtpttBb39hNdG0+1gRYUCVeRjOQGxghc9RWh8L/Eej+LNWhj1z4W/EO1WRSGXQtTs7iUD/YEjqzH6JXLKNSMmqbOr69g6sI+3p3drnr9r+2ks1sy3Hh25t/JTAkgv4WndeRtYyREKAAuNueleYar+1v4y8H65E3hywi0/T7MNJBDqeuveHluWIjhhHbgDOa0tW0TwWvhe51GDQfjRYfZ5CGF94eWK1wOpMplYsw9BXgvxh8ZaTF4XuJfDOm+K7jWre8SCJb6EJaGI/fcktu2jJwelaU5yatJozpwwnOpU0182j9bP2dvG2ofFP4I+GPEOrLCmp6vYie48lNse8sw4HpgCum1vVLPw7p0l7f3UNrZwxs7yynhABuJ98Dk+grx/9mDxPf8Ahn9njwXZTWsR+y6RbRsqn7hKBiQe/wB6vmD9vn49+K/+Gs9N0nRfEWqaDa2nhyKRoredfL8x5pzna6t94BVbPUDisZ4dp+8e5RzSnWvDDvXzPseb9q74arCrL4o0+aH+IxxSMo/4EFxW5oPxa8IeJbqOCw8RaPPPNnbCJwshI5PysAeK+BvB37UGuaXpS2muaL4T8TsOl3NYmzuWT+7vgAH47alsfj1pck7/AGrwLbwRw5aCTTNbmt5Ym6qAzowRSCQQFzUwWGX2ipVMxhvSv8z9FbKNdQTdayw3Cr1eGRZAv1KnircF5f2zBo7qZfL6De1flj4g/aG8SaDdxyeG9J0nw/CJPNPma/fTzMwxyfLWJe44296++P2LPi3r3xo/Z10PX/EktvcardSzpM8SeXGQku0YHXtUzcV8LNMPVq1G1WppfI9s0z4na/phXF9Iyf7ZDGuk0/8AaMvrZsXVjBIvqhINcOHUnnHHrTZVjVOme+accROP2jOvlOCq61Ka+Wh61p/7RWlzj/SLW6t29Nob+VXLX486Jcuyt9oi29MoGz+RrxeS1wN1MktcnCnA/Wt44+qjzJcKYCXw3XzOh/bA+OF5B8MZNN8JpcXl9qoaKWSKMg28XQ9RwW6e2c18F67oOoaT81xp9wp6OHU8H1B719mT2cmW/pVO70JbiLMkcb+zIDXi5th3jZKU3a2yP0TgzMqWQYZ4ehTUru7b3fl8j4ku3mtUPmRyN5fB2D94T/d/+vSTWBl+aMYZV4zX15q/wj0HWlLXGlW6ux5dBjn1rktZ/Zg0O/MxhkureSTjdvDY+gNeHPJan2WfpmF8QcLP+JBx/E+Zrl5JyEYruHJXt+deF/tgfGhtMtn8N2jNHcSANfMnDY6rH7A9Sfwr7Y8SfsgX0NhKdJ1O1kvNreUbhCijK8Zx6V8W/Fn/AIJo/GaLVLi8Oi2XiB523s9jqEZJJ6NtcqePSvPrZTil8KPs8n4qyarPmnWStsnpf7z5J1O7ad2Y/wATcAgnFc5rTqyfdO4dTngV6v8AEL9m/wCIHw/Hma54J8S6YA2DJLpsjRgfVVxXkniSFoJGV0aORVO7dwxx149q9DB0J090Y5vjsNiYt0ailfs0Z0M3z7VJ+avQPhPbNf8AiqxQKSXniCr0yS3FeXrcsJOK9U/Zp23nxO0WOTb+9u4jvYbto3Ljj2r16llqfE06k2pOKvbr0P6hfgNpK+H/AIJ+EbFRgWuj2kYH0iWuvI4FZvhiCOy8P2MEe0xw28aLt9AoArSIx3r7qGkEj+McTLmrSk+rb+9jgaKbtyaMgd6sxDbj/wDVSM3+cU/NN4B60BoLtpCadRRZANVs1HtPpg/TrU1FAGL4l8E6P4zt/I1fSdN1SHsl5apcL+TAivFfiZ/wSy/Z++LbSSat8K/CyXMwwbiwtjYSj33QFK+hKKl04PdG1LE1qX8ObXo2fnv8R/8Ag3F+B/ip2l0HUfHHhWdunkaglzCP+Ayqzf8Aj1eCfET/AINj/EVq7v4T+Kek3irysGq6TJbsf+2kbv8A+g1+wdFc1TA4ep8UT6DB8Y5xhf4Vd289T+fr4lf8EEf2ivAUDSW/hfR/E0MbNk6Pq0Zdh7JKUNeAfEn9iH4rfBwSN4i+HfjXSFU/PNLpczRY9fMUbf1r+oQHNQyWwkG1sspGCDyD+dcFTI8PPyPqMF4rZvSa9qoz9VY/kzvNDktp2hkV45Izho5BsZfqDQukyIzfKzL6rzX9TXj39nDwB8U4Hj8SeCfC+uLIct9u0mCdj+LKa8F+Iv8AwRN/Zx+IKMV8Aw6DM/WTR7qW0P8A3yG2f+O159bh1pWps+ywPjNTty4qi16M/njigkRc459fWpIvMUbSpwvTFfs98Qv+Da/4f6mJm8KePvF2g+Z92K+hhv1X/gWFf/x6vA/iH/wbg/FXQ42fw34q8Ha9GpJSGfzbJ/1Vl/WvMq8P4pfDY+5ynxYyKt8VVw9U0fm8l49u21ZCv51esPFl/pkgkguZI5ANpZHIb8GBzX0z8Rf+CO37QXwzmZrn4b6tq8MatmXSJYr4H/gKMDXhfjn4IeKPho7x+IPDmvaJInbUtOlt/wD0NRXjVssqw3gz7/L+MsuxUf8AZ8TF/NFzwt+1P468G7W0/wAT65b7PugXbSA/XcK9a8F/8FR/iN4deNrq803VlHa5tAjj/gUZB/Svm9NPUn5Wjf2DA00WKxsMApu6cda86VGVOV4tr7z6D/Z8VG1SEZfJM+6vB/8AwWLlQKuseFox8uN1lenAP+66kfrXqngv/grZ4D1SONdQk1bR2b7xuLRJox/wKNif/Ha/L2aJ4IqabmSENt+7jPHHH41v/aGJjtM8+pwvlNda0Wv8L/zP2Y8I/t5/DvxSFjt/GGh+aeqzTtbsM9OJADxXpmh/FXTvECxy2N9b3qyDCywTRygj/eVic1+DUWsTRH7xXjdgEhvzrR0bxzqGhzeZZ3dxazL0eGQxEfRhz+la084xMN9fmeLifDvLqi/dVWn5pM/f3Tvipeae6+Rq11bFeFUyMmfzrpdD/aB8Q2qruvUuEbp5qKc/iDX4T+D/ANtv4meDsfZfGGvGFRtCT3Hnrn1w4YfrXqvgX/grF4+8OtGuoW+ha0u7bIZLP7PNIPd4yP0FenQ4jaV2pI+Ux/hEqnwckvXQ/afTv2qb6JlW4023kVerJIV/nXQWP7UOjyHbdWt5av3AUP8AyNfkv4I/4LL6S7QprvhXVLf5f3j6ffpIPwSQD/0Ku11v/gqb4V1HRGbwemqatq80gX7BfQfZlA7/ALxRj9a9SjxFFr4rnxGO8G6sZ8kqDj5p6ffsfqtpfxp8Oaqvy6lDG3pKChH54rpLPXbPUl/0e6t5v9yUN/KvxK17/goD8SdVO2E+FdBXOQfMa5ZB/WuP1X9r74gavcDzvHt9CrYwlhbrbg5/28ZrojxFO+lNs82t4K2V/rUYfj+R+9wmUj7y/nS7hmvgX/gjN8VfE3jy98V2ereJNa17T7WKK4j+3z+cI5HYg7SeR9w8H1r71lGB/F+FfSYOv7ekqnc/Hc/yeWWY2eCclNx6rYmoooroPHCiiigAooooAKKKKACiiigAooooAKKKKACiiigAooooAKKKKACiiigAooooAKKKKACiiigAooooAKKKKACiiigAooooAKKKKACiiigAooooAKKKKACiiigAooooAN1AOaaBkdKaePRaNbgSZxRmobi7jt4WeR440UZLMcACvFfjB+2v4d+HnnWulka5qEfG2E4hj+r9W/4ADUTqRh8R0YbC1a8uWkr/AJfee03moW+nW8k1xNDDDGNzvI4VUHqSeleGfF39uLQfBebXQ1XWr5gQrZKwqfX+8/8AwEGvn74g/FDxh8a7hn1S8ls7INmK2jXaqr6hM8N/tNz7Vn6L4Vt9KDGOMNIVw0knzO/1PT8q86tinL3YHt0stw9D3qz532WxN408f+MPjXfLPrl9Nb2xO6O3XG2L/dQHC/U7m9qfoXhS00TJhi2zN8xlPzSN9WPP5VoQQhey/L0xUkku1cHr6iuJ6/Eb1sdOa5I+7HstEAto2Xbke5/wqC60yNlK/dXvkDB/AVZ+Xd7USKJFXHy/rTba2PNk9eY4rxB8H9G1ibz20+O3vF+7c237mVfxU8/lWDN8Ndc0CdpdF1xpPm+5eKQ3/fce016rHFs4bDN60fZEaRtyj8Klwi+h62EzTFYf+DOy+88zsfi5428G7f7S0ae6j7SwoLyNVX0KbZQT/tBq6Dw1+1ZomqSCC4X7POMZiztkG7/pm+G/SuqOgr8xHyr6HmvLvjtrOm6fZG3m0201K6/h82FZNmOnLZJqPq3P8J7+H4sn8NeKf4HrumfFLRdSudsd+kLNztnDJn6ZrejvoZ03Qusir0ZDuH5ivhXSU1K4vmi037Vbsx3eVG5EZ/4C3AH41esfjHq3haVl3W9wy8ZVTCv5RkD/AMdpSwlVbHt0eIMurL3m4Pz/AOAfcCuJX7NmpE6fdO31r5M0H9sG/slj+0yagV64bZOv5thq7nQf2w7e4dfOW33f33Dxf+PdK55Rkt4noxr4er/Dqp+rse9SIrt8qhsdcHpUFxapKn3Ru9HH3q8+0n9pjSdRf7sqrJ0aOZZlP4Hmty3+LOiXEO5rvyd3VHR1/Ims/bJb3L+ot9E/uZ8Q/tefCwWP7QXiXVrnRbiO1v3QR3MaMqyKqRhSGUYOMHHpjmuD0fwk15MIbVtSP3j5caCRWx04zgfnX6Rtf6T4hTy0urK4jZeFMitj8DzVST4ZeH7pd39lWCq3Ro7dVIrgnRr8/NGofRRrZXKiqeJwqbStdaH57zaXq2nadJb3000cUkiNGshKkFey4OFJyM4z0rh/EmhalOjx2lpcXLzhkTyCjMfwr9Lrv4DeFbqLbNotnMMbQZQZMe4z3pNE+AfhPQL+O5tdBso5N2VZoxJg/Q13Yetik7No8PG5Zk9aDVOMoyfZ3Ivh1bTaH4D0WGWEmS30+CIpIuCGCKDke1fnz+3f4nuLv9uK/azs7PWLrQ7GxWbTppDbwzw+STsMisrD75bPrX6hGwU2xAVfu/Lx0r4H/bR+ExsP2kNd8R3Hh+No9St7dIbpI/8AXbUxkt1GBkY+ld+IzSMad5r7j5vJ+Cq2JxUoUaiXa+h598G/EGn+MvEUVrqXwn8SeZJJhl0LXraSSUeifaGG7/gW6vQ9f8H+C4vC2pah/wAIH8ftLbT5vJIv9ItPs8Q/6azLN1+b+DPQ15Tb2VjZXLsrXlm6htzqMg/L90gc9zyKgupLi302VY9SYRnafLJdVPYnGTzj1rz6ecYSp5fI9TEcA57Qfupy9JGH8RfGGj3vg7Xn8P8Ahnx1NrlomdOa6h22rsdufMDOxUD5uvoK+9/+Cf8A4m1fRP2Q/BVvdW9qtx9keWVQDhGaVm67ua+E9KN0moRTR3NrDcRlvJkfdgtt6fKucfUV+i37KvhG58K/s9eDtNmljaW20uNS3l7SWI3HGenU9a9DD4jDtni4zI86wmvI4X7u56Na/EIkhZbWTa39xua0LTxjYu3zSywnr80Rxj0+Wsj+xlf5txYbvSrKaXGg+aLcaKk8O/hTKwtHNPt2+Z0Cavb3Un7qeN/YOKneXsvJ6ZFcwbK38w7oo2ZTg5jHFBtY0ZtrTR/xDY3SsbwPYVOpGN2vuZ0rPuTrtpPMMa/Ng1gQ6hfwyMy3Tsq9VkiXaPxrO1v4s6f4Tf8A4mV9pFskaZdmv1hYD1IYis5SiuqNI05y2i/uudcdxG3O5fYVG9urP9zn6V47rH/BQT4R+Gtah03UvHGk2N7dMqxhmLxtltoAkQFcBuCc4B4NN8Wft+fDHw3HLHJ4hW+khOJEs7WW4Gf94KV/Ws5V6dNc0nodmDy3G4ufs8NSlJ3tZJ3+Z7EbRXLfL+QqN7L5sds5/D0r5f8AE3/BV/wfbFl07R9b1KReFZjDCD/305b9K878V/8ABWfVHm8vSfC+nxgdZL27aTYfbaBmsZZlh4q7mmfTYfgXPKjs6XL/AIml+bPt+WwUsyksdvXLZB/DJri/HX7PvgX4jLIniLwf4U1ncCXa802KSTDZ5DbS3Y9+1fCXiX/gpj8SdbV1sbzSdL3fd+y2gdk/4E5INed+J/2wfiR4neVbjxjr3lMOUjvDBHnjkCMAdumf4jXN/aV9oP7j3sN4d42TtiK8IL1b/JH1p8aP+CT/AMA/GVhLLDYx+DLpfuXOn35RYv8AtjMxjP5V8161/wAE6fAvwb8S22o6b8avDMiWMgkMN9b/ALwhG5H+ju4/8dryO48d32syySXV9Jcyr1d5fMY/i24/pXE+NfF8v9owQ28m1dhZgCB971IJrz8VmFXl0gvxPr8o4NoQvRljZSi+iiv1ufth8Mv29/h7q0Ucek+OtNhMYSIrO7WvCr6MFr2bQvj1eaha/aLPVre+hVNxeMpKoHrlTX872j+NZbLgT/M3JZcg5r0H4SfGLVvDfiSGTTdSvrWSMZBt52XB9NoIBFTh+LsRSkoVofc2eVmv0fMorU5VsDimpdpxT/I/euH9rWxtD5dw1tM2cHyCzf8AoOa2NP8A2qdEvztaz1NT6m32j/x7FfkBbft0eObzS/s6+Jr7SZo/lF9a28Dyk+rCSNt/419UfDj9sXQPGWiW+3VfM1Dyo1mtZLV45JJAuCyBW2nkE4HrX1OD4io4h8qdn5n4ZxN4RZllUfaVKfPD+aGv4H3zYfHHw5dx7vthhw2CHjII/LNbWm+PNH1gf6NqVnL7ebtb9a+LNE+JF1qt60c2g6tbQImWuLhFRN3p5ZbOfaty211nBdWkjkzjlWAXr/gfyr244iSXN0PzCWVUtUp/gfZsVxHcRho3WRW6MpyDTg4J618fad481HSbhmtb64jaPkCOXA/IZ9a3tJ/aQ8SaX8r3iXC+k6bz+fFaLFR2e5jUyarFc0Xddz6kozXgOh/tdXyOqXunWsyt0MLFD+tdRYftWaJPKFurW+sznGSFfj14NarEQfU4Z4GtHdHq26jNcfpHxw8L62P3OsWYb0kzH/OumsNZtNUTda3NvcL6xSBx+laKS7mEqc1ui1RUav7j86cx56iqIFByKXqKQNk0E80uYBMMKDmnUUwGhKUpmloo1AhCDkHnd1GOtV9S0S21e3aO6tbe6jbqk0YdT+DDFXqKN9yoyad0eM/EX/gnz8FPiuZG174Y+D7ySYfNJHpqW8h/4HGFb9a8G+IH/BAf4BeKxK2l2fifwpJJ0Gm6qzxr/wAAmDivt+isamGpVP4kU/ketg+Is0wrvh8ROPpJn5Q/ET/g2l4lk8J/FKRm/wCWcOr6SpUf8DiZf/Qa+f8A4lf8G/nx88J7m0q38LeKIVGfMsdS+zyEem2ZRX7uMMEYqlqmrQaLp815dyR29vboZJZX4WNQMkk+wry62RYOab5bH2uX+LnE2Haj7X2n+JJ/lbU/mK/aA/Y++JX7MSQyePPBeveGba4k8mK5uY0a3lb+6siMyk+wOa8vhmj3p83Xpz1r9+Pin4V0P9q/xHfX3iTS7XVtMlKx2FrdRbvs8Y+6q9kyAWcjnLY7Yryz4m/8Eavgn4xQBPD82jT3C/LJp108LDpwFLMm3kcbe9fH4jKKftHLDPQ/e8o8TeTDwjmseWo9+VaH4wRyAncCv0zxSl23rn9K/Rv4v/8ABBTSNNuYz4V8aa1byTOVEepWazLz9z505+teP6//AMEPvjJY2c11ot/4W1y2hG5WS7NuzdR/y0X2P5VwSymqlZI+vwvHOVTh7T2iivPT8z5D3yK+P0rvPgZ5knivd5vllYG2qepbj/6/51u+N/2BvjV8OmnGoeAdUuIbUZd7HF1GR7bGNc14U1m/+DuoTJquheILfVGQFbc2rxMVOSCQwyQSuMjvXNRwlSnVXOtGepi86oV8JKOGmnc9t07wRHeakVulmn2tggttw3pXV+Hvh3o7XSx313cRtDnMKRBhIV9SzcdBXgtj8YPGmoXZGn6DJZfPkSzXJUqT0OF25xXR+AtZ8WjxJbz6l9ilsIJRIycq1wpb5sv8zCvqI2SsfmGKjiHflmfrz/wRo8HS6f4R8X61JbtHFdT29rCdhVHKB2Yg9/8AWDpX2443jnI+leO/sKfFS4+M/wCzVoOtXGk6foXDW0VpZMTDFHGQi7cgddvQZHvXsROWHvX2GBgoUIqPY/lnPq06+Pqyq73at6ElFFFdR5IUUUUAFFFFABRRRQAUUUUAFFFFABRRRQAUUUUAFFFFABRRRQAUUUUAFFFFABRRRQAUUUUAFFFFABRRRQAUUUUAFFFFABRRRQAUUUUAFFFFABRRRQAZozTT93pTc4/2aAJM0gcetRh8L1/E15X8Yf2uPCfwkDQyT/2pqijC2tqQWB9C/QH6ZNTKcY/Ea0KNStLlpq7PVnnWFcuyqByST0rx74xftkeF/hojW1nMus6ljEcNucxqfdxx/wB85r50+JH7Q/jH40mS3uJm0XSG4+y27bd6+h/ib/gWB/s1zWkeGrfT9zQxsZJDuaR23SN+J4FcNbF9IHs0stpUtcQ7vsjf+IHxp8Y/Gu7db66k03SWLBLOMbVP+8ufm+rZPtWPp/hmHTAuxQzKMlidzH86uw2v2f5tv61YyfUflXDKTludMsRJx5I6R7LRBHEsC5zUiHA+9+lNGHC8jPpUkUSyDdmp6WObljLVjo1Lr0xUjwM23pQG8takXEvTPyfrQtQ5gSDJx6fpUiQ8MPl+Xrz0qS306aRm2xtuZe/Sr0Gi3G0hVyzdOf51MiZRKKQcMaWCHaPX61s2XhuWSP5mVf1qxJ4ejt4W/eSfLRGVw5mjjPGviZPDmjzXDN5caDBOPvN6D3r508RajJr9/NcXDMzTPkf7I9BXrv7SPjDSrAQ6bEonu7c7yucKjHo59XGTXmHw0itr3Wvt2oNHHDHygYjnPTj2rsp3jG6M5Sd7m4vhhvB/gOa4lh/0y4gaSQP1Qe1eR6n4eiuJpCqlT6V7pquvabrVw1jJMWaZdo2DgL6V5Zr1gNPvGj+Vk343FSOaeHbfxGc218Jx03gvdHiOby2+XgoahXw7c220IA0foW5rpHt2c/N932PNNEAkZea7d9yY1pdWYRtLxVU/NH2Xk4FWbfxTqWmTOy3FwvOFBbgfnW4IPkVeT35HehrFVRsru+tZyowe6O6jmmJp/wAObXzKdt8VNRiOWkEjKvzeYqtn6cVrWXx+1DTm3faZF/3HkVvzDEVl3OgQyy58tVbb0FZ154WhkLHzJI29BzXK8DRWyPZw/E2Yxd/aX9dT0HT/ANrG+sz5ZvLg4XIYssik/wC6y5rf0/8AbLmjQec1vI33WLWpUA+vy14NqHg/y1O2b6Hacisy+8NzW8R2kHLcMDyfwrGpltO94nr4fjDFuX72MZeqPqix/bWsmnjWSGxYq2CBK8XH4itT/hp3QPEaPHdWkkkch2mNZYZl/H5sn8K+JL6yvrZ5OZtq/wBw/L+XWsS/vLy1JeZy23lNyB8H34rnqZXUatCR61HizDwd6lF37pn3jP41+G+pAi50y3hXOCsmlYB+pCtTdO8OfCS4iaOOy8N7Xzv32yoTnpnI4r4Eg+IWtaXfxxxXVwu1OqzNvLdOSeK98+FOq33iPwnHNqEOyRiURyNouI1/izXj5lRqYWCnNJn2fDebYbNZyo0ak4yWu/Q+n/Cnwd8AxXi3Gk6ToMkzAsDBEsnTrgZrovEnxP8ADfge3k/tLXtF0sW6bnE15FGyKOACpI6j0r4y/ak+NX/Ckfh6vhbS3lh8Y+NLTdLcwyvHNo+nbjhxjlXnw6/e4jUnuK+RLnSUTUJoZrhbzypMGWN2kSUjoyEjdtP97rXj4rPKOGSi46s+wwPB2IzJupUqNwTsm+vn6H6eeK/+Ci/wj8Llll8V21/IrYKWFvJcMPxCkV574h/4K5+B7KR49J0PxFq6quY/ljt1lPvuORX5+zNY6cpZvJgJb5TK4Bf86o6n8VtD0uJPM1vS4ZAcFPMx+teXUzzGVf4VNnv/APEP8nof71US9ZL9D7R8Q/8ABW3xZewSNo3gfR7WGPafMu7qZth+ihVP51594l/4KIfF3xGzbdY07Qo2Yr5dlaIrL/uklsfjXyhqv7UvhC3uN82smQ9cpCXLfXPFY15+134PhYrE99KF2nIhA3fSocs7rfDCSOqjh+DsH/Fr0387n0R4g+PfjrxYNuteN/EVyi8qiXDIrj3VW2/pXK3EsNzJvfzJmXgvNIX3D0IrxRP2z/CplbdbatJtOUwq8H39qWH9sfw7eXSr9k1aNeu/yo2LH6CueeU5y/ss9XD8U8J03yUq9NPysd58YPBR8f8Ahb7Pbssd9ZZmsm5wGJ5jHcK4AXJ6Hms34M/GG41zwebfVpnXVtPdraSJ0PmyKo2sT/tA/KfTrTr39oTw7pUtnBerr2lXlxGZpItQ09oA4J/dunPKHsRwa5O78S+HdX8X/a9P1K1aHVm8q5CuV+yyHdtkb1VydjHoM57nHtZJQxMk8Ni6b9T5LibNsDQrRzbKMQr2tNJ7ryPSL34gWlorI0j5+7tCHOfWst/ibb2syr+82s3J6815R4u+Luh+B9fey1NbpJFiBjZIw24Hr+K9/SsC5/an0mCVja6VeTFmwHcLHgfQd69+GWSStCK+48Gpx5Rb9+p+J7td+PLmUMLfZ83A/ix+VUX8Q32qwyeduWKJuv3d1ePxftGX+uXKfY9Pht1YdJP511GmjxfrMMbC9gtlKkhlx1JxyFz34rOeDlHc7sHxXSqq0Hc66B5JpVVWynXO7GPrWF4x12G11Hy/OjH7tfmzVc/C/WNVkZbzWMq20EQjccfjXG+J9Hs9A1mS1e4klW1O0tkgthfeuOphZNWbPWo59OMrw1OntvFMN0yrHIrd813nw11Jn1E5bcyrn5jzXhegaksD7f4fWvXPhTdNOJG5Hyr81ebUwrjUufYZbnUquHbb1PW9P1lllyFCgnJVTyK6PS/Estpt2leDuU4BZfoSa4GxlELbR8yleTnpWpbXavGuP3f4c0q2HjLVrU7KWZSvaT0PePCX7Tvi3RtFbT7XXtUt7dg2Nk+Joj6q3P61w/iaXxt8QPEDyXHxI8XatY3BxLa3mpSQNGnHyq0RUMvHfaeT96uVtr944d2W/edcf0q1Y+IWwNzM3Odp9PTNa4fGYvDP91JtdnqeLm3COQZ0n9ZoqM/5oqz/AAO9/ZG/Z98VfF7VfEFnH4p13w7Jo6208kzT3MsjPIzr+7+dRkKhOemSvrX0fH8HfG/ws09po/jhqKRwjIj1yKB4ce7OS1fK+hfEO60aCe3ju7mK3uBslSOTaJE+bsOMjdxzXn3xD+BVj8QZWurHWb+xvgWby7yR7uBvvcKWYMg+hx/s17uH4jpbYiNmflOdeDua0r/2RWjUpfy2sz7K8Zft3X3wluGbWvF3wn1ONeFjj1iTfL/wCON2FS6T/wAFb/h8bu1tdRmm86ZkVpNPikkt8scZy6KzLnjI4r81NY/Zy8ZadqG2PSo7vcA/mW8sflHPXqVx/wADxXMWuow23jey0eabbNHcRW0yk7jG4baf9kYb3r16OLpVV+7d2fmGZcO4jBz9njYuL9D9svCv7YHw58X3CrY+L9G81jtEU0ojyfT5wK9D0Txv9rUTaXfxzRuN3mWswkXHr8pNfjRrPhjUtD0pWf7Pd2HmE+cQJM7f4jg5Uc9az/D/AI/1jwfMj6Ze6tpe07o3tLp4WVs4yACQRnjFdCqWex5jyPni3Tnf10P3S0T4+eKNEcLDrFy0cf8ABIRIv/j3Ndhov7X2vWiL9pj0+9THVkKf+g1+IPgj/goT8SfAtvJN/wAJtBeLbhXji1SNLjf823BdTu34r0Pw3/wWm1bQ7l4/EHh+zvm+4z2LvC7n15OBXTGo3szx8TlMou1SKZ+0ui/tm2NwifbdKuISxxmKQMM/jius0X9pfwnq23zL9rRm7TxlcfiMivgH4EfHqH44fDXSfFVnbTR22rRORbSlfOgKP5ZVmU4PzLnI9a7lPFdtDIVZvLYJk5PAFaKrVj1R5ksDRk7JNH3fpHjrR9dX/RNTsZj02pKu78s1rhgR1FfAlv4ltDAWW+gVYxgFpCFz6kkiug0D4natYwQzadrV15OWWN7e5Lx5U4YZGQ2DwfSn9ct8SF/Ybkv3ckz7c3Ubq+WNI/ae8Waa22W6huv9maFf5rtrqdK/bEuIz/p2kwuB/FDKUP5HdWsMVCRx1MpxEN0e/ZoJxXleg/tX+G9SVRcLe2Lf3ZIQ4/Nc11ehfGLwz4hT/Rdb09uxR5PKZfqGwa1VWL6nHPD1I7o6ndRUNvdxXK7o5YpF9VYGpC2f4hV8yMbPqI77T1+lfOP7aPxWmunXwfpMh8zatxqjoM7FzmOA+hb75/2VHZq9g+MnxPtPhJ4FutXuP3sg/c2tuPvXM78LGPqeSeyqx6A18UWniFm1G7v9Sk+1XWszSyXc4UrmXIznPYnIAHRQK8jOMZ7Kn7OO7P0LgHh+WKxDx9SN6dN6J9Zb/h+Z03gbVZLK4i+0edGu0QPt/iU98dup59jXeP8AECO+0yOe7nhXl0heMeZI/IAz6ZK4968nh8ReXcx7ZpOCwbyhhmA24AJ46H881qGJp7lLizum37NhRmCiJwNoyRwfX618rTruEXY/Uswy2NWp7Sasz1a/1e80yC1uJ7STyUICsUB47ZPoPTrW5d+MtL07w7HcJLGXY5KphY1DkAjPbkkjHXNeH6fPeHU1jme4k2wsrEyFldm5Y7W6e1SX2up4Xl8y8aOaaJQ2xH3FccjA7YyOtdkMVZaniVOHFUcYuWq6LqSfG/4x2ngbwzqF1m0s7W1TzppBET5pHfluAew71+WPxl8cXHxP8dahrV9GPMuJCsaBBiNAW2gfRefrX0R+3Z8fJvE+p/8ACN28gWGJ1nu9jn53KkiNvcZ3emCp7ivle9jdw21irZZua5faSnJX6H6Ll2AjgcLyJWm9yqqiJ1LDp1zziug0dWlfbsBYjaBnGKxo1w21j/q+nH3q6fwXbi41q2X/AKaorZ77m5rTn7GNXmUJSP3H/YL8N/8ACJ/sk+CbUxrHIbATOB3LsXz+OQa9gYY7VyvwR0RfDfwj8MWAUp9j0q1iwRjkRLXW19tRjanFeR/KOOqe0xE592394UUUVscoUUUUAFFFFABRRRQAUUUUAFFFFABRRRQAUUUUAFFFFABRRRQAUUUUAFFFFABRRRQAUUUUAFFFFABRRRQAUUUUAFFFFAAGyKQsBTCccfpQx4yTtoAkopoP0oPvRrcB2aC2KYASKRzgcbffNHWwX0uSZo3Co9wJrgfit+0h4U+D0LLqeoRyXwHy2VufMmP1A4X8cVMpJbmlOlOpLkgrs79pQq5JX615t8Xf2oPCvwgjkivLxbzUFHFjbEPLn/ax8q/iRXzf8U/2tvF/xY32umj/AIRzScn/AFTn7RKPQt1/75C15/pPhq2tJhIy+fcZ3GWf52H0yfl/DNclbFK1oHqU8thBXxD17L/M7j4o/tMeMvjK8lvA8nh/R2P+pgJWaZfRj3/HA/2a43TPCUdmWk2eZOx5kkbnPr3rSjdUH8S/iKkhka8fCKzfUYrz5VJS+I7vbNR5ILlXkMWwVHzu/Sp1GHwG4+lWLfRZpFXgIT156VcXQo0b52O71HSs+ZWsY6XuZSN5Y+98vvVmK2km+6p/AVqWulxL/wAswPrV6DCBdoalzIDHtvDs7thvLQfTmtC08MqrZk3sfZuK0EkXdnvUttMucHpUakwi3sRRaFboy/u/rnmrUdisY4Xb9OKr32u2emo3nTwxj0z81Zd38U7G3/1bNN/sgbR+dJSsbxo1JbI6aOMD5Rx74qaLap4+b/e5rkIfitbyD57eSP8A3WzUkvxXtZY/+PeRf95qrmTL+p1b6o7NXUHhazvEFxs06SFJFW4kGVPXaPeuE1X4pXl2m23KxBuQcVjxaldSF5DO/mTIyl92c/L3Hf8ACiNr2NPqMuRyl0PC/iJqDX/i29cSM+ZOCxz16flWPaySRyblJZfTPFbHinw/JpWvS2spVpofkcKMAn1zV6DwLeJAsjRfe6gHpXraKNzyfZybM19SYSLu3bl7A4/WkvLv7U0aSrujjDYX+8fXNaV1oMsW1fssyr/exVW601VK5GD6ZojFEyTRlPZpuYZby16epoS2UtlR8tWntW37drflU0VniOtjmepSSLccnp60Pa5ZW+Xaeox0rRMYWFs4A9cVVujGu7azeZ0wRQXTiyCeHy2bCjnoSetZl7tU4w2fXFWryVgOG2sV47gVm3lxswqj73Qk9aHqdcXYqX8v7tqyr26xEWH8PTNWLy9UDHXHT3+tZF5ceTA3y4+b61PKdENHcgup2lLNxtHynjrWPfKk0bFlZl649zUst210GVdp9NozVmz0cCwkuJlbZGNx98Lx+dTy2TfY6d/huZ/hL4fx+MvGkNq8bNBFia5ZBt+zx9fzJ4+te6ap4i0f4V+CNR8S6rFH/Ynh+FCtojBGv5s7bazjB/idwct/CiOx4BIrfCP4azWmn29rDZ+ZqusSoJYl4IZsCKHP0Iz7ufSvnz9tH4yQeP8AxzH4b0m4W58M+D5XjSRTuj1XUCCtxd4/u/8ALJAc4RSR/rDX53xFmalLmfwrRep/QnAfDcqdOGHt+9nrJr7Mf83svM8x8efELWPiJ4v1TxFrky3Gr61M8906AhYyQAIkB+7EgARF6hVXPOa8D/aB/aJbwsW0rR5g10SVaX+5/e/LtW/+0V8YF+HXh6S1t5VOpTAIOR5is3rXyhd30mq6hJdTO0jszZyc5qeGeH3ip/XcUtOi7nf4lceQyqh/Y+VNKo1aTX2V2XmWtW8fapq00klxdTO0m0lnPBP0zxWfNd3FyVdmZgzbstk1ag0xrofLt2+pq2NIGxcurn+9j+lfo0KNKG0Uj+bK2MxmI/iTk/VsxjE1yd3Ix2BzR5bNGoB+Ze9a39lvv2x7Seyr8oP1NVGHlfwsP+BCuyMu559Tn6lWW1ZB8rcr1PrSwrJC/wAsjbs7l4q2EIh7GmJGvln5vmSh2Zj7RrXqfSP7K/xr8PfFOHT/AIZ/GbUrr/hEZi1vpOvEB77w1O7fI6yMC32Xew3w8oFLEBQtZ37SXwR8QfsvfEObw3r32e7vNLQPDd2kiyWesWThTHPG3Taw64Jwa8Ds5lhZC22Nmb/vn6V9jfs22Uf7dHwH1DwBfXHm/EjwHZyXnhMzNubWLFAWlsG7ZXHBznayj7sbEebiKKpvmfws7KeKlUjyvc8O1e10nxu8PmS7YQzCCaVdzRA8EFenFXvF+jRSNp8Mmi6XoK6TZbFKCKH7VGZN4lfnnBYjI7H2+XEuvDl54O8U6h4b1KOa3mWcxxFhtaKZfl2kHpzuVh2yCayvEsQBhVozHNv2TF2X5Tu68jr+laRStdFfWVF66mjfXOltNM0mqWeI5WaQwsX+bGcnavIxzgVXX4iJ4Tn/ANAv9RMyq+JIowF2k7iuTzz644rp/hb+xz46+L+vXunaLozgaPZSaje3JBmisbVCm6RxGC+WeSNFQDJeRMdK5C5+GV7b+Im8P3dvbx600vkSWrTxl95OCpbOxWB4wTnNL2MZfEdWHzrEUf4L5Ts/DXxyvF8N3141xNJHCirCtygnRpmQ7Ub5cqxVWIJ4JB9K4zUtb1Pxxqc115Npbx30gdjJMFjKleSc9B71V1FbTwd4O17StSstQ/tK78k6fL8sS27pKTIkqHna0eQO4YIemak8EeJ4V8D/ACW9vcXtvdYCsq75FZW5DdTjJyMccVhVwdJ7I9XA8WY2E/fmWNLjbTbpo3kjVlbyyQ4ZT7ivaPg5qlvDb3S3EkStlGG9woPtz3rw1vFX2V2hWGFpCcInmEmJuuPc4rLPi3VtPvBLNIVhkIZhGoXzNvA+lefiMnhUfMj7HKfEiWEThPU+0LR4bkLIrLMsnHyHOe9aH22NDknaPlPIxXzT4T/aDuZNW0SzMUVkYbE2Msq5zekytIsjr2kXcyZHVMDrXczeKbi8i3NcSOvT5j2r5jMofVpqEj9s4SzannGEeJpvSOjXW566mqROFXMbYbIff1/Cmy+ILW1jzLcABvQ8/hXjy6yTKrE7dvIGTircepbouwX1Y/yrzJYrsfdYPCxcrp6Hp8nxCtFZWjbzG9COKafik1tJ+7RV/wB/mvN1viy7j0HcU9r/AAuFPPqa8ytiZT3PrMJ7Ok097HpUPxavDMPm2jHzKpxkelYPifwF4P8AiBJ515p7aXeEkm505xCZOc4aLb5ZO7nIFcybpnizjCjqQau6VqaQROXdv4dvfFcUZ4ijLmoSaZ3YzD5dmVNUMdRjJemv3lzxdpfifw/beHZPCs0MMPh+zaJnsZJRNdP5zSedJBIWTdtbbtTCcDisO509vFd1Bf61crFeXW6SXz5DtDbmOdpxg54x61v2viKSPafMKGM8/N1Hoah8b3mn694cujf28crwwN5cynbJEcdeOvzc19Bl3FWKdRYfFRvfqfk/FHgvlUaE8fldVw5U24yu1ZeZN4B8LeFW1yNW1mSWPzREy6dYqvzdQpk54ySMrmvK/jbdWtj8XtWisWZbaK6IjUE/usBQV9yPSuh+FVj9p0C7u1uI7Zo8yIsinEm3kbSv3Tn1ry3VvEK61rF9MkG6Oa4Ll2Ql8luT+Nfd0q19Xoj+a62E5ZcsLyfkme5+Av2iPFHg/wAB6Vpui+L9Vt7OxRvMtEn8lIGkdiUTPLDGeR3f2rsvDn7QHxK8VQ+VY6z4kupZz8kou3ZY/wDayx5+leAeDtH8SqzXFh4fkvJcKFlng+VD6gN1r0/wd4X8fTOJLqeHT4pAy5dlUofTCL7j8q5cVmWHpK7mj1Mv4RzHFu9LDyfyJPj34l8WabqOnRa5rWp3U19C+5GvWZchuRwR0r9FP+CJE8mo/s7+KJLqSZ4l15IoULZUFYQWAGSADvDHnrXwT8QPg7eeOdT059Q1SPbp9qIG8mMMDJu+dst65H5V9Bfsz+P/AAT+z58GrjRrrVPFUl9eajLcyRWGp/Z4jlY0TJHBOFGcCvKrcS4KS5Iyuz7LA+FGeNKc8O4p+S/r7z9NtX1nRtFjMl9qFharH1M9ykefzIrjdU+PPg+0kC2upSanK38NhbzXLfmgIr5b+Dn7SHhPxBrUkFv8O9a1RZJN32mOy/tGSTjHzk5AHavqbwT4ms7zTo7ldNutKjZc+TPbfZiuevBOK2w+Z+1+FmGa8FSwE+TEwv8Ad+jZz958WdY1WIf2F4H168B+5NePHYw/juy9ZN5B8YNf+W3Twj4bj6fvWl1B0H0AVCfwr1Cx8SafeTDy5lkkQZbDBmX64rShlt5x8skf4tXfTxXmj57EZDh4/wDLu3yPIvCvw6+JWkaza3uofFPxBuhk3mCwgjtYGPuADxXs/gX9oDxh8O0m+065qGv+Yv8AzFCknlkfxrtVcfQ1XaONRu3Lt68iuF+MvimHRbOOxt223V/8pYc7EHX866Z472ceZnm0eD6eMrxpJJ330Lnxf+OeqftA6zp/9oSxw6fpO5oYospG8pI/eMD94gfKAO2T3rm4tUAikdpTMrHYrMQOR1H4+tcxBfNZo0UchKquULkfL/jWda6jNp8EkQkXc+3OBwzFucemK+Vr46VSbnJ3bP17L+H6OEoRw+HSUY9PN7v5s7CLUGlleRgZIQ7SMG+ZUPrg8/hWhp+rk6av2ZIYBG24lpG2nc3L/VN3A74rh5JZdOiaOQ+cu7IG/KMD1BA5rW0uRHuG23RBB3+U/wAqkMc5X/ZHPPsKyjVbdzXEYGLWp2x1GN9JjkkuhLN5wVjuZd0wTt/s8nnp0rz34z/FOLwl4UvNT+1y744yqRJy0kg+Uf8AAhkFuwA5rfl8dQ2+gcMn2iVW89cZdB1wPxA59K+Ov2kvi/D4q8Rrp9s6/ZbVyVVAp3v/ABOeP0rodS9ooyy7L3HmrSW3kcH4n1mbXdTuLmYs8lxI0jbmyTnOefwUD2Fc4ZGf5vmq/LPvO4LtU/KDtOBVNmWMt6elbxkoqxnWqOc231CENI25gQp7kcmvRvgXoS+IPiTodn5fmLPexqB6/MvWuAsrtDt+8rL8444I9K9+/YP8Mp4m/al8E2bKDG+p27uPUK4JH44P5VtRfNJJHj51VdLCVKj0sm/uP3B0+0WzsYYUXCxoqKMdABirXekT7o+lLX362R/Jb1dwooopgFFFFABRRRQAUUUUAFFFFABRRRQAUUUUAFFFFABRRRQAUUUUAFFFFABRRRQAUUUUAFFFFABRRRQAUUUUAFFFFABmmyShI2b+6CaCN1c78U/Ef/CIfDbxFq3T+zdOubok8Y2RM3P5VMpWTbNKcHOaiurS+9n5laz/AMF6PE3hT4l69ZXGh6PqWi29/cR2bQhoZVhWRhHuO7DZHXFd94c/4K2fEjxpDayWfwx0tvti70La9GNq/wC0O3+71r8gLvxE+o6mZptqyXJ3nuMlua7zw38XtR8MiLyZZUWHbtjU/ux+ua/L8Zn2NpVb8zsf3Rk/hPw1jMHFxw8VUS3fNr+KP2E0H9vX4lXMUbX3gvwjp6t2k1t3I/75Q1vWf/BRy40pR/bDeD7RicAJqTuSfT5gK/Grxj+0N4j8ZX893falcvJINpVJmSFE/uhBxt/WtHwB8NvFXxQmjaOO4s9PcfNe3e5IWH+yo5c+y8f7VXheJcwxE3Tw9NvzexhmPgrwvgqLxGa1YU0lra/3K71P171X/grt4L0ZQs15pO7OMJM0gz9RXT+Bv+CmvhHxlZSXD6TriQqpImSHiQ/3VDbWI9wK/Nf4bfAzRfh1cQz30cusXjKrPPcBWCL6pH91T/vbq9kh8YWoso1sbVY9q8yvIWdvqBwK+twUsyS5sRJfI/AOKcNwZTl9WyWnOcv527J+iPpD4nftm+LPiPLNZ6GI/Delt92XcWupv0+X/wAdryyLQUjuGuJFkuLh23tLKPMYn15/lXPfD7xXGmqML3b5ZTcMc4rsLz4kWdsuIA8n0XFdFSo27XPiXTlTXs6StH+t2T2dhMgUGNlI6gnGKu2ujSH5i+3/AHRiuPvvibeSRjy4o4d3fOay5PFl83LXUx+h4rFhHASevU9Ptba2tDltuP8AbbFLJ4p0+xXb9ogDezCvJLnU5pTmSaRv9piT+lNS4YSfPk/7pxQarLX1Z6nN8TtNtW+Rmk/3FxVG7+LcbbvKt3Zv75bH6V520uB3X61JG/GNw/OpULnTHA0Ud1/wtSV2XdDHuXqwPX8Kjf4nXkp/drHGn05riwWJ4RmPXJ4ok1GAhQbq1yOoEq/40uVFLD0I9DrH+Imozc/aWHO3gVTufFmoXrsHuJG+ny1ycvjLSbBNzahbsd23ajFj9aQfELRsfLJOX9ohitfZl2pR2R08mo+c2WdmPuSaIZPNTKnPOOK5eb4o6Wm1o4btl99oNQXXxghjkbyLFvTdM+efXArP2LH9YUVodvbzs5ZBuY+g5qpqnie10gbbiZI2HVD8zflXmet/EjUtZz++NvC38EJCj/GsMSs7nf8AOzdxjNdFOgupz1MU9key+GPifoct8qy+c27gSMMYre1Txb4f0XMrX6TK3KrHEWZvqB0rwq2byoj13L6VOBO83zO2PzrWOF1ucOIxTUXqaWua1F4h8Wzag6sI5ZN+3Pb0rpB49BVfLt2Py/KN3T61xslvt2kYY/pWhZwyIN3zn8a6+XSx40MQ4qx0x8WzSuyvFGqt0IcnFYupSfbXxgMfUCnQu8i/NHjtzSlGJ3YxUqnYdSqpDLaGKK2UvG7N9ajkgji3BFCr9eakkXC9Pm+vFQ3U/lfd4+gzWhyJ3Kd7MIkVT/KsXU51G4c49a1NRbB4/WsK/l/e/wBKDrg7Fa6n57fnWVf3qoT90kfd+bpSajKZ23c4XoSc5/Ksu8uOeG2r61PKzZQuV9Sunz2b1NZzmW8YKCWLdhVn7O17Lsj/AIuD9K2NN0YadCed/wB3c2OlWaJWM/TfD6w7ZnyD6ZFdP4B8MN4n1xb9l3afpRLEY+W4uMAqvusakP7k4rGmhuNUvo7KxVZJrqRUVM8NnkknsBXq+mafpfw18D3F1fXEtvoPh+2a61C5GN5APzFR3kkk2oi9QxUfdU14edYz2dL2cd3q/Q+64Jyd4nE/WaivCH4t7JHLftD/ABkk+B/wguPst09v4w8ZQS2enOHPm6VZfNHdXo9JJMmCM9iZGH3Tj4H+JXjSz+H/AIVkuZ28uOJVSCNegA44U8ZA6En5jXoXx6+M918UvHGo+Jtaxb+dtRIY+Y7G1jUiG2jHQrGh28cliWP3mx8W/Hz4pXHxF8Szwwt/xLYG8uNVOd2Oh/Q8+9fAZfgZZli9P4cfz7n7/nmaw4ZyidaVvrNXp1Xa3lH89TifHPi+78d69PfTsMzH92AgX5B0Xjv71Hpmm7o2yyn8Kkt9NjkhhEcUisq7JXLf6w+uO1aJ229uqLu3/dByOV9T71+q0kqUFThstj+V63tcXXliMQ7zlrfzG+R5dqqr90EKSo9elMis5rsSeTFI3lIXk8tS2xB1Y46AetWdNFrc38P2ppktVJWV4lVpQp+8V3dCO2afplrca5rjafo6Xl814xit4kQedcRnLAFR8udqEkfdwCc0/U35VHYz5kXO7vt7HFVvKhnHz/3u1W9W0i40jUZLe5RFkxkbJEkVx/slCUP4GqcsqxfN5fzfpWi0OetBNXK8kPlt+7bj0xUbw4DMP4evvU0z7RjaM9M5qEbtw2/K3cdc1tGR5NSkV8bXyejf54rqvhR8StU+E/jvS/EGh3kmm6to86XFrOhIdGUjJB6EfeBU9Qa5t0XK/MN3fngfSmxfNIuF/I05xU4uMtmcesXdH3t+3f8ACbS/2mfgH4e/aT8FWkP2PXZE0zxjYQQNnQtYCgeY235Y4LkbcFiNz+WDya+S7u9/4SnRWvCrfaoP3V6uMb4/uq/uR90kdMZ719C/8En/ANq7Rvg/8StY+HvxDhe++Efxasf+Ec8T2TSFFt0kIEd4nZZLckkN82B93GKwP27/ANjvxB/wT7/ab1jwhqrrqOmq4u9P1Aovk67pUu77PcqPVkRo5MZCyRPt+XaT4uFlKnOVCfTbzR21UpWmtjjbL9ufxx8LfgV4r8B6NeQ2cPjZ7GLVdSUM2pTW9qzyCFXJ+VJGK7+58qPDLg7vHba+t4L7m6t9si4kEYYrgnBHK9f4uuc1q+O/CKiNWtmaa0uEMtpI33igOCp/2geCPWucPhtZLGCRZmkuXkKrEYyvyjlSrdARjnPTb716SOaXuljxHrkmt6bH9oZp5ohsiYnLhfQ+p96u/BvxFa6J4imt77TRqK6pbtbRK0pj+zyblKyBl+YlQm3GOVZh1K7Y/Fmh2dhGfs80zR/8sxLsbP4iuS+1PY3AZZGQg/Ky/eU+tWo3Jiz7X+P/AOz78J/hJ+yX4M1rUdbfUPih48a61W30ixcSHS7OKZLeOK4cMqxb8zy/MrsxihRUA3sPAvB/iDRzYXtveW1iLi4aNbaeW2SRN44ZHyPlUjudwz/DXEweILq5mSeSR53WPYBIQ21efl5PTknjuap6prtxcMzSMobbjag77un8+az9muh3UanI7ol8S6jJpviabbw0M3ylPlxluMfSvR9D+JH2qxjd/wDWbfvD+L8K8n1u9bVlEzqFkXhjn7x9adpniiTSrEQxwru/hY84rz8Zl1PEpKW59VwxxhVyepJxekt0u/c9r0/xis1wijPPAB713vg6z0vXAq/21ZrcSdIgNrD8TxXy3P441KSYssyxq3cIuRRp+vXEk6/aJrmT72B5rLn8RXjYrheNSFlKx+l5R4yzo1l7SjzLzbPt/R/hZaXLqzPJMzd1H3/oK27bwDZ2aj/iXruI2uJAQVPpXgnwW+LU15pMNu08ontwVILHlR0OfWva9O+M168n2q6m+23Mg2u86iUlfQ7sgn3FfkWdYTG4WtKk+m1j+yOFc4yvMcLDE4dL3lrd7PsdNa+HoFk2R28IVyRjbnJrq/A37KmofFaT/QtDkMMwDLMAYY8HoQSMVz3hP416Lb3SteeHbWRGIy9pcyWrEHqTg4B/4DXuWof8FDDaaRHaaXoenQrHGEMlwzzTHHrgKD+FcOV06N3PFVWvLU9PPMVmDiqWWYdScvtNqy+53MW8/wCCWGtXFn5kepW2ipE2fMupftCfgFVcfjXD+Jf+CbXiZreVbDWvCniiwKbZUsr/AMi4568OMf8Aj1b2vf8ABQDxrqkPkprS2MXdLe3WPP4ndXm/iL9oHXteuZGudY1G4Z+0ty7A/qK9ypmWCp29lF3XU+Zw3DfEFZN42vTjF3TildNPy0/Mydd+DelfC+/+wappM9tdxoVaJ5i27PQ53MKdodtb6KVk0vQ1gZ4/LV4oBEpX0+UDn3qGO/j8T2kyXt09rHETLHiPKlyvOerZb16Co7DxNc2zbEkddrYUA5Ary8VmmJqyUuaVj6jK+D8porlhRjzLd20NpLXX2YrHZJC27cHZQGX/AGvT8KkbwvqboftepQwY+Z8ON31Aqt9n1zVZNqWuoN5mF/1Tc/pXpnwj8J6PbSQx+JvDul3kishBvPEEsLNuOf8AUQg7j3wayoQqVnyyvbu9j0MbVo5fQ9tBJ/3Y8qf42OFGj6LYSpJqGsXM/QlI8gn8WbFex/CL4s2ehaRb2fgf4T2mu3cabf7RmsGu5pm/vbwgHcfLuxxXpHh7xl4A8N30cNjpPg/RpdpBaPw7cXUwHf8AeSoPx457V6x4J+IfhXX5Y7aT4gSeZgMLO2eO1Bz0yETeM/71fT5flipy/ipPyS/U/K+IuLJVqa58FOUel5S+9qCs18zyePU/2gvGdoVttKt/C9u+QGn8m1SPv1yznn2qnN+zl428R3f/ABVnxY02EMWJhtbiS7mx6YXatfV+i/Drw3dBZvs8epNjO+6medsfRyRXTaZ4dstNKi1trWDviKIRj/x3Br6KOS02r1pOXq/8rH5nW4/q0W44WjCl5qCv98uZnyV4E/Yw8O6dfi4h1L4i61cZwzQRf2dGx/3iEbH/AAKvdfBvhHxD4Y0pLbS9Jjt4o1VUfWdXlvJSPU7Q5z/wKvUDY7ht+Vv9oAfyOKfLbYPX+HBr0KODpU/gsj5XMuKMXjn+/fN6/wDAsvwPM/EXwq8Z+J9NlWHxlHosrcI9hYfzEjtn8Nted+I/BF58M9Rhj1jVrzWLiZN3224+8/zfdOOMew4r6Q2iJly+FXpmuG+OvhBfFnhibyVVri3/AHsRHJyOo/GoxmFjOk7dO7NMlzypHExo1bckt7JJr52uePW+q280TbrhCrZwQ54b/CkW9t205JCq5hUsNnUmuButfhsGKzXCxeX97c4UL9awNW+Mei6VL+71Xz2XG4QkyMfxHFfLRxkFufrlPIpyfuXPXAftIj3OxDbsn+L7vr07j8qvSzKYCyws27+LOdzevHQe1eE6h+1PDp52W9rd/KMhpgqJ+ROaufDT9qWPxr4kuobgWNvbw2zTtItyXYhOpfPAFa08bTukTX4axig6vL7q+83P2q/jjD8KPAt5Ism7VNVQQ2cW4BFXqzeuwDg+lfFvgnULnxJ4jvNQuWDeWoXAJIBLcn9D+dXf2k/jNN8aPiLNdLxZ22Le0j/h2Dofx71Rurr/AIQPwoIVIa6mbe/GDu/wrto1LzU3sefjaKoYdYdfFLfyN/UPEYtLkhpDz0UMOa5HXvHLPMwhIbb17ZrlbjxLNdGUMxJbvnkVXR1PzN0/iyDW8q6ex5NPLoxd3qd/4S8XXU2o7TtYsMqD0r7d/wCCSOmDxL+2L4bJjb/RRNccNx8kTEV8E+C9XhtbxDMoZVPVeuPSv0Y/4IQWUfiP9qfVL0fMum6NJKhxtILME6H616GW3liIJbHxfHkfZZPXqW2i/wAT9gh0ooByKK/RT+RQooooAKKKKACiiigAooooAKKKKACiiigAooooAKKKKACiiigAooooAKKKKACiiigAzSFwKTP+1TX+Y9fyoWoMkoJxVe4vobGEyTTRxxr1ZmwBXK678cPCPh4lbzxFpcG3qPPBx+RqJVIR+Jo6KOFr1tKUHL0Tf5HZZozXmGtfte/Dvw/ErXfia1jRjgMUcg/jtq7oP7TfgjxOAbTXEYHkNJBLGp/FlFR9YpfzL7zqeT49LmdGdv8AC/8AI9B3il3Vw+p/tAeFdJiy+pxye0UbP+oFc3qX7W2h2wb7Pa31zt6HAQH8zUyxVFbyNKORZjW/h0ZfNW/M9cBzSF1HcV4DqH7Yd1I22z0eGP8A2pZWf9Biud1T9prxNfZ8u5S2U9FiiHH4muWeaUIns0OB81qfFFR9X/lc+nfMC/xLjHHNeLf8FA/Es2h/safEg6fm41G40C7t7eCNv3kjvGU+UdSQCTx2BrynV/izr2qO32jVb47uMLIy7fyNct4xtpvGeiXNnNcTMt1A8LMx3HDAjPXH8VcOLziLg404vU+jyfgGpTxNKtiai5VJN2V9nex+LLfDLXL5932XyUjbG6UqBj1zWvp3w41CRgkt1bq7tt2qWJz6fWvr/wAV/wDBP3xhYXbf2ddadqcLZYyBxCST03A9WHqOK29G/wCCeWoX2nwTXd5a291Gm4xqWmRcc5B7mvzCrHMq1a0oaH9vYfOuGsNhueGIvK3n+W5558PP2QNF+FuteTrvk3etWsoE018yw2tqxbggMQmD/eYsfavXI9d8O+F4tscy302GTzIQJoQvojfdI9xXy/4w1EeMFWPXbOy8RQWODZJqUf2qO0Ud0VmOCe+Sc9q6v4a2CS6MywyaZoNrb4WG0ggWFbl3JVQoLKE+YAcE8sB3FfpmBq4elBU4x5Uj+NeLFm2PxlStiqzqWd4pvReiPT9f8WDVDtVVjjz90H+H61j23iJ9NnElvK0ciDA+bG78DU+keB5NRlX7TeW8KYK7m3bsjqEH8WP9qpG8CQ2UjS31ysMHueZT0r2YqD+E/M6tOrTldnV+AviRDrDNF5MkMu7qo3JIfUnt9K606/bpMY3uLdGXqDIARXieveNLXTcx6eyP5Y5kRdqE+ufvVhr43u0uYmkkDIOsZQbT9e9Zyw13c7qebez92ep9DQa1Z3DnbdW77Tj/AFgx1x6+vFSnUIQrGS4gBHX5xgV4fJ480SfSbDy21GHUGST7WZVDW5OfkMePnXK8tnqW46VteGb+zvZt0kiMudhcv0+tZSw7R1f2jG97nrVjqEOot5cLK7D7yxjhfqa049LaQ/Lvf/dXNc14e+IXhX4cWbNcS/bLpRuW3txukmY9Cx7Aetea+Nf2r/F+r6u8mk6hHoNlCdsdtbRoVUf7WVyze44/2ayWHkzPEZklsz2jxBZXVpZf6LDtufSUYrzPxB4816CZoZpprbnbtVfK/UVzP/DXXjaWy2XF1p9983BubGNm/NQp/wDHqv2P7Sj6jGItW0LTZrdm+YIW5+mdxqvYtBRzKFtSK68R3l3K3mTyzbuFBYtx+NVY9Udt3zfxcHnmrX/CfeB9UeRprXWtNbPSELPHu9ADzipLTStI1po10vxBpsss33Ybom3fb6fNgZ/4FWnsvI6PrEXsyvBeFpvm3e/NW45/LiY/xfXip7n4f61ZQiZtNmeIDJmhAmjP/AlyKhFgyyncrRkL0Io5TP2jZcs/3cfmElvr0qwqMUDMyrk45Net/sk/Czwj8SX1hPEMzXWqWqK2naablbU37/3FkYgBvbrW/B8V/D/ha4vdN1L4W6HZ+W/lS28jypcQ/wCyz53fiAtPlRhKpK54KYGaYL8y/wB3J6+tWLOw2oDnheSx6CvZJvE3wvu5GkfwLqFizpgi31x3VyOhAdGI9vm470zSPif4X8JySf2N4L0tnXcI7jWJJNQnz/fIZhH+G2r5ieWTdzzC006SV/u5UNwccfjViSxkEisS232NazXDTSMx8v6DgVIkG51XFVFswxFO6sUYLBpEXhvzq5DaFY1X+H1q0LEll3f4VaWz3Bcfw9K0PIkrFUQbQuV/MUSRgL05q86qqZNU735Xz29aCbsozFoDtBz/ALorPvyzKuMVeuEYv9entVO/IjT5vlXrz1oNYQXUwbtpZIf3jKzL1cHGfwrGvzhWHP8Au/8A162dUuljlZcru9M1jzXCtuUD5W+7lhmg6k4ow767/efe/i+8eP0qnDpcupyqV+6W+d/8K2I9FkvpVd1kjT17VpTQQ2SN5QHzdMdBVaHVTtLYxI7GDTk+UsPl6gZNUtW1dgrJE+M9cdqdquqXF0rRxruDfdUH+tL4V8DTeMfENrYbGVbht9y4P+rgzh+exzwPeuetWjThzvY9DB4GpiKkaUN2/wADqfgn4beFJNYuI5JJrratgm05bn5nA7lvuqB1PArz39uL4tyLrA8CafcQ/YtJm8zWJImytzfjMYiJH/LO3Hye8rOx+4K9g+MvxRtvgL8M21eB47fU7pn07w3blAy/aEQCW6x/zzt02gP/AM9igGSpFfnR+0D8Wx8P/DEjLslvNQby1Ejks52gsTnksSWBPqc1+c5tiKuKrrD0/jlr6RP6X4XwOFyzBvF1reyoq9/5p+Xe23r6HmP7T/xiN8zaDplxh9zfaZYj91N2Ovrjd+Z9RXikK+TH83zZ6kdquIzaxfz3t0zT3Nw2+R+nmn+9jt9KHZVcfL8rda+2yvAwwlBU4/PzPxribOq2b46WLrO/byRHHIPs3PzH7+R6elDSbXVd25vYUTAQN/nBpvmgJ8q59x1r0HK583KFth2Btbb9ajidoJN8bNuX5t6Eq2eehHTrj6E0SHezDoF4OO4pqt5YYN+lacrM5QCdR5X8OcYwFHAPQA+1Mls7qTTGufLka1ilEbS4+XcQSFz0yQjnHsfSlkLjj+lR+V9pf+JSSPkyfmwTt9sheM/X1ocrGNSGliCaJY0aTahUjcf/AK1VnXZt+XA6+9XZVaJ9zL14yemD7VAifu+GbK+gzVRkcFSIyaQyxrHkrGOSBj+dV45PLxt5Zuh7Gr7WEk6eYEZdvcn5fxqxoXgHVPEzYtbS5uArceShfb+VdHMjz6tO5BYSeVGjqxDbty8kfka/TT4dfFG1/wCCsv8AwTyHw31ZG1T4+fBuyN/4VkQeZc+KdLQZuNOBPzvIsSuyqGLZiU4+Rt3wn4d/Zj8QXdvGby3GnRv/ABXDbWb6gdfwr0X4a/DJvhJ4xsdQ0/xFqWm6pal/Ju9Jne2uYhIu1sTBtyMQWDMBkhjgV5+MoKo4zjo1+K7F0Ha8JHkN1df2VFdaXeKqwrKZrZ1O7ax2qN3rwgBA7qp9aydY1WwTQ7fdp/mbUkil2zAKz5ysmOo2gY99vvX1ZH+zR4WhkjnTTLO7bT5muJJJbiaSK7jUbljIyuVODndg81N+3n4I8NfDv4I+JdFgW1bVLfxTBPpL2mnQ2qy2cx8zlkAY4jKjHrmnKsk0kVUw91e58R/8Jdff2ZNp6TMtrJ/rEZQwP0PUVk3zeYAwA56e9aUtpbwJ0bc3vVPU7aGC2GJFaTtgdK64yOFRsWvDUsaRN5hZtvA+lb2pfD26jns1a5tZPtT7GFvP57QxgZ3ttzkYJOBzwa5PR7sQM8bf8tF4J7V2E2ul/CpsW0m2M21gl4dwmQ70ZXU9tu1hg9Q1ZN2NomP4n8NweH7qGK3vob4vDucpGUETf3BnqPesVYmj2qzJ8zfMMdK1td1bVL6whtrmSSS3tfnVNi8Hp1C5IxWMWzJuVu+35fX0rWNuhOo+W32yYwremAa0tOkjtBvb+7leM/P/AIVV01fNlzhXbsCelOvYmhZWUAnGcg8/lWMt7nfhoxTTOq+GmtrYa2pZl/ecEMea9o0TXWe0VtytXzfYTG1mVuV29COtev8AgjVTd6JbszMxkXI96+P4iwCf72O5/RPhVxNKMPqcns73PT9F1pjcxq7MVk6Y71vTa4zS/eZu3zd65/4d+DdS8U3A+z2+2Hfh55OYgfQ+v4V63onwqtdHkLNm5m6sW7H2FfmeY4ilRXLLV+R/WXD6xuKp87vGPmcvo+g6vrY/c2rLHjdufjj1rqfD3wf+1PH5rXE00hx5MQ6/SvXvhX8Eb7xdaxXEjfZ7AuCWCc46fJ7+/SvoDwB8OtD8BW4S1tU+0AYaeXDSZ9STyfwrnwuHq4nV+6jTNuIcLl94r99UXnocP+yf+zfotrpOpy+IPC9sslwyR2xvYRLIFAbO3PReRx14r04fsd/DO9uvN/4Ru1hmznzLaSSIflmtqDVlQso+ZV6gDG2tCy1tQ3l4f1zX1WGo0KdNQavY/Is0zPH18TPEwqSg5dItpI86v/2QH8N60uqeF9cljmhJYW2o5mjyemMHgj1PFYF/4H8V+GtfhvtY8LfbirustzpUUe9hnAHygsBjvnnvivbhr3zem3k89awfGn7Q2j/Du0Zr6+hVo/8AlipDP+C9R+NaOnSa5oe6x4XOM0qyUJR9q9rta29V+p5R4us7Pxqvn2/2qCSNlxaXKxx/ZyBzxs3lj678VheJdN1BdMuVPh3Sb2+jQtDdCaRLuMD7pVQNzf7obHvR8S/+CjNvcRtDpuj2dx8nD3SK/H05AP1NeM6r+2JrniHUEe5+ym2jZl8lLWKOORQrBQVXGNpIPXnFeXjJU56x39LH2GV4fHuMYV4qCWus7/kfQn7Of7TOqeCrlofEl5dfZbX5PssenTGVT/fZlJx9DX0ZYftp+Bf7PE0moy26xr8we2kVvyIzX5q6r8cL+8UESXTBgUctM0e8EccqV5NczqPxQ1C8k3xzbGZeQUG4/j0qsDmGJw0OSGvrqZ51wLlGYV3Xry5G+kLWP1B1X/goZ4B07bHbtqt22MjyrU5b9fl/GuD8W/8ABUrRbCNhpehyzSqMYvbuOEf7xVQxx71+cN/4zupg3mXE37wbS277/wCXSsi48QyMzbmPy8BskcehzXb/AGpjXvY8ijwDw1Rd5KU/WX+R91eM/wDgqH4gvtqWcuhabG3DG3t3upQdudu5mC4zxnbXkvjb9vLxVrpkWbxFrkkbLyiSC2X/AL5TA/WvmQ6zI8jbHZst2qW5lkk2szHc/NYTqYuatOb1PYw+X5NhH/s9CCfe13+J6BrPxuutSmZgsXmdiyl2T6ljg1g3/wAS9UlQr9tnWNv4Q/lp+nNYtrod9cQllhm+bnJHFNudJh08K93qVnZELhg8hZvwVea5VgYrdHdPPuVWiTN4juJDu85lHoCTUkPii5t4roRyS4mQxyHO1mB+8OOxrLOoacz7Y/7Qv3LYBgt/lI+rU0ajJdW8wazktcthPMcOSP8Abx/SuiFDVNnmVs6nK/KaOi6qmkXv2loQ8gXahPIz6kVQ1nXZ9enLzMW9icYpPtK2m1lUO+77xPH5VWN0ZG5WNdvX5etdkXZWPCqRjP35asI7dmbA6t3xTpWbTVMkg2xR8tnpT4dSkgtmbcy7ehxVRXl1LxBpNqzM8dxewRMM8OGkUEH8K2w8VKSR4+aVp0aLcTvvAvwo1zUryxfULaTRrK6RZIpNQZYG8phuVxGzCRgRyCBgiv3Q/wCCYf7B3gn9mfwv/wAJb4X8UXXiyfxNZJG920UcMYThiqouWVg3UFsg1+GOq+O7zxV4mvry7aSea+uvNeWQCQtg/uxnrxkDkAYFfqN/wQ5/asuJPFWofDzU5pfs2oRtcaeJs5juEBJHP3dyA8dyg9a9vLcZh6GLjTkvi0+dj8Q8RsLmk8t9s6j5UveitrH6iUUDpRX6CfzuFFFFABRRRQAUUUUAFFFFABRRRQAUUUUAFFFFABRRRQAUUUUAJuFLnio24H+NBbCdjQK5ITijPFU9Q1e10q2a4urmG1hQbmeWQIoHrk8V5H49/bb8GeD/ADYbO5fXrxOCln/qgfeQ/L+RaueviqVFXqySPRy/KcZjZ8mFpyk/Jaffsj2YyKB94VDf6nb6ZbtLcXENvGo5eRwqj8TXxv43/b68Sa+Gh0mG10aN/lXZ+9mx67m+XP8AwGvJ/EHxX13xRMW1TVLu9dvvebcMy/8AfNeLiOI8PD4NT9Ey3wmzOsufFSVNdt5fhofbfjH9qXwf4UjZV1JdSmUZWKx/e5/4H9z9a8S8e/tt+INdk8vS44dFt8EEhfOm/wC+j8v/AI7Xz/8A2y0o+b5W20Lf7CfvZbpnnNeTiM8rVVeOnofoWV+F+WYN89VOpL+9t92x1+reNL7xVdedqWoahfSN8uZ7h5APw4FMt7mISfLGu5ePuAZ+tc4momQL83vwKnXUV4BZSxbntmvJliZy3Z9dHK6VNWpRUfTQ6Z9WXyOcAKMKuO/rwDViPVQiL8v3uAMdBXNpqSsqr3qSO/DsPmbC8fLWkJpmUsHY6hbzf/ExHoTTkvGc7dy/nXPrdhW4ZRt6cVJbXjRrhenqTW0aie5yywp0BuhuVWK7vai71uzsV3XE8NusfBMjhc/nWTHqA2Lub8ajubCxupIZJLW1mePozxKxH4kYNbOojn+qpPUkv/ibolm3/H/DK6/8s4lMrn8I1JqCT4ktLLtstB1+6bpuFp5K4+shFalvPDb/AOrGwdMKAo/QZq2bxZWX5P4elTzTk73J5acdOW/qzj28VeN9SHmWvhXT7EN/HqGqBX/KJXP/AI9WP4l0n4mXek3Uk+veFdHjWKR5vs+nS3WF2seWdgT+Ar1BLiJv+WmW9D2rG+IpMXgvVlKbc2MxyAT/AAMtTbl2HTrc8lT5Er+X+Z+U2ufHDxn8OpRp9j4c8J+LLWMKranDayW9xK26R9whlzt/1mMKx4Ap9p+0N4g+Ieo2Om+IvDF14F0eOyaeS8g0q5WDVZYf3lqruVZFw5JUg8sQegG3sfir8PjqeuXV1E3k7kjHlCMIpIVcnPbNbFnpdnf/AAB1Hwzqeuafp99dsGSS7uI40XEiuFJYg7QeMjjFY5fm0q0+TkZ38U8FYfB0vrtKpr20Kvwy+Kl1oXgZZNe0PxB44uNaB1W1vtG8Srp8dqkjFlgmBt5cSJ8rbRtKZA+bjb5V8X/2/dB0qWPT9H8A+JbWS1lkFzJqGt3OpzXmdo8sPcbfLVCGI2pk7vavQf23/D/gz4M+B/EGn/CvVrDW/Cmn+HYZZtYTUPLuPtLIokjESAMG3c43bcN14r81I/jD4isJUhj1e7voy2Vgu5WuInPrtkJH6V9pgrxV5H4BnkaVaKlRjb1P0N+GXx90v4mXC2cVve2OoRKzyRSIsiKvTImTKEfjXbG8jD79yM3T5eBXwDpv7T2ueIbWz/s3Q/C/hXUdL3i61PQ7N7GbVg20H7WokMUhU8grGgHfdX0B4U/ax8SfBE6fH468N6vHqF1Z/aSrbbC5kt5445LadQV5R4yHDDgqyEEjJr0pVkfL/UalueKPpDQ/DMmq3EJmk+zRMmcMhErD2/u/jV7UPE9vpQW201f3cYBDociQjqc14/8ADr9rLw78Z76S1sJr21kt4jLNHLaOBCgIBZ5FGNgLKMvgZI9a9ctfDOna/bQS6TJfQvtxN59ys6Mw6spCqy59CGrNtMlU31RnXOvXFzCu+Bm2nc/ODJ7Z7CtHSPGcNgyxxL5Lx8s2zcrH3Jq3B4W3JLDNa7o1++ozt6Z+vSorjwPbzMWjuDGuMA46n1NTGQSovqXo/EOna1bxrPZ2Mi7lO9V8s/8AfSbWrRbwfp86ySxrcxMvTEpYD/gLfN/49XIXnge9s18yNvPVWxhD82PpVjwlqd99tW3jhubpvM2iEAyGU+gUck/Sh6mN5KRrXPw8W5JkttQimMfyk3EPlNIfc7mAqpL4F1WzDM1okyNzviZZkY+3PFWYri+sryaa9sLmNY1IO7MXksPUCs/RfE72uqSbrhljfy95HzA5OU47ZoKJtH1PUvCMqmzvLzTbrG0iCSSD9BgV0lp8Y9WEEYv47HVdvO66tgWP1ZNrf+PVInjD7dCsbNDNGrciVQ4P581pLoWla2rJ9kMbEZJgOBu9Av3cfjU8oo1prqWNB+Idre3KtJam1O7b+7ctGgHTA4P4161oPxjn8R6ZDY6m1j4osoI9kcd+S9xaL/dhuAfMj+mSvs1eOP8AC6ZgrWdxGw64m/d8/hUy22peGLZpLu1aKKM4DkBovwx0/Gp9mdccU0es6h4Ys7xJrjT5Jo9o8xrW5+WUJ/sOvDr7/K3tWTZ23mPheXBweODXlp8e6lNq8n2e7kREkx68Dqfx9K9A8E6vfapdJG9qskf8UxOMUch0RzCLdmdBb2ORtfFXobLzj8uPrWvp/h2WeQKixszLgAHbn86ll0qWxby5IynlrySMZoWhNSppczfsuxsN19atW0Squ4n9KesO7n+dRXEsaLtVvn+vFaHmzt0K1xGu5uPl9aybvBG1W+mav311sXGePWsi8uvKbdt3M3QDtQZkWoXw01VX/WS7VLexrn9S1B5g26T5umPapL/UWdpNzbmPU46Vi6rd+aD5ahT3JHWq0LUmyjqV2N/zKd3rmoILZ7qNXkXp07Zq/b6OQitIcSEZINVdVuvsEDKu0bepJ/lWiSZDlJOxrWPjVvDtv5J2Pbt8rRMAUdfXb0B/GsrVrePxGhk0mRom3ZltXcMAfYjtXKarqskhdYT5jN+IP0qbw676Hf8AmxSFZNuWCg7Tis9TejKWnQ0LizXRLdprhWSTaeMdz0A+tek/DDw7D4R0a8uNXuF0vfbSalqt2/J021jUFyfUqCAB3dgOprE8HW3/AAmmvQ6lcQsNP0tl8lDyJrkqMKP9kDHXvt9DXG/t0/Gf/hFbQ/D6zuliuFZL3xTMC37uRDvtrJT3WMESSDvKyqfukV8fxBj4048i22+fY/d/DvIamKUZyVpT2f8ALFfFL5bep4j+1t+0unjnxdqXiK+hWw0fSYfs2i2JO1bG0Qnyo2xn5mJMsjH7zsT1wK+EfFms3XxY8Q3Gq3TMsEznykbIYqOpJ6ZPtXVfHX4kyfELxO2m2bKumW8gMpBVhKR1XrXOxxJAu1RtMa8MOn5Vz5NgXRg8RV+Oe/p2PpOKsyo4yUcuwith6S5Ul1l38zKvPDDRqvl7mGdp+aqU+jTEbRGRH611AffKyhdpPIOcjNQzRrtXc3PseK95YiSPi5ZPRlrE5N4SE2Mi7V6blNV2faNobC+tdZd2KSLhvmA68YIrOutOiX+7jOM4710xrJ7nj4jK5R3ZzzIPNZkbKhcH3psSjcoCltx55rqNH+HeoeL71bfSdPvtQkZuBbRMxH1YAivRvDP7IOsMvna3eaX4fh+8YppRPNIvp5anANa+08zyK1NR6njGxv4lbP0qfTdEuNTvBbwwvNNIMpHEpaT8hzX0hoPwQ8HeGUjElrda/dfe/wBLbyYd3oVXnFdRa6smjaW1rpVrY6VbtyRawBWB9zySPpRzJ7nJKLeyPAdE/Zn8U6/a+dcWP9n28K8SXr+UOem1erY9q63Sv2ZtL0d1/tDWTcSRjJisodm8ezNuFdzdXDXitJLK0m7qXY7l/pTSWub9Irf940hXCnpn6+lUmZvDuW5i6X4C8PaLdM9toqyMFGJLt/MYfgeB/wABzW8fE14sRhWZbOPOVjt4VTK+mfT261Qm1dLSJmeSFPMU4z2z0/KqD+JrOJZt1/YW3y/8tZVU+nGT6E1pBnl1qM07JM1DPvRfOmmm4yvmNwlSW0Vu91+8G1W/hZQdv1NcbJ8ZNK0yVl+0LIyDapiXcD9axbr9oSxi8xFtLhs/MuNqr+I61TqJO4ll9du7R69f+J47bw9DbwtJCfPYtgAMwwp59sEj8DXlv7Z/j+TxL8P9JAmka6uLiFWaQ7nHlxOuM/e2/d4xmsHXP2gVv9OhSOxIZfMdldwcsduOdvQYP51wfjvx5N40Mf2lvLaEAxCCMbQzbQevsAfpms/aRuncuWXV+XVHM6B4eOs6fPOCxNsN5BPWsm6tnR23L8vrXWeGPFtz4alumjitZluEZGWW3D4Htmqd9IupQRxw2yw56l5C2aFWiY08rxNT4IP5nMwwvndjr09q6TTPG6xSKLjzGXG3gVmyhon8sLDt+nNSvY7ZI3ePyY5uAdhwKbqRb0aYVMDVpLmnsbs+qpq1rM/ktJFt2gumM1zGs6gNSu+IYY3wqYjG1fr9a9Gng0lPhjCialZzX32htyRQv5jp7luledatbwLMv2eRju5YswXB9qak0Y+yei6leA4ViylQfU7TW1rE7azbT3scWn2sV9dtutLVBGsbhVIKxZyse1gMnjduHVTWfFpbXyfdHTHXvVzTNOknvI4YYzcTSP5YVectnG3HrntSlWprdr7z0sFlmJqW9nB6+TK0WmibyUR43dxyF5KHGcH3xz9K+4/2Ev8Agn7qvxA8PW2v+MI5tM0Bhm2tlbZc6hlunH+rjPdj8x7bah/Yv/YrGna7pt9r9vbzapeMpgt2XcbVAd3mN6yDAI9M4NfodZ6UNK0uCCGPZFCnlqAMKQOnHavz7PM+jiZPD4ZaLqf01wP4f1snhDHY/SpPVR7LzPJ7z9lvSdOtY7fS7p7SGMbY49uUHue5NO8M/s5w2WpR3F5cJdxqf9WqBVP1HX0/WvVJbbzgSiFtp7UkNo0EY/iz0OOtfIvA0ubnktT9qjxBjVS9lzu3y/QfbLHp9uq7F2rwQq8fgBViC4WZ8/dK9N39aqyLJ5i7pD5md2eP5U62j/eP8uwK3yt2PeuqN7WPDlFO8nuaXn+U3zPu2Y6+/TNVPE3jSw8KaSbzUrqKztU43MM5b0VerH2Fcx8VfjJo/wAIdFUXe2+1WZSbfTl++xP3S/dUb1PzN2r5f+Jmv+Kvi5dNe6lcQwrndDbqvyQp1WJcdlHGTya0jzvSK1NMLg4TXta75YLr39F+ux2nxu/bdmv2kstD3WtvGdpcHMjf8C6L+GT/ALVfPfiDx7feI7ppbi6Zw27P91vwJzUut+A9QtnxFG824b2KqBj61kah4burM7Zlit1Xq0sgwn1qXh6rd5ntQzDDUY8mGVo/j82VZLhpQpLny23Y4PP1qwZN8KTbgq9eD941Ha6ZbsrK121wU5ZbVPOLk9eFzitbxlf3U+h6bb2elrbxafFIJbm5cI0hPQ4PpXVHD2hqefUzKXtFZ3XkYp1iSO3Zcrs3AnI5G30qu1zISzZ2L/CWOBXP6hqFyHO64EYZeBGOtV9E8PXfim68u3hkuG75J2p9axlGNNc1R6BLGTqS5aEWzSvtetbVj5lxD8vZeaov4khupCqxXUzYwuxAAT613Xh74Ew2ECTalcKrbseVGhPHvXQWvg/RLPPl2cUw/iaT5t/5dK45ZxhYbanrUeGcwre9UfIvM83t9ezGv/ErjK/9PVwdv5DmtG08Q6pPGWhktbONjtxaQHC/ia72202zWT93Z28a+0Q/rUwit7iRlkiWNZW5aMBXX+lVTzyjLdGWK4RxkPehUTPN9RuW1KXdeXl9fc4zPMT+nFQxRw23McMOCchiobNemePP2Z7mPSf7Y8P3El/asuZY5kG6I/8AXTq3/AsV5fNFJa3UsbqytGdrAjGK9KUlKKkjwlTdOVqi8vmWZNSdxj95t/iXIGPxFIbgheMtt4HP86r+X8n+971ctrFpVVQrln+XAHOfWs1zPQcais3ovUgW5Z+F/WklG87V/wD11tWPgq9uQcR7VVcku2QKfregR+GrFprh4/kXOxBkZ9M1t7GpZuxxVMywkZcnOrmNt26dkg7t3SjwSBP8R9FRvm8u5aY7uAPLR3/mtPW/XU7FJI43jjDcDPJ+tX/hXbyXHjuWdPMVbGwurgkY7x+X/wChSiurL43mrng8QVG6Fl3sdh8J/CzeJPHWk2ONzXl3FCBjfh3OBnHYGvvH4F/B7Uf2f/2/dHmtJrFNNFzZ3KfP8+ZXAZCB7g/gB618r/sUeGH1j9o/wrHJbttW/SUkn/V4O4HHevvfwF8KpPib/wAFEtJlWe8mt7GWyQxLKfKjWAea5I9Tlh+FfJ13ia3E1HDU2+WKv873Pz3jjGKjl7hLZws0fqIDxRQOBRX9CLY/lUKKKKACiiigAooooAKKKKACiiigAooooAKKKKAAsF60m8Y61Gx5H3vwoBAPPApC9CXNIWGOteefGH9o7wj8EbRm1vVY1utu9LKD95cy/wDAB0H+02B718qfGT/goz4h8YedZ+G7ddBs2+UTbvMumHru+6p+mf8AerzMdnGFwuk5e92W59jw7wLm+cyTwtJqH88tI/8AB+R9ffEn42eGfhXY+dresWtmxG5Id26WT6IuSfwFfOHxW/4KRSvJNb+FdNW3C/Kl1fYZyfURqePxavk/WfGV9r+oTTXFxNNNNzJO8heRj7sfmI+prPnuyzNuXd+PNfI4rietOXLR91H7tw94M5fhLVcwvVl22j9x33jj4w698TLiS41rVb3UpGO5UllJjU+gjGEX8FNc+dXkKncWZTySRyax/tWxN21huOTinf2hlE8v5g33j6/Svn62KqTd27+up+o4XKcPhYezw8FFdkjZgvPNYMp9v/1U9b1TIFX5mXluKyxeKOc4XGTjtTnmDon7z2Yjqaz5zWWHV7o1EuzI2fl/KlXUGWV1Vi2Oh9KyoZtg+9Gfl+Xnp9asBlVGXd97uOtaRqWViZYeJrW92xJznPsakF8zIu5fm/ug1jg/Zm2xll9yasvcO6leFZe4qlUOeVFGzFqbeUG/hHUdxU8GqeTGq5zu71iLftIFw0e3q24VYgdcY/ve/wDKumnUtucksOupvWuqbD0P161Omqtxt43dxzWBFcS527cqvrx+dXLORWG5vlK9gc1ftEtWzjqYeK1Nr+0Ai/K3zep6VNbaoZUX5GxnGaw2lCxMu7b/ALxxVXUNQ1OI/u7eK4jxg7X2Oo9SejH6U41onN9VT0Oxj1JVi/eNheuc0w+KYArL97auM1wcfixZYo2uLe8tNy7ts8BUAemQdn61p6XfQ3wYpIrDn7pz061rHEEvLY2vPU6C/wDFUy8Rt5e786znuJLuCW3kkaVZgVkDk4YHsfUfSo1kX5ev1NOXczFhu+b3qJVmxxw9OPTU8b+Ln7Ffgf4sCaa6HiDSryY5a40rVZIcH/ccMmP+A18/+K/+CSN5oWpJeeF/HTalC0u57PXoDG33uiyxAjH+8or7haVZDt+VucZziqWt65Y+HtP8/Ubq2sbXOPNuJBErduN2KdHGTpO8Tkx2U4fHR5a0W36v8j84/jx+zR8XNK+G3ibRb3wXPqmn6xAym70aGC9kIEiyhUZAHX7pO3CjBxmvgPxV8KNS8N6zcW80Mlg1s5+W9ia1m64AKPgkj2r9/U8af2rGz6XpV/qisMrOYfssBHT/AFkmD0/uKax/HHwyuPjVo8th4us/D02m3Q2tC1iL64RemBNKMxnqMooxnIzXtUM/klaSPjcb4YUJXlRq8vk9fw3Pw2+DHwp1Lxh450rw2t5pMd14kuINPtDNerGgmkkWJRKSPlXLZJP90+lfV/7ef/BNn44/sEWkVn44vNJ8WaBb2YnivrK8a8gtYgDDGFE6iWEpuCqqYGcHoK+m/H3/AARu+Emq2Cx6CviDQbyPgTC+N2kv++j44HUYOc15D8cf2AvjdovhK60XRfGlx4k8JsWcaObmb7OMtvI8uRncfMAQFJ/P5q9COdYeW58vU8O82p60nGa7LR/ifJvwE+IutfDGLxP/AGHM9o2vaUNHuyiAs0LSpJgYztyyDHcisjVfiXr/AIL1pZLS9vLC6tztDQzPGUPoQNoNel+Cfhhq/wAFdbvLTxV4G1qa1uAVluNJ1AW9xbHtKOHOf9l0APdRWH46+DvgzXpDPpfjS7025OC9nr2nMrQH+IGWFido7nyq7aONo1fgmmeHjuH8fhHbFUZR/wC3Xb7w+HP/AAUF+IXg6NYLrULHXLffudNQg3SMM5x5ibT04+vv81ereCv+Cm+m3Fv5fiHwzdWLRtgyafd/aEP/AABlVv8Ax6vnfXP2ZfFFmkrabb2PiKFRnfo+oR3nHX7oIk/SuJ1nw9faBcvbXlleafMV8wJcRNA2PXDAGu2E01zdDwamGTTZ+jvhL9uH4b+LGh8vxRHYS4wI9Tt3tWX/AIE2UP516d4P8eWt0y3Wl3lldbWDCazmQ7CehyhPWvyLsMyzfN8u3pznB64ro9C1a7srkSWF5PbzI5IlhkaIsB90ZBzx9Krmuc9TAx+Jn60Xd7Z6j+7uFZWEn7zJ+5nr9afrYj16w02yWWCG10yForaOC2ihKbn3vIdoUu7NzufcccAV+att+1/8Rvhlp8bWfiG5ulh+VFvVF0v+6d+SfrXY+Bf+Cp3im2mhXWPD+g6wq/MXjZ7OQ/N1wNy59+lClc8+phWfdJ8IXEMxaJVaPOcbuas2dpcx3H8cb7unIr518F/8FUvBeoFf7T0bxFpDBfnKeVeL+BUq36V6z4c/bh+FvjII0Xi7TbWRgreXfxvbt/48oX9a05jjlRlE9d0LUdTtLVpJZDz9wOd1VvE8914is49zs6sdyqD8pqt4OmX4zanb2nh3UNL8QbiPLGm3sN3kDqf3bHgd/SvXNJ+D114Kiik1DS51ulVODGxZ+428YPHpSfkTys4TwX8FZt0d1qMyWseVdVdmycNzn616Dod7puj3cUcc8UgRsFvm2r+Peq914d1nW5VlWyuLhWzgQgXBGCARhc7MEgc+oquvh66sSGkhkhZhuBkjKk/gauMb7k82tz0TTfEalCsMtuGHVlYA/hW14c0+TxLqjGZkul8v7rOP6fQ/nXlo0qaeLfGrYK8EHGakt5bqxZvLlkhO3GVY5xU8oe2drHqHiLwPJbSM0Vt8jNzh/wCVcrqXhW8VWka3ZQOhz1rnG+IPiKF1jTUbzylBJG8sox14xmu5udeub3R42uY5GdkyoXuPahqxJwuq2U38St74PT6Vi6kHThlK84z2rZ8UeP10S3VVt2uJM4JEhUE1yetfF+1ns2W40+VmG5Uw4b5uveqULgUNRdpJljVTtbpgcn61JbaBHaqJpGGQudu7PNUYvHFm3zSK0TN08wdKiu/H9mVKtdJDt6bifm+lEotbGtGpG92Xb3VY4pmK8xqNpyOlcHrepSa5eyeWvzENjB5/PpVnXfFsN9aywwzQ+YXwSrg59aqaTYRoB+83SSdQpyfwp7Cm1J3JtEsfLBDFWLdT/dq5Jos19eW1pbf8fF02xEA4CkEkk+gAPPtU2n2MdtA0jtthRslm5zjk/nXd/DOx0vw9bx6xrl9b6Wt9btMZJn2pZ6fGrSO7D+7tHmv/ALMar8xauDGVpQjaG59ZkeCo4hxVf4Vu+xN4u8Zaf+zR8Hv7aI8y+hc2mgW7r5gvNQ2Za4cHqsefNbscAfxEV+X37W/x8bTZbnT7W6+2a1qjvNd3Ekm9nMmWkkJ+pbjuxBHArT/b+/4KO618ePipfp4fsrjQfCujM+maNDdo0N0lspLGWVP4JpjmVwQCnyoeY6+UZL288SXrTzefdTyHdI7NnPufX6CvncPkdSviY1sQ/dXTz7n6ZmPG1DA5a8FlyftJqzl0UVsl+vmdl4IEd1p0cZZvM3DdnnYx68961XthBIB8renPX61g+DdPntrzyGWWaWQYEUamQk+vFeu+F/2bvEniGAXGo/Z/DNiwyJtQb53X1WM4JHuK9atRfNdbHkZbmDeHTnozzhk8tWLN/q+uO1WNF0e/8T3/AJGm2Vxe3B6LEhkI/E8V7La+APhx8P4le8urrxJdx8K003lQKw67UTacH3q/d/tKWFpprWun2f2a13blgt4BBGD7gDdiuVygnZs9mnRxleP7mm/mcV4d/Zc1bUBu1rUNP0OFlyEB864U+yDgfjXe+Evgf4L8MQJM2n3GvXij5p9RmHlqfVYl2gfjXG6n8f7i5Mn2ewhi8z+KV9236L0rn9R+MOvXDPtvGt9y9IF8sfpU1MZCOxt/qviq/wDFke+Ta5cC0khRltrdU2mG3iWCMr6lV6ngfeIrm9Q8QafZyN511brtXOTICc+nJrwm+8UahcR/PeXTDG3mZufyrPmvXO4szn5v4mJrH+0L/CbU+EaalarJfI9h1f4laLYqwjuwx/uoG/nXOav8XIYYVW3haVZPn+ZgCo9K85Mu4bmbd+NQtFIUZmZvm4X2qvrtRlf6p4KHQ6bVPi7qEcX+jwwou3Chv+Wf+NcvqvxM1q+CK0+2Hb8oRFUD9M1XlGI/m3H5s1VnG0kblH9KuOIlfc5a2T4eHQpah4hvriLE9zMd3TLZxWFNeSNLt3bx7E5rZvLZp0Y28e8Fdxxxx6j2rKmsvs43zyR269cyMK7qLlJX29T53FU6VOpypJsRJmiO/lmHRiev1FLJG0qMwYk1BFf6YbtY47qS6mY4K2kZkLH2xmu/0XwHq2u6NHDonw18QTXTSbvt19KbeNh/cCkIqj3JqK2IhD4ppfMdDB4vEW9hTlL0izlrDwvd65ew2ljDJcXVw3lxQxqXklPoqjkn6U/4k+A734aeLp/D2rWc2n61peEv7WVB5ltIcEo69VZQQCDgjNe//Cjwn8avhjNDdeGdQ8KeBL14NrXVuyXd5CnPG4xuFfryjKenzVnaP+xta6z4pv8AUPGXjDxDrGpahLJd3lykKtc3F3IxYySPMzszMxO4kggMTjOBXj4jiHBUfjqL5H1uV+HHEGMfuYdr10PnVJCIm+XK+venx3zG4VVPzA5C7eTX1P4d/ZJ8I6fnzrW6vZI+I/PnLK3zd9u2u50b4W6H4eVRY6bY2qrx+7t0Bx9dpr5zFceYSn/Dg2fouV+BOZVv96rRj6XZ8T6P8PNc8UzK1no+oXEchwrCFlTPpuYAV3vh39k7xjrEaxXEdjZwsN3+kyndD9EVcGvrZtHtkhjK/exzluB833cAfrVyytUhkzuVm25wa8apx5ipaUIqJ9rhfo+5P8WOqyqeS0Pnvw/+wdJNpytqfiSZ1ZsbLSzVTj/rpJn/ANBrrtJ/Yl8D6LFGzWc+oMyKd15dPLtPqQAte2RPIlqJP4V4xlsfe+lV5YWkuFKs2xfmI9R6V4+K4kzKv/EqfdofaZT4WcM4BpUcJF26y978znfCHwr8P+EV/wBC0jT7aBTu2w26RmT64U4qW58Oaemp290un6ctxZvugnFqm+JwdwYMOfzFb/2Vo32gs0n90CrVt4VuDAzBJIRsZsMNvVeOvpXkrEYmb1m/vZ9nRyrL6SSjRiv+3UXfh98T9W8Ha699bQQ3jRq3yzo2D+IPHf8ASvXtC/a2juoZF1DQWU42lobkHnOOAyg9eOvWvIo723tNq3DadaqsSqsUKtIzYXBY4+XJPOKc2vWjjbDDfSfu44z5cSorhBgE/KxLHqcN1rvwlbEwi4RvY4MzyvL8XLmxFPXve2nY+idM+PfhnVRGGmksZW/5Zum4D67c1vaVrmmasS9nqFrc/JuGxxuH4Zr5aXUtUtYCtnpaL8vLs+5D9fvY/Gqesy+JHsnmklt2kkTJjTJfA6AH3r1Kc8Qt4nx+IyXLIyap1+X1d/6+8+uLm1YQrtHzffyOef8ACuH+Lfxih+GqDT7JVuvEdyrMkLH93Yg9ZZPbP3Y+hPLYFT+Jvi/b+D/hfolrpt1Y6l4judLt5ZXilWVLHKKHeTBP7zJIVOuQa8QlUET3EjvJJcMXlklbc9w5+8WPcjtnAr3aeHd7Hyaq04wdSrt0XV+foZK2txfalLqWoXc15q11JvmmkPzSH37DHYCs/wAbak2n+FtSuFfa1vA7qB2KrxWxKxeTakfHXJ9a534jZ/4QzUlXdIJo1tyc8IXdV5rtjCMI2W/c8mvjpV6ylJ/5L5GZp3gOPUtPha+vdQutypKB9qeNVLfwgKcnqantfhnoti/mDT7Xd6yAvn6jNbE5FpEVSPy2Q7cOc7cdKx/GfjCLQdHkmkYq23ZFF3Y+tZ81viM5e2qTcabKfjLxLp/gWyb93GLmQYWNUA99x9s968X8ZeP59du9sjL6xxr9xR6Y6mqvi7xjPq+oSyTSeZIx6HnA9K7z4JfBdtTmN/qA+z/ZkFw8ki7o7JMjMhX+8CQVU/eY7etcWKxPLG6PcyrLZSqeyh830Xp5mT8PvgdfeNJWu71mht48NIrOyqqHozn+Ffc/NXpUS6f4VtFtdLUbYf8AlqVHJ/vKOo/3m3H021d8T+M4Ly0XTdPhe00W1kLpC/MlzIP+W0xHLOfQcKMAZIO7GiHmDLN7D6e9fH43GSqTs3ofrGT5bDC078uolxK0+d247eDz0pqtsTav/AeOtPMYt5cdeNzZ703YHG5c7F6GuGMT2JTVry28yMQ/dJ5Xr1xTYf3cp3fNnge9XYNKuLy6WOGF5O2VGBiteD4e31xl2Earjncc/L6j3ruw+X4iorwgzx8dnOCoP97NI7D4LeJVljm02aQKzDchZcln9PSuZ/aH+FFnp/xQmEcawaVq2L6xcDAiVuJFz32vu47Ain2Pge90W/jnt5omkjbd97AFd9qPiCw+Jfg2Tw74gVdN1G3zLp9+6bokmHBVn6hJOVPYYU9jX1WBo1o0lTqxa9T85zTE0HiPbYWalGXRbp9zyzTPg3pdix82OS6VOMMfk/LrV7UvDtnZxIY4ore3WPy9vlLt+vrmr2mTSafJHZ3MQiuI0+zuu/IXbzkHuD/eqXxfK0OnhW3ctx719Jl8ISqpNH5LxRisRRpTi5O/Q56w0mB7hlHlyNHF5r5O1TnqP1Ncr8av9D8KqP3audpJHOTurqoQTBNJt8tECRgKcqwb261xPx6us2tnAG4kZc8V7WOtDDux8Lw6qmIzGnztvuaPw2+HtvqXgS3ml8xmkZthPH50/wCG3g7+x/GerRXDGWZNOxywzHvuUA47glWH4Cu6+GWmrZfDjTwwHMG8D33VV8KI0nj7xM5WPdb21jAvry07kD04APPc142Dprl5vK59znWKnGp7L+8evfsRaK+l/HfTLqGESSWpklRD/EwU4H0GD+VfrN+w3+zZc/D2O88Wa9HK2uaxv2CUfMiMcs5HVWbgY7BfevkH/giX8J7LxV8WNc8QahZx3C6LZBIGdMoskjY+hJG6v1LVuOnAH5V7eS5TRdX6+171rH4V4icQ1a2LeCi9IpXJRRRRX1h+XhRRRQAUUUUAFFFFABRRRQAUUUHpQA3euOtLvFRndsGAKYrfN96jyFrtYsE4FG6qOt6/Z+HNKlvb+6t7OzgXfJNPIEjjHqWPAH1r5H/aN/4KZ2ulPcaZ4Fh+1PGGRtVnizGrfN/qoycnoPmb5eelcONzGhhYc9Z2/M+h4f4YzLOq6oZfTcu76L1e36n0t8VPjT4b+Dujfbte1KCzVv8AVxZ3TT/7iDlvwFfHPx7/AOCkGueLHmsPCaN4fsWG0XbENeSr6g9I/pyfevmPxt8StZ8ea9Lf6nfXGoX10GMk9xIWYr/dBPRP9kDFZa3LFMSSMzL3yPmr4HNOKKtf3KPux7rc/prhHwXwGAUcTmdq1Tt9lfLr8zY1XxZc61eSSXU8s003zPK7lmlf1Oep+uBUJu3RF2stZbXClV+dc+tBn3SKOVr5mpU5viP2angYU4qNNWS6dPuNQXzI3HzL2U8Z/GpTOvy7fMO7glzmshJcSqrMTt6Yq5HJk4zU8y6BLDo0UuO7N8ucYqWK7Vm28f7PasoS+UdqruDLkDuTTpNQUOqrtVl6ZWqU7GMqJrxzuztw2dvTPFSLqAZlz+75x0rOjuDMittVs8E7ugpUuVR9rfMVHU8fL6/WqTMHRuaqzMpblVf25p4nUH77E7s8CqEqtbnb8jHAfcreYOVzjj0NLHN5ko+UsG4ziqlKxh7NNXNKFliQdWz6mrCXXmvtVeV6j1qlGiuR19z6Vc0uaSaZo1RlGeo5OPWlGT6HLVtFXL9t5dwCrfKy/e44qO4vIbKNnuGVYlOCX7H2rL1vVG0y4+zWn+l3bfdUKcp/vHoPxpun6eLaKOe8m+1XIH35fuKfVR/D+Ga7aei988Gti3OXs8Pq+70SLOteMbm20eSTTLSS+z8gZlIB99vWsLT/AI9NAPJ1LS3hmT7xhb5v++Wx/wChV0H9pwxt8nnXLydTGu/f+J4FNljk12Pybi1s9rPyz5kY/hjH616mDr0LctSJ8vmdDHTlz4HEXfbl0+8sab8VtF1IMq3n2WRRuKzRmMgeuK6DTL37VbI8E6SRyL8rIeG/xrltO8C6LoMDTSRQrFbjfJPcFUjjHqcnav0Bpl38UbaALDpNnNqU0n7oO5Nrb/VQVaR19lQr71jipUF/CO/K45k6XLjFFy/unaLIT8gRWQryMn9Kx/EV/ougBk1Ce3tZnUyrD1mkUddsSZY59hWIY9f8T/Lf3jWdv1+z2o8pCNvTIO8/jIB/s1c0bwppuhI32aAQtu3yEALk/wC0FwG+jE1yRnfY9enTmt9Cz4a1Y6tLM0VtrFlCu3ypL5EVp/vdAD5i9vvkdR6Gr2p3eqWekt9mtLO9vA2I42uWhiA/vM21mB9lBp1tOpjZThWHTirEmoeUG2sxZu1X7S24TjaWxzw8M+I9ek/4mmuNpsLDBg0hPLkx7zvucn/dC1b0H4beH/DV79ot9OWW+bl7u4JuLluc8yyFnrYjvSV5LE+uKsAx4Xpub1opyg9wlVn6emgwoyr8qlTjP0HpgcUixOs43MWO3seKm+1KR/XtQN+Wb5Pu10Rkzn5pLcjD+QysV2/hTZLXz9zeWuGOcE5qwsZk+bG1l6D1pwHztuAyp2gCk7dBKVndbnMeLfhXoPjllk1DTLWa6T7k5jHmD6Ec/nXjHxY/YR0nxWk0luljdSSAkRXkCun3eEOVJx6Ebcd6+jmQSHapKY6HHWnG23Bjt3fWsK2HhPf8NDvw2bV6C5U7x7PVfifmr8TP+CeNvo08tw2h6poqx7tt5YN8sZ68lSwxn9K4ub4JeMfDTzNY+JIdYsWR1it9ZtUuFCn0YBv0Va/VYwecWDBcN1BQc/XGRXP+LPgh4Z8VOZLzSbCSVhtaSOMRSf8AfS4/9mopVMfR1w9V+ktS8RT4czB/8KmBjd/ah7r+7Y/JHxB8J1S5urnxB8M4fLVPnn8NzNGS3XBEbcjBAyIu1cjB8MvBLarDGde17w9IXKmLVbNJIwR90ZXaeO/ycV+qnif9i3R7u53adfXli2Fwr/vQuOvzH5jnI/i7V5l4z/Yh11ovLWHSdctstxIobgdGxICPrzXZ/rHmNB/7RR51/dZ4OK8KeGMX7+XYuVF9prT7z87vil+z7q2t2sEug3WjatDG20sl9HHI59lY5ryXWvhjr3g+7kj1LSL+ykR8bpYsKx9nXjFfoZ8QP+Cda6j5q/8ACI3VrvXzC+lusar9EQlf/Ha88uP+CefjHw0Xk0LxdqXheNvm2azKtrFn/gLBm6H+Fuor2MLxbhZ6VU4PzPiM48F81oR9rhKlOrH+7JX+4+Kra1kZ0K5UMduVOefStC4eaxtiW3K6jGQM817xrPwS+J1re3Ml9ovhvX3sXYJLPFbzfafvfvI2URP/AN9gN7V5bq/h3XvCBP8Abnh/VNOjdWCzNCzAHb1LSAivcoZrhKztTqJ/M/O8w4LzrBLmxeFnFf4W/wAiD4anzw0kfiSz8NzWUPnRNPczW5kJ6hGiGFY+/Fetah+0v8XfCFo/hiP4zX50TV7Bzcvp3ix9Rt5ojwYf3L7hI20/u32HacHC5Lex/sX+H/2J/iN8FtLsfjPe/FLwv46W4uTc6zo8V1NZ3CGTMQOxJoeFJyFRegzmvlv9rHQ/AHhL9oTxFY/CnVvFHiDwRp0/l6VqetWiw3l4u3czbQqkIWJClkQkfeUV6FKaltqfI4nD8k+SS5X56HE6B8SdS0rxNHJbeJNR8NzWeFjntbmaBo+SWUGHkfMc5APIB6V9lfst/G39pzxVqaXnhX4oT/Em1t3VX0668f2c84G3jdZ3cv2gY7eVGcd6/PW/Se11SRnhnjSZ3ddw5bBwcfQ8U1pd0SlsfLjaSfuZ6Y6j8zXVzWOGWF5r/wBI/W7wd/wUf/aO0vxGtlf/AAtg8ayafFm4Fr4FN7eKEXD+ctm8fzA8lwFIrsvgH/wWM8E/Ej4oaToXxM03S/hi37231GRLW8ENpKrnaShaaQABQCpGQ7HsK/GfSvEGoaQZls7++s1njaGX7NdyRF0/ukKyjae65x710Xwea01v4saPa6s2qGxuLpUuGsdjXRjO7JQSHBk9A52huCc1nzGf1XWx/Rxo3xU+A3xEuNLj8JfGj4Z6zK0YnuA+uQWIyCQoVZypGcHOfSuy1fSLGDQbzVDq+gS6Tplk99NeWmr2lxbCKNd24FZSOewzzX4O+PvD/wALfDnxJ8Tafay/FjR9Ot5YDo/9q6Xp0l5LC0Y5uovNQpuYlk8tn+Q1d8FeMfhv8FtB8X+KE1e+8UalH4T1PTvDWnTaCLWS21q9ge0guZ1eSSE28CvNNuDlvNSL5ON1JVFLYqWAktz738W/8FFPgPdateW1r8SvDjXEEhQu6XEcJI6kSmLa+PY1nx/tG+B/FfOj+NPAt88hw62/iC13k9clS6kccV+Md5pUVhYwmG+uJGjAU7oWiKhe+7OCT3qvf6SsccZW+hvPMTccRsNo/uEso3fUVrGp2Rh9X6r/AIJ+1l1dahrCk2zWVz5wDqkdws7Oh6MQpOB79KwdX0bVBaSfaIbqNWVQA0bDHbg/Svx10eOZL+NbeZrd2I3SKSmwHgHg9AO1d/of7QHizw6tra2vjDxHYfYLg3EQi1eYweaNqiQRkkZwo4IxtXHU0OrZ6occNrZn6k6J4UknkVIIlLSOHRC+373rmuoHgi9gPzWrRt/eWfP5V4z4K/4KA+HNbs/C2rXUen+TdeH4rzXLlxPapb6vsbz4Y4wGBi8xVCv935j8vyjPUH9v/wAF30y4axlZjtTyNUwzfQSwiodRMuWHmmk0ehC1uNBkEv2f7rKcypuQEZIz7KQfqBXn/wC27+3N4m/Ziv7Xw74b1XT5PiBr1sNS8UXVzYQ3H9j2sqlrbT0RhiOZwoupCBhAtqg+89VdJ/bh0VfE8LWfhq98RXtuWaxs/MhmguZAR5YkjUGSRAwXciphwCvyqc18u/twX/gO6sbG4tdW1zxB8Wtc1K51Lxnd3Exa1imcliCB+5MpZvuxg7I4wCSzKF5qs4Hu5Xg60naWx4zqN5/b12ZriQ6hcXDtLNPO5kkmd2Z3d3OWZizbizMSW6DFaHh3V/Dmk3hbWJL24gSNj5VnGpaST3ZuAK5zwvL5920b/Kirx61S8Qq1tqcisGBLcY6Vw+3fNyo+3/sqMKHtpHqQ/afm0G1e18JaLpnhmDbtEqReddyL/tSNzn6VXuviFq3jGJZr++uLppPvF5d5ZvU9sewrylHYyDCF2AyT2ArrvCFx5toI2zuX06Vx4ypLkvFnvcLxw9Ou4W376m+9wzxkn5ivYkml/tBXtJIyibpGVgw7D0qFLJ3+WNHO7nKCoUtWjZjlIlXpuavG5b+8/wAT9CliKcVy318hzyHPXj1oaTb13E1JDbNcHbD5s0q9FRCx/Sr1j8O9e1HiHS5Fjb95unxGqj0weazlWoQ/iTRdPD4ur/u9GUvRGPPIE+Xd3x1qu1wVbn5ex713umfs9atqBBmntLVcfKijzMr6grt5rptL/Zr09kb7VeXUzNyCq+Tk/hXmVc+y+jvNP0PosHwPxBi7ezpct+543t5/3uCKYpku7hY41kmb+5GpY/kK+iNM+A2i2cUa/wBnxSso3HzSZHP4nj/x2uq03wHa2X3Ybe12rvDpEEJYcgcds15dfjGhD+FBs+jw3hFjp/7zVUX2S1PmSw+Get69ceXDpd2o3bnlmQJtHpzWva/s6+INRA86SxtP7octIx/KvpiPQ/MXJiZdn8TLyfqKmi8P7E3rbTMN2xW2HBb0+vtXl1uNMa1alG3yPp8H4PZTD/epuXqz5xtv2N11OfdqHiDVrpdu5o7aNbVPoCdzY/Cur8O/sn+D/Dt60i6NBeXB4P29muePbdgV7K+kTWUf7+GWFNoCmSMpvz0xnrTobLzR8jKOevU152I4nzGcfekz6bLPDLhvDO9OhB+b1Od8P+FLXw/HIun2On2G8YItbZINo+XptAO3261pvBJI6lppHxyB5mVPzehxVtrRlm3BmDKQF54JPSrkegzTxfJbM2/hS4K7a8SpmWIrO1Rtn1dHKMHhreyhGPokijcfvBD0XyeGXyx831NNvbT7RdNL8xZjuL9CfwrdsPDZMyLJPDG5OGIYuD/3zWnZ+Erdz8jXTN0yI/LX9W3U6dCvUNpYjC0FZ2+RyQ0RniDbdoYbsf4UsNmpk2q7N22gZNdougxwbf3EEasckyAyMB6Z+Wp4rXy1G2eRVk6eUohA/Bcmu+jktWb1POr8RYainzNfI5jTvC1xI7yeS+xdvzOyRr+ZrWt9Jt5VU/aIZI9uBGhMnHuBxWldW9mT5kke7d/ebe2Px4qY3QitvljVgpyAq4Of8K9OnkMmrSPncVxlQTuvyM+HTYTFt8u6Y9dr7Y8/lSJpSySfLDaJ82fMctI+fx4xSz6gzFd0ilvyoa7a4CMrIVYZHGMivVo5HRteZ4uI4wqN+4iRNOdY2U3MwzyBCBGo/rTJoomZC0PmcbN7OTuH0piyNG/zKx5xtHXNQiCSSVlO51DfKccCvSp5bh4q3KeDiOJMZUlZzJoZobfckcar5nBIXLLVfVvEUGloztu+T7wAz+WKfPol0F86RGWIdZJG2LHjrgng5rE1bxd4c0ZmXUNa0zcqtujjk+0OT6YXJrojShF6I8upmFSq+acm16mTqvxpulZltbBmXexDu7fOPSrXg7xdqHiGWY3ECwrEAV25GAOuay5/ifp1zL5Oh6LqWsNuyrLAYUU/3VJG4D3Iqp4107xv4qsF8m3h0Ozhj80pHcsz4K4KnA+U47DPNTUuti4Yik2oqKv3Z2Hwuu1l8IiYDd9plmmBZQeNzDr6DsK37q5a52rt/wBWu84Xgj1rz7wDeatZ+GrS3MUNnCqBc7svycHj64P51q3eg3VxdySyajfNDIfMdFkMaOfYLyPpWlPRWPKx1SM63NLc3NV1WHTEYXNxHGVciQOwDAjr+Vcd4/8AHWn32mw2MN40klzexOXVW+RVZT16HlasyeGrd0/1O5GIdmkYkkn7351h+LYbeDxN4d226osc0tw5x98LH94j/e7USkThadPmuzV8WeMrXwpaRtJBcKeiJtIyfUk14p8RPiDJrOpGT5drNhF/hUVsfETxXJrV9NJIw8uPlV7CuD0LR5vHPiaG3AbylG6XaPuof61zSqJqTl0O6FCVNRpw+OZ2HwQ+Hd14v121vJIGmM0oSzjAxvYNzj2HvXsfjHWLfT7MaHp0kM1jZSA3Nyg4v51yS/PVFztQdD8z8k8V7WFPhr4RhhhVYdU1a1KREdYLQ8ZH90yAEA9dgJ6sK5+KcI7bV255KA8D8a+Yx2Ic3ZH6Zk+Xww9KKt5+r7k6styM5I2t6fzqwihlU/eHr0qCGPY3T3b0zV/RNHm1q6aC3xuUZOewryIUZVJWifRVcZClT9rPZbi29rNqV9HHBGxklOyMKerf4V0mjeCobP8AfXTmWbn5APlqbUNX0X4UeFbjVNYu7TTdPt4lNxcXTBl2scKvXnJ4Cjk18kfGz9vzXfHt5/ZHgeO50PTZsRJfPCEvJ93UjtEPYc/7VffZHwtzpTkr3PwXjrxUw+EUoKVrbW3Z9U/EL4veF/hBDG2u6vYaX55GIHfdNcA9D5a/MfxArzm+/wCCinw/srx44W1y8jXiN4bIDzB7Bm+X8a+SNI+Ces+KNclbUGuLu4upSJLl5PM8x+jM0hPzAdhxXX6f+zJDa2kkk9w8Uo2hNgx5w/2v/rV97S4foxj7x/OeO8V8VOreEVy+ep9M+H/2+Ph/rdyIZLnUrFpj8pntvkUepYM3Fek6R4s03xhbG4sLi11C1PBlhYSIv1Ar4Y1H4I3XhTUDcWMyXUUQ8z94Tkn0x6VN4a8e6r8L/EVvd6ZcS2v95MlNp/2gOG/CuHGZR7PWFz6zhnjtYuS9s7Nn3RdaOSkdxD+8aOXIB+UsOuMn24qn4u+fyI9rKZJCRx6cn9ax/gn8W7X4n+H4Zl2rexqBOqfdLDg4rovFNi11f2kyq3l7WPA6Edfzya48DTUaqPf4wqOrg/arvv5HPxWm2NVbczSMcKRjO3pXl/xycf8ACTWtvu+WPrz0r16OFvtlv5atHCITKQRnafc/ia8R+JVx9t+KS27MxbzOhHLZ6115tK9HlXU+a4MqRWLdWeyPftBtzpnhDT4VBVY4FPIyRx/k/Tmub0/w9rMHizWJbWytYY9SMbLLLJkDYgA+Xr3b866rUtTs9Pt41urq2WSNfLxJKqs2wbfu57Vlp8VtIt7xltxcXmxcZCYwf+BVhh8HUcbRXSx35xnmD5nzVFzXufeH/BEnxn4s8NfFObwzLd2J0nU43uLyKOBizskbEbWY8AE1+rAGM1+Lf/BKr9om88O/tUaFaw6PHcHXm/s0b59vlxucF/lzyK/aTp9TX1GW05Uqfs5bo/BOLsbQxePdfD7NJX72HA5FFFFekfLhRRRQAUUUUAFFFFABRRQTxQAbqN3FRbvkzy3NUfEXiew8JaJcalql5b6fYWcZlnnnkEccSjqWY4AHuaUpJK7HTi5yUIrV9C8Zx/eGOuc149+0R+2R4X/Z/tJbeacalrxRmi063OZP+2jDhB9efavlv9qr/grxY6jqk/hrwBcTWtrkxy648TK8o7iEHlc/3iM+gHWvlXUfFEmtXjXVxcNcTTnfJI53szf3mJPLfTivic44wo0n7HBu8u/Q/f8AgnwQxuL9njc8i6dJq6j9qXr2X4+h6j8f/wBqbxV8ftSZtYvGXT1b9zptv/x7Re+CQXP+02PpXmJlNw/zBg38QJqumoL8vzMg6bscU2Z2DqoA2vzuz1FfBYjFVcRL2lZ3Z/T+UZLhcvoLC4SChFbJIke7kjbgLvU9/T0pRKbtHWTbtX0NQ+cpLNtPHXawNEqeUWKt87HGK54y6I9dRS2JlZYlGWbaG6Y5p0chVtwZv+BCqyp5PDYUkYPPb/GnRhW+ZZN3GPmOBmnKRXKi6wW4uFbO3ywM+9WPku1wyhR7daomVVC7com7H+9TklFvBjB2j+FeTUSkzmlTLzXi29wI1bljgknpUa3Zln+8PrVZXjM3AUPnPJp6opdSoba3HWtVJdRKmluXlu964bJI6Mf6ipLOfzOAqsT82faqtsVs13SLuWPcyhDy3tUOk/EjQ/EE32S31K1g1CEfNZTkQXKN/d8uTDH/AHlBFaKf8pw1qkabszpIULKONqKuVwckmrSnZujI8tupPofas+Z2sJCJFZZF/hcbf51I8rMq/e3dTlulJyl1OGXvdS5FeIhLRsBu4HOQadfanNMqhpZFVjlsfecenHSs8yfKrD74bhsVaFwyx/NsjZupXj8s1tTk18JyYnC+00vYktIpdirbMLeH+8XLO3406306MS+cy+dOzfKZWLEfnxTYbxbGza4nkWG3jOGnf5UDemTwz/7I5rL1LxpNcO1rpcIt2YZ+0TRiS5cf30tjwg/2p/8AvmtfaT5veZ5f1ajB8kVzPsdJNdwafZ/adSuoLG3YfK0jFDL7Kg5kb2XJrGm8cz3rSQaLa3EMq4+e5gElwQeh+z7lRCexmdT/ALFUrXw3JNdfab6ee6nkDeY8shkmlB6B5Tzx6RiNfatzSo4dNiSOGNYYuRsX5R/s5A4P51f1iVrI1jg5W9/RdloijZ+FJZLpbrU7i4uJwNpeac3Dn/dY4WP/ALZolb1qlvZPthhSHzB8zoOfx/8ArVG8vmN/s9cN81DSPIm0FTnvWcakjX2Md7Ghb3rFmWhXXzAoYjHXvn61VDKke7dt+XPXmiC78zcfvbu+MVpGXYylTNL7YGXI4qW1myNzL8y9ATWfBJ5Q3Oq4znr0FX4JofK437jxyOtaRd9znqQsrIsmfeGU/K9R2tyAu0SHf23Dk1WaTd82T83BpDO1zcLyPl6LjP6iiOhn7I0Y7hg22QgBW6Zq1busULbmb6+tZcdxtRVbczLySDg1Mt1v27QpA7Z21UqjWxzzp3NCG7+dhtbcvRe3508s0xXb82eSTxiqQmWOP5ire+eafBdMBuQbgnVQcsa0jIxlT0uX2fYu7723oBToJW28frWZLeNHtbGM8kE1bgvFZUJYRt0K9zWrZjKk1rYuSCNGbcD6cCmyXUYOB87+nvVVLmWYbU+Vc7iTU8FvCzTbt2+dQhI7r6e31pRlHm94z5eXWVylqfjTT9GeOO5uIYWmOEjYkSOfZB8x/Cs8azqmqQSrp2lssbNkzXxa2jYHqwTDOcehC1oad4O0/STK1isdu0jZcmLfI+Om5m+Y/wDAiauLdXttEVWGO62yLjbL5eQerc/yqoyRpGVKK/dq/r/X6mP/AMIVcatEy6nqDt5g+eOwBtQR7upMh/A02P4J+E4C8n/CP6PI0n3nmtxNI/8AvM+4t+JNbjaqsEi+ZFJG3TJXcKvRanb3iKEkjYjGcON35VSjCWrRnUxOIjqrpeW34HGap+zx4J1V2ZvDujw+0dqif+ggVzV1+xt4Gunbbp00DHr9nuXVR9Aa9ZOGC4JZv4cDrSKMBlkXa3bPb61jLDUb3cV8lY2p5xjoJKNWVu13+p81+Kv+CZngjxI7TRyXEEiOX3+RGHO7r80ezP415Trn/BE7STNJc6N4qms7otvVby1+0Rux6fMzF1A/2TX3Jea7ZaTEWmuobfd8uZHCmQ+ig9fwrEuvF2qamhbSdFuZGYMnm3ubSEEcA4bMjfgldVGpKj8Da+ZwYvCwx+mKpwl5uKT+/Q/MX4u/8EWvidDBHcae3hLxUttvQRpcPZTMGfdjEmBu9t9fLnxi/Y61z9m68UePvAfiHTbWT9zFdPqKRxzSnrtePeoHpk1+5GsfC3xZ410y4t9Q8WNpMc8W0R6TbbRk9A0khZ2A/wBkKa8e+Iv/AAT3k1vT57ee003xEWk837TcXMvnEjldySLJH19DXcs+xtGX8PmXqeFPw34exilF11Sm9kr8vzbsvuPxc8M/C3Sdcu/39r4qt7W4cwW2o5U2lvMOvmSGNlcD+6pU1T8A2Fxo/iTTdT0GfUn1jT7iO5tnWLzWEincuQgOc9xX64a5+yV4u0LwzJ4fk0/XJ/DeSRpljdwy2RLdWNuxVCf9sLu964/Q/hT4k8BaxHJZ+Hb6G4s5Q0Kxac22P8UA9R93PSuXFcbVYbUGell/0fcBX1jmUZei/wA2eyfss/tYfCf4l/CSe/8AjB+yv4u+IXjbULyZ9T8QDSY7pb85VE8k3RhljQL8ojVcJtOcZFfFf/BQHSX/AGjPHtnovw5+GOnfDP4c+G/Pk0rTmMcmpSCbYXF20ZLHa6vtjZpNgkbLfN8vuv8AwkZj1GafVrfULO4mdnkkUbCWJUkbZBuzj0PWoPEH9l+IIGkt7kzagJB+9mHleYh6l/vZf3FeDW4/xrV4Qt8j67Lfo65PTqJ16k6i73uvwPiPTf2KtQ0y7jm1b+1IEJWTyxZmLdjqQHDfKfXpWl4g/YwQQNIn9uWaz/MGntAqy/L2O1ePpX2Rp1ja29luuBJIN3Aiba+M9Ce4+lczr/h1TIzR+cY5B91n3Lt9vSvOqccZglzps+2w/gbw1KPsFQVu/X7z4l1n9krXNPn8y326hFGckBtrE/Ru1ee6/wDCrWtEkZbizmjaNvvNGRu/Sv0Mj8Pxhsl28tlySjEc1DP8MI9buvJjgup425IEYkff/vYxivXwXiJiGv38HJHyGe/RryyV55fVdN9nqeC/sS/CH44eMb23f4H2fiufxJptmzXI0GRPtCQblO7D/KVy4HTqRXrXj/4QftjeExNceIPAPxSbz8LNLceBIbzdngfvFtG5PtXo/wAFvhHr3wZ8U3WteE/EnibwJeOCst3o95PbST7iGxJ5LZYcdGB6CvU9T/bd/ab8HbY9H+PXiZGj3RRx6lpWnX0cuG4J822EhI5/j9K+ow/GODnHmqXifk+ceB+f0qtsFyVUraXs9T8v9E8R+JtH8ZXVxpd1rFjq7pc2sjWTyW04R1McyfLhlBAKMuMbQQSBzVd/hzr29beKwmWQgCOJhyAeQMDPHrk5r3bw5+y/4k07U7i4m8T6bZPLMzmeysBHMm4kty7bF/AnG4YyPlrpB+ytY6mr/wBsalqureZt3F7gQKvfhYcDpx1qcRxhldNfHc9HJ/BjiadoVKKh6tHzzpPw0uvD9zu1jUNK02FTtcST7tueRkL8owfeq62fhnxHqZ8m88Qa0yxqscel6SzmVv7oYnAHua+ptB/Z38I+F5F+yaLp/mL8m54vMwPoTya6ix8M2lgqrDbxrC38Ma7VP5HIr5nFcfUYSvSptn6Pg/AXGzgoYzExiuyVz5M0r4NapqKLNa+C75ItnmrJq17HEwP91owc16DoHwD1Ge0Akk03T0b7628JYn6Eba94s9PjhjZooQq7t3zfNx6UyZll5KsApyMDFeHjOOcbUjy07RP0HI/A/J8JrVcpvzdjyq2/ZttpI1ee61C5VBuIDCFCfXA5/Ct3Tfgfoun/AHbGGRk6lyZGP4txXdfZWmH3QvsAcU9bTZbj9T6V87WzrG1VaU2foOD4LynCfwqMb+eph2Xha1slh2qoVG3NGi7cD/ZOOPxq5baCt9e7Y1jDSrtVcVfismULn7sg4GOTVzTfD9xcFZI45Ce4CHn6ntXG5Vpazke3Tw+Gw6/dqK9EZ1rZwpcK0ztEmcOxXJXHXAr1Hw94I+GfiS0CtrmuaXOq72nuY45o1KqxbJ+VgDgkKvJJUd8V5T8SbeTw3o8MknlxySSEYWVN+NuTwpO3J45rg5/Fzw2jx7mbcdvzE104apUhPSCl6nDmMaeJpK1aVNrrGyPd/B3w90zxlqSx6brFjcNMTsieQR3Dj/rkTlW9stXe237OiW4H2iyvJGHUMu3H/j1fHUfiuYXQZX2lTx/sn1zkGumh1HdEMsGyvJOCT+tevhcJFxvKnr6nz2OxNXmUaWJsvS7++6Pru0+G9pp0DQtakIy42yyxjf8AUbsD86s2Ph210tQkNjbqzYIxPBGq89evWvjuTWEOFaNVX+IAdfoTTZdSV9uIY2x28vkV3QpyW0Dx5UoyXv4m/wAn/mfZF7J5jSRi20mdXBXL6lCPx+9xu/Ssyf4e+HNfl/06x8OwLhmb/iYQKfwKyYr5GkkTOWhj3Fflwi4NNaaOPcuFXthVH+FXKF9HAUcLRgrQxNvk/wDM+p9R8AeH7V5PseuaNaQkHCpqdsiZPU/e3+mOfWsG+8BRwWEl1Dq+h3TBdwgGorJMB/d+U4YewbNfPC3kalljX8v/ANdTWd/NC/7uRiFXhRjZ+Wc1lHC8rvyI64tuNniH93/BPYp7vyXxhgu7JYDp9Ka2qMNw8s4+U+hqnplhcTWkC/6ySRImLA5YblBPPTuPzrWXwjdyMfPXyYV/5aN8oH1NfRYfBwUbqJ8Ljs1q87jKe3dlGTVH8og8bm69dv1ogvNqqkasEU4Bxnms3WfiD4N8DktqvijSI5I1yI4rgSux/wB1CTXD+Iv23vAPhm3ZdPsdY1py2CURbWPPqC3P/jtdsaMmrJHgV8zpRvJs9UghZl+QNlgyqpGSKdDo107MoRiy8hCME/hXzL4s/wCCjOtIZRovhzSdOhbdse6kaeQfiu2vK/En7aPxC8TzyRv4lvLSOR1Pl2e23AHplMN/49XTTy2o1c8HEcSUIytdn3Xq+m2+hQCbUbizs4G5Mk0yx7frk1y2sfHn4feFXdZvFFrfyRjKR2EbXAlHp8uUH518F3/i7UNXnMl5eXd1I3eaUyH8yc/pVuw1IsVwX3fWrlhXGIU88dTQ+u9S/bG8NWM3/En0K9vX3ZVrkiBEP0TJPf8A8e9RWS/7T3ifxHG62H9maWq/KTHbCRwp75fcM/8AAa+e9Gn3yL83v+Ne0/s1aVHqPjELIrMiW8kmAxVumFwRwOeOa8rEScZKKPqstjSnTlOqr2VzqfAXw7/4Ta2ubnxE95qF0tzjdcSuF27c/d47kflXfaH4E0fRBI1vp9mszJ5eDEGGPXJ71oaFZNazXCwrtBkXIyOPlq59i2NIQGbCrsQjH5mtaa0szhrYy8rLRFe00+GK4ysasV5BCgc/hSa9HIumXEYfIIZS3YZrREOEB27S3RgOT+P3v0rN1r57CRWU/MVJ8zuKZx+0c53fQzbXTli8viT5Rkj1+lWHKoq/LtUdRnpUyu0iKWCqrfME9B6ZpZAjD5Ru3dfah6kyvJ3ZnypGibWXDbs89K86+Ld/5PiCFgx3W9jKpKuMAs6rXo1zcb7plUyFm+fB6KPSvFPjBrDXviW4MMn7qOBYTgdSDuJ/HI/KoqP3LHoZfbnc30POvGOpt91n+90weo9TXffAvwlHY2f2y7Xh186c5w3lDoo9znp/te1eX2mhN4z8VW8LF2hhk82XH9wdQfrXsiXj2VosK7VWRgSF/wBnJA+mT+gryM0qezpqmt+p9Nw7h5V8TPFT2j8Jp+JvE934r1ma+ujvmuGz/soMYVBjooX5f+A570xH+Rl/vdT3rNS681umfbpVgTrIcLnPpXzad3qff0qt427GpFG97OqL87yHYAD1au41vWNJ+BvgC61rXLiG1t7GHzbqbLBpGY/LGu3qxbgAck8daqfCfw5JDF/aM25Q3y2+VwN2cbue2e9fH37Y3x8uP2hfiiui6beNJ4W0K5zagAqt9c42tcZ6bRgqp6kZYfeFfccM5K60ueaPxHxY8QI5fh/q9GWu3q/PyOX+L3xi179qjxl9o1CZtP0S1LNa2Ck+VboRne+OGmboXP0AxzXU/D/4aW1jYW7XEEfkxhZE5y0rf3ie30pnww8Aw+duuIVtI4RyqsG8xvT6cj8q7nVruHTLJmnaNOFIyvJGQMAd+SPzr9To0YU4qMFsfxTmGa4jF1pV68uZv+tC/oFrFY26pGsaqoYBsZ4HAH58k1I9+HZssMdFJPzflXVfDT9lH4h/G21W6WGy8L6EwEiXGoKTJc4XKkJ1XngsefavVP8Ah2hMtkJf+E4vmmZt2GsFaCVumMN8wH/Aq6uXW55MqjPALd5CZfn8xhwQV6VznxI8Cr4osJbyHy47pUyQOEkH9DXrXxg/Zq8YfAyAX1xZw6lohb5tQswBHEB1LJ1X/wAeriYG3ovzMynDEDkEHoKUoqSszfB4yrRqKdN2ON/ZL+KP/CGeOIYZHaO3eTy5UduikYJ+oJJ/A19zRbZtBu1ypjjj8/cEztI+9j/Z96/PvxB4Tf4f/EQSKqmK7U3CYPTL8j8wR9DX258PPEd9rPwRa7047r+40i4+zKV3KZhC4jIH3R84GQT1r43E0/Z4lJdT+lcqx317IXKWtlY2VshCLp2h2eTCo8x/lCfNjhl4NfBX7V/jhtd/aBeCxuPLit28lRFMw2Nux1H3eg6Zq1d6H8XvixJDLrOva1GWALqbpo4wSVYYjQ4AHvXP6z8D/wDhWvivwr51yJrrULpzJEqfcVNhJLc9S4/OvoqOASs6up+MZhxE1CVHCXXnsfTXhqyWPTIldW8wxKoaRctx0PPdu9dFY2Qkk+9lTySGIyay7GBo18llfEYKhsevT8q0rOfy5Fj8wFs5wOtdnNGPkfIqNavJvWV/U+vv+CRPhtfEH7a/hNljWX7Gkt0T3XaM9PpX7dL0r8h/+CH3hlrX9qGS4uY5IWj0uV4g0ZHmMwYEZxxxzX68A0qUlK7RONw06ElTqKzsnb1HUUUVucYUUUUAFFFFABRRSM6r1IHGeTQAFwM8jjr7VxXxp/aB8F/s8+E21rxt4m0nwzpmDtmvZwhmIx8saZ3yNyOFBPNfJf8AwVK/4LOeE/2HbO68JeG/sPif4nzR5FkZA1poAYNsnuypyW3BSsK/OcgsUXk/hb+0T+1n42+Pfii98Q+NvEWp+I9a1Lcsl1cyKVhTlvKjjUKkcW442oFGAOKzdRHTTw8pH77W3/Bc79m3UoL5bPx00tzZqTBFPp89st6f7qSSIEH1Zlr5n/aF/bR1D9qp5FvHQeGfM8y2sLSdZLVUHR3kQkSSD+8Dx/CBX4oLr0l5Na7WJZsYXp7jNdn4C+LN98P7uOTTJHtJlO8SWzmJh7YUhcV4ucYWpiaXJTk0uyPv+Bs4wOT4v2+IoqcujevL6efmfdniz4KG/uJJtIkXb18l24/A1wtzLrXgS78uZZ4Nrd84b868l8J/t2eJ/CdnJdapNp+pafCWAW6AWUn2dBn891erfCb9vnwv8X9fsdDuNH1aHUNTlWC2UQrcxSSkgLt+64ySAMjuK/N8dwfiIe9S/A/rLIvHDKZtUMW7X0tL/M6fRvixb3UQFwrxO2Qz9gR1NdXpPim31CCPy7hZCo25JqHU/hno+o3O14ZNLnk3ZEZZSpPXIIrn9T+A2p2LZsL6KQscqj5VvzrwJUsTSVpRufqFPHZVi4xnTmo82x3FjewzrsVvdsHk1Nb3DNPjau3qqg4x9TXl73nivwl/x8Wdw8a7lXzF8zLeuVHTgVoaV8W422iaOS1kZskr8wA9Kyjior4tPU2qZXOS5qXvLy1PQpZvNZVx16n0p7kwuu3d8wwQOQD61iaJ4qs9TVmtbpGTqCCK17RWZv4seuc11c0ZLRnnVKTg/eCGRJPvSK+3kDHQ1NFNNFOG+8jdiMU+zALp+7Zc7lGOfxNTz2yxuvO2Q9qI6bnNOSvYopuS4kUANvbJYH7tX1dFVR0PTr39arPeCMbsbdo6EfL+I60kJTylKqrKehLbs/lSkErsuuogj5Zm+bvVHV/BNh4niMN9Z2t0rMuBLCJNn4Nnb/wE1PBcZLbW6dAeakS4YIvzFd3dea0g7bHHWw6krWMY/CWPwzaN/YvibxDpJjXKWtpdfaraP6xT7o9vsmDTk8XeNNDkEf8AZmg+IYdu1XM76fdn/eGGhP4Ba3Y7wykf3SeoHf39qmsZHku8COTMhwkYIOT7V0+2PKllqXVmPJ8YrezlWPUfDnijT2UAlV037bG30e3LZ/FVrbtfiBZanZw3Fjp94qx/u1n1O2NmiN/dWJsSTH/ZAUf7VRT3kMyeXarHM2f9cQfKhyvGP7xH+ztH+1Rp8flOZppWuLrbjfIOQP7gHRV9l496HVtsT9RnKOrY+Oyl1jUUu7uWRrhUVY5SdssQ9I0X5IF5HEfz8ferT0yOLTVaKGOOFC3mHYNu4/3iepb3OD7VTjby13ZfceSMd/apoJtkDLnEn51nzty1NY4OnTjywRqG9LtwtOF1/pH3sDHzL3Ws1L9om2/LxwxP9Kmju/m5jBzxn/Gtk7bGcqFti/E+6RmB+8vAxVyFtybmbr0x2rMs5FRdyFV2jaMmphdL95ec9MHinGRhKm72Lsd4Ypf7qnjcev5VL9oJXeoZtvbP3qox3SMdrKdvYmrVs3nStuO1D0wp4qk7HNUilqye0DGH5pGbcc4I7elSJIhCrt3ZHB6Y4qC3l2cblIzjgVMLlRHyWXa2PwpuTZjKBYidQigfN+PSgOfPVt+5fUVGWEseG6noR3qNA8J3CM7V+9n+lV7RmXKi/FNIB98sW6kc1PG2xcHGOvPWqI/dL5nmYXr9KS2vDJuGwiMdHPeq5jJ07q6NE3apwzfe7+lSWs+drKG+f2xVO3eCS48xzuk2/Me34CnXWoLFE0kswhiTnc4+Vfxp+0cnZHLUtFWeheMitKXZui7iMdB61WTxBGZXSxgmvZF6sjBYgPZjxmsu0WTxRPudJ1s+GWIg7psdWPoD6VpSXUNhF5LyQwrH9yPH+r+g6/nXbTUYLa7PIqVKlb4HyR7vd+iOc1Pxp4u8PX87TafDNZq+UCQ/KQegU7t3GR19KNP/AGgLfzCt9p1xayLxiA7v/HW5rpBqM1xmS2tnXsskv7ncfUHr+lR3ekrrEm28ZZhydkUQQMT03N94/hXqUcThpaVYW9D5qtluZU6jnga7l5TWn3mhoPj7SfFU6Q2V5umZfM8iSIrJj1x92tiFwg6kZ6Ecg1z+o+INO8DqLe8uI7HMXmCyiXzLmZfVYkBkx/tsMf7VeV/FX9tvSvh/5lvYspuGTCLHEt7eZ9MDMEXH94yNn+CvLxWKoU3duy89z6nK8vx2KSpwjzy8tvv2Pe7q6Wz09rm6aG1tIuTPM4jjH/Am4rhPH3x08H+F9L+0STRTM65SW5f7DBJjoyyOokkU+saOK8K8Pr8Tvj3fR3zQx+ErFgM6leBrm/YDr5YfCoD/ALKJXpfw/wD2b/DvgLVX1C5juNe1yXa8up6rL9quHP8As78qv1xu965I4qVVfu17vd/5HszyOjhZf7XVvJfZh+r2L2m/GTUvGdrEPCfh/Wo2lVSbzU2a300n+IoHBllT0IQGu4S11i6k8zUNQQQ/88bWJlA/3nJ3t+S0luv2dd2c7eAuQuB7dhU51Ni3zLt3N8oB5/GtaMn1ZyVuTmtRiku71f3stafpVro7q1rCnnSEb5PvM59WY8n8SK0La/ZcH5V9AOcVji9Ztvy7fTB60NctFP8AdZl7NjkfhXZGcVucUsO5fFqdGdU3jcvPqAP5VPDrWT82AqjPTqK5yK8+7uyy4zz1xUragYwR5n3jjkd/8KpVEzklg09LHQi9WUNuWNhjbnFMngtZbf7nGMnnkfjWGup7HVNpwrc1dt9QIXao8sRnIx/EPTmjT7RlLDOPwiaj4Is9Vb97HHOpUArIvmLg9V+bJx+tcT44/ZS8L+L48SaNawyd5rRFt5P++lCmu+jv8v8AvMe2Dj86spfAFtxDf7wqJU6VRWnFHRh8wxuFkpUajTXZs+cNW/YN0+BGax1jV7Ur0V/LkT/0FT/49XI65+yBrdpKfst9p19tbezTQGJ3/wCBLyG98Yr6+gu1eTLbfm6A96WfTLW4DFlX5uuK8ytkuDl9k+mw3iFm9J3q1HL1R8Y2/wADtc8Mxtu8KR+cvC3NnJHcOnY5WUgnI64Iz2qrN8LfFE7rHHPK0mMtDPbtak/TIKfrX2hd+GYZ7ZfKHy/wg/0Pb8ay5/CcitJlWZN2SUbO4fTqKx/sWjHSndI9Kj4iV5Pnmlfz/wCDc+Zvg3qWqfC3xPqFxrXhVtUjm2rHGhh2pt6sFLbWB9DtNdp4m+I3w78ayyRatZXmjySf8s/sr2yj0/1MjqAPTGR/DivUNU8FQNFJthU7+pI/n6/hWLfeBfPQhQse3BOI1YHHX5X3dK2jg404qMdV95jXzrC4yv8AW5JwnprGVtvLU+Z/iX4G8GeA4YbzQfEkmoTXkzRpb4ZpLWER5JctGrE7sbePujHX5q4HUNK0+I/u5JJBtUBnUoQSMMpDZ3bexHWvqrxf4O0O10VodUs9E+yrJ9oxJ/omDjbuyuD+PSvH/E9l8M/tMi2Mt5qF7n/jy015biRFOTksoKBQcdem4f3jXi47KbtypONu3U/ROHuIn7JQre0m/wCbR37dFt/w55KNPDPuWRWxx07f40HTVk+bzoV29AZCo9a6i/v7WaWSOx8BazN8ny/bTMuB7qFUZ4P51my+IvEenT7f7Gj0yNjjfbpbkjnPJZ2bpx1r554NKdpS/Bn3UcyqSV4x182v0uUbTQLiZ2aFPOXOPlGRmg+GZINxupLa3XOwmWZcr+RZv0rQlOrX0fmXEeqXDhiqr9qEgDDpjyzx+NVUb+yXVJLT7PJ8u4FGDM3+83Fexg8jhUXxI8rFcRSoq84teiHR6Da52/bLi79Ba2uNvrgyYU/lTdTEPhzSbyaS3ZVt4tzvLOMn5uwRR61aS9a0RW3BUPTcORjr+dc/8V9QaH4f6myncrRKob1+Za9WPDqjFyex80+NuaqoR1V7a7nM3PxpNpFItnY2cPmLt3RRIJFXd1DEZz+Nc7rnxg1TVN3mXkm0nkBiu7/ex1/CuPurxWikbzHE3RQDwf8Ae9fwrMuLtiveuCOVwtys9atxFKLbhFI2tQ8YSarN+8maT+L5iTWZfX/m/wC183risFb3N6y5Zgv4Vaa43/0rpp4KNN2PBqZxUxCvJmlYzfab9F3YLNnOeK7C4Zhx2bpzjFcXoDCXUoc9C2Me1doI+CrLu+Xn2+ld1OB5+IxU1bUbDuZsd17ZzU/nMWb5V3f3B/jTFVBKynZj1AoSNsNJxt/WtlGxyyxE273JpFkCHcjLt+7nv9KhaOTazLg56c8mpBLtXGWG7pntUGMMzLlm3fLk8VpZWsZxxE2LCrGThsY/2TWhpKMZR7ll/OqM4567lHXHBNa3h1Vnv7ddvDSLnn/arnqJXsdVKbaZ5F+0B+294+8M+J9W0bRdUh0my0u4kt7drO1VZXWMlQfMfcd3C89OK8Hl+M3iv4iyNJr3iDW9UdmGUur15FbH+zuC191+OP2R/DPje7u5zDHHJNK8jcK6ks3oTmvLPE//AAT2W0naTS3j3fNtiEpUV9Phs0w8KVpxPyfNOE8zxOMeIpVlKP8ALezPDU1ZmtYgzLuZc7RnH681m3l2y8mRiu70r0vxZ+zR4k8Lkr9hn2R8HcpCn6HFed6/4K1a0jZZtPvNuccIGP6V10a1Gez+88zH4DH0FarTk/TUw9R1j+Fs46fjWSbgpcZz/F1qDV1uLS5bdG0fltkqRyDVaO7f7Qx3BV/OvWp04qGmp8NicVVdXVNeuh0unXfmqo3Mp65xmtzS3CtycfWuPsdQ52q3HH156V0ekXLSSrgqv1NcmIpNLU+jy3Gc70ep3GgSAFW619D/ALJFup1vUJWIZobQBTnqfMWvnjQF8ySM/KF9K+mP2QdOVYNYmK+Yv7qNePfdXymK/jJH6vl0ksHNvtY9XslkJuN00bK0z5Rhzz0/KrsZMKfwHb1wMk1DpatcI1wxZ/OleQM/YFmGMfTmrDKJH2t5iqfvoD/D7H1rQ8qs09iN1LkKysO647Vm+I132ariT5yq4z8gw3PHXmtiVmVVXdGsa8KGHX8aydYmkkS3ijGZDOsmccMPm4FGhNN9RkMfkRLu+ZlO0CkI8iXIw2eqjqKlW5WOJWiH+o+TnnJ9TUDCSZvLjRpJMdIhvZjxxgd+R+YrXlOL60r7mX4u1FdP0e5mfqgIwWCrvPTjrg184/EPWfOi86Qj95uxg4/Ovevip4S8QXOigw6bcLbxwvcs0xEQCLwvMjDOey9TXzD46uJJZDb87vN2gd1rmnTfOenhMRF0G4u7vbQ2vhPpzwae90xY/anwBjov1rrpp9suGxz0OOlZfhe1XTtOhjEm1UXZj0PrWgWZh/e4zXzeKvOo2z9LylKhhYQ+8mjl8s9OvIOa2vCthNrWqwW6/K0kgBOM4A6msGM5Gfu5698fSvUvgR4Xad5LxgzMW8iHK8Enr+VZYPC+1rqCNMyzBYbCTrPocX+3F8X1+Dnwdt9B0t2j1jxRusLZ1BDW9oij7RMO+cMEU92Y9xXyn8LfAmoNewx2/lpb3rqrRqvzMn1PQf7VaX7Svjib9oP9oTWtQsZ/N02znfT9MDNhRbxEgvjtvYNIT33gV0vw40C60rSWmkfzJpHwWKAhl68Y6c8V+2ZbhVQoJH8B8c59LM8zqT5rwWx0YEPhvTMRr5UceANqnfI5OAoC5yST06819Yfsy/sLr4OeHxR48tlbxJEnnRafM/7nw/Gu3HmE8GbkFieIzhR8yk1l/wDBPn4Af294gb4j6pbpNa6a7W3hu3kTctxdrnzL8g8FLckIhPJmZieIxXuFp4SX9p6+We6ZX+HGl3O5IgT/AMVbPG2VndsgtaI4AA/5bfePFeqkfBuR6NbWlrbWSTQvDN8oO9MFZM9CMcbT2NeI/tMftWeJf2aLqPVG03w/rWg79lxaGVrW+UdNytuw4x3PevGf+CqPxb+KH7N/j/wzfeEfEV5pvhHWLNoEggii8m3vY/8AWKQY84ePy2A7bJD3rwHwBovxJ/bq8XaVpV40mo6hfTIkfkRGIHeqqW4yqqFBYkrgYzWzl2Jep+h3wV/aG8F/tb+BZ5tHZZjJEE1HSLvaZoVbko46suP4wMV8f/tA/A3/AIUB8X5tLg8xdF1xW1HSnbIRAG/eW4x0Kfw5619h/s//ALHHhf8AZ98P2dnodlZTahYuz32uhf32pTkbSsbYz9mHIA3fOcMeK5D/AIKI+Bk1P4Er4gii/wBO8I3sd2rLGGY28reTOv8A3y+4+uBipjqET4X+KXh1bjQYL/y3861nSPcEBBDcEZ+uD+Jr6y/Yr8Bajq3wP/tC8X7Np8LysLid/LjIHJKg9cEngV434C8M2fi7X9O0u/TdZTSokqg/MVHUY9fevphWgsoYLa3XyLO3g8pIoziPZ6Be2e5NfL50uWvGSP3zw7qe1yirh+t7Hi9joFxrQkmsNPuLhpG48yMxqB6/MBVfV/2S5vHni/RdW1K9+wtou/yoIF8xZmZg+S55VsKoyMjivc44FdP4WONuThT+VSxx7SUJwerex9q5ambVuXljoehheB8vpzc6kea/c4yy+DWlae7NI0l6Tt2q5/d8dcjrzXU+HPB2n6LGfstna2zT8Myrt/P1/Crqr5afeVf1qzZpuZmLNuUZPoPpXC8ZVqfxHc+gw+U0KOlOml8j7W/4JB+GTd/F7WNQfb5ljYdlwBuOP61+jAINfDv/AARz8Pb9M8Uaoo3KTHbZ9wSSPwIr7iC7Sv419bk8X9XTfU/A/ECpz51Uj2SX4XJKKKK9M+LCiiigAoo3cVR8Q+JLHwpo11qWpXlrYafYxNPcXNxKsUVvGoyzuzEBVHckgCgC7vX+8OuOtflN/wAFd/8AgvTZ/CptW+GvwS1G1vvFCFrTV/FMJEkGknO14bTBIkuOxlb5Iw3y73yE8Z/4K5f8F0tQ+Mw1T4efCG8vtH8H5a3v9dgPk33iFR95Ij96G14wTjzJQpB2KSG+Hf2P/wBjPxL+1j4na6DtpHhG0lZL7Vgm6NSBkxQKfleRvungqmMkgBVPPUqI6qVF394q/BT9mHx5+1v4mluIJJppr+53X2pXssjiEYXdPM7feZhwMHe/rXq37XX7LfhH9nzTdH0fTbUalcvYiS71C+hRri7fe6g8DEa/Lwg4Hc195fDD4baF8E/AUXhzwxp8VjYaflQoOXuJD1kkf+N27k8+gx8tfIv/AAUB0zVviB8UrC0trFnvriCG1t41bJ3ZbaN7fLgEkk9q82OIUqmh6lE+OfFPgWPS9Bt7yyt7SJZJjGYluv3rjqSid0xwdzc9q4+70jULJGktBA8kh2Ak7WA+p4r0rVPh/qTW009v9nureEFJplf5YnUE7T2yQCQByQDXn/iHXzpdxHZxxvdahMBHCiHd8x6cD1rsizolaJxGo3V7p17/AKQJYWXli+fk/wBoZ4I969Q+Fnigfs7+fr140tr4qjj2aagYb9LLAhp2Q8+eAMRqR8hYs3zBQeW1XUbX4S2smoalMt94wulV7UIySRaT935iNuGmIHHaMcdcbfNb3XLzxDfyTXE00txcH5dxyWPrWnLpZHD7ROSfU9ZvP20PGmm6AdJ0HUbjw9p+8yhbWQm6lLdS0rZP4Db77qu/Db9uD4lfDq6RrfxNf3sAbLW1+RdQuPT58kV5Da+G53uFEknljONgGf1rUi8OLY3SxtJGszJu25rD6jhukUexDPcyVrVpe7tq9D7Y+G//AAVSW6kjh8SeGdq7f3tzp1z9/wD7ZN0/76r2zwp8bPhP8c7X/R7zS7e6b5fKuf8AQbgn1AJC1+YMGoWtnHIyy/d6HbUN94va/RdhjLJjc2MkfjkV4eN4ZwVe6lD7j9EyHxWz3Acr53NLe+/3n6vat8AFgEc+l3ixMxyPOB+Y+zjnFZ81v4u8HQtJLFHfWsYwZFb5Qfc/er5n/wCCa2r+No9ZvNdurjWtQ8I2MUlrHpsl3JBZ6lemIBBvUFlihB812RSwIVB8zAV9qeKPCmmfEaxWK+upY2QfctpWjgVv4flbceO27djvX59nGSU8DU5aMtfI/pTgnxCxed0vaYug1H+Zq6foU/DmvQ6nZsyy28s4X975b7gfy6VqSv5DfJJmNudp53/j2rzbU/gT4g8K3rXGg3H2uNVyI0bbID8359azdL+NGqeHLzydYsvMkj6qQY5APwrwXieX+Kmj9E/s2Ff38JNS/u7M9Za1UK7M23fxjGc0L5lwqLGv3ThucZHtXP6R8UdN8QQxpbyCKbCsyyHy2OeuAK6CGXzAxjCo7YwM1tzJq8WjyqtOpTfLUVn5ivblCu07drccdfrSx/vsrnG30p1wizo0bfNuGSoPOPao438gSLEWkuIyo2YLKmepflcH2XmtYT0uyOdW8wWdrceYx2wk5yBlpP8AdHf8KZOzTr88YjRvlKZDll/6aE/w/wCyOP8AepvlBm8xtxdeB6Kvpj09utI1yk7sql3aI7enBodSxXs77lqLEUS4O3PGF6EU6SVYjgszN3w1QTv5x25Tp8uRmkgYkbT823gkdSKUZhyrdlxL9mkZmK7d3HHSpDfEuoVmz/CqDg/jVEupVlYhVB456/WnpIF2tIF3fwjGM1caivczlTRq2s3nKytw3X5qsPKA7MmN0K5HHDGsmO4Z0bK/J6irQmyylG46sPet1O5ySpGgkoljfdlVY/Nj+GpvMMaZGdq1medIW3NtCt0IP9KliuwF+917A5ojIwlR6mp9rVUIMg3fyqx/aLZ2r82772ePyrLC7ELbssvcjj8amV2CxYYDPULyPzrSNRs5pUos1I51B3fKvGCCOh9ak87avzGPC9fes6G93xlRg+mTyatRRecmWbaFHMjMSCfT60o6nJUpqL1Lq3+Snz7u3HarUMmxnHK7umOhrFh8T6bZX8NpcX0FpfXG5baK5nETXQABO0tjkAqSq5IrV1CVYG+ZWj/uu3GfwrXXscU3HmsTzXGE8tju9OP5063u/wB2WbPy9sVmSXZkkZlB+73NS2d0wlZW5yMj3oG6Pul0XCxuyrHub+7tOH+p7VWSTzyZZ41uMllVACUjPqfU+/Sozcr5XVU29SBSpMyrwfcADgn3q6cmndHNWwcZ/wAQtzxTXkglmuZl2j7kPyZ/2mbr+AqawRbC3ZIljj7YUYaqOqahBpenxXN7JHZRNII1dwf3shzhEVeXkOD8iZPtXkvxg/bE0v4fxzW0ck0V5Cu0QxNG94B83EjEslt/D97zJOv7ta1lUaXNOVjLD4D2s+TDw5pfie0Xl7Do9tHLeNNEZU/dxJC008y+qovzbf8AaYhPevL/AIqft4+Ffhq01n4ejk17U41KALGnlRH5g2Zc42jsIlJ/2q+b5fFXjz9pa/fTbMSWWj3MrSPZwSMPPJ/ilZvmlb1MjbT22j5a90+DP7Hmg/DYR6hqUR1LUFOVMh3LGOmGH8RB5yOB2WuGWKq1tMPp6n0f+r2GwiVXNpcze1OL/M838KeHfiF+0WZ1kk/sLQ7pt7pH8sMnu7HdLMfeRmPtXunwg/Zo8LfCyBJEthfaoAzC6mi3eXnqEHOweg613SKkMa7flVeAOg/IU5Zli+8NjN1wa0p4WMfeqPml3ZljM4q1Yeww69nT7R0+97suQSFIdoLbsjOR8wHtT7OcDiQ7ht/Gq3nDapZfm9jTXbdtCsMKdrc811Xex4Tp3vcvRSLv2qW6Z9eKVJ1lzgqdv51QNyHHzbcqcMQO/wDhRDcPhic7wM8nANO9hOkaUczQ+Y27OOcEfyqWOZpotzMVEnIDckVnm9Rk3bhwcDn+dC3pVlaP5lbp7U1JszlRuXZ7pQm5v4Rn5T29KIrg7Mtu525/+tUH2nBCyKrM3p0olmDJHty314qqcmtzPk0sXRcqygN8xbvuq5He5gyrc1jO22N+V4XJ9j7U+CdQFbcvl7cdO/rWkqjZnKimrmsLtYRkZ/PNWobvzF/dv8wXlSOD+NZRjBG5WIZeoAyBUouHVflbBJwDjvRztbHLKjF6GklyyN/D03DParVtqDLEG+ZVY4z1rnrvWEsIfNuLiGFcZy7hQPbmvOviT+1LongiGVsvdbF/1p/dxqfTP3m+g4qqlaMVebOjC5NicZP2dCDk/Jfrse4Qar5px5gbHOdvb2Fcz4+/aH8I/DVFXVdbsbaTosAJllOOThRzz718K/GD9tjxH45mmhh1C603TyNv2e2Plbv95hy344rzLw5BrXxF1P7Pp1vJcSMfnfnahY4UM/PU8D1rw6+e3nyYeN2foGW+FCkva5nWUV2jZ/e3p6n2P8Rv+Cl2k2TvHoOhzXmzgzXziCMg9CFXLf8AfRFcv4V1341ftIr9os5W8N6LOC63CwfZUaMjJCfxOAOc4Uf7dUfh98FfB/7L+i2viL4hXEeqeIJE+0WGlRIk83H3WSJwFGMj97LlR2Fcr8Yf2pvEXxViks2lTRvD7kgadZSOqyJjaPOfAaY9PvYUc7UFYVsRUSVbGT1/kjo/mezgclwfO6OQYaLjHR1qvvK/aEX8T9NDsPEOk/C34SzyPr2o6h8VvE0YVpI/tRks45Dydzg+X1/2pG9q5XxH+1LrV3JJDodvpPhexUsI7fTbONNq8/eYrz26ba8tlvGJG7btJztxyR7HsfrUMwkaR2/ik6Y6CvGrZtVd1SSgvL/Pc+zwPCuDg/aYuTrT7y2XpFe6vuNTVvFuo6vLI19qGoXe/wCbM07ScenJFZ/mrGZPlUE98c/kRTWuCRtPfgcdBTZgsQ+8xXbjBHH515s5Tb5pS/E+lp8sdIRt6JIFmSBgFSOPcePkXk+vStKw8a31oiqtxcG3UqwjLbk/Ijb+lZZO50+6vp3203ONy9QvXb2+tVTrTjL3WZVqdOorVEmdlr/iOwuNNs7mG3jjuHbbKqN098VwPxk8a2Fn4EuIbiSeOaQqqsIjsTDLnJ7ZwfzqxdSM54Ylm6Adqybq3W5SaOVVkjkGHUjO8fj0Neth8/xFJ8lVXR8vmXB+Br0/aUPdqJ3TPGNR8e2sas0KSN6beKbNp/ibVdJbULfQ9UttPUEfbTaSeTuAyR5mNmfxr2nwxYa94p8eaP4Z8Ltofhv+2rlLOC6ttJhEts7fxvKwMmfvch1HIrN8T+DND8X+G/irqUvj3xR4xPg+aKPw9q02qSyw6kQkBu98LZQeW8qDCYHPLNX09HMMDy82r26d3ZfifhPEWc4vLcZHBYl2lJ2PDdHe4e6k+0SZkVu/Ga2ZH/ex87fY1h6QN18xYqfmY9OhrXlLPdR8dFYn2rrrxV9D18vqt07G/wCDYxJrUK/dVmyD1xXZyE/NuyN3TFcn4Bh36rH/ALK8f9812Dn+Jm+ZT0xXPFxtdHr1rpLmI41jbbu+YRnA7H8akhVfOxIflPIpvyscd2bccU2RflGNylePXim3Yx5bvQmvlhSb/R0K7emTkVCU+dQ3brjtQGaNjkbsdfahy2fo2D7inGdyYR7DduHxt5210Pgb95r9qCF2LIu73w3P51iRp8yt9/PXPGK6j4Z2qzeK7MMVEYbLZPHTdUyhd3O6n7sW2eoW8ykyMu1GznO04qaOdpJGwrg+p/hqG2kjnhjaPGJF4BPWpo4fKkO7K7kycc5r0I67nzEask7osToJolLxKynqvl5x+dYWufDTQ/ELHztPt2Lcbwm3n1xWuyguo2r93nnpTRMpbjG5hgcHAPp9aXs09zeji6kVueZ+Lf2QvCfjAKskHlxj5n4DbPwPJrwn4l/8E1dQS7km8O6nYrCnW0uC2/d/st6fWvssIBEVZdrL05+9UEjeQVeMsvy7jyOB6nPataNetSleEjhxmX4HMIcuJpJvutH+B+XXjn4e6n8MvFtzoerwrBfWRRpArh1YMMqQR7c0/RTiUn5vkXrivfP2p/BEfjD47a3eLGl1F+5jWSOQFTshXOCOOK5HR/go3nbliCNt+VS3WvWlm1Fw5ZvU+No8I4tYjmoK8Sj4PLGdf4j79K+sP2SLM/8ACMXkzMypNcoAccBlX736nivFvB/7OmuX7BrezuGWMbgSh6ep4r6O+Cfgm6+H/gyW01BVhmkkaYAOHwcbe1eFKqq1dSgfeUcLPD4F0qnxM6XSlMNnHvQj/ZqaOAINvzHDYdCf5GmwS5giKuFRQpPfHy0gO1253NuzkV0njvexNP8Avoz8q4Xvg1Vv7FdY8S6Hb3Ey2sN5LOZHEZmdI4YGkkYJ0ZtsYAB7lR61bcqybRu5+/8A/Wp3gnRI/F3xt8L6ZNuZbiG7RiP4S6wwqf8AyIxX0wc1tSo87seLm+K+rYd1Xt5D31vTLab/AEPRoW28pJeyNdS46bcHEY/3VUj3qa28W6tqsrQ2cs1uzv5phtAIQT7qgAA+7XqE3w/0/wCG1neXeq6T4aZlYfZba91J3muM8DzGOFXIK9FbjeOpFZ2ufGG2/s5rW01vQdKt5H2FNB0l/OjjbJYxzuVBcELg7cYBr1I5Sl/EmkfnEuMJVtMFhpT+TPE/iP8ACHxV4g0qW4XQdQuFWJiZZoSuAOQdzY+XPGelfHmuSfbvGVvGf+Wb72P976190fGv9oCDQ9DkuIJfE+r32xljl1LUlW3DbWTJgiVUYYYNhiORXwvbwb/E8jFiVi4Ukda8/HU8PTX7ttn3/CuMzTE0746kqa5lbu/U7e3fMPTFWDcbyysWbaNvzClsdBuJLJXVd2efmOKe+lzQM26NhgbjnvXxs6bP2yhUUlrp5dSSykBfaN3PRQMnmvQPjx4luvgh+yvqF1BNHZ3l1CunwO3+sEs4IGO6lU3nK5xtryfxD8TNH+F9pFqV8Y7hbdvOETHiZg3Chep/CvEPj5+1T4i/aVvrW3vWWDSdPkkks7GNAAWYAFmPdiuQD0AJHWvpuF8rqzqqtJe6flHixxnhsHgXgqdROpLounqZXgzwlcDUYFjLfZ2wgI/iA6Ljr82eTXvngfwXeeLvEGj+H7Hbb3mpXAsIWZxsizkyS7epxGGb/gOa8r+DFvLaRLc3EM0kY+VgHClGKnHX0+b8hX2Z+wH8OV8QfETUvEVx+7ttDhFjbSTcos8oG6TPTCxZBPYE1+pQjdJH8WVJO7b6nsPxu8Y6b8D/AIZ6L4N0NWs11WJNOso0OBBYods0rd/MclgMdS7n0r3/AE+wh06zjhtYY4LWEbI4o12LGMbsAelfl343/aSb9of9pK81qzk36Ab6Ow0dTx5dnAURGx6uAZSfWQjtX6kWRWW280k7XRX+ny02rGeh5b+2F8BLb9oT4JX2izQRy3VrIl/YMw5SeE7kAPo4LKfZvaqn7Gvwc0r4U/CG3bT4ZrfWNchb+1LuSHZJbW5LAWkWRwXPMjjt8o+XmvW5MiLttBwc8802CX7G7bf9X2IG1R+FOJCdy9GFtrJIVRQqgKqgevSvMPidPp/xk+DHjbT7do5reWx1HS2YESAuqON6kdSH6Y7gVsftA/EVvhn8HvEGtQ8XVnZTfZWkcKpnK7YwSfRiPyryD/gnfrtz4p+CM63bvI39oFHaT5pHMkKbix6c4B+rGtPhHHQ+XPhdcyXjaHcQZaWZoJlbeM7zs3E+5yeK+nmRWvGZQmxXyAR/DXy38GrdntNChjYJIJ0jDOpLD97tzj2yPpivp92kkmyDlt2CcYJH0r5fOpWkj9y8MbuhUt3LyFgnyhcr3NUb/WYjKsIDtPt8xVA+UjOM5+pxV+TcbZiy4+790VleHEW68f30rQq32e1hhYk/MrO7sPbnA/KvnZSP1inTi03YsLZapLuWMWtuem8gySfpWvovh9ZroLc3EsxZcOC37vHsOtTwqxnZSywqrbBzyT610HgnwjP4p8QQ6fZwzTXVwQsagZZs9MDqc1n1t1B1Yxi+fS2r8kfoh/wSC8M/2D8FtakRFjhuL8BCufmwGZj+bV9dhumfxryb9jb4HXHwD+COn6NeEfbpmN1coPuxMw+4D3xXrDJnPuMV9/ltOVPDxjLc/k/ifHQxea18RS1i5aemxJRQOlFdp4IUUUUAcf8AG343eFv2dPhpqXi7xlrFroeg6Ym+e6mJOT0VEVfmd2PARQSewr8Cf+Co/wDwWS8Wftw+KrvQPDb33hf4ZWcmLTTFYC41Rl5+0XmDgnglYQfLTIJLtzX6Af8ABxfGuo/CH4c6a+9o7jVb24aMOVWQxwIoJ7ZXzOGPIxmvx3h/Zmbx54z0XS7G/ktV1S9hhc3K7mQyPtLLjr9Kxk7s6KUbK7PRP2I/2Fpv2mHHiLxHLJa+C7WZrctC2251SZCGMUZ/hUbtrv1B4XJwy+3p+3RefAvxJfaHceFvDml+B9Lxb6TFp7yRXECL8qgrllZieWB59d33q87+In7Mfxo/Ys8O3GreCvHyyeG7NV85Le48liWOMm1kVo2YkkllO75unFfKuo/tBX/iH4m3eratGLrzx/puVKLPIOvyD5Bn2WuGzm7I7Iy7n314h/4KVWt2qSaT4bt7sxjePtN6UeP6fL97kdfSvnb44/tzyfEXxd/aK6bpWkXUdt5bNdKs3kfKyv8AvWBx8rOQF5yw9K+e9Z+ItxrereRYKun27fILeN9u0+oY9Pxrlr9brxROdPsVZpsF5pZJB5KIOrN/zzA9WwKqGHih+0tsdr8Yf2mvEXx88TW8NvbwwtNsgt9OsbcRxRqgYA7BwT1yT2A9DXH+IfEVn8IWe3sbhL/xSwKy3yyErYkr8wiJ4Lf7XQ9qp/ErxVpfw5nvNB8JavDriyRxLe69bwvCLwsiO0UIcb0jVmMZP8RQsODXn8Mb39zvWPaWHJyWy3ua2jEipUkyO8uJtVu2mlkkkklb5pHOSPoK67wbodxq/k2thaXGoXrDckdtCXkxgnO0AnoCfwrFnslZl2xxx+WqxHy++Op+prvvhZ8Y9W+F9vMNLhsXS8RorhXt1MkisjKV8z74TDZKhtpblgRVSlbYqnHW7ObZZI7hVEUyyOQ6gIQW3cjGfXt61pT69NrWkx2LW9mkMJcvttlWV+xZ3J3N9Diu/wDB/wAcPDt7dXNx4rt706hDp0lnpz2NvCsWnESLIix8bsMAVZn3cO+NvFcZ8QviZaeLNZWe3s5LS3gjSGKOZxNNNN0kZpAv3WPO07mXszVjzPU6oO75UY2pW9rLZx+c3lxqMKVH3zXov7Nv7Kx8YC38SeIma28NsPNtLeKQR3WrEN0Uj5o4h/FKR838GThl6b4J/sxNFJb6942t9zFBNY6LIG3YIylxcDdlVU/MIjhm6thcq3uE93NeSb2k8yQ85b+Hb0+XAH4Dp/Dmvz/ijjKGETwuFd5vr0P6O8LfBytm04ZlmkXGl0T0cvP0NLRtbGh2Vva2MMNjZWUX2eC0tf3cVvHzhUHsTkk8n5idzMSOo0H4n3Vt5ahvO2suFnfOz6nvXExxNFJzu+Xrx1qQFzG0i/n0r8hlmFedTncnc/srB5HgsPh44alBKMdktD3jwx8cobof6U6w+sZQ7f8Avqum1Z9B8cQNDqVvBcY5Emdu0/XuK+aYdWltxz/EvStPRfF9xo4WS3mkhLcBgeD+Br1MPm0n7tZJnm4jhRc3tMO+V+Wh6zq/7Omj3TtJperXFs0h27JT5iD+v57q5++8MeOPh1OjLNNeWcQLN5cpljUHoWB5AHrTvBXxOuWfbMzLCoXdMh2pFjruUdSfZa6+1+JdjcSLPeXH2u1U7orT5Cxb5hl1BwDgjrxxXZGnh5e9T908mrWx+Gl7KtapHs1f8TJ8NfFe3vLpIb66tbe4PMkkLExk+iv1P+90rr9Pu4Lm1VrdlMa8kRtk59c96838Q/2Hqt2Z/wCwms/myZLK8Lsi/wDXORQG/Gs210SfSh52meIFTau8QXObNiP+BsY2H+yDmolUdPSWpnUoUKq51eD7NafgevpIN7Nl+fnA9vSny2qI/wC7HDDcFHy/ma8xt/ixqnhidV1bT2aNAMSlBG3/AH0OG/Cuq8P/ABZ0XXiy/aY7VscRSERtx0GauGJhU629TlrYCvTXNuu62Ohe3Ib5isn97HaljkUzZXuMEYqxbSRSxIchgfulVyDTzCoH8Lf7o5BrojHtqcPtPsvcokNMV+8uOT71PHFtgVTuY/w7yCallhb7vRenJGagDyLAwaRVXdldowMemauMUHNzLQRpM7vMYELyMHipbdlAyqq3f5eagZXODsJ3ccHipIE2M+0rx/yzDf1rROxUrWLURzD5gjwDwcAEUsd3tVVJXdnt6etRPdqiKCdvzZ2+9G/zQMbdxGBQnYx5W9y2dTyZFbaR0bLYqaNhJLt+b93zx0aobeNgrbudpI3nHyD0x3PtTgz/AClI/ILDBztWQH8K3jY5pW2Rp7Y7MxS/aLa6mljWQojErBnoHI/iHdF6f3qlXVGvl3SOdxXBUIoUj+7/ALv61kxSfZ5Ru+Vcc8jk+tBjyi4cs238K0m10OSOFVvedyfXNGsPElgbfULGxvrFywkhuYUmQ5BUnawKgnPYdhWBafCtfDYU+Hdc8ReG44/uxW16bi1K+ht5/MQj2UKa3xNiT+IY5J65P0pUucsq8qq99p+aqjXlEyqYSMjBXW/G2h352x+EvEVn1O+OXSroHb2IMsTHpzsUfMfSrX/C7Y9O+XXvDvibw+cgGdrX+0bUgdSZbUyED3eMVuB4ZXyV8ts4A96bp9s1xOqR7mffwiL1z1wBnAHvWka190cU8G173NZIz7D46eB7uLzIfGnhfEfEgl1WOBl+odkcfiKPFfx68N+E/Dw1T7datY3G4RX00L/ZHPfykG17or6RDaP45RXmPx7/AGn/AA/4IEtpotvpeva5EChuZ4FntLEg4Kq5IMrA8BVwg/iJrwkeFPFHx88SDUtQlvtQubruRiaRB9xE6COL6BVX0NctbHU6fuw1Z7GF4YxOJh7aq+SHd7v/AC9Tpvir+13rnxT16ez8Myatp9ncRukl3cyKb2ZQrcDy8x2sZ4+SLG7HzO+442PgT+xvceJJYNW1rdDZgghWUK7Y67VxnB9TXrXwJ/Zg0v4f6VHd30cUl1GmREVzHGf5u3u3Feoi7jtpvKCk+Wceyn6elc0aMq0uev8AcdDzHD4Kn9Vy1Wkt5f5P9Sp4Z8L6f4K04W9ha+T3kdjuaU/7Tnkn3OBWt9qZ1Ubvu8MDUMs7Bxtyvb5Rx+NOkRpCSrBd1epFxSskfP1L1Jc0931LUV2EIX+997vin3M0SIVZlk3coijbVSNo4urfN9acGUlT8q/NwfUUm7O5jKmr3RNHcs/yxqeencmpBKyruxt3cmq6SJBKu0nc3T2qUzMbaRmCsrdO1apkOI8Fo2DMTsJ554NOTzJYsBsxgbSo/wAahE7SKyyMoPb3qS3vWY7WbO5uwpkSuDp5oU7pNqnndzmlM7u25fu9NvSntL5rsoKrt6AGmypuVt3O0bgelVCzEvMkibzVWPb8npn+tOuLiO3kYfKrr0BfpUSwbwvzfL7GnCNQyyKxwzcN2/E03ZkNK9ycT7VYFi27rkYxS26rvZQq7QMjZUU9zFbWbzXFxHCkfVmIArzvxv8AHyDSFkj01UmeHkSzRgKT/sr1z79K55VUjbCYGtiZclGN/wAj0jU/EllodgJ7y6gtbeP+ORhn8PWvO/Fv7SVvYtcQaVb+bMUYefKow3uF6sPrge1eKeKPHmoa3qHn3V5cXE3JZ2YMTnpgn7uP9kVzXiHxOumafJLcSKqqu5hv6L7mnBTl5H0FHI8LQXNXftJdlsdZ8Q/jZNbrNc6jfNNn7qv94H8OOv6V86eP/ijqHim93zNIIt37tM/Kv09e1Ynj/wCIcnirVppt223XiFDn5B/U1R8D+HJPGGoKbiZorOFsySdyeeg/4DXn4txau9j7LB1HT5YUklJ9tEl3Z03wz8Aal8SvEFtbxrceXJMsMYijMkkzscLHGo5Lk8A96+pL3VdF/Y707+y9LhsdS+ISBo7hlH2iw8OFgxZQek15tKhiMpHyOTwcO11Vf2avC8llpLfZfHN/bpbyyqP+RYt5BuESbh8t3KPvN1hXp85JHjiwSXsLFZF8xQWFudzSbQMtgnhsDnk5Ncsqyw8HyfHL8P8AgmkKMszqfvpf7NF2snb2ku/lT/8ASv8ADvseIfFV74o1i6vtQvrrUL++ffcT3DmSSUnoST6ZHGAOPT5aobTgNgsGO0Y5BqmiFMngk9DnrUxO4FcgMw3YA4WvDleT5nu931Z9dTcYJQgkktFbSyLH2hG3L/C3Q+lKZN7HcFXavrUEhwtaWmeGb7UljaRFtbdWwrt99h/sj/Gijg6lZ+4jLFZhSw0HUqyskZ8bqw5K529c1Yt9Bur58wQtIG64CgV2d5oGi6I1uunq1wyxqk087GQvP1baD0A3bDnoyMehFLCZJNxXLYGSq8EV9HguHL61PwPiMZx8rc1COnnoc9F4Evmj2n7LC3zcvKR1/wB2pZ/Bd7cwxxteWKeSgVESMxEKOSTjqSas6t488P6ICl9rWi2cg25We/gjYfgWFUtN+MfhW/vNkfirw5IY/mKDUoTken3q9n/Vula3Kz5afiLWlO/NH8CO/wDBmqfZNm+OdMtIESTgnp/Fzux36Vz+r6RPYqWmjaJe42/K3416PFfLHbDEyzrvwsiOJFK4zkEdsc5oSdLiz2sI5uSDuwfMI6/SvKxXC9GatTume3l/iBXai6kVJd0eSabqt14c1q31CzkMd5ZOJo2LAY29vp7da5nU9W0bwd4J8eWuiW11p8vja+sgmnxPix0y0hVZJdhLbzJJMiBj6BvUV6940+GceqQS3disccir80PaU+i+n415jaeBzrmqTwrDazTCNlVLkuiW4+Uchec8muDA4GphqqpSvrb8HdficvFWAy7O4QzKK96m7s8d0PS5I5C+1vmO7g5/irWktts8bf7P/fVen+E/gra634NtruOaWK7kj3FXRTGPm9Otbt58ELa48NJbxSQw6msuTcPubzBu6Y7V9HUo1pO54uFrYSnT3PN/AoVdS3jaNsbfPXVRMsnPzYbkkjvWh4e+CupaTfSSN9mkjZcKc84+ldAvw0uflDS24duoqKVGajqjsrV8M3dVEce0GybPC7evtTFhaTd/u12//Cq7iFn+aJyy/NjcufpT/wDhWUkUiK83l7uOBmq5WzH21Hl0kcHtN0W3A7h14wDTo7fa+1tzHrivQIfhkqzLGbjaO+1cEVLF8L7cHaZ2WRTtYqMZoVKSCOIox+0jgbWFlzlWOei45Ndp8MtN/wCJ6jbdwjViRjr8tU9UuvDXg7VmstVv1WaFElCSDcGG3oAOewqTTvjnpunW5j0PR9Wvlb528q28skegc80KMuo62Np+zap637HpEcIZPlLbX6Z52/lRHHHIHUyDcp/vfw7un6j8q89m8VePPFDK1jotro6sN2+4bdIuOntSD4U+INfZm1jxVdGNusdomxP02mu6J89o/idjuNc8Uaf4dh3XV1b2uDuLyS7SfbBrmbn4/wDh3TCBaSTapMzMCttEXZ329yeCvsOafofwE8K6bLvks5Ly6+75t1L5hz69cV01homn+HY0W1tYbRY02jyo1TPvkY5qlGTJVaktU2ziR4/8Y+I3P9k+GxZwynKyag/lqR/tAcn8Kr33wg8ReP7uJvEniHy4fM8421lAgQsOucgHJ/vdfavS40jifLZQ5yR/Dn29qguZY1VTEQvbOCeD1rOVNkwxr5rJHn3w6+Dvh/WjqE1zbS3MVndS2qAtzIUOwsT716LofhHQ9F2rb6ZaQqy4DbdxH51y3wOYv4SmmZV3XF/cNjufnx/PmuwFyu3KqoKqxBAyCaxpYSFvf3PQxmayU7RdvQvR3DKjKvlqpHJ2gYHpxVS5fziw4jZVboN1NSQTFvm2levPBqtqGoFNNlkYokKrvLMdqgdM7umK9Cnh4pWgvuPBr45zb53+Iy4lWNVCgN5fzAf3h6UsV0pcK/7tpGwABkgVyl/8X9B0thH9uWbarbTAjSK/0YZzWLqHx0jjnza2M7LH085gin8F5rsp5biJ/DE+Zx/FuV4T3atVfLU9Mmt3K71T5a5vUNfTw540huhOtvH/AGdJFv3bTETMjhlPqBHj8a891D4sa9qsvyzR6es3K7Ig7f8Afbc1z+sxDVblrm+f7TJMPneZiwI64wenNerhclq3vOSR8Bm3iVgnB08PFzPRNX+LGkmSby9SjuroY5R2uWfb7gnHQfxdxWTP8XGuOIYLiMLt3bvlWP8A4D1HT/x33ryfXfjX4b8ILJbzarFIyrgx2/71j+C8dx+VcbqX7Wli8/k6ToeoXXloGO8KCecfLtzjnjnvXof2Rh4q9T8WfOx41zvE+7gqXL6I9I8dfEXUtV+Imh6P9oliW6WWcPG53RrGu1s54PHy/rXB3BtrC9l8lF8suygnkn5qh8K63qXj74lW2uXli9jDYWrRJEDuzv8Avfe9cj8qNV8N6l5bt9kuJAmWwkZkbjk9PSvmszlh5VeWk9D9j4Po5pTy9YnGxlzJtq5pal+1x4T8LM0dwt/JfW5y1vFbYwf97pivK/Hn7Z2q6/IFsrGG1t24KFtxry34iy/bPGeoShgyq4U++FrDdmeZOgDdD619FgeH8IoKUo3bPyniLxVzudaeHoyUFFtaLXQ2dc8Zah4y1Jri+uHuJSdwycKv/AaueHVWAx53LJN91s7Qv51lRwR2/wAq/Mv948V23gBvt2oW9qzr9nUfOpUFQNvX1xXvRowprlpqy7H5TjMZWxNT2leTk3vc9l+HirpdgsfzzKyNNNN5nysEXqP7v3W619J+PfEs37Mf/BMTVdSt5fI17xhEbO2kU8xS6gSu4H1W1E7f7OAa+evC2mTanDY6RD+9bUZorJ2iGSrSOEPTsQW+ua98/wCCnmn/APCSan8OfAtkksem6OsmouhQqQVRLOBB/FgIkzAkfx1tT8zzpM+QPgZa3FnqGmYTbCs6hdv1Ufz4r9orzxZDY+DbW+gmWZZ41a3YsR5nGd2O/HOK+S/2Jv2V/wDhENTt9W1LSrXUp2tG+yWd6haG2JQqs7hiOYwdyqf4wCeK+mtd8KreDT9OikZbPS444UBjB5UbWzipmLmOX1/XdY1oBLfzsGdd4UHaoPUk+lem2tvJDpLxt+9kj6571naYYJrz7La7fKgChgU+/wDjWhd6pHHJPGrDeTgDPJG2knYjRHzX+3x8RY7vwhdeHbedF+w2S6lfJvBO6QOIQR6Eo5/Ko/8AgmtI9n8FtUcDZE1+kilXH3hCoL8+nHHtXGf8FAPh/ceEV8Ta08jSW/ii2tY41Cn929vCsJQH024OPTjqa6X9k6+T4c/sb+ItZlby/sen32olw4ydkDuAG6dga13IPnn4E6fJI2hrtka4lkR2QfxZfcfpX1AGkuXGf9YvUgcCvnz4B2LW/iDQ4/Ka8kt4llbbt+ZvLz/F2zx9a+gLSTUr2F1aOGGFWbaJJCxX6KODXyefSSqKKP6A8K6L+pVKj6yNWC1MfzZWTsQwwDVXwxHGPEGtSIeFuIYwSOUKxgge5BLD6mnWvhOa4jUXd1cXKbdvlr+6T/d+Xn8f/Qq6jwD4Im1K4t9P0yx3TXTiNY4lH7xvUjrmvn7NvQ/Uny0otyf/AAPP0I9D0GbXL2OKGJ2uJtiIEU/Ox6Y9c1+ln/BP79heH4M6bD4q8SW6yeJLhCbWB150+Mjv/wBNCPyHHWmfsOf8E/7f4QwQ+JfFNqtx4gYCS2tnG5bLP8R9ZD3/ALtfV6qAvHb0FfUZXlNv3tZa9j8G4646+s3y7L5fu/tSXXyT7Dx9OlLjFOHAor6I/JgooooAKKKD0oA8h/a0/Ze8A/tNeAPJ8faddXNrocM11BcWtzJBc2eVBkaMocEkRjghq/AvXPi98JtC/amjuvBuuavN4RsdQhuLP+14hb3ssQKs6uVVfnHOAOeF9DX7lftb/tmeHfhZ4b8WeHbi01a41OPS7hGeOJRAhe3JB3MwLAbl6Ke9fze+OdNt9cnlW8WGUSBgARkMfXsQa5+aM5OEem53SwtalTU6iaUtr9T9BP2uvjBous/BW4tLP7Q1xIY3QtEdnleren418HzaNY6paz/aLGG4y7c7dpxnPOO9c5p3jDxN4a0CXSdI8Sarp+nzJ5T2xl863z/sxPuVR/uAVzJ8ceKtBbF5DZ6rb7m3vAzQSN82eMcdOPu0qdFRRnKT7Gz4y+EmnyWaS6bJPZTxt82474/y615/4q8O6xqHhhbHTrexSxt8LdGAmOa/kDZDuTyygcBTjb2zXdRfF7R9SsZILpptPvGChY7mFsMfVXXg/jtrF0H4haPAskd1dxW8kkzD5iSFHqW6U1oVGS6nkf8Awi18dVjtZLWaOYlckrggeuelaVvYhZmtFkWGRWba03CnHSvofwvpseuRy+U0MkUUe/5T1Hp61h638DtA1eGaSOObT7hEx+4P7vPrsPFNjUrHmHgyLMUy3iw/Z7dgsm9FkwfXI+9+FWfEFpoVxMYdPu5JpIwxMot5IVP5itW+/Z41yzhEun3NtdM/O1iY2bO7HJ44rmZNKutC8+11KFLO9cZhEjbFZt2PvjjdnnPTbz0rNeZ1w96SiupRig1A3n2SxjvLye8Kxx24tzLJIzHCqoUZJJ4AHWvpL4F/s2WvwweDV9cWO+8Vx8JazRB7bSG7EdpJlPQ/6tPRjhl0v2fPhdH8I1ttWtpppfEkibn1Iny5LY54W2BG6IY6yArIw4wi5DdxDGFZv4w3zHcSSWPJJP1r8y4s4sUIvC4Z69X1P6u8IfBtzcM4zqGn2IP82u34ljcZJGlbzZJJHMkjSHJdycls/eBLck4yw4IFWPJYR5DD733ccfnVVGIHy/rUqTsG2t06nHY1+P1eaerP65o0VTioR0iui2JiWhG7cMr1U9TSNHhV2vu2/eBU4j+nrUbNiJl+9796kJVJAFPBbkHvWCunc7YtWuAxn5s96uafpf2wG4mdYbeE4kfH8XoPepINCVdON/LKrWe/bmI/OSfvKB/Cw7k8VXutT+2Rnckax7WEUOcCLPQj3HvXXGOt2ZSxHN7sDQTXIYz5ZjZbaHcqIDjzCehP+0PXpRHrjrLuVQ0i9OePxrAjlYyfKhXvg9altnIm6neOg/xrb6w0rIwnRje7OtttfaJozmVcHa+yU4rZg8R27lA5WTsvIGBnHf34+tcHDKzTJ+8ZgRuBPB/EV0/w18Fap8RfF2n6Hodrcanq2qTGK2trdA7yuM5AB+XgA72bAQAscCreNjTheTsePmTw+FpSr15ckY6tvax0NnHG9iY1jn8mb73kfKpz03DlBj2FVtU+H0N8zSQLHbgfLtSPaqn1IX/4mvu3wN/wTy8L/s3/AAtbXfiZrXge4vbiNBeL4gElvp2mn5mMUN1HNGysckGVlbOBtVeQ2Ta/sW/D34y+EbfxN4Lk8SWOk3wd4dQ0idfE+kuV4OPuXqMDkEGPeCDxWuDxuAxVPmhWV72s01r5M/A5eOWV0sbKlRjL2SdlNap+fLv6HxDYPr3hBmOn3VxJHHLtA3cLjr8p+Xmuu0D45SQvHHq1hNGVUDz4UG1z6n+7/wCPVufGDwG3wo8b/wBjx+IvD/iFtrtJNpkrb7Ng2FguI5FWSKYD7yMAw7iuVlKXsbLNHvEg2nIHz56dOmK9L95R2f3H6ngc0wmbYWOLpxcoy2dnF/cejaH4z0zxbZeZa3UMqocbQfnH1FWpovNk/d42t1K9voK8qfwtazv5kMawyKGA2DDA+oIO8/nWjpvifVtAjjxNDfWw4ZJVIm/B+ldFHFKTtImeBs70mehMyxRBtysUODxgE+lNSdtowGZicn3FYlj49s9TTbdM1rM3O1hk7f8Ae6ZroYxsMccQfcz7AOrMc42geueMV2adDineC99W9SEtDPDlpG3FtoUL1H19PbrU9gIUdW8syKzY2x/K0n4mo3VYXnWWNhMoIQ52GJhnOQeuMH72OhpZFV3b7ysvVt2PzHf8KpxaX+RnKV/d1CZzPOnmLHG0aKi7Mx49uOv1pWuTuaP7vO4nHSoZpZA0akbu+WYk1IHYzK2Ayt0K8/nS2KjTSRZSfGAxVjJ0IPSpJppHQBSWXOST8vHpVFGLvuHTd0/wqZp2b5OnqfWnzNkSgWIpcblk2+Wq8DHf61KpVYlVIwNpwO9UhcSLcqihdvVsc4Ncz8WvjbpXwc01hPGt5qkygw6esgVSG6PKy/cQ9MD5z0AI+aqlKEVzSego4edSoqdJXk9kv60+Z1/iHxbpfhPRJNR1O6isbCEeWZWckO2OI406yOf7i5r5o+NP7T+qfE6ObSdCWbTdHcBZIUfdd6gh4/fFeCuPvRodvqWrh/HnxB1741+JPtWoXTXDRkxRqDthtE6mNFHCqRxjnP8AETXsHwK/Zi+0G3vr5nW1kwWUbhNcEdVyRwpwOfc9/mrzamIqYiXs6K07n1WFyfDZZT+u4/WS2W6v2S6v10OU+BvwDvvGGtRXzLAq2jhpJpkD26EnhAvVjt5K9M19NeCvh/pnw90z7PY27SO2PNmb5pJT6k9voK1bbS7XSrZILeOOGKFQgjQY2j2/xNTTyBEbbJ8v93YP516WFwsKUbpanzGbZ5Wx07bR7L9e5Jc30txDuVjtX72BTTMoA3fe24Y9/p/9eoWklgjwv3ZOTkVDcrMZFP8AEvXjrXT1PGhS6dC5bPlVMZ+XqCTnJ96kErNKygr/ALXH8qqgtDCuVRWLcccCpIbgsMBJPmXrVWJlBEiy/vP+em7rVgTsUDbtzL04qtDEvm7hsj3Lzn+lWSMNgfMcZyvIqmzOXLcBO+Aj7cFuAO341YSfanLH6Y4qu0CjmRFBX9aEuNyMfm+b7wz0rdIz5U9iyZtq/vNzMvqcU+IKXyYz8pz8xzTcBQrBRhevenIZI2b7r9ueOKLowlYmQwl26BvrUiJ5DcD5cbcA4qrGWEyq2Cynt3+tLrGr2vh2yN1fSrDaouVz828+y9TUpqKMpQblyx1fbv6F+3G9WX7yt0Pc1xvjv4sWPhIGKORLq6XpFHL8q/7zdR/wGvPfiL8ebrUla1sf9FspF8suoHmsfUnOMf7A4/3q8z1XxQ97uzJkDoNqlvxOah1HKVoI97B5EoP2mK0/u9TqvG3xUvvE02LqZ927Cx5xGo9VTpn3Pze1chqOus8m5mb+HIXjFZUmoSXM7MDuw3BPaq892/mlZHVcHBz3rpp4f3uaSO6vjowj7Onouy0LTXIeVmY4XICqT8wz0zXjvxe8ftqEz2cDfuYDiRg3+sPt7V1XxQ8Ynw9ozCNl866BRG9AfvN+HavC9W1QzSmNWZtzcHv+NLESs1CO5y4ebf72bLmlWM3iXVltYxuycls9BX0B4BmtfhDo1nrMcNrJqCn/AIlNtOvnJFImc3boeGEbDCL/ABSKT0jrzP4Y6LDo1qst6PllPmTgfeZf7oPY+1bniLxPLrWrNc/u4l4WJVZtttGM7Y1PUqg4HGc5J6181iKi57J6H2GX4Ney/ebz0fp2Nrwx8QrjRvELXtyv9rQ3ZcX0d3Izfblc5cSMdzZJ53jnPzD0qaeSGe5a602W4jXaQEkkLPErH7rHoflJGRXJ28xmfOeOmAK0LLUJdNuo3Vm3Iykkc7z9PSuPe9+v5nsKnTjLngrS28rehqxyLFHhcIVwOffpT4nkvJkit42kkkHyogx/wIn+779KuXNra+KNOt7qzhFtdSSpavb7s+YxVmaVf7qELkseFZgvU1veHNAh0CzZVdXmkb75PMh9R7e1duDyydea7Hm5rxHSwdG7+L8vXyHeHfBtvpu2a6Zbi4Y4QKMIn+NUvih8VfDXws0SO98QapZaRbsCsXmHdLcEdo4lO5vwBrxD9pj9vGx+HF3caB4RFtr+vMpSe/Pz2WnsOCqhf9c/qPu+u6vk+S38QfFrxZJqevX11qF3cnBluXO589QB91E/2V+X2r9Jyvh20byVkfy/xn4sU6daUacva1PJ6HvXxS/4KTahrUjWvgXRjbRKDGNR1VRLMw6ArCvyKMdAxYg9a8Y8S/En4kfFU3Eup+IdauY7j5pLf7QYrdl/65JtQflXV+H/AIS2uhyeYrJcIvVdm3P511OmaYPKkAhVOf4QD8p6flX12Hy+hSVoxPwPOONMyx7vWqu3ZOx4ZB8F9Tl09roQwK0f3jxnrt96bqXw01TTAJlt1lbo25AzAfiK+ho7G5a1dURvIhXbiLKLGeuSQMdamjCW1usbKVZvuhgCp/DrXZ7OHY+djmFdO/O/vZ4J8O/HmrfDDxNHsvtS018q7CyuWtyBnGflIHTjFfUXw3/bE1Lw/qNtb65J/belzR4hvVjWG5wOm8rw7+oPP+1XBeJvAmn+L1hkuBAsuPLY5IO3rn65rh08MXnhWeXR7pWa1lkBtZu6yfwqD79xXiZllsZLmS1P1Lg3i+pCUaNWb+bP0P8ACvjWx8X6Hb6hp90s9rMCVcEj5h1B9/aq2t+Erd5jqccflySDZcCMf66M8Fvrkg/hXyB+zV8eLz4YeJltruSWazvJBHLFI3zcdCvYFefr83qK+1dMvoL6zWeJlktbiMMrAZ3g8gEdq+MxGGcZLnWp/Q2U5xGpRvSfuvRrzOT8I6a3h7QrfT2cy/ZE8osV+8fU1rWkke5QBtweUP8Ad9c+tJ4qjj8PXduzTK6ypv25w34iqEF8zxho4bplbjGwIMfU10QjK1zhrTvI0/Pxt/3dpqL+0o1aKH7qs+3btO3/ABrPmuLy6lKllj3fc+ct/KpLSxLKXk8yTbJyrt8v4GlWj7uhNOfKtS9dSw2sW6VljUHbvYqFHy+uarxeLbW7nXyfOm2jjyoiV+uazfB1jHcaQ7MwnkkuZSN/zMFDsq89OK6PzBsVvlzjbgEr/SuayPUhKKWqM+O81K9P7myWGPoDczlM/UR5buf4qeNJ1G6by5NTVVVdrLFBg59cszVoBj5bbQx9MN1p0G2fJbcy7sccFhWb0KeJfYyY/AGlySm/ktftV1IBme5HmNtXoAW4rct4Y7CNiI40VuQE4x+lEO60Pl7lUA7WAPC/nTVTyyyrn5uG74FJWOepiH1f6EizxzHna3OMMKapMJbuvpUcdwsiKy7G3eq421Healb6fF5txJHbRnrJcTCKMfL6tgVvSpylsmccsVSivfdvV2LwfEe4FkZeUUfKGP1NRylVbLBT6AjrXF3fx38MwSyQW+rLqvk/6xLENOGPoWG1B+dZOvftBAxTJp+nzBN7KrXb/Ov/AABf/iq7qWX4ib92J8zmHGGW4R/vKi+Wp6TZblUNI22Nuu7+H61BrF1BZW9xJJcLDGqsd8jhEX6k8V4jqfxK8SanHIG1RbdJo2Qx2kKxsmehV/vD8TWMmnf2tM1xcNJcSFcGaWRpJCD1JZt38q9anw/Ufxux8divFKhFuOGg5P7v+Cep/Cjx5Y6L8PdOkvr61t2kSSXDybHcbuxHzZ/Cn6l8dNPgRlsba+vVXOCVMKnHXk/Nz83buK8ytNAhN1D5KkyKNiEA8D27VvR+Bb+e6229rtjb+JsgL+Nb0cpw1F3qO54eM48zrMJ/7JR5fRF7Ufjdr2rRyLai101ZPuFYzK8X4vuB/wC+a8P+OvifWta8VR2dzqOpSWbW0T3EHmFYZpWdiWZR8ueF6DHJr1rxH4fuPD4hEvlSNNyPKZgBWHqng7TPE1/9ovLfzbkAKWaRuNvtVzx2Cw/wROeOQ5/mMn9cqON/OxleFHt9I8KabHPJHAFjzsHy4PsByPxqLU/H9ppku21tb28l6eXBECP/AB6tceFtPgciO3Vt3ZiSB9KuaTotlaXKtDaW0JHJKoFOfwzXLU4jUfgVj18B4SurJTq1PzOX0tviF4/cpoPh+GzVuElmL3EgH8HyqNv1q7F+wn8SPiDc7ta1XWptysphitzbqB/wPA7njbt969KsvE+piJoo9S1KKELzHHdSRp+A3Y/WpJNSnvIV85nk2nbkuzfnk15GIz6vPZ2+Wp+h5b4dZZgopumpW73ZyPhv/gnRpOizIt9eaTb5OFF1qULb19MBmO72r0DQ/wBlrwPo0S282uWCfZ1K/wCiWstxvyMjoFXj7vX3rKl8R2umW7eZIqqQuV8zaAfU45P4VQvfirp1lLDA0lxJ5jhAqp1z0yWx1rglRxFfVpv1bPajmeWZe1Tpzp05N2SSSZ6bZeAvAPh/yfKttQ1Fm3YHlR26nHTO4yN+lT+LtV02Lwxqj2FnHYx2tlM7hXMhZfLY5JYc/hWLYpvKN8rFU3dKqfEfUfs/wo8REHZ/xLLhfkGG+4w/lXPSpr2i5kdGYY7EexdSM23a/l9x+X/iECfX76Qt80krFvQduPwAqokJjudv+sCLhs9qsXMzXV/NJJu+ZuRkUtjAHvfLXJy2QT/Wv1qkkoKx/HGPnz4ipJ9W395b03TWkk24U/UV3/ws0KO91eONlWPJDZHVj0wPqOfeuO00sm7Zjceu3j8q9A+EFq9nqjTbpH/eBnT+8drY3H0HtVbnmupc+p/2NPC8XiD9pXwjEsZ8uwkuNSkPf9zEzJnsfnK19d658M9N+IX7Q2tarJLZ6pe+H4LXSIbRwWjtJljWWSScLtIXfNkRrw5GTxXzX/wTj0w6h+0DcXB+WSw8O3DEMpHEssUYx79P1r6m/ZyjXUPF3xevg+77V46u4G9QIYbeJQx9CeRipMm7nofh/RI9HgVB80zfNLKww8r+p7Z+nFMsImuJ7iRNzZdmHOc1qWqgyhSvzKcHnoapaZ5gna2Zd0iysPl6nnNTqRzCWFqttczTscR43fJiuC8N+JZfE/xAmgUq1qsjEnG5SOmADzXW/EXxxZ+EbKS3aaNbqdcbMjJ+o7Vz/wAC/DBayk1Zlz9qbbEMdFA5J9z976c1dmS9R/7R3wJs/j/8HtQ8P3DfZpptlxZzBTut549rI3+620Kw/ulh1Ir5++IukN8Kv2GL3QZP9Fudbni0Roz2d7kLIg/2SEc59DivsO9kSGH5jt3cDPYV8jft5eKxf+IvC/hmFg32Y3Gr3AGNpO3yIs+/+uI/3Qe9PVK5cY3djiP2ebVLjxTfXCfPGtuAFGcAEAjnHOQCRux0PpXtNpF5y7tu5uwxxWL+yr8HNT8V6FDHpuk3l5d6pcnyo7WBnMiKAqE4HB5bnpzX3t+zf/wSg1vXxDqHjSZtDsJNr/YUYSXUvs38K18jmWHq4nEJ0lofvvDec4DJcmi8TPlk3e3V+h80/Bb4B+IvjL4ktdM0HS5ryaQ5faBshH95y3Qe5r9LP2Sf2GdD/Zy0qG+vI4dV8TMvz3Pl/u7UnqsIP6ueTXqXwr+Dnh/4LeG49L8O6bDZW6j5yqjzJj/edurN7musH3q9fAZRGj79TVn53xRx5ic0vh6HuUutt5er/QNnFN2sB6VJRXsnwYDpRRRQAUUUUAFB6UUHpQB+b/8AwUP8Lp8SPGfjLSZLiSzW+D2gnjUbkBiVetfjR8df2W/FPwo8UTWUGpXtrKqhlZk821uEH3XTO449V61+0P7X0puvi14kZfu/b5F/754/9lr5l+Jnh6x8WaY1nqVvDcQs2cEcof7w77v0r5HMFWpydTDOz6+Z/QXBdTA18LDCZrTU6b69V6M/JTXrrxp4PuJFuLJL6NDnzUgycfhWOvx5hFwq3mmSQtu6q+D+Rr7m+Iv7NCxXU7abNFqFv91o3GJ7f6/3vwrwzxf+zzY6xIqXVjF5jdRt+dPqRxXk4fjGdCfscXG3n0Pss08CcBjoLFZPVVv5WeNt8TvD/iKMLdSeXGEyRcQ4GPZqp33wz8PeLPmsXWNm/itn3f8AjnSt/wAZfshrZXU32W8uGZT8vljchX/gVefeIfgl4h8LedLFidY+jIwjP5Zr6TC8RYKvtI/Ic68Lc6y9c9Sk3HutjstC1Xxb4JktkgurHWLG1RkjjuLZYpsN/AZFO449d1dHP+0Pp8LSR3lnqOiMw+Tz4/MjLDqFkRs4PvXhVr8S9a0P92t5N5fTy5V3Lj/gXOa6DTPjaZVjivrESRsclkbt7KRt/WvajUjJcyd15HwNbLa9OXK0fQmk/EHRvGmlfabZnmihZVxy5T/e29PxrlvjNf2t54avpo2jk+zpvj6Hafp1rzBLzwnrpVo7htJu2G5JI2aJl+uPlNdJPqmtXGhGNdUsfEGnxxyIEuoI2khU9T5ijLe2+oqJctx4WMqVWMpH2Rpl1aatpFm0sKtJNbROWTj70angfUmrDeHrdhsWZgz8/OOleCfCj9pvw7rWmWWn3GppDqFnbxWkjFiqsyoq5H/Af1r1jTdfW7SNoLqOaN+Fk3jDD2NflWY8MwnUlU5dWf3Dwx4hKGHhThVUlb8TauPD11A4EcIZUGWKHdVTzGhaNXXYzcEY61JD4gnsnPzCTjZhmz+eK1H16PVYI0uYbdlPJzGAc+xr5jE8L1Em4s/TMv45wtVJTejMkeZJLgNu28lSME1PFBHs3SblC/6sHq9T3cdjFaNLGjxBDnYJGZCB1HrzTb6xNzM7LJEwb7qo4BX6V4dTK61P4on00c6w9RWhIkn1k2O5o2uBcbVRSGIjjjPUYI5ByPfisk+YVyMyE9PmHNR+bfaFEkdxZ299ao5aMysY5kz94CVWxj03K1Pg1zSLz93cHUdDm/g+1Q/arZT/AHfMiUnHu8Qpyy+bV4a+hz4fOsPCVql159CUNtRSRhv7xNSRkGFJP7zde9SLos01ul1ZtDqEavgS2Uy3AU/7QXLJ/wACFVxComMbfK2cMc8j6CvNq4epHdHrU8ZRqrmpyUvQ7b4HfBTxB8efH1n4a8M6fJqWrXjZCq22K3jXhpJW/gjB6scMP4c1+mPg/wDZJ8E/sZ/A+/sZ/HR8J+JtQs1u9d8VxyfZ7xdPt3WW5hsieIF2BlBGXy247jjHxx8A/wBojwr4G8AaDofhbxt4g+DetWbC51vVG0D+2rfxHcbGjVpZIJVuI4Yw37u32GJD8xDtzXvXhD9ob4teNbf7HrGj/C/9pjwxCg81/DuvxWMk0fmqV+16dM6o0qny3wYCihW+YYGflcwo4ypUjUg/dX2dm/0P438YOKM/zDFSwNWjOjhoPRNP3n3k1o79F/S+TP2BD4k/bh1f4heF/GXxA+PHiTwjp902r6P4ds5pI4/EfnXreXHcu8bLCGAiZneRUjLM4ORur60/aK/b20n9l34UW3wx+GOn6BpGv2ds0Go3GjzveWOhytuDJBO+17m5DYLSuDhuWBbgYP7eH/BVeTWNOm8D/DO8WwhKi31nW7Fwys4RQ1rZSjAaNfum4AG/pHhfnHwg140sv3tzbuNzYAGc4xyMFiScnNd1SFTMqqq14KnBaqHZnoeFvhDUzBxzbPINUb3jDv2cl28uv4HVaj4wuNUl+0XU1xd3jEtJNcOzvIx+87MxLFjU0fimSfbtA2t9456VyKyNC/yfMPVQact8xkYbzGc52qM19JTrW2P6qhl1KEeWmrRjsjvoPFU2m27btrtjzFJcjn/CtSy8Qf2rdRRRq5eThYY0/eH/AHDXn+kRXes3cdvbQTXEm75YkB4KjLMfYDkt0FdJousNf6gPD+l3EcbzgxX2pEtEr7VfdHGT80cQwAZPlMhPOE4b1cNTT9+Wx4eYShSfJRV5f1qzvND0+bUWktbW8jtdo2XF4hWYKSvCQ56soI+f7qkcZPzVQ8L+B9X8P6VMul+IZIbh2+SZC+z03KSQyv0O885z3+avOoPiE8Onx21tJLBGqcDCgp/dGV6hfTqa1PD/AMV7rTVWMeXPGv3RN8pP120pZlSUrIMLkeMjTlUm7t9HqX7nR/GvgdmmSa5u1Qljh/tBGcknaeTkk/nWjonx8VZY49Q03ydqqsrxSMfn942xtPI4HPFS6R8TI9UcxtIy7f3ec9a07mw0vxjG0V5axv8ALxKFwy++RwTWlNytzUZnXW5LcuMpfOOh03h7x3pniSIfZLqKYqMGMcSIfcdRWwtyv2Nfug528evpXlGp/A6S0lW60bUF/c8hZHZWX/dP+NVYvEXjTwQf9KtVu41IUyMm4FT1CsmSD7ndWkcQ4/xUzzJ5bQq64eom+z0Z6/a3aP8ALt2tjLCprbajcfOW5X8elebeGvjdb+Ir2Gya0mhuWDM2PnVQBksSfuKo5Ln5R614l+1H+3Za6JDcaBoFwzLIhW5uULK1yD1UH+GM9z99v9jnd62BozxUuWjFs+bzrGUMqpurj5KEVu2/636HrHx0/alt/B+/TfD8sU+oKT5tymDDaEcYX+/J23dK8B0zTtS+IurvdTSTXL3UjSSTu37yd2++27qxPqQD6CvD7H9pphd7ZdNt5kZwMlBIpAO5QQRn6mvXPhJ+2pZ+HddjutS8OafdSZUrtd4NjH7zKoO0Y7A9P4c16eK4Lx01zRfyPlsn8duGcPOVBQlG322r39bbI+oPg1+z+ml2treatbf6sKbe1ZzlcdC69Pop5HevZ/tIS3jaFWSMfdVGIC/T2rwvwZ+3b4D8RhYryXUPD8nyk/aoy8X4SR5/9Br1vwt490jxfEz6Pq2m6ov3n8ifzGTjOMdjisP7Nq4ePK4NHpvjLAZzP2kK8ZW2V7JfebjTK7bs7G6kDuKb8rHaW27hjNNeFo3HEisFAw3HXpTIw8IfzPmDck91rPmsdkZJq8WSzMyybjIy7eAAF9v8R+dTfaAIV+Uvu7BSTVEOZpPLVBnDNkg9tuP6flV4KI5F++ykDIbr+FGhMrJaAoUblbHyfd4zmljl+zttZWKnoTxilgZ/NzlvxqRIIyGYssjZzigzctbMBJ5qfxfN03EcVPHMT1Up8vOO9MtCu3aV+hx0qSSDdsP3mZsdfuimrXszKTV7MaH8xG6hE4yakhi3tndhT7VGIfKd8DduO4rmpIbdS5TcP3Y3DBx+daqKZEpJFyOJVJj3tuK5+QcE1Hlmm2qpX361NHNHBCZJ5tscYyzbgNo6815f8T/j1HCGtdEleGIja97/ABEekY/hXHUn5iemKmVRR3JwuFq16nJTXz6L1Op8ffF208Cwtbx+RqF8oz5PmEpE3+2w6/7vU99teE+L/HNxr2pXl5czLNPdMvmBBgAL0VecBfReg7msjVvEjSt5i/dU5U5zg+pPesSbUvmO5ZGVhnOadOLnrI+gw8MPgo3jrP8Am/yXQnvNU+8yy5ZTuC9c1Qur3cwTaVDeo3H9KiRsSbtqkbsZx2oS4EbNJtO5vlBPQL6/Wu+FOK2ODFYuU3vdE0d6IYZOBu3fhVG5uVFrNJJ9xBu3GnuwKhc/X3rgPjd41vPDtja2lvHG66iXUlv4Nu3GfzP5VTdlc8veVjjPiV4tbW9YmkXeLccRKzbttc94P07+1teDSLtjj6gc5ql4jtFneSOe+aTbwDFCFFdP4M0RdA0WNBn5Bn5jyfqa83EzUabl1Z7eXwdbEKH2YnTz6gsFusYIG3r71Al2oZVaqckrFNy/Kd2OfSmo+87cMR67q+alE+2VbS0TWS6+XhmUj0NWbVmd0VN7MTgbB1rJjusq3Fd38L/DQuZf7QuE/dp8sSt8wJ6ZrTCYeVafKjnx2YQwtB1Jb7fM6bwnoZ0TTk8zzJJpCWbPzFfQDHevln9tT9sua6Fx4H8I3fyxsYNV1GFtpkDHa8ELemfldx94/KOOa7b9uf8AamHws0T/AIRfw7eNH4k1NQZrmOXa2lQdRtK9JX5C56Dc3Uivk34beBrTWnWRsybQUWOM5UNt5Y55JPX61+s5Dk0YRVSa0P5E8TfEKrOpPBYeXvP4n2XZDfAnwwN/dRtJ2ySeCq45JOeSSa9i0Tw5b6fb7I1j2sMtv/iHrntRoPhSKxt44+Y1Q7WfH3j6VsQ6b5abRHt3vsUlS6ySEhUVVHJZiQAo5JIAr66Stotj+eKlaUm3JkfkM0fzErGoypcdR60661dNO09ri6+WzsZVgkmYfuQ7Biql2wAxCsQM5O0+hr6K+En/AATb8SfETSo7zxveX3hG3ly8Wl28SDUmX5cG43bktsYbCbWk6bglfQ3w5/YO+Hfw+h22Phm1vZJhHvF7/pBcoHVXbfuLsNzdR/G3qKox0R+at58VNNeVljmh/eHHli5XBJ6Bee3vWlp/iO3unVYWbb/CrDaJc+46V+p0v7P2iW1u8MnhfRzCw/1UmnKI1PIyG2ex/I15T8YP+Cenw++K1reXVnpMnhTWHOVvNFfyolYLwJYdvlyKfRiG/wBqgnmPhWV/L+ZQGjxuyOeOuf51X1y30/xLpHku0R+VWVRncp9QOmfxrpPjH8FvEn7OGsW+n+II4dRs7hsW+oWyt9nmCcbQWbcHwSdh6D7rGuNTUm0eRobdjDFcRqWQKArk9MZ5GKHqrM2p1nGSnDRnmXj+/k0XxeIwrLcW+GZ+nmZ5Bx2Bx1r7L/Y2+Jn/AAmHhE6TdN+8sQHtyVBZoMj5T9GIGewNfL3xc8Nw6jpq6syrHc2qIkrA53joOPYE12f7HPjf/hG/iJp3mjfBI4ilwBgq2V/9CCn8K+Tz7DNe9E/obw0zh1oOnN79PM+3PFVsl5p1tPtVpIzg/LnK1lrcKY8KNysvPI/Sta11GO90i7jVlwMOHddwkA6jPbFc+115DbWDfMdquF6V5OHleJ+hYypyvlEmiKlVZ2VE53ZGc1bsovKuVO5uSpJC5x+FV5v9L2nzBtjLEA8bhWTrniyx8MW7SXGoW8TQgsiGXc8mOgx1rRUXNWimcf8AaFGnrVkvvsP8AyMnha1ky2H8x8+3mVr25judyM2GXkYrzvRviZBovhixgKTXE0cCqyD7ykckEtgZJJqG9+M95czObext7d49oPmHeW/3sfKfwNKOVYiW0TzsdxxleGdnUUv8J6hLEAPXavTOKq614o03wtCLjUNQ0/T4FxGrXcyxqG9FLEbifTvXkWq/ETV9S3NJfSxxydUiIjT8Mc145+1Jcvc+FdIgb5vM1WJ2LLwFSKRj277v0Fd9Phyf/L2Vj5DF+K0Yrlw1Fvzeh9Jal+0v4VW8ls9NvpNWuITub7FCWiT6SttU/nWbe/HW9vLPbb6dawxqct9okbOPRVXgfjXgvwU0155pnaDzPlB3YyseenI617HZeBLyeNVMQVtuWBcda9CnlmDo/E7ny+K4x4hzGd8PBr0X+ZS1Lx3rus7lbWLu3gZfuWgFuB/wJMP/AOPVw/xVDT+A9T81nmkbyELy5dnDTr8o3EgfKCM+9erab8K2aeL7RdKpkbeRGucD0rc0jwHpemSBo4Y5JcBw0jklMHcuAeFx7Vp9ewlH+EjKhwznuYSvjZtLzZ4H8F/C11dAt9lny0nyMyHZH9B1/OvTbH4e391cbZFWAZ3HzOp/75r0dkKbW3SeaWyWZtzA/mBTrSGV2YDbhuhPauWpm1S1oJI+lwfhvhoPmrzcjj7T4arZyL5ky/vGUNtGPMb09hWxb+CtNsZTKy/aG37iZjvU+2PStZbeaRjvLdPl9j61Yjtt8W5tu3Hzc9/QV5lTHVp9T6bCcJ5ZRS5KSuur1ZTtvL007ooVjSRecJgP9CelTFGlRVXC7evHWrENgJGK7dyp0cnrU1tZ7Nu4/MvQ9vxrkqVm92e5RpQpu1KKXyOF+JcRWW0jb5t6sxI6r92uTZ5NjK25iOqg4z+Ndl8S9zarERt2LHnHflua5aIeWJNwC7eQa5KkuXY9bC4fnleRXtoGjl+bce/3quwskUP8JDHdk8Yqncrc3Kt5TRRrtwOOar2PhwXEm66vrmbllyGEX6CsoU7/ABP7j1KmOqUv3dGPM15pGhf+JbTTSqktJKzY8uP5m/Ic1XjsNV8V5TnTrX5lWMHLFfX61a0TQbHS0jNpBGj/ACnfu3n/AL6+9W1AN5XDbsdyK3jWhR1or3u7PP8AquJxztjKvLH+WL/Uoaf4BsYI98iy3Ei/daR85/CvOrW8bU/iLHDH8sa30YXA+UKWXBVeoA969cdmSB2KGTaCML7V458PfMh+Jum7VzJ9tGFUcvtOcYr3cqxFWdCpKofmvHWX4fD47B4fDx5W5a9XufSMG1GkkUgKTkD0HpXK/tD6lJpXwM8TTMfLaOxfbgcndgH9GrprKHbJtYiTbyfQmuH/AGxdTjsP2bfEhVlVpo1jXjJ5kUH8gCfoK8DCx5sRFH6JnVRU8FNrpF/gfnRAj+d0/i+XPerNifsV9L0WRN30qK0KvHndwvT1qWDd9tn+6VZvkz1/Gv1GKsrH8b15tyb7lnTo54Z9qg/MuASOtew/AOOaOR3fnduRAeedvU15pYTKtjtNu3mbvlfdyPwr1P4AztPcMr7UTcx2njnGev0pJ2MT6+/4JuOYf2gPEyYZseGVKKF4/wCPqPPNey+FPj54R/Z+8V/E7TvFmpro95N4qvNbhgkikcyWVwsRWbKJtVGIIGX4IPpXgn7CuuR6F+1UsM06qt9pU9oq+aVMjrtkxjv90/nUf/BaDwfeWGjeHfFWmo32eQ/2Zq0in5lX78GT/dyZVJPGSo6kVZnLQ+lvAv7eXw28eeKrPSdF1q6vJ7tgsbS2csaBjwMsR3r0z4seEL3xD4amjsWkSaSKRCY22urFeGz7V+SP7INrNqHxV8IxxnY0mpwvtV9u7950z6V+xlre7tPj3Mpbb1A2/nmpXuk8p4D4H+A+pWNzJfeKLyOzsrZWluPPm8xnVQWYu/QRheT6AE11nhb9s74Y3GhpcQeLLGOwQtAlxLHLFbybTjKl0AKE9GHGK539vKa/8QfB9/CumzSWkniq4itry6B4tLBSJrp+OSzKqoAOvmN6V8DeI/Ct98dfiroXw88HWrSWdmUtId7bUhGCzOxOAAACSR0AzWys1cOY/VHT/ifoPj7TI5NC1nS9XRuN9rdiRYx/tFScfjXxeL+X9oH9oDVL60iN8ms6mNM0uKNSd1vERFG30kOZSe3mH0rrPiRpui/shfs+SaB4ZaZNY8XSLplpOSPOKmIi4u2JP8MJfGOPnjB3EV7F/wAEUPg5Y+Jv2l4dXvreM6P4H09bmBHYlfOCrHb7vcYJHqRzWNSeljaim3c/Zj4HfBXQfgl8PdJ0fRdHsdO+xWcMEjQwKrysqKCWbqxJBPPrXcMDu9vpXHaf8TYZNvmMgDdTW3aeL7e679enPWlGy2CpTm5cz1NkcikfmqkeuQS9Hx9RVtZFZchgfoaehi4tbjh0oooqiQooooAKKKKAChulFI/3D9KAPze/adumvPih4gbd8rajccY/6aNXz345ka1WRlZUc9M9BXvfx9nWfx9rjrlv9MmP/kRq8B8cyRsZFbgP17/lXzOIvqfs2R80IRUTiNa1OGS423sCt8u1Z4f3NxAPYjg/Q7l965nxJ4Is/Fkqi2kh1eRZGJiCGG8j99u7D/UNn/YrU8UFITKfm67RntXF6pesT8pbYgzvQnH6c18/jKMKt4yV0fqWRZzjcDNSoTafmzB1j4ORyXsiwzfMhy0NyrRSrgYCnI654xXnvib4cRt8s1r8v8KyJ8r/AI17Ra/EvUNLsvs91JHqVqFwIL1BKFXrhT95ee6sKrya74d1OMrP9p0aeZlz5oF9ZH8l81fykr5fFZDJPmwzP1zKePoVl7LMqXz0a+4+W/F/7P8ApOsqyzWNrmTqxXG09K8p8XfsntYRbtMkmhToqN83H1r7U8eppPgizuI73To1nhijaHyZy0RV8iGZX6MjZwMdRuDbSpryXWPFtrqD+TaQxLcSOEQN3J4Fc+FzfMcHW9nf5HfmnBXDWc4dVZQWvVaHxP4q8Har4PuZBeWVzHHG2BNtLR4/3ulUbXUZoFWSOSRZPmP3yCy+/avt3xR+z9ceO7Ce1uNUhjSRW80W+3Kr6Dd3ripP2EdC0q0AuW1aPzF8yOediVm29vudDg/nX22D4zw3s/8AaFZn4Pn3gTjvrDllbTg+stD5d+HfidvDWvSXDR+aGDRsh6AeufWvbNA8c2ul6bDe2WqR6SJF4jFyFK/Rc1c8U/shacryf2er2kipuZ85/SvN/EH7OOvaLK3lxrcLnapVfu/hXtYXiDLsTopI+DzHw14kyuScabsne8XdHt2hfH++LR5aw1RVTrH+7ct7kcf+O12Wk/tE6LPAsd8b+xmLcGeEPGP+BJxXxjdaRqnh+5KyW91CV6nyyQK0tL+KGqWRXdJHcxx9UlTOfxrslhMNXi+Rr5HFh+LM8y2ajXvp0asfdNt490/X/D9w1leQXibNz+TKMn688/hWzbanJdWKSRtIfMVdu7k/pXxDpfxksbwlb60mhJG0vA52N8v8Sjk/hXbeC/jXqWnQpHpPiWOZAqhLLVP3nlp/sfdZT9GNeTWyFT1TXzPtMD4pOKTrQkvNbH1F/b0ibY933RlcjcCPerUOuw3A/eQqpAyNo4/GvD9N+OF1DGq6lpckSqP9ZZ4lQNt/uH5lH03V02ifF3SNcVVt763WRuWWX/R5SPQK2DXz+M4fUdHH7j9AyvxCo142hU+TPRZvDena2Ua3MdvMqKpkVdhLjqdwORn/AGQavzX/AImgt1NxdR67aKMeTfp9pYD1EoYSg/U1yNprrc+Yf9UMMGU9fWtnS/E7QqxLKrbc7uv6V4tfJZ9PxPtMLxJSlG+3mnqbMfiLT9+29stT0ebduSe0ZL62AbsY/llXHsWqzY6TbeLmm/s2+0fWJI0KCHzhFdMrcYEcwRn47ICvvVKPXIJQqzhfL9QvNQaj4e0zVIcSRwlm6Bk37foTg142IyOna04fce9h+IozaSqKXlNJotapaSaJeTWt4k9vNE23ypYzC/8Au4bB/Gopt1uf+Wm7GcZ5xVnTptf8OWzW+keILg2aoyR2V2Re2v18q4DoDwPu4qa58Z295Ow1jwvDbMTu83QJzbqfl+99nmaRF+kbpXmTyhLWnJfM+nwvEii/3kNO8dV925UhmKcL19Cas6Vp1xqcpht41aRkLuS4RFQYyzMeFUZHJ9arR6hoboZIdSvDHhSsU2lzLMcbvlABZPx37PerY1n+1NPa3igms7HCSTB3DPcMp6ygcbc4wgO1ckjLECuP6n7Nv2jR69TNFWjy4RNt99Lepq3d+bi1udP0eS4NkqG4vLlt0bXaKU+Y8ZWEEjCjlmIZsHAXNl1JhA0ce/ExHnPJ88kxP3st0x9KZd3cG2OG2hmVPl80O4JnYA/MMDgbsEKeRgZaqkcu9mbndjdt/u1liMU5aQ2O3K8tjSi5T3e5MqbyQpkdVGMn5akgVoXyoC7ffOahaVS69FH3sZ+9UgueMbtq+o5rzpXPYVSysTLesG3RMY9zZrU0fxtNol1vVpF28ZU5DD6VktOyRbV2565I71DO3mHa25GY7GGOQ3t7VtTq8mxlKEZq0kek6B8UFvsC6bymfo3UP9R2rfsfiFDYadJJJdQLDCN7yPMEWvFROkcTLLJHbxLHvd3kPlqP7319q8D/AGkf2qVt4LjQdFkaH5lVioO7j+J/9v09O9fUZJRxWPq8kFddz8740zbLsmwcsXiZcsV06vyR237Y/wC2Vpp+1aD4LjW2juvlu5xCIri9KnO6Ur92MHBSEdSNz5IUD5eg1iXW9RbzXkmmk5BHcelc5aWv9uXRaS52yON++VtzMfeuo0DSZLHUI1hVZp5nCR87evTr69q/aMty+ngqNo79z+F+LuMMVn+KdWbagtl0/wCC/M0rLQvskazPbtHH6sDj862I9CWdV+56ZPJ6Z7UW0+peGZArQ31qWG351256jIPTHTn2NXviJe2usarDeaPZ6hotvMis4unWTzHHDFNqqka5H3Aeq53bjivSVaK1Pj5Uekf6QKtzp9oyrI21RkFe4pbb4yXWjRLCkk0aw8g28jQlTtxzt68VPpfgmbxNYJHDqEkdxKxJWZdy9y24j7oABJJ6YNYvhX4aah40+JEPhXw/HD4m1a+na3tjau32eYKhkkl3ttCQxqrM0khCqikkgDNVG1RXlqZ+2qUXeLsfS/7GP7Uni7xX8U9E0W48STf8I3bv9t166vZ/NXTNHgAlvbtnfLAxwK5XdkGRo16uAfcPCX/BRDwfqPgX+3NaTVNFmmuZo7TTTb/ab65t1bEMpCbVVnRvnRtgVg23K4NfJOsXui+CfBd14D8J3FrqFnqDxN4l18QFY/EssLmRLaFWXcunwy/MgOPtDossnAhRcN7k3E6wwr538IAXO72HpXmY/JcJiPjj92h9ZkPiFm2WuXs586fSWp97eFP23/hr4vvY7ddYuNMuJOFi1KxeNZP9ncu5AfbNeseGvFOk+LQraVqun6lHtD7LW4ST5T0OAScGvzEttee0SKQKh2nqQN2Pb3r17wb+2p4yTw7pfh69k0zXdB0WOKGys9V063uHtIB1it5wizRRD+7vI9q8jEcMUeW9FtH3mWeL2Nc+XGQjJeWh98TafI6SSeXP+7+/hD+75xz6ckDmo7O2ARRIr+YF5Zz/AEr438C/tO+JvD11c30viDVo7GRmNpYlIbqEKSSFPmgNsCnbuVi2QDWz4X/4Kg/Y5jbeIPDq3C4cNcWNwYZJVUNgeW+4A+1ePLh+vH4dT7bB+J2W1PcrXg/PY+tYdMMS7laRQ3JGelI5CyoY8nb94VwHwN/an8NftA+E77WNI/tC2g06a0t7030Sxi0e8d0twW3sG8x42UY/iUAcmvQrqdYblll3RyK+WG3BX2I9favHxmFqUJWqKzPtMvzbD46LqYaaml27kcasZNyBfmBOwj0681n614mtvCVk11dTGJc/u0Ubmkb+6g9ffpUPjHxrZ+D9LlnkkVpvKYxQ7sGQjpn0X1bpXgXirxneeILuaaSUNJIOGAKqPoD0Ht1rOnd7H0WCwLrJzqaRR0vxL+L914uumiWNbezhXCwq2ct1DMBwzBvQ8Dpn71ee3urm/VVZvkZeN3Oaq3t49yrOxWRmO7ABFUvtO390BvVvzWuiOHS+LU7quKjCn7Khov6+8fezxrJtbPpgHjFVri4Ep/vBRtA6UtyCzeYSoDL/ABGopUYnauW9CBXVyq1jxHVcleQ9QQrbjub8hUYXGMtlB156U6Z1VPmzuBwSOhpUXfFjBBPVe4ppWOWpU90guIo5NzIMhexOK8f+MWuW2qXzOwO6zHlRDPq3J+teneK79dH0mTAYbRtU55Pua+d/GeuNc35UE7ZDvKL2P1pS7IyjNRg5kOmuuqeIdq/6uHlwOMn8a7X7XtTHdupx/SuQ8DQiNJJG5kkb0rovtO+X5uPpXi4+P71pbH1WSytQ53uyYNvfbgfrUsZxtOdtVlkZhhuR/dPH61JBuMWP4t27J9PSvPlA9ZVn0Nzwxp0mtavFbR/fmbqegHrXpXj3xzpvwP8AhlqWtXsZay0m3y0Q/wCXh/uxRD/aZ/l9SOaw/g/ozWkD6hMpKlwiE/wjv+dfPv8AwUO+L6+I/H2n+C7N1a10EfbL9lyFkuHA8tGHfYhyR2Z6+q4by7nmvv8AkflfiVxWsBgpyi7PZep4Deahd/FjxzqOraxM0t/q07T3DoeAW52L6BRwP933r1jwJ4Vh0SAMI5Fdhu4PCr0598Vy/wANPB8drKtysjSZG8pwAPxNejQAQxbnCLtX5t44r9SpxUVZbH8U4zEVK1V1pu8nuXvKEyxxRRXEzEqsYhQySMzMFUIo5ZizKABySQO9fen7E/7GrfA+K38R+JLSC88fso+xo0hlh8KqQQyRAEq16Qyh5ufL2lYwTlm4f/gnL+zi1lB/wsjV7NheXSGLw4ki7vIXhDf7TwGOXWJhnau51wzLX0N8YPjL4e+AngfUdd17VrXRdNtVxdXkkhBdiCfLVRy7tggIuWOCMY5rQ4GzX8WeOtP8BW80gEV5cRj5vMOIo89ST8vP6/7VfnN+1P8A8FA/iH438X3djoHi/VND0csI4oNHcWKsit8hLpiQZ7/NXK/tMf8ABR/XviRptxb+CrGTQPDd2zWqXl2A2oXC+wX5IfouTXI/stfCq4+J/jbTrO8k82OSRZbtz/yzhxvf6fIDj3NbQVtxLQ+sP2G/gf4u+JelRalrnj/4nWd5chry3urbxPcgWkA+VZBG4ZHaVhtUurDCsRX1BoehfET4dXUMGp6xb/ErQS5R7uazTT9aso/7zIn7m4UZOSgjl9Q1dN+z54Bt/BPw/tpFt1hkvkWVUH/LOEIBCg9ggyfRia2PiQWh8DaxJbyNFcGxnWBx/A7RsFJ/Eg/hU1LdAOR+Kvwh0P41+AbjSdWtY73TNVVSGTBkQHlXjb3+8pHToa/MP4u/CDVPgX8Ub7wnq9wkzW8guIJ49yx3kHLJ1HG8Ak+jAr14r7M/4J8/H68uGuPhn4ikMmp6U/k2szYCrKuMxZJyVkVw6n13gdRVb/gqR8GY/FHwrtfGFrCP7U8HT5k2pjNs7EEE/wCzJsfnoGIrN6AtGfD2jWX9t6TeWt0pLzN8u4/Ns+vTNYfwf8P3Y8Zizs45ppI538vIJYgPkHj0HNdR4du7bRYrqZl8y6uiZI3fIyPL243bsBUIJA6lznpWxceONN+DUjapIYreS+c4Z2XzGG3qB1Gf1rw86jOVG0Fdn6x4X4mjSzBrEVFGNr/M+wvEmpab4T8EX1xc3Et1c29oZFRBuR3xhck9Ae9eGar8a9WvVRIo7axjk53bDIznb6twP++a8W8W/trpqWnXEFtHfagZolj+dtq/e7/kK4XVfjH4+8QQFbWxGmx92S3xJ/wFzzXLleGVOlzV1Zn1PG2cYzHYpUcnk5QitZJdT6QvfEGoatEzalqd7MshyiNPsjz/ALq7Rj8aqwNCFKIoR8ZUqBkD9a+Z7fwr4i8WX63F/c6nLMevmyF9vb6dzXsHwj8Ial4ZcCGS6kkZNoE7bya6K2bYWh8Op4WV+Hec5pK+Im0vO56BF4ZvLy73Q2s0mBuCbQq/ia27D4d3TsFbyoVk+/3P4V0/hKy1g6ZnULYxwqNpk8sKx/CtxIFQ/N8sajAY158s8qzV4aH1EPC/CYN2xjcn6nLwfCq1jyZZLiYKud6Dbzt9K1Lfwfpto3y2tu27oXgVtvOcgHvn5fpWqJRuKKrHccBh1J+lJ5ReRWkZfTDHPt/PmuSpjKs95H0GXcN4HDq1Kkl+L/EreVGAPJjSPgLkLjO31AFSwRtEsnloskn506Cw835t2P4ce/rV4aap+63OcKTxg+9c/tH11PW9jTp+7TS+SsQWdg8iKpypVcgY7/WrK2n7x9vmHnIIHb0qSFGt3bbtbd14/lUzLiX1Z1UMM4wPb3qOY09jJq7Kpt2W2/dKhkYbsseKWGL7MMMM8lfm5q7LGsSLtXbu4YdcUSW7FAq7iJuSc/fz1+lVzBCFtIkLWSrtUNhR1I5xQ1sFt5FIwzNhQew/xqVLVlg3ED938w5+8PSo45vPkfb8xXnHeo5jaFFxHRW/G4rwvXB4FOCM0rbM7fcikhfzbZmyP9oj7poto9/DHc27jcppOKZcYrm2OF+JkSnX2hJ/1VvGPm53Z5P6k1yzwlZflZs/x4GRXReLLgSeJJsRsrKFUbqxrhQ7qCVjfd83y8GuGsz18MlayMS98Jf2hdNI15cqGb5QpwBVSX4ZrJCo+2TL833WH9a6ZP3f8Sl16c8GpltlkXr+tEcdVj8D/AJZBgq15Vott+bORf4c36HbZ6hJHINvlIQVEeOvI65qull4g0ovGrX7Qj5THGWKj5uvTNd9GTGrdo26j/A05T58u7DhjwRngivQw+bVUrVUn8j5zMeA6VbXDVZ0/SWhwEniDV445cXV5tkAZuTlM9e1RfD/AML3y/EqynW2uFs1ZpDIY28lfl/vevT9a9RtYPO8xm2hs5UEHkenT2FXdPjkO3y/MKt1ZcfoK7a2dQ9nKFKFuY+cwfhtUp4ynicViXNwd1f1v1Nq0HlnbHlfRTz+teS/t9an9j/Zxv0DhWluYUjYdx826vW7RZlURnG09F7j8a8G/wCCj+vf2d8IdDsdqt/bGoNt3c/JHHlm+mXAz6ketcWVU3UxELI9/i/FRw+WVpT7NfefF9odpVf9r1FXIGW01NZG3SKPmIJxmqMW08fMG3Y/CpBkSru3Gv0g/kSc+Zmrp90wvtxjfyeuEbBzXpvwRuZri4j8xWTypB0H3chlP1rzXSoFkkXzOPm7Ktdp8PL5/wC2WjJkjhkHEqjp71PKTzHvHgHxi3wu+NvhHxFNny7HUUS4kfvC42SZ/wBnDZLdODX3N+2d4IsfGHwD1eHUI0uLaSMxTZYnywWQq491fbt9ATmvz/8AElh/wkFr5Yby4riNlKr/AABhjgr/AAg8Y619zfsX/FqH44/ASHS9Xh8zVdFthp2q20p3ebFsUJL/ALrrk+zZ7kUcpL1Pjf8AZS+HDeHPjr4XsfOjlWHVFYN3wHyB+XP0r9Ri6iDCnhfujHX618Q3vwE1P9ln9oHTfElwuoax4HW58xr2ztJJ5LBDyEmRSScH+P7uP4a+ltN/aj8A6zbeba+JLO68shXtY4pGnYjqoQrncfTGaNwPA/8AgoJ8erpNbh8H6GyyagG2TKibigkXOGI/2SBx6VqfsT/AO1+DXg/U9Z1aO3h1LUoXN1czHH2SDguCx7spYuR0Q7etQ/A/9mG61bxlq3jbxWoh1HWr+W8eF23yJvfcAM9NuQAfvYHSuG/a3/aWh8fu3gPwi6toVnLs168ibEd2VbLWsTDqo/jYH5j8ta8rSsSo3OU+LHxel/aH+KreIk3JotqDY6GjsykWolz5+3+F5Ww2D/CE7A1+qn/BP/4ZR/BT9n7S99p9m1fXEN9fHGG+YDykP+yF2n6k18F/8E4vgC/xb+MVjdXGmvd+H/Dr/arp1jxCHCkRQscYOW7DqBziv1L0zRrm4Xbt2/KBgEKEwNqgD0GBXHUZ6NGKidTaeOri1PEjY9DzW9ofxHu2C/M/zdN5ziuc0PwRNcbN/O7n8a7jQPhlLdqm2PgdfakrouUkbXhjxtNNw3mKS33M8fnXpPhbxQ06qvJ+tcxoHwraMRs233wa7fRfCS2MGPut7c1rGNzmqSj1Nq3l82FW9etSU2OMRptFOrU4gooooAKKKKADNI5+Q/ShPu0y4bZA5/urQNbn5l/G6UyeJ9SkzuMlxIT9d1eG+OLlUVl43dTgZ/Kvbvi/KZL+diyjkhvUszc14b42kUllwPrXy+Klyn7bk8XyJPc81+IieR4fvwrNmOBsHHzFtteHXmt3el3zRwzbVUbTuOQa908cxtd6ddJInyumMp8teJeJtDaMS43Nhskg9K0y6nTnF8yPC4uxVajXp+xk428zNi+K8bBVuoXQqMsyDcuf93ritCfXtPvPmt7qJwVyV3gyZ/2l6r+NcDrlp9lldpg0exW3MWYn73pWBePJBf8A7k7WQ4OM/P2qq+T0370NDXI/ELG0JKlibSi+ttfvO7+OOtsvgrTf3hfyxcQgMeY13pJtU+mWZufoK8Z0fWmHivTRv27ryE56/wDLRa9M/aO1Rl+H2i4VVklMz7R67416/gP1ryXwfZGfxVo8ki/u5ryMB89Bu9K+QnhYyqttan9FYPOlTy+HK2kz6y0b4hQ6cnk6h4b8O65bMGwt3bSJOv8AuzRSI6/gTWl9q8D62mbO78SeD2YZK3GNbsVPvjy7hR/wGSvHdW+KOn2+ryW0i3ECxHaZCgZD9BWh/wAJLp2rW3mW97DKzDChWG8H0KtzWlfKYzivaU7nHl/GkfrP+z4u072tf9HoenN8AdS1uBm0Q6L4rjHzY8P3geeP3NrIVmX6COuC1/wEltqDWdx5lneK+HgvIXtpF+quARTdNuROpLrJIydBkr5f0IIP513dp+0H4otreKxvNQTXLFcZs9ctU1OLj+EecGYY9UdMds14VTh2jzc1JuJ99h+OMTTssTTVSPdaf8A8Z8R/CG1vom86yVo5Ojquc15r4p/ZN0vWbaaaGFoZG6sPm/IGvruHxF4J8SfLqHhm+8NzSs7NdeHb1pUkBX5Q1peMy8f7E6UrfBzSfEyyHQ/FvhXVG2mRbTV5W0G9kPZVE37iQn/Zmrn9jmmElfDz5l5F1sVwrmq5MdBQf95W/wDJlofnl4m/ZT1LS43a0k89f4fNHJrhtY+HuseGXk8+xkXy+p2sVH0A5r9HPiB8FNQ+HYQeIND1zw+sy4WW/tD9lf8A2lnA2SDgcqT1rjdb+G0d9A37m3mjbgCIBgR9Otejh+NsVRXLiofgfK5l4H5Nj4urllW1+zuj4J0zxpqeg/Lb3s0O04ZQSVz9DzXUad8XbjVYvJvLW3uG/hA+Qj8DuH619FeLP2ZtH8QM2bFo7gjloiFwfXFeY+J/2QZIZ2fTbqRSzNhT0H419TguLsBXVm+V+ep+TZx4J59gW6mFtUiu2/3GT4X+LVvaLGum65qWmyZ3CK4bzYY29MSZBH0K12tj+0rqHh7/AJCUFpqdrJ8y3Fo3lSxD0KtuDf8AAWWvFtf+B3iLw7K/nWTmOE5zG+7NYNxc6hY6e0PkzIpO0hgSfwr3OTCYhXun6HxHtuIcnlqpxXmrn1x4S/ao8H+IGdRqyWckY2lLqPys+4/g/WvSNJ8Rw6mhuLeaK7hdfMLpIJFVfXI7e9fnd4P1afRdZ+1RhWeE/cdcgj0Nel+GvixY2swfybjTLj5SZrGVo2J3f7OD+GK562SQt7mh72B8RMVF/wC1wv6bn21a6u2z5Wyx6Y7H0q8muM8W0tt3D5gcfP8Aj2r5h8NfH7UvIjjj1ax1aFBhY73cspH93eOR9WVq7rSf2iIFnjj1TTb/AE9tufOi/wBIiY/Vcn/x2vGr5LLrFH2+V+I2Fc7qbi/M9rtdQt5OJrdFkUth2++p/lirazya9DcLAyrb2sohaEjBkJG4Mx79RwPSvNvDHxV0vxKESz1K2mEnzBVl+c+2z7y/jW/4E8ZZ1jXIVdjsvl/d7htGUUDjrxXyeP4cjNttM/Ysl46TgmmpNHR3GlXVs6l4WVVTcQfmA/GqzTsNu7erSHOO+PStKHxa0MIVmz8+ArjcpPuOuKtf2nZ6iredDGAW5WM+WV/EV81W4crQ/h6n6BgeNsLV+PQxLaQM5TKs0fzjnq3+FSpL5MnzYVV6Yq5Jptldvujk8lhxsbnj61Vk0C4PzKUk94zxXj18vrU/iifSUc0wtVXjIYxZwqhtvv1qS3DXFncXBkEdrZxNLczy/chCjHPrk8BRyTVKd47FPMnbyVUbnDnbs/3c9a+ef2i/2omEbeH9BnaRc73dDvhj4wfrIV7rkJ0GTXXkWRVsdiOSK07nzfGnGWByHASxeIn6LrL0LH7Uf7TcbbdH0AR29vHtQsG3FnH3pHA485s9M4UKoGSC1fO817JrF7zvnmmPU8lj65qvLLNezeWzNM8p3bfvN9frW/penf2JCN0atdY3qNvSv3nKsqo4Cj7Omte5/AvF3GmO4jxnt8RJ8i+GPSP+ZLo2inTZfMkXLsuVGK7TwvqqeCb7bqFneWtxdIzJNt8qfypI9uYi3GM5+bow3AckVkaLdNc6paXDmK9naVW8uYh1l9n9vpXr2h/tPQ2qtaa9oP2mw8yNzBZunkLtVUbEMishLqgBw2NpKjaGJruqNnx9SbSaOetNf0HxTeM19NLD9lijYmedlW6lUMG/dxqQqZKnb1+X3rU1maO41ptL0O3t7m6lCxGSH93Bbqq8EMMAnjJboFA7gtXH6pdWfxH+JMkXhXSYtLt59qQ2+1IPJRVJLyFSUUnncwO04GFq5AupeP8AxDF4D+HtrJq2pa4yW8lxbgF9TKnzMAn/AFdvHgsXbAwd7kVmqdzmeIktmW7f+2viZr1j4A8CQzaprGqH7NJPbyBftuBl1RztEVuig+ZI3DCPeSEAB6jxh4i0T9n/AMGX/gPwfqlrqk2rDyvFGvwxFP7aVc4sot3zCwUjeAcNMQGdQNqDofHOueGf2KvhtqPw/wDCV1F4i8eavD9n8XeIlXNtCnDGxt88lAy/d4JIDvliscfhXg/zL/XFmeWRWiLOJNvmMXI4A3cDDcc9q6IrlVjmlUctzo7FLnxXrkek2SqIoSDPIDhmI6gDsK9j03wNoOk+DYbeSG9n1hZ95ulvcQiD/nn5e3O/d8/mbvbbXOfs+fC++8SSX0disTSWdlNf3k8kyxpbQxj5iWPH3uMnvxXaat4T1fw9pFtPeaffW9ncMRDczRMkdyOo2MRhvkw3HbnpTuOnbqZSfBxfFWm+dosN9eXIhaSeBIfM8qNf4vl6Z3Dn2rHHg7UNE1e3h0+Ga/uoo0nZoxmNhIu7bhucj7uPXiu48BjVtNjluNJkvoY/NEUkkTsp+b5tpYDH3QDt9Oa6aGW5Frfait8Le+8zY4afy7i5WT5HKkD5hncWy3G//ewj0KcrO6Z4B4r8Vak+ovJcRyWvnHIUKY8t6YHQVl6VZTeLtQt7WygupLm6lSG3it1Lyzys4VUVRyzMSAAOSSMV6B8Rde+y6PeW7xrKbhSGXJfcD0yBzk+1dJ4H8FN8E97Mklv4ynCrMyh45vCsboMxKykqNQlUncy7WtVLKQJXYpaikKrXl8N7oq/G/wAL3PgX4daZ8K7WN7q7fUBr3iu/s5AY/wC0oopIrWxhlBy62aPIZJBlftE8qr/qg1fWHw2/antfFHwt0WaaSS+14adHHfuo/d/agqiRjnbjLbiNvWvmq11nTbKyuFuLWSZWtjFaor+UkLDG0gJjOBkBScZwSeDU37Mk7P4KkbcpLXGB83Ubc/zr5Tiijzwg4rU/cPBSvSjVrxq7JJ282ex694kuNavZJnk83c5JIPClvQf0rn7y9eYbefl7jvUc1+FnaNW27Ruwe9RxSs8zbX+6M8sMEV8zRpWVj+gMRmTkv7vYf5gJZAx3FeOOlQJKruVZcAdW9Khn160t52iadd3oq7mqOTWJHbbHav5Y5Dk7FQ/U/Ma1Wp5rrNuxYuWiEayMrbfTFR26ERGMDDnoCeRWPb67daj4lvtM/dR29skUrTMNzfvPugd//HqtyeFpLqRluby6ZG/hU+Wv/jvNWotmNSpGKs2WZr61tbcySyRIsb8M3C59Cay4vGun3pZbUXd0wZspbWbuxb14G3H41ci8H6fbB2MCsyn5mlLSNn1+dmFXIlisom2x+Wo9FGPyHNV7ORw1sQuX3Tzn4o+IbufRXj+yvbWzHaC8gVz/AN818/eMr2Q+INqttCrnj+I17l8dr8tc29t2Q7jjvXgmsv8AbfGkmPlSP746/lSw6vUdysZU/wBnpqO7djsvDMIj02MDHPU55FaJfA3c1naL8tlz9OPStCL5myvK+leFX+Ns+wwc2qUYoso24L1ztq3p8DXl4kYb55HCj2zwKoo2F/2q7L4OeHm13xdG0it5NqrzOew7Ln8ea5407zUTtlW5KcpPdHe674vsfhP8P7rVb/atpo9i8pResgAOUX3diBz0JAr85pTq3xA8S6hrFztmvtSu2u7gu/8AE7ljj6ZwB6AV9bf8FCviTpun/D218J2N5DJqWrXSTX0NtIH8q1jBYhyP78nl49QDivmH4RQKdW8yWJmRB8y54z6fWv1Th7CeyotyWr/Lsfx34tZ79ax6wsZXjBa/4j0jwfov9j6OsZcMzphyP4T/AAf/AF69a/Zp+FX/AAu/416ToMxdtJhkS61R4XKtHbJyVVjwrNwgB6lj6V5zGIlMhVX8pRlQxySnv719zf8ABOD4W23w1+A+p+ONcUWLa2j3c1zLhfsen26s7Yz/AAlcn64r6Llsfjk5XPVfil4/uvBmt+E/BXhWO1XxD4snAXZCDHomlxFRPeCNdrdN0cQzjt0Qmvz+/wCCpPwU+NXiHx9NrniS1OseENPkk/sgaTGzW1nCMDfJEeRK6j94/JwSB8vFfeH7HegXvj24174q69DJDrHjqVTYW8oxJp2lQgJawAHou0biBzuY5r2660y31WJoZoVkt5Ad8bjKyhuCCMHHFVGVjM/A3wN4cvtZtbWBkaS0t3ZlVVx85znP/fNfpF/wT2/ZxbTLG1kuoZI59WRb9y0fzR2SnKFPQSuMZPG1fevafGf7Cfgi68Vrrdho1nFcK++a2lLLb3RGM7th3DOW6DvXtjajdaprl9rN9Hpq6hqMcETpp9v9ls7aGCMRW9vDEOEiiQYwfmIJy2aqUuwFvIhjZU27eAMDH3RtxjsK5X4qeM7DwV4bhudSlhtba+vrfTI2k5Tzp5NiKT0yTwD0Na0usGQfMqru68dK+Rf+CyvxJm8FfAfwfbWkjQzax4st7hCr/dFrBNKD9N5j/IVmB478fLi++Dn7S9n4iskjt4ZHjeFQpdg0ZEkWWbIJbDL74r7s8R2Gn/HH4U3Fmqq2l+LtI8o+YPkRbiIjn/dJJB9VFfD37ZHiSD4g/BDwn44t1jVtYsLfUxIB8qMr/vR+DNIPoK+k/wBiTxr/AMJd+zNoKszyf2PPLZIWAZ1TIeMHnnAbFaPUOlj859O0q4uG+z3kKwz6TdSWs4Lbgrxvhs+gzxzTvi7odvc6xF9oVbiLOELj7+ORx244ruv2jfCsPhf9pf4laezyW8MPiNrq28qQsGabdJux8vXK+1cP8RQ17Fp826RnjkYEscg56flg/nXm5jph3bc+04HklmtKMrWehH8PPhBZ6/fRw20K+d/CgxuP49K9y8NfswKtorXkkSsq/wCrI81/yPy1xP7OFn9o8WRnHLDAJOMGvpSKzby9wmyvqeK/OZSlVk/aSbt5n9cYanhsNSTpU0pN3btuclovwS0PSnjUQ+bIOu4bc9/4Nveun0XRLTRWRba3gtVX+ONNpq0S5lXP8X3cDmp1sU+ZWbB3YwfStIxj0RNTEzerbGamxTTX/wBX+824OOn4Vix2mzcWYctwS3X8K2L2X7RojbsDdKvG8Z3e3tVOCFt+4rtVenGc10RSirI8/FRc5XluJaWpj/drn5jgsR39RUv9nrxuXgdfUVNJI0MmCzRkdD61G9wqnbu2nbyfShSbOf2UhXRLdVkXb8zfNntSi1+YyeYqnOMA54/xpolIjaNiD/zz+Y1JFcMpX5mQBckHsa0jqTGi07johw/zgeX0p72v7pWwvH3+efwpICqIypu3MvPIIFF5J5QaPcA33uTWMpJFPVWJWciNeUb0fPP4ii2kzbEt5Ywef/rVAb9bdV/dsXxnkcYqu+rqZCNu0NyAOc1S1YRjpZFpphFN/rCynoDxmi6KLbttYKp6sOorHuNXt7TzJPMTa3Hzfw/Sub8RfFDS9JVjcahDbjsXGSfqKn3jXld7Sdkdpb3y2sfVbjb/ABZwPxFNOrnzU2t904O7nFeM63+1BosbMtis+oMvzfuhgSNu6M3UCuXv/jd4k19mjsLNrONRgFwd2Pf3qpVIxWrHGjKq701c6zxv8RIR42v9sjbo7gxMANu3Awf14qO08bQT/Mqyhd33mHFeXW/wm1LxNq0ty15qE1xdMZCIpG+ZmO7PSuu0D9kDVNWUeeuoLuGEM9x5fHoR/WueVai9rm1HKMzcubkUfVnT2Piy3ujglRz5al2HJ9atLr9nE+5rqBVbpmdRj9ak8P8A7Gfh+zlk+23FxP8AJn93I5BPqdzc/hXWad8A/BnhvbJb6HZySL91p4/Oc/mcVn7OL+E73PE0Fy1Wr+Ry9vr+nv8AvFvIfLVgrGMgqCTgAn1zWrczWmnQNJcTrAmMlpB8zf7IHc+1avjnRbO+0Cz02NfstvcXUKf6P+7YBSW2ggcZ29TWfZeGNH0cfaJLUXEqDIknYysT64PFaU6Se5hLMZSjoR2njy3nX/QLO81Lc2N0cDLt/wBnc4xj3q5Bq2q3aSMLOOzVAp2tMZpHHuF4H/fVSRalFcQq0MW3ccfMNpz9KhvmZR1bfjOGPUeldEaC5tzirYxJPbTvqz5r/an/AGjfiR4G8dX2l6ZqUmnaTGsXlS21mnmSErk5lPI54r5z8TePda8Z3/2jWtUv9Umj3bZbqcySDp/EfXvgdhX098R7221rxletNbiWP7SYwmPl2r/ApP8AM15p41+AGl38Uk+nySWV0DtMB5WQ7uh9Oo/KvvsFh6VOEWo69z+UOJc4xWJxtaMqjcXJ6X008jx6GbfcdcVck2rt+U/L05rU1f4Qa3ofmf6L9qhj6NA3mBvop5rD8ySIBWjww6g9RXop3PlTc0u5eaNQq7W/Ouk8K3t9bX8Zik25fk8FQtcLY3z28qsG2rurcsPEEiNtDSBW5Yg9PpUS0A+hPCd613Y+XIxwFwCO46/zrc8C/EnXvg18QLbxF4dkWHUo0aKaI5MF1F8uUkHQqe3cV5f8OPG8cSLaBJOWVt7KenpXokN6bxWYs7Pu3bnHGKAPs74dft6+C/HOkZ1K8k8N3wGya2u9yxbv9iQA5Fa2v/tX/DfwZYS3T+JNJ8th92yUTySfN0+UEsfc18Ny6NBftHujVccpz96o4/DduUEskcfyjG4/d3en1pqyA9a+OP7YviX4428mleH47nwz4cmISednAvbyM9F3dIl+nNYvwY+EGqfE3xXpvhzw7pv2q9uAQgU7ViVRl3Zj0VR13ck1m+BfBdx468y3sbXUbzVLiaOKKKBd6szNh9zEbgANpHHY1+jf7G/7Ken/ALOFk80cz3/iLUoFW7uccRqW3tDF/djDY57lc9DWc5PoaU/M+jf2R/gXZ/CH4WaPoFukHmQxiS6mhi2/ablvvyDvycDJ+YLgYyDX0F4Y+H1rONzbfm6e9ecfDCxuQsLNG3y9AeK9t8JaVMVXcpEa+oqOU29obHh3whY2sQyisv8AFkciur0zTYYYvlRQB0IHX61S0rRWjTGd0n6Vu2emtbryePSq5SJTJ7WBdvyrhatYwKjUMfY1JWhzSk2FFFFBIUUUUAFFFFACL92mXMAuIHjYfKwxUlFAH54/tZ/Ci8+F3iq4t5lkazuiz2lwR/r4+4/3l7+lfLvjZm+0j94AvReOtfsF8WfhJpPxi8JzaPrELSQyfNHKmBJbuPuuh7MPyNfmp+1/+yj4g/Z/1Npbq1k1DRZCRbahAh8tv9lh/wAs2HcH7/bNeBmOFlFc0dj9S4VzyhVj9Xqu0+/Q+bPESsU/vbeuehrxnxndTaFq9xlQqSNiMN0Oa9m1uURFmYjZtHTnrXmvxD8Otr9uvzMrKpxnrkdB/wCPN+Qrjy+uqc2pdT3OJMqni8Lemryj2OD1CaHUV3MOW4CkDLVzWs+HIoJJpI2HmRtk45YHr16da0PEFhJp18w+fyz0/wBj61U0O9XUNZWPaWh3kEr829x1/AV7tSf7tyjsfmODw8/rMKb01tqc7+1febPBmiwr8rQxPyP+WitIck+h+WvE/hReSXPxU8PwtIWVr6MMC3IH16V6f+2HqSxwabGrRlY7dl2p8p/1rEZryT4Hss3xj8P8bv8ATB2PZWr5WlTXM5H9DTrTjThSvoemeP0ktNUulj3RnexHGMqOh57H1rFvGm+y/KjCRn35XC47+vrXqHxJ8Kx3ureZNvMMsanc38J6fljH61zdx4XdOYf3ixjYdxAzX1eFlGpRiz8F4go1MLj6kJaa6W0M3wf4o1TR3DR3TOrdY5T5sZ/Ou00T4rEybLu2ilVOJJYjsYfga4+68Mzae3zQsyt029qjULaRuWXLnaRg8fjUVMDh6nxRKwPFeY4SypVXZdG7r8T13RviHp94zR+Z9nabopPDfj2rbtb6O7TKsjwsc56q+emfp7V4RA3kJuVs7QwBzyKu6Z4ivNKcm1uJo2zt46H6jv8AhXi4rIE9abt5H22W+J1WMv8AbKd13R9IeA/it4h+GisdB1zUdHVuZIoZSbaTPUPCR5b4/wBpDWy/xW0fxPAzeJPBehahM3zfb9Id9BuVfn52+zr5Dt97rABwK+ctK+MGoWv/AB8rBcBt2TtMbD8RxXW6b8W9LvW2s01izSbSWTgD13Lz3NeLicnxEVapFSPvsp8QMrqy5qdV0petvyPXT4Q8E+J4CdJ8Y3WiTPgR2Xi7T9yj/t8svMTP+00Siqur/s+eJrXSZr6Pw7Pq2mOpRtQ8PvHrVkVDckvAzFB7tsb2rh9O1211L/j1uobhphuO0nK+2PWtTRNZuvDmsW95p95dafqEfEc9pO1vcAHrtkQhl/WvncVkeHk7uDi/LQ/V8t46x6V6dVVYf3rP8VZnNXfgSxvJJI7eezuHt8IwwEcEdip5zXLeJfgVp99Gqtp8Dbm5OzaRX0BJ8eNW8RKsfiix8O+NPL3Ksut2IkvI1+9hbyJorgHPdnanQxfD3xRt2/8ACVeCbiXC7kdNd0xf9oxt5d0g/wB1pG9q5v7LxNF3ws/vZ764syvFpQzLD6vqrSX+f4Hxh42/ZR0/U7ZmSHybhuFkA4I/DvXkviv9l3XvDbSeWwukUZ+Tln+uOlfpPa/s76l4izJ4avvCvjrvs0bUBDqH/ArO5EU46DorVwXjfwL/AGJq7WesWF1oOoEYWzvraW1kVfULJgke9VRz7NMG71E5fieTjvD/AIVzx/7LKKn5aP7nqfnBeeFdY0e82yWV3EwOBlNuTVq38c6x4ZmaP7VIu1sGPzBIoHsPu/rX3RrXwZs9Si/f2cEsJLAoFTr6gde4/KvNvGH7I+i6m8ghhVJGXIIHU19HgeOqFT3a6sz81zrwFxlGV8FUUl5o8A0n4wsWjN9bLM+c+YjYk/PgV2Hgr4y/2XcSPp+smzkn2+bHcDfG/uwbAJ+hqt4q/ZC1TTAPsU3nRhmYoeoFcH4t+E+veC7ny7u3WZY41kMsHzqdy525PGQe3avpqGZYHEr3ZI/Mcw4V4hyd+9CSXdXaPpbwz+0FfIVjvLGOePp5tlJsXH+4eM12uhfGbRr75PtixtI33biIxZ/L5f1r4bsfEV94alO2aa1kV8YOUGa6LSvjNqMEca3Kw3UfcuuD+FaVMpw9Re7+BeB8QM2wrdLEe9burH3dZ+KYbuFZFmjI3YzG4bdWpba80DKyJ8xVt7E/yFfGPhb9oKDTYPJjkudM2txsP7kflx/47Xovh/8AaJnuyjQ3NnfiNcsS3ltn6LXk4rI23umfc5X4qUoq1W8T1P49eJSnhvzFkXzGPkkKOi7f51866n8MNL1JHZEktZWDP+5b+h4/Wuk+KHx0tfGegw2dnDdRX/ng7WjDKwQZPI9RzXnNv8cbjSLry9S02TanPmIpjZl/3DxXfkeW/VYyfLZs+P8AFHieOc+w5J8yj0Nnw38IW02a4umiTVkQeWqTSmFo3PR8jhsYPDKOtZWpaLqlje+ZcafMse/cjxgsv0z6V2ngb4p6JrSGFb2GGaSRVME25HYfQ/Lt9utdVHq+niGRra4WRpOhST5x8vbPFe643d2fksasktWeY+G9cjuPDhht9NtoprNnmF40hYzjdltwZuw4GKhtfF091qSteR2c0Nu6uY1Xy/l9ytemf8I3pev6Taxy2sTS26BUYjZI3+Of1rnda+FWn6fMs9mzw3Fu/nLDIglhdl+ZVZTxgtweelZ8hMsRzF6DUJ/jtrei/DH4d6NFHcas7rNeTOWkvGxvk8yTbmOziA3MxUZxvYjAU+r+JfiJ4d/YL8A6p4L+H97Z6t8TNTiNv4l8XRoWTTkVsmzst/zIe5bs2Hbc2Fj8e8CfGXxR8MfB2u6b4bsbTSb/AFa9Z9S1fT7dhfXUTLlbMFjiK2Qkv5caqzybWdm2AL53eN5NwrNJJHcbgy+YTvY/3ju7nvmtFBI5nK5NcajJcXSJGuVbG3ktuP8AFyec+5ruNA0aTSNEhbzExMpkz/AcEg+/UEfUVg+FdKjs7DNykkUs7/uHK/LgZBIPoSD+Rruvhb46TwPqkcjWMWrSeYRaSXDlo7TliGjTr5m5sglto7q1Eo3HzHqfwd+Nd14I0f7FJ4Z0O8tLi1WxubhI5Iby6txKsjI0isoZS0affUkAfKwyGXrB8Uo/Hfic2RjksPD15MkuNQV7+TT2EJjeYKrLlRtwEHIXhcmkttX03xxH9v1xbe0u75PMmvLxS0wb5v38koAO/kdBt4ptzofhGXT31DTL66vJFlIP2Ri/lqeRtzyc4P3mHWsS+VnoWl3vw/g8M2el/wDCUrYS6fphlu7jT7GWdL2/lblWLBWJRY1XaBwXA3fKa8s+J3i1fKaNpLeG3jVpUjJ5iU8HJ9jyc7qwteNnpaYW4vftTbnMbxlFD7sYB7jHf1rR8C+H1sJ7bWNWtYbvULiFLjRtPn2eVGpOYr+5jYMGjB+aJB/rGAZvkVFcHGskT+DfDNx4EurXWJtq+JLhRc6cpXf/AGMh6XTof+XgqrNCjcIrCRhuMaC5rkUem6KkMMcigMZN7sWMhP3t5PJY+tadqwluWaaS4aSR8ySSENJM3d2PdmPJJwccAVl+MJGWSMK+5W64+UVo/IfNrc54zcr82c8DPQH1rU/Z3vJn8BCG3RUaGdl3y8Kfmx0XnpzWSAk0Tlh/qc9O+en5Vs/s1TCfwi10sckKzSna8p+f5u/pXz+fRahBH7L4Qy5amIb7JHolxpTXESlryeNl+UqEXn8arNotvuWORGmDHJ8xi5B/vf8A1qsNePLLHHsVVPXJ5FHn7bg5VdwODz3r5flP3n27tq9CxDbQpB5ccMfphfu4/nVp44403c7cYwpA4/xrPEj+f8rKo9c04uhl27ty/L+7A/rVxpnnSxDve5jaTsm8da9t+7ttE4G05WIN/wCzVui5aI9n3Lx7Vymk3Xl+KtelZlbddIOTj7sK1q3GoIs/lL+99cHn8K1jG+xVapTZeup1SNZGZvM9fX6iq91OPmA3fL1z3rmPEPxk8P8AhcbL7V7G3mYkpGJxJNgdfkTJ4+lcfe/tL6e7GPTdP1TVE+bdL5YtYRjplpcHn/drsjgas/hR4OM4kwWFTVaolYj+N02/xAq7j8sakHHWvFEid/ElxI2BtGASp/WvR9f+KXiDxHaywx2Og6fCw2L5yG9lX/0Ff1rmNbnWS5hVkVZIrZCxjG0Mzf3f/r0q2V1aEXN9TDLuMMDmdWNHDvSLudF4c0S4l0xGAXDcAHuPWrp0WWFflUHYM9fvViaL8UrfRNIW3urWTy7dWG+EqxI/3WOK8r8bftlajqczW+j6fDa26jbvuZDIZfqo4FeZSyetiXy0kfTZhxrlmVU1UxVTTslqezzXtrZozSN80f3owa86+MH7Sp8G2Uum6W7jUGHzYf8Adp/tMo4P0rxHxJ8XvEXiMBLjVJEjHVIY1VT9e9c7DB5snKtJI3QsAWb8Sa+gy3hSNKop19bH5VxP4ySxdGWHyuLjfq9zafXJ9V1aS7uZpJrm4YtIzMWL7vr0A7CvWPhnZxw6XDK0Ku/mYUAcqP6ng/nXlfhrS7W8uvLmFxHu27REOd3+Fe5eEdFaxsUjKurL/wA9D+tfZ04RjHlR/PuJxFStUdWq7tu79ToPCnhe78V+KdM0e1XN1q15FBGuMkMz9CP97j6V+hP7Uunab4d+DXh3wFHqn9maX4k1S20a8uYoyzpp8LCS5OD13kRplscMa+YP+CeHgNfF/wC0tb6hIs0kPheykvm/upKzKIyT/DySePSt3/gqN8ZpND+Pmj+H12mHT9GjkVEj+fcXkL89Mlwoz/0xpy3sc07dD770vwza+GbK10uzjWO006JYYo1PGwfKMH/x76c1qCPMjH7q7a8Y/Yr+Msfxt+Auj6k8qSalpg+w3hVvmLp9xm9Mxkde4r1+71GHS9KmuJ2xHEu98noPSoasQZfirxpHoRVZFJaTlY8jofWuNvvibLd3LIqttwF49R1H41gajqV54z1tV8zdNI/yRIhj3gtgZx0wOa6TT/gg/wBjZp7pY5CMgLDlT/s5/rVxSQHU+FZ/+EjsYmbdmZA0bkcnK8cV8z/8FSv2Udf/AGmPhDosOgrHLrfhPVWvo7SRtn2tJYvLcBuiuNqkZ4wTX1Dp2lnR2t13MqABOWb5QvSrckcMutFlVf3iqCwP3jnbnFTzAflP8WfEWvfD39jbR/B/irTbqz1XSY7m1VCPO8qPezRZZRgAlmH+6AOte1f8ElvHU/if4T69oqrFut7hLkSNINq7xtAAxnI5/SvuPxT4C0nxeklvqWn295DINrLJGG/XFcB4J/Zp8KfBrxDqWpeGdKtdJk1SMRXUcCYjfHQkeo9qfMB8BftoWFxB+1v45jMjMrw6bLsx8uXhU529M/L+ory7x5cNHpliG38SYOeM/L/+uvav20Zlb9tLx1Ex3eXb6UjHGP3i2q9K8X8fTBZbWNchS+4DGccY/mSK4MfK1B3PsOCYuWcUV53O/wD2YIvN8TLsZvm4bjOw+tfScL+XGvzBvl5GOBXzv+y9bKmuXRGWVUV8fxfxV9DWVvHO4VfmVuwPNfnGnM7H9cuyjHm7XJY4PPcyf3fmI/wqICQStlU2/wBz/wCvUkMTK7Km4euOadbx/bL2SN8kscDtg7atSMoyXNsGoKy6Iq/ew+4Hv92s2zfZ8uT0zzV/xCfIs4Y8rmR2VwB935awnv44m2BWVtuMsccVtG7IxEW5aGiZFzuzhV6Z61FLcNIRjdt/i9TVWO6jig++u5ipYAZIqG51+HSfmkuI1+Y7Q5AxjrmiJjrbY0muBIZFG3cq8e1EdyvlDd8p65HO6vP/ABL8ePDnh7zBcahFJMDgrCPNYn6LXE67+1nGw26Vpd1dyKdoaVRHH+S1pzJLXQPhV7nuw1jKr8yqX2jb2x9azdT8S2+mBmluIliT+KRwpP5188al8T/G/itiVmt9NjZtv7mI8D1DdagsfhVrXjCRftlxeX2DkKGaT865auIpQ3f3HfRyzE1fejTdvM9X1/8AaU8O6HG0Y1JZrpU3AQ4k/Djv7Vwmv/tMalrMeNF0aZdoUvNKDJtH4VueFv2Tri7VTJa29orFSWuJOf8AvnrXoXh79nPTdJt1+0TfaNq7dqLsjP8AujqPxrnljla1NXO6nkXL/HqJeh8/3V54u8dXMj3F1JZ2+3fsjAzj1xWv4R/Z9ufF8/zFryQHDb5AiqffJr6T0vwjoPh+ItDZQRzbdvmMNzMfX0/CszwbqMc13rFy0KKzXhQlV2quz5Dx7kZ/4D71LliJ2u7XOqjRwGHhLlXNbucZoX7K0OnIWuLizQgcCFd+w+nzda7LR/hFoGiIh8g3RXtIwRT9QvNbvnhoM79nO7rUDTrs2x7vMVvnb/AVrHCpO8nc55ZtU2ikvRWJ7GODTSn2WGGMnoyjGPpxSzTs0oZi6rt+b2+lVftMZi28HdzlhnbTbiYpEducLyS3auiKj0R51TGSk276eZM115DLGzSPtOQvv6E+lU5ZggfMZ3JKxwp3cFuB+FYPibx/o3hIMdU1axsXznZPKofHrgnNee+Iv2tPDthNJHYR32qTAYUiIRQg+oY/Ma7I4OpL4IniY3OMvw6vXrJP1ueheJpkmubAbQ5WcyZYHd8qt2rJ8R61a6dp7teT2ttGoC/vXA614N45/aN1XxdPC1vC2k29ujhY433SOH5G5u5A44rkry/utWn8yR5pJI24d5CWOOnzdf0r1MLks5fG7Hw+aeJGFpq2Eg5eb0R7trHx20LR4JlSa4vpWH3YU+XPqS3X8K5fVvjrqWpQNHY2P2FWk2efv3yH/gP3fz3V57ptqZZNsi7WAycc5FenfCP4N6hr19azR/LtG7IX05IIXPHt1r16GWUKbvufm+Z8dZpiW4wkop9jzm/068m1GSaRZRJKxdVY7uWYc/qPzqjLrv8AZvzOC8hXem4/ePrX3Nof7L0lzaH7Rb28jN88mEz5h3L94fdx8vY1zvjr9g+31zzJFtiu4YYLwWO79BXrKzsfn9S8pcz3u3958H+JvHc1yzMGIkboy8AfhXB6/frqD722tt6FRj86+2PFn/BMm/kmk+ym4wFYpsA5H919zcv7jiuI1j/gmZ4qSPdbxsxVc4Kndn3PSrjNHN7M+SJE5LdNpx7ULcyK3y/xcDnrX1I3/BNTx9cpmPSPMzyvzfMT/wCg/wDj9XLP/glT8Tby5WOHQ/M9TuPH04ocosiUbHzToniW806aMxySx7ehSvTPCPxXJhjhut27GBJ97P1r6C8Ff8EUPip4nm23FrY2K7lAZ33sQevAr6D+EX/Bv1qFxMjeIPE3lIqqrx2sB6+o3U7k3Pjrw7ql14gjU2qyM033B1Mn+FfQH7P/AOwl4q+Mep2sl1G2m6TIu4yoVlun/wBkIPu/U1+gXwG/4I1/Dr4ZSRXFxp9xrFzDtKzXz7mGOvTjefXpX158L/gZo/gm1ghs9NtrWONVwkcfy/41n7w2fJv7KX/BO29+FnhaG1022lt5JWV7i9nUG4uF/unaBhf9kce9fXHw3/ZSTQzHJcKkkgXa+7+leveGNMSONf3UfXCjGOK7PTtGiX7wqeUOY5Lwx8LLTS2wse0KvGwCus0/wzFZrjZWnHYrF23VPWnKL2hXitFR1IXHGKsBcUUVRncKKKKACiiigAooooAKKKKACiiigBrPWX4q0zTNW8O3lvrEFnNpbRN9qS7CtCYwMncG429+cdK0sdDXzR/wVk+JuqfDL9jPWm0cpHfazd22lh2bbsSSQF8H1KKw/GsMRUjCnKUtkehlOBqY3G0sLTdnOSSfqflD/wAFHvjj4P8AhP8AtP8Aijw/4D0XU28N6JcG0aZLtbiN5wC04hH3vJWQ7MFmIZGPQivFtL/aL8PeJB5K3Qs7hPkkhuEVZQ3+6TmsHxvod9Je3El9bzyOzmV5ETzFcsWO/PbLNk5rzfxD8LtN1hnnjZhMz7mdSQ1fmizqKqfvI2P7Qp+G6o4OnHCy5pRjZ3e/mz3zU7ez1m33swXK8DG1vxzXLy+DBYX/AJsMYVsruGcYB6n6mvHbM+L/AIeyN9j1GTUrReBDcgE4/wBk9vxrpLT9pxYrXydY068s5h1kVt6HHTgc16dHNFK8Iy0Z8NmXA/saqnXpNNO9+hxv7aU32bxDZWrbj5NsuVU8Kd0nGe/UflXm/wCz4v2j42aGQ3ypOz4/7ZtW3+0D44i8Y6n/AGjbsqrcOVK4+4g+7uz3bBzjpmsL9nG4T/hdGhSPIq/vZCp/hI8tuK76KvSckc1XTERu9uh9aeINDj8QWD277eRtDEZI/KvN/wC0ZrHb9oj8t4w3HrjgH8q9chaFA21gSeuT0rl/FngWPU5zJHGqTNH5Ybyxg++K0yrMYU7wnszwOO+HJYxfW8OtbWObXWI7qVVlXdIzfviB8qN6/SmzwWt8hk/c+S7bCpGFkk9MdRVXU/CV1p6FYoJPLb77K3NZslzJby+XMis275Q/3U9x6mvo41oy2PxLEYGtTbjUi00aGoeDgItsci7mTcAF5C+/vWfceGp7WRtpaTY2fu1cTxHJBHNuBjaQ+ZKT/A/t/hV2z18P+9VY/Kb5Ig3UyfxZ/p61d1e9jnUZLRfmc1NAYImGMMRkBu/rRaKSSY1+8MjcetdUsNnfjavk3E8n755BzGin7y56cVBceH7eSSWW1LSWkXzKX/5ar/Spu1sSpS3ZzlnezWtx50dxNC0W0/K7bifr0rc0f4k6tp0caLIskMJ2gSfMPx71Xn8JSAKMbWZuQDnFZ+o6VcWrbcfdG0YH8PqfesamHp1f4iuerhcyxWGlzUKjj5J6HfaX8YI7hlN5btG//TL5h+NdLpfi7TtbLCG8g86T/lm7BWP0HWvGizQsPlZWK8Aimb2hVj5aoqN94HA/Ada8utkWHqfBofc5Z4kZhRtCtaSXyf3o93jEdxt3FZGYbgXO5hjpwQf512+hfHPxbp+mm0OtTahpqFd+naoianZsPQxXAkVR/uFa+YtF8Zapoir5N9Ksan7h+dZR6HuOprqNH+Mk0TMtxEzN0byTxXk18mxEPg1Pusv8SMvrv99em/PX8j36Pxb4K8TRt/a3g1dDnkdd114R1B7dEHqLK682D/gKNEPdaa3wl0HxHJu8P+OvD95JKNwsvEkTaDeZ2sfLDvutJHyByJlHNeW6F8QtN1SDzGmWCbCqyysACfQVvLdRvA2JMeZ82FwQ59Sf8K+exmUwl/Hp/dofpeS8bV4a4DF3XZvmX3P/ADL3j/4Ka54Dt1uPEGg6poNi4BivZIUlspxnOVuIsxn8DXF6h8PrXUbSRkjt7hJMYaPDYz04r0LwP8Rte+HbtL4e17WNDeQZf7DdvBHKP9uIExydB95TW/N8VrHxfdf8VV4P8M63JKSXvbFW0LUOW6+baYidv+utuwP8Wa8aeQxj72Hm4+v/AAD7nD+IEqitmOHUl3jv9z0/E+XfEn7O2ka2zmS1CMxOMJ1PrXmfi/8AY2tm3nT5pFfZuP7sIv446/hX3XL4X8BeJ3/4l/ibWvC8jEfuPEumDUrRDjhVu7NfMVfQm2471k+Lf2dta0PR5NWazs9W0Oy2CXWNAvYtUs7bOMCUoS8PUf61U6in9aznBe9G8l5FYjL+Ds8XJWioTfSXuv5PZ/Jn5w+JP2cPEnhq0Fw1uJ4N+Bsbdk++K5C/0S+0K4CywzQyKcrgfyx0/Gv0L1/wjp1tp/nSahZ+YzeWItrLMOM4wfYA59K838Y+FtBu4WjeEXkjDAIQZP0r2cv47lpGsj4XPPATDSj7XA1eXyep8j2PjO4tb+3vw0clxCz43DI6beRXSaf8WLbU4/KvbVWVl2s0YEij8G5rrviP+z9q3iC82aH4bumV7hSkoQJ5S/xfM2AayYf2Q/FltBvkOnx/3A87Pu/Ja+0p8RYKVP2kprXp1Pw3HeFueU8RKlQoSmo9bNfdcj07wv4d8VwbrLy4mjO5hEfLEf1U8Cob/wCH+p6VcRz6XeeSyfd65P1J4qne+BfGvw2t5pG0W6+yy/KbhIfPQD2K/MPxrldS8eavqJMc11JuHVQNpFepRxVGqrwmmfC5hw7mGEqOGKpSj6p2PQvD/wATNb8EpPHrGjtqkdxAUjfcYpInPSQONytg8HKjK8DafmrStPjjDqkLLd2klvIQxKbt+B9RXlen+LL62jjEd0+FPA3M2R6Vpad8RVhffdW9vM6jb5gGHT+hrbmXc8x4N2uv+CesfDTxFb+IBqM1tIrI0qnJ6Y2n9eD+VdFcaXa6hb4uLeOWLbyrAOP15ryTVfHB8aaFDpsmt6haWMJEsdjcEPbxuqt82FA+b5v4SBW34e8Qaz4R0RoXhj1WJdw8+OclkU9QPUeg61RyTi4OzPWvGvwu0/Ttbey+z3EElqiIFiZVxuRDwg46kH8D61g6/wCEr7SNJt7e0mtLhmbG+ZPmA9sd63Jvi/4V8XCC6bWFtdTmSIXUGpIbeRjsXdtO3YUDLhQDnH3sVc1crdf2fLlmR3yjxnzUlG8jIK8HlCOPSjXoY8/YyX0TUNPt/J1DT7x441z/AKPI00Ljpnn27V6J8BvHHhT4XXE11r0Opa7YxzxPcWel3K6fcSxE4YBpFby2LEANsYEBvQ1yt3qw/d7J2ZUDBmQ/0rpJlt774Fa0txDJILvWNMjLEAxZSO8coQfmVmDZXtlDntUezLUmzpPAPhKHUfs/iDVrebVPtpDW1pdnCXIViokcj70KKBtBwXKgDIBNeiePrrT/ABh4mvNYVtNtri98vfb6TpTafZrIsSozqHb7zFdzkLyzMyjkJXnvwlu28GfDu2m01JbeeHVI3SbaGMDLDIync3LE7txDADAzUi6qzCSS6ultYss0ksvCv/hR7Mk1JtRt7iDzo2ZVYbgTwDXL+Jrr7VFbsudqkgv3PrxXI6l8efC+j6UYvtk2oTsrA/Z18wR/8CPArzn4ifteRQxx2ehabcfc8yf7XKG/eHguEjx82PVmFOMbblxjc9bu4ilhI3mDcvznB6jb0rc/Zxfzfh/9o+XfLM5XcMMVPTPY49q+UIfiL8QviBezbWvI7OQbRFCiwxhfTLdvbrXtngD4xXnw48CR2r6XZx3Ue4lri7ZY8+wXmvJzbDzrJKPQ/VPD/OcFllOrLEz1lbbyPfLm4Vf4uCdo3HaTVf8AtFbcqzYEO7YzNIAmP97pmvnfxP8AtVRSA79ejt/LQYTTYcHceu0/OR+LV574g/aCs7+Vtthd6lIrbla7lyp/Ak15tPI5X9+S+R9tjPEahGNsPTcvwPqfVfjZoOmXmw6ks8q9I7dGnY/iuRXAfE/9se38C6EbuHQdQvGZvLQSTx2/XoTks+Bg847184ax8ddavg/2aK3s4+o8uP5h+NcV4y1nUvFVoTdTXFwytj5z2+lehSymjD4n958viuOs2rStQjy/I9vT9rXXNUs7zUFuLHS5NWfzjDFGbho+NuMvgdh/DXEeI/jbq2uSA3F9d3aK3y+dOzIn+6gwq/gDXn+nJcNbRwtHIzAZCKpLEfTrXUeH/gr4q8SZ+z6DqTIQCHlj8pAD05kwOa6JLCUV77ieZGee5n/z8n/huVbjxtdXCMvnNAuSpWEGLbu68rg1teHPjdfaJCsVxDHdRqcKQNkin6rwa6rwt+xV4i1eOQ319Z6euNyiJmuCfrjbXpfhb9jPw3pCxnUpr7UhGnET7YI2PrhMt/49XmYjijAYdfH9x7+B8IeIse7+y5YvrJ/oct4E+Jtt4386G2hMb20e4pIMlgX/AJ7iB9BVrX0ktdTdWU7tiIpI4Py1654b+DXhvwlatHpeh2MDOfmkEbSSlTyPndmPBrcPg6O8t1X7Fb8ncQ0a5/A18zmfGGFrQ5II/WuDfA/HZfJ1q1RNvoj5j8Q/6PpszMo3CN+MH6189gNKWZcYr9DNY/Zes/Gls0P2O5hEwK+Zb8Z3cfxe1fBHijQf+Ed8U6lpatuXTbua0LEYz5bsuf0Fe/wjmVPEqfs016n5r418M4vK5UKlVpptrTyMYEs3bC9fer1mBv3d93P+zUFtAv2llfmPOePSrdndRfdWPCjqT3r7TbY/AJ+Z0fhFbm416No4Y5BnBHp9K930u1uJ413KGwm4nps9h61498J1jl8QxAoZC3yhR1Jr22KL7KjR+Wu2H7xqE7HM9T7D/wCCWngGFvDHi3xA0br9s1OKwjm/uRxIXcD1wZEz6Yr4o/4KTfEqTX/26/E0kc/mR6NBaabuV2A3BPMcAeu6Ugj1r9Gv+Cc2g/2V+yXoswjVW1a41HU3yP70zKv/AI7EBX5O/tT3Mniz9rf4lXsKtIs3iW+CP6KkpRfyCCqpu7uSfW3/AASa+PEnhz4sroM0rSad4ki8kxZ4SYBjG35Eg/hX6O+P4P8AiSQ2qld15MqMSeGAySPx21+Tv/BPf4E+NNe8cQ+MtHtSLHwhd2r3N2wVkjaZzHDH8zbnZ8khQMqFOelfrD4tgkXVdIVisixmRZCDlThAgI9ySx/GlIDDsNDt9FWW8jhRrlh+6O3GD6VJ4QhurHW5GvfMlS5RmF2Jc5k3YaPy/vAY6HPNa1zCbMRqyMFRssM52/Wq2ieG4YtZM8M0lwuGEfzfu4Azbiqjr8zEjJ6ClqFyz4416DwxpFrMzpGok53uMlNrfrUmg3n9r3iyL8vlx5I9Du6V5L+1X4uWXxRo+j2bMVsE+0XKKcAmT5UBP94KXIPQHGa9H+FllNZeFrdpGZ2lQMVPVMjI+uRz9KGuwHWeZuRt20N64rC8TSbkdWBZmVlwp71N4u8daT8OPDtxrGuapp+j6Xbk77q7lWGJSegDZyXP91MmuL8I/F3R/iZocniLTPtE2gxr5iXM8RhMkUWZZpVRuTGVThm5+X3qIptXYH56ftG6yniX9rL4nalhZoYvEMtomz+IW8SQbh9GTp6r715r48uo729tlH3gWkPGMDpj8+a1dH1E+I59U1iQqG1S+uNQdvu+Y00zPxnr98H8K5/XYhJ4mYcblCLhTuHDNn8683OJqOHkfoXhvh/a5xC/2Vc9i/Zat5DqMzb/AJsKGO3sO1e9RXDDrjarYwB2+teI/ssoEkm+Xc8bNhR1Py//AFzXtSxgSN/LNfnsdPeP6qqRTSXlYkhun3Sq3blexNTKjTyfM3y5xtA7fX+77daay7duTuLHarKwINWoLeXcq4Em/pjqKp6F06XvI4X46fEeHwVpOlG4VpJLqWUqh/iCqnp/vj8q8kn/AGgNQ1G6xa6UJNvC7gWyP+BV7R8WvhE3xBl0dJZLWGOw81i83zMzNs4AHb5aoaX8ANF0h90zTTN1AHEZP064rGpiKidoI9Gnl+HnrOaR41qnjbxlrqRm1nt7F/lG1V+Zvx6Vz+p/DjxNrE6trOoX9x5gZl3ysQ2euNtfVOmaNpGgxeXZ2NrbEnCso3HP41Tu79brxozpGsjQ2iFdyhkQszEk49uKlyxL2NY4DL1J3TZ4H4X/AGYrjUkV0s5GbdnMhKlvzr0jQf2ZY7YMt9c2sYXlgmZGB92PFejXGq7SOVVt3ABHH5U1tSaPdjyyWG7DD+dHsKk3ebuaLF0aOmHgl+Jj6F8LtH8PusotVmZDjMu4g/hit9FtrGOOGH92xXgIp+X6nFUpdR82coshTyzuYYzt+tE83l3aq27y16gMOfxrSOGpR2ObEZlU2UvuL39otPIPK3L9o+XkdPm7VFPeNC6jDR/7BPHp1rOF35rttV/TgdPpWL4n+KmjeDF8zWNUs7Hy+Sk0+CT0+4vPXmtoUW/gR5eIxUKUuao0v68zoZX8uSMtlmQ79vr81c98PLhhodxIXbc11NIclucvkZrzHxf+2T4Y02ORNNhv9WuOu9ofLhz7F8HH/Aa8dvf2m/Ft7pv2OzvUsYFLFTawrvx7s25v0r08LleIq2urHyuYcdZZhU4qXO32PsXXPENroEXnXlxDZxIM7pXCqfxNcJ4p/ao8H+HHZP7Sk1CRusdpCZF/76+VP1r5F1PVtQ1+7+0X13cX82c+ZcTNJx6ZbJ/Skj02W5VfkGeuM/er2KeT00rzPg8w8Rqs1y4WHL56nuviH9t+6uJdmi6NHat8w+0XlwZDk9H2Djj03V5v4g+Ofi7xVcM15rl3Gq8BLQfZ0QfRdpNYdh4anuJEzG3zHGM967zwF+zR4r8dTrHp2k31wsnAPkMEI/3sYr0aOFow+BHxeYcSZjinevVdn20POUsnu2BjO6SQ8s3p6Dk1Z0/S5JXYheFX5zn7tfX/AMH/APgk7488a3ay31j/AGfBsVl3AP8Ayr6v+C3/AARni8OXEc2qRNd/xrCynCt6dea7NtkfO1MUk7uV/XU/LXQvhjq2txLHaWFxcA/OQFIGPTNekeF/2P8AxRrCxrFYzRqrYLs3zAepFfsf4F/4J16L4bihjGnwqIl6CPav4AnI/GvSvD/7GGk2Sj/iXwLt44X7woscMsZTvdX/AK8j8evhp+wBr11cs135g+f5THF8pX/d3Zr6o+Bn7GNx4UKyzW8kk+770i/NzyfbpxX6J6H+zHY2wjxZqVX0UZrqNL+B1jbnb9mj3dvl61XKzjnXTWh8k6B8Cv8AQ9phznh1Ix+RrobL4AGeMt9mjVG9cV9WwfCW3iPyxfN9OKv2/wAMIkVf3I4++2P5CqjFnG5nytZ/s3Q7fmhj+TpwDt/xrUg/ZptZHEkkKj+8Nowa+n0+HkYG0RttPQ461aj+HMflbliU+1UotGfMz5usP2cLGGRWa1T1ACDArqdG+CFlZqNsECkdSigYr3O38ARj/liK0LXwGkPVRx1G3rV8pLdzxyw+FcMbqq28fyr1AANbumeAFtmULHtDdUxn9a9Wg8GJAfuLn1xVqDwpGi7dn44q7mZ57p3gzyk2+Wq7vbNbmn+FWhChlBJ6ADpXZ2+jrEq9F/4DmrEdiiDlQzetLUnYw9M8P+Rt+X7vTiuhjj2KvFCoEXAp1PlFcKKKKoQUUUUAFFFFABRRRQAUUUUAFFFFABSFsClJwKyte1oWULbevrSbsVGNyzdatDZD95IAe4718j/8FdLG9+If7Lf2PRbaS+m0/V7e/njjALJCqupYDuAWBx14r0f4mfEK7gjbym/eexrxXxd8W75pWjkZ2UthiWPA9OeCK5cXTVWk6b6ntZNWWDxkMXu4NNfI/LDUI7q0nkWRWi4+ZST09ORWBqnhrTdSDfabWNZGb/W5w359K+vf2kfgaviFp9U0GwjklZt8lkpRSD/eRmwPwr478d6/feAtekttW0rUNPljO4LcRmM49cMArD6GvhMZlkqb99XP614Y40w+PhH2c+WXZsw9R+GLRxtJZ3ysFbiKVdpx/vLxXM674IktiVvtP2herqBIB+IruNO8d6fqBZFm8qTO3a/7v+VbLSLGuI2VtyKTgbgRXhTwCi7wdj9Fo50+X2deHNHz2Pm/xR8EtM8SxZjQRt1Upxj6iuCj/Z81zwFrseqaVqHnSQDfET8spJXnLHg/8CxX13qHhfTdSuW8+12zSdJI/wB2fzXisHU/hvu2yWN55y/887pdrfmvFEMTjqGkXdGeMyPI8ztUceWXdaHh+mftK614VK22t2EkaJ0dkKt+DDhq73wv+0roeuKvnXA0+RRsQSrtj/EjirXiPwdMqNFe2bRxkbS20Oq++7pj3ri9d+Cel61MxhUxTMF2+V8uD64rehm1P/l9Gx89juBcUlzYSalHsz1yy1uz1qMzQ3NvcRsMb42DDP4VXv8Aw5bavbsW2/u1UgcEA/UV8+6h8KPEfhK4abRrpZGzuXJaKRPoRwa0tB+MHjrw6wbVtPa4t1TbuKhmb33jmvcpYyLX7uofC5lw3Uu6WMwzv3tdHq2o/DOFpPMttySv8zMD5gP4NXP3PgbUNK1HfEsjSJtZCv3oj6+hp3hz9pfSr6eOO6ElnNN93dhlrurTXrfVYd0cschbgFSCSK9KjmtWLtJXPiMd4fZdWl+7fKzzW6a8sZQu7yrZVMnzLyXHBB/2SKb/AMJLcRXUUhjWT5/3cRZsbfQ4r0640a21BB5qRyeZjcXHysPU+v4Vj3fw2Rg8kO2IMcYjUkrXpUM2ozfvaHx+Z+HuNoR5qL5jm7DxCkEDHcJpNy+azncoT2PrWhMLS5gMjNGFULjLjLAdSKp3vw8kifbEw8tTmQHjJ/wrFu7HUNPuA0kLK0YbaoB2xj0969CFanP4Wj4vE5XisO/3sGbk3hyK5Taqtub7q+n41m3fg2ZopGjkEjBuHVwAfwqLSdfntLOXa03mbG8+RXGTC38GOwH51bh8Wn7KryR/uITgY+SSZd3Uk9K6I6nDKSjuZdxpMts+xotsijeATUbuUDdmLZIHUV1kGrW91aqrQ/vt/l+SUKoi/wADjPJPqKdLpNrJJIigBoRidyOI3VmHHqCKmwe1drrc5mIM0S/KV2ttyFPWrFjqd5oUge3mmtWzjKPjJ9xzkfStK78LzPaq8O9YdzLwcpKfcdRWbcaNdWl1uZQ0ikgIVPbgtj0x3rCVGMvi1Oilip03eEmvRnRab8XNRtWRpnhulbgfL5bkfVeK6rSPipY6i6+d51rcBlHlvyuPrXlptvInUM219o4Ix+VRI8lq7h90TKMlsZIrzsRk2Gqq1reh9Rl/HGa4V6T5l2aue72Wqw30e6GaObdxlWDfpW34J8W6n4F8TWeqaTcfYb23YxGRVDLNE+VkikUjEkbqWV0YbWBPBOK+azcPbLwxjf5juHDfnnFej/CHxxcX+qLpV3I03mgOrNIAy4YZ/wB7qPvetePisklh4udN+6fomR+IMMZUWFxFO0n81+Jm/GLW/wCwtfvNNiuBJb2V3PbQtEWWNo45HVSAeQNoAAPI71a/Z519Wm1qWTy9yrEuW+YKPmz1HJOR09K89+MGsmTxRe7W8wNd3LIzHsZmwfxrpv2a2afR9YbON1zGhyM8BGYfzH518i8spe0cmtz+hsNxRW9nBcz0V9T6C0zw/wCFfF2ms03izTdJ1BlUi21LTru1tpiWwcXMfmICB/z0RFp2ofs5a7Do0mow6bJq+nxsB9p0t11a1IbvvtWlwB/tqK4Uzq25Rx5bblIIwR6EU2z8QzaPrK3llcXFnfRnMVxbO0MyH2lUqwH0zWVTKcNNJuLT7lYXjfMoVGlNTXZrb5r9Qvvh801tPDFDHclTiVYyG8n/AHh2/GuB8Zfs76P4lZ473TbaZc4zs2sx643D5uvtXtUX7Rfii9aNdZuNM8Ww24+Qa/psV9Io9RPtWcH6SCprL4oeFtb2R6j4b1DRQwZWuNI1Zpl56Zt7xJBtHoJ1NcMcrr0XfC1We1/rZl+MjyZjhk0+yUv+CfHPi/8AYis9vm2E15bNcLkRs4lXO7uDyK8v8Rfsw+KvD7kx29tdBGwrQylSw+lfoze6T4N8Qvus/F2mQzOu4RatplxpeO+3zYxPAWz3LKKWb9nzWNbtmvrHR/8AhILP5QZNHurfWYzu7EWrvKFGBzsr2cPnWb4b41zI+PzTgDgzNX7Sk/Yy/wDAT8s9S8H6p4dkeG80+8t3xlgVAA7cFak0bxRe6WP9Hmkjx/C3zDiv0E8S/Bm1utTubfy4VuFVYZraaJoZFOMfMjDcvPPIry7xN+xXpmouNukwr02vbOqg468KSOf92vZwvGVNy5K0XFn53m/gTiIr2mW1YzT2Pnax+J0Nzsj1CFQq8DGSoH3vTNb1p4W0LV4BLalbVScq1pIU7g8rg/xKDkfN145rY8V/sUahZrLJZX3ktH92G6t2LP8AN2ZeF+X5+e/FcPq3ws8UfDYCYWtwzNJ0hzJkepA+7X1eDzrB1l7s18z8fzrw3zvAN+1oN+h3SSeIdCsFjh1b7XDbtlFmjTzF+rYwa1U+OupQ6PJpd9Db2em+fHczRF3UTSIjIp3bG6CST/vv2rhvDXxQa6lS0v0aGZThW28/gO341p6jJ9ouZGXZ5eM/LytetFqSvHU+Cr4WtQly1YNPzPR9N/aG1O58PxaboGiXU0fmmVbq9uwttG+wLuwiqeFb7w2n2rI1W08XeMrZxqXiCOwt3Vl+zWcIkPp99uOlc5Y/Eqz8Jae0T5NxnBRF+ZMbQc9hkVRv/jXfaqSNOspHm8zcrspkZv8Aabbwv0rOpWp0/jkkdeDyzE4q3sIt/JnQp8HNNVPOvp7zU2gRnbzpTx+C9a4i++MVlokk39j6HZ20LcCSbCSD/vnJ/wDHq0rfwv8AETxzLwlxawscFWb7MrKevC88VvaH+yLdyQrJqF95ascEW614+K4gwVLeafofoWQ+GOfY34cO166Hm2p/F7XtSRo/ti28fXZboFx+Nc9cXF/rE/zG7un3Y53yfpX1x4I/Y58KIkbXFnc3JWTc5lnO1x6fLt2/8BrrLv4HeF/Boke1htbhVfc8LhpPJ/3Cf6185iONsNBfu4tn6hlngLmM5JYmcYLqfGekfDDW9dH+j6fcP9VOa9A8Mfsh6/4gji+0RSWcMpIb7u704r6g0x7O4iUW7w259dvl/wAhXV2PhhhDJC19YXHlS5RrUNch2AXJV/lIBHr3r56tx1Wm+WkrH6XlfgPluHt9cbm2fPGlfsNWOkRR/brwzljsV1BfP4Gu88MfAHw94bhUQ27g9GJ2r/LFeuWfgaXyw22ZlBw6yuFUj6Dkr7DmtCy8Gqeskdui8nYmSTXj1s4x+I6s/RsDwHkGXLWnH8zz7Qvh/pWi7U0nQ4IUkXLNDCF3H6gDArXg0CWPEaw2dvuYSA7d0m5ehXHQcHg+td4NJsYGAnWW4ZRt2zSFv8KJLiO1ztjjVNvyqo+Uf1rH6njazvVkehTr5ThP4MEcjZ/Du6A3SRzfN90hVjVh3xmtCy+GscS/vGt978fcMgA/GugfUPl3ZZWxt442525wDUEN15adVLL1B7VvTyamndnJW4qaXLCKXyIU8H2C28rMzySfdYDjFXYha2Sx+RDH93OQKpC4Uybo41XYucE8H60+4zOu5yudvH8Ir06eBw6+yeDiuI69SXxv8i3BdS3E0YMiLG0g5I4TPTJ7Yr8nvGd//aPi3WJv+e2oXMmT33TN1r9Ube5GU3OuyLLPvPXHWvycmvPt968+OZp3mI9nLMB+Ffb8L07Odj+cPG7GSqUsPB92ynDEvmNwPStCz00XE21VYn25qnEjRXG0q3r0rY0aVraTKDcxXj2r7Bux/OVQ7n4NafHDrEcn8UR3pjnH1r2O2hk2K6naw6Ad/pnp+NeM/BmKeHXcKzFdu59o7V7HZq1tI3lrtVm3qd25R7ZqDLQ/Rb9lbU4/Bv7DHh+/bc0em+GJ9QEajnKGRyD+KD/vo1+Y3w3+DGqfFT4tXTW9hLqGqeJNXleKC0i8ySeSa5J2rjO5pHlAAHPFfpt+yjCvij9hnQbNZCovvCl9p7Er/FtuUJ/4CQCP71cX+wF8Ev8AhWdknxEkhjh1TSQuj+F7aRWZ2vvJZZJ142BbRGDBj83mSIBll3VUNCD3D4O/BSw+Cfg7QvAljDZzWvg8CbWLmHlNS110UXBUlf8AV2wVLdAe8bMNuTXVeNCY1sbpNzRwyb2VRhsbcYx9P1pui28Oh6Zb20TPIkaBdztl3JxuLHuWyxJ9TVjUj/aWlyW/yx+erp5vdCV4P4VmrgLpz2+p2Sy58yOTGGHIJ9z+FS3E8NgFjjVZppOY4z3/ACr518e/8Jb8L/EYg0+81awsWjVDLBGrI+Op+ZWAJ4/Wtr4c+Kdf1nzJrSa+1DUm+Zr+6LOwPqSRtXHp27ZrXmAreJ/A/wDb3xmfT3nmuZBKLvU5x8v2UH5jEPpwAPXb6Gsbx9/wUF0bw78VZvAHh21k1DUNDic6zqrSA2OlhY+YY8f6+ckqpA2qpJHUV6lF4Yg+GfhDWNSVvPvLW1ub+a5lBV3aNHlwzD5sbl/Kvy/8BG4+FfwDn1zVfOHiTx6q6tchwd62r7nGSOS0shZ+OwX2pwQXKXxY+K3iL9pb49rLrGralrElmwigXeAiJuy2xFO1SF4Bwa+5/jXrn/DPf7Cd9arJHa311psekweoubw+WQP9pYS5OOmD6V8q/wDBPT4JXHj74nWupXyP9nilWa4dl/c8tuI+gXivTv8Agpb8Wf7V+I/hvwZDIyw6Ep1rVEJG2KSSMpawn3EG5zn/AJ7A1pyvlCOp4JaW7QRxwxjcsYCIcjACrxkevArJWyuNT1i8kZPMnEjBti5Ax0q/rmoyaJpzTHlchMgcbj0r2L9nuxt7fwFbymMPPeOxZyAWI3e9fJ8QVL2pLofunhPhFQjUx1RJ/ZXqL+zTZmCwuBMqod+5XB5DAYIPsa9Y+329q0Zz5jDqc9a55LxbdwwXaw+U7QOTu6kCiTUgreZjljhRXzEaNlY/aquZKpP3VY6G61lYf9WMKvJyPumnLrkkqbt0jMvQ/drnVvjKX2/OzN+FPsrzPyiTODtIz0qZxRdGvKWqZ0EmsG4xIzBmb34WoYLn7Srrysjd85A+lUIbldjb87ivAx0rE17x7pfhO1M+o6pY2ccfUzSqoP8AwEnNRGnreKbN5YpRj+8aj62N64O+5KqDtjbIPqazbG5ePxJeyfK25Y14P8I3cV5X4o/bK8I+HmkW3N/q1xs8vfbxjyz7s8mCV9hzXMr+2vp2nwXM1vpN5dTXDbljMgVFHpvP/wATXV/Z9X+U8t8VZfSUlUrL5H0N5zMWx8zNzkfw0Nq0elwyNNJDbRsMCWZgqk/U8V8jeK/2w/F3iOSRbNrbSYZDwYE3yj23tzXn2ueJdY8ZTfaNT1G81ByMA3ExkUD6c816FDJ6kvjdj5fG+IOEjphouX4H114y/aj8G+HJJPN1YahIrYWKyj8/I9iNqD8TXnPi39uO6iiZdC0e3hH9+/bcP+/acV4PY6XJc3Pyr+OM1qad4QudSmZViaRzwNoLA1308rox31PkcZxxmVd2pvkNbxN8ePGnjKXF1rt1FCPmit7YiGOL/dA+b82rkxZXGd58x2YbiWP/ANc17R8Nf2M/GnxHuY/sOhX2N33nhwMFeT0r6e+DP/BFDxl40Ec2qsttCz/3S3y7q9KjTjD+GrHx+OzKpV/j1HL1Z8DW3h95G+aOQp/ewcAetdH4X+Feo6/Ki2djNc/Ns2xoWH4kV+x3wo/4IbeFdClt5NUj85oyu5WO5mHoT0r6b+GP/BO7wR8PoY1tNFtFMZ4PlDLH15rrSnI8GeYUYao/Dz4Wf8E4vH3xDnT7Podxbwv/ABzMVP5EV9TfBn/ghxquqPDca1cS7ZCoESKVx+dfsF4X+DGk6CkYhsLWPb02xiuqtvBiIEVEUsDuAwOPyqvZdZHn1s1nJbHwf8HP+COvg3wW0El1aR3M0IXLyASNkdSe3NfSHgD9jvwz4NgWO3023jZeFxGvAr3XTPDjMxVtrBvRea07fwztRWO3d0x7VSppHFUr1H1OB0r4cWOnhUt7SCNVG0AIK3LXwlCpBMf+9gdK7K08PrDt+XcfVRtq5FomFb5R+VVymUpLqzlbXwwqNu8s/UitSz8O+YfmX8q6C20pRHtVdv1q1HpwU7s7vwxT9mzGdZdDDg0BQyjy1A244qxDoKlhlfl7EDpW0sHlj5RTgmP/ANVa8pjKt2M1NJVTnyVqwulR91/SrlFCjYiVRsq/2dGSuUzt6DFOWzjXpGPyqxRVWJuxpiU/wj8qPKG7OBTqKBCbBS0UUAFFFFABRRRQAUUUUAFFFFABRRRQAUUUUAFFFFABRRRQA1+a5vxZZNIrL0rpqhvLVbuBlb+VJq5UZWPDfG3hhb9XVcMzdCeM14n8SfApt1kkCKMffG0/pX1h4n8ANep+55Zeh6V4j8ZvAupDTpFhifnqVPSsnGzud1OStY+U/FF19lmlXoy9q4rxNaWPiuxFrqVna6hbqMvDdRrKm36H/Guz+I/g7UrTUpZjbtIG3KVOW+X14715L4i1S60i4/eJtONu3aUXP98kfyrnlFWtY9rC1pxalCTTPJfiz+xB4V8SXElxobXXh6d24SICa1/CNuV/4Cwrxfxd+zX4/wDhkJbjSWt9csYSfMOnyfMFXgbrd+RwR03dK+nNW8bslt5nmLH95H42hffn6CsOTxzuO5SzNCrbRIfu56Z/+tmvKr5Th6mysfdZVx5m2C93n5o9panyrD8YLzStRay1iylhu4uJY3QwzJ9UbkflXRaJ8SNO1WIKt0sbkZKyEqT9M17F8SNU03xbbLZ6rp2n3luhVQbqIN5Z9FJyw/4DivF/HHwM8P3FxM2j3t5YybdyQsfOiVvTB+bH/Aq8mtktaPwO5+k5X4nYOuuTF03Tfdar8DpINRjZ1ZW+Vxt3EDb+tU7rwrperpmWBFbsU+XNeW3Nv4i8B6hJDG/nQoc7oW3JIM46dRzWto/xtO7bqFuoaP5cxjLBfXDd68SvgpR/iRP0fK8/oV0p4asmn0ubWqfDyaxt91ncLInVkkHIrk/F8Oo+N9QunZmupoxtmkjt1ix9dm0flXcWfjfTtaRnhvod7LwjDyyfwNYXwjnaXU9aldAy+dGGYnoPn7f8Brx5YFRmuQ+xhm6nR9nXVzzCX4C6PcS/aJfOuZNuGXznWNj64DLisbXPhFrWi7m0m+uB3WIy/dHpv+9X03eaZY6p/wAfdrGfmxuHyyY/3hz+lZM3wytiuLS++zSFsFJk82MD8PofzrolWxlN3TueZPK8lxkOXl5X3Wh81Wnxp8cfDoKt9aTXdrGSjNKhm3henzryK7Lwp+19o9+sK3VvNaTYxkKCmc4yT979K9G1bwHfRJ+8s47qP5v9Xgt+IrhfEPwg8P67JO82nww3cjZLKNko7bt/07ENzXVTzqlL3cRCx83i+Aq/x4GspeUjvPD/AMRtJ8XCNrPULaSRvvLuVZD/AMB61tpa2s0bKytHxnKjtXzPqn7M+oaNNLJous3CyDbhbjLY/EVUj8ffET4YNGt5azXluvy7lxcRgeoXqOh6+tenRq05P9xP7z47MMnxdJWx+Gdu6V0fRWpeALTVmby3ZWbgjHUehxXOa18LLuGNXiWPzo/mXzIx935vunoOp6+1cT4P/bS0+7VbfUrFreY/KTEDgH12tg16l4W+MGh+J022+oW+/H3JXMbfTBr1Y4/E0fiPi8RwrlWL0px5X56Hncml3mjXCq6yIzOsckuCcJ6D/DrT4dYmtLtFuzJ5MatHtWY/vCekjH1HpXsJjtr6FiWjbzFVt0bZBHqPesXV/htp+pQYXblWyflwT81d1PO6T0qKzPj8d4dYhO+HkmvPQ5PSfEJtD/pC5uP9UVz/AMe/vj1rTs9fE04X5m8zAuJWc5Rh90D+tNuvg5/Yjt9jlZmlHzZy4I3evrVGfwjdQhVig80L/rMNye+fpnvXp08XSqL3GfGYzIcZhnapBm1PZ2d4rqV8tWfYHKrlmHTPoKoTeFFXy92VeZduD1U+h96yzqM1ko81AzMoXDAjk9G+nvV6y1SSwuAyyfvrstJcO6g7H/vZ6H6CumNmeNKLWktDOvdBks+E3XAXg5Xqa6z4KaI0viVmZX+YCNvbdt6nv26elRaGv/CRWjMuRCi7ZGx/rG/pXdfDrw9Hod1Az7o5pLhGd3GcHd3HoK8nNsRGFFxufb8F5RVxGNhVs+SCuz5p+KN2q6myrIG/1mCBtJ/eN1rvP2aGaPwLq1xvj2/am+vyxrXlPxYu2l1IMEZfkDMR23Hdz+Zr1P8AZcjY/CO8kXaZJry42gcfwKOfx4r5hU02mz98+tWpzSf2X+BjT+KL6yv18u8kMitgt5rHzB7jv+FXbL4x3+4tdWsM6r/wE1U1Lw3Ibfcq43ZyC278jWFeWE2nqF/g7EDO3/GvsXg6FWnacT+dafE2ZYSq3Rqv56npOhfGDT71cXCzRttyxZcgfN3rai8UWN8/7meCVYVyxEoxn868WaJoI9zbhtbAGPvN6VE0iJbsdgkkbbsZiV2Y68d815tXh+i/4baPrst8VMdTlbExUvwf4HvUJaXn5kHXj1+lOW5IuY5VwLiEZSYfLID7MADn3JxXnXwY1O5m1SW2d5pIRDgAndhvrXoYOxFHG3pmvlcdhfq9R07s/ZuH88pZvhI4qEdH31O20z4oa34906HQfEGqXGsWyfurK61BzcXGmuMbDFOx80RscB42coynBAKqw5az8SXASLMkke1N5TPAP1qfwW0beJ9PyqrumG5QM9ELH8tvNczpchXT4W5BaNcZOSflrjq4eFSN5q7PrMnzOrhqvJTdl26I6ZPF9wcmRsBm4CnJ9eePTiq93eWWrGQXFray/LxvjrJd/OQMrYaToM9KjWYIdrE4+X61xwwNNO6PqJZs5xfNrfuVfFHw28L+KWY3ml29xIzK7YUEg+x9K5dv2UfCMsczLd65YseY1hnBjU/Q8gf7ua7RpCgX/WL2PPIp32plVW5Dbeg4H612RqVaStTm18zxcTluW4p/7TQhJ+iOQ0X9jvwdb3IuJJpr6WOT/lscqvy99u3Neo6D8DNB0yxjkso9Pe4Zfl8gMrp/vgpg/wDfVYq3TLtVd3LZO3vXUeB74ieQfL8vH4V5eL+tV3ac2z6TK8HlGFipUKEVbyNzQ/h5babE3nLDLvDLtZflHy9jU9joum6aHjhtVZlGF3MCMe/vUcF8s90d5wP4j6fhVe9naOZvLU/L196xo5bTW56WIzqTdoaF+W98q2bYqxiMbjsIGa8e1vxA0l28ccm5S+0N2/GvR9WvVjs7o7Wb9y3XnPy+1eF+IrhfIk3DaM7t3J/lRVwdPm0RnQzeqoSmzW03UvMnznq3QV7f4Ru/J0rbz80jM3IBA9BXz14WVvPt1Ylt0igmvevCZc6NCy52/NkqcEf5wfzpYfB01O9joxGb1FQi76nRLe7Iw27iPg57mo5LlpWzu+7yc8A1UaYPGNu7ruII+9T7kfP8mdy/KV9flr1adO2x8zWxzbvcc7tON8hZl9RTnm2TB22MGXht3X8KgmumjkAZSqodrYFRM7O5ZUH8WATwK2hHucNStN9S1aTxXWop50r28bfxINzflTZZAAZGX956E43VXBHysvKrtORUwjWCXmTcp+Yn0+lW0mcMq0u44XLXUjEow+bcNvTb70T3AkyqttycDjOKBOsdy3ytx83A4x6UMMbW8tV3Nk5NEYoxlLW6M/X5/sXhbVGkkCm3srmZQB12xM3Jr8qrFt9nbtt3ZVc9u1fp78Yr86Z8J/FTspK22iXjeYeMfuJK/MW3Xy9uOqqqhu35V9fwz8M352Pwfxjq3q4ePk395NYSrY6krsNyhtzgcce1Sx3bJLI8a43dB6VBehVuUJ6MvUVe0q0Es3PNfUM/C5Sudf8ACfV5hf8AlsmVmG3cBggV7PbzRSRbo9zbW+QNx+deJeDdQt7HXY4mZm5ZcivadGt99osm35R+7PufWtNCXZH6Bf8ABMvxXDq/7OdrYyNt/sPXL6xYP18l5VlTj0Kylh69K1v2TPHuoeM9I1nQdcmhk1L4X6pe+FLWERLD5Fv9okmRmC/ed1bLP3YcHArwf/gmT4/j03xp4m8KSOq/2rZpqdpG7Y3yQkxybfU7SpOOgUmvUtUuj8Bv29bbUGxD4Y+NFgtvO7fLDbavasdoOejPG6Y/hyzZPFZy12Mz6GeUlMr82MYyMZzyKxfGHxP0X4aaFcaxr+sWOj6faoDNc3Eu1fdePmZjnoOa8c/bR/b38M/si6TEtxbya54k1CJ5rDSYGaPcgON80vSOPdwQPnPYV+XnxN/a68ZftF/EtdZ8V6o1xyVtbCDMdnp46lYovug8n5zljxuY0RjfcD9svhN8VfDvxo8LjV9D1CPUtPYtEJBEY9zL/eVhlc+9dNNDGr7lVR6Kg2qv5Dmvhf8A4JNfFdorvVPC8kg8m+t/t1urSH7ynLKvqcc4HavtuS+Oz7yjt0qXFp2AxPijHZ3PgDWobxFNjLYyxXSk8yQupBXPYkEjPvX5n/G+a4+PHxetNG0WzVrexljt7eOCIBd/3IoUHp2Ar9Av2oNRvbf9n/xU2neW2oJp5itElHDys6xrk+mWB/CvLv2Xf2TLf4E/Dmz1/VRNJ4i8RQm401GRVeCyclZr2RW+cecu5IBuyB5jD7qmri7AaPwY8D6L+y98H9S1TWJrWG10e2eW/uwQcxwjfKUbqwdyUUj5jwAK+EbrWtQ+JHjPXPE+tRlNX1+8e9ZQ2VtlOQsXPZFCKB6R+9e//wDBRr47R+ItVsfhXpU0TWeniG+10xtjy2UN9mtMjptyJWA55izXz5NqMOj6W0hYW9vGj5fG7Kjqc+owfzqpSaViqaV7GH4617zLmKzjmyq7ZXG44BHTNe6fCKV7PwHpsce4fJnYW+736/Wvkq2+I1tfa3PcXCyRxSyMYwFyQp6Z+lex2H7W2geFfDtrb28N9qlxDEo8pB5Ck/77c/8AjtfH5hRrVa94o/ovhPG5bgcthS9ol1fqe+S6r5EOGk3beSCMZP1pp1BLe3Z5JHS3UYIztAHrk96+WfEf7YniTV1ZLK3sdHQ/xIpmm/Nvl/8AHa8917xhrHiyeSXUtSvr7dxh5iY/++OE/wDHainlNR/G7HbiONsHTX7lXkfXHin9oXwb4RhlW51uGaXOGtrcmaUfTbx/49XAa9+3ZHao0eh6HM3y7Xe+udsed3Xy15/8er54+yeYAF+Zidw55/E1bs9IaVmwvTkZ/rXfTyqhBXep87iuNsxq+7B8vodv4u/aW8ZeM9yvqz2S+WybLIeSuP55/wCBVw9xNeaw6zXE1xdTNwXuJTKSP948/pW5ofg241F9sNvJIc4+VSefSvWPh3+xn4y+IPkrb6DebW5zs4FdMaNOH8NWPn8RmOIru+IqN/M8P/syS43fL8q9eOtaGneHZL2NdgbbnHAr77+E/wDwRV8U+K0SbULiKz3fJIiqxKfN1DZwa+rfgn/wRO8J+HRC2sQtqDxpyZvnyfXB+h/OtlGTPJnjMPHdn5AeFPgvrXi26jh0/Tbq8kyo/dxMwU+pwK99+EP/AAS1+InxKmXzNJks4W+fdKjZx6YxX7WfDD9ijwb4AsYre10exjEXTbEMH6dx+Neq6F8PLHSottvZQx7em1QM1XsWcFbOUlamj8tPgf8A8EJUuEE3iC8mlLbS0WNmMdfzr7C+Cn/BKn4f/De1twum2rSL8xPlhs/nX1ba6Ep+6p9sDH51qWWgMnzbG+XoM1t7NHmVsdWqO8mcJ4M/Z+8O+E4kjsNMt02jbkJz/Ku90vwNHFt8uOMAbcKFC5rY07SvKGQv6Vt6fY+W65Vhu6cdKpRSONtv4jEtfB7ShcIu31xzWjB4aKGP5W56+1dHaWhQYP6CryWPyfdq4x7HPKrynPWfhUwj72G3ZPy5x9KvRaCqxrtX+HrjmttbYDtThHj0rXl7mDxDKFvpKx/dQL796sR6eqj/AOtVqiqMpVZMhW3Ufw/pUgjFOooIcmxFAHSloooEFFFFABRRRQAUUUUAFFFFABRRRQAUUUUAFFFFABRRRQAUUUUAFFFFABRRRQAUUUUAFFFFABRRRQAhTNZmp+FbPU4istvGwPXI61qUUmrlRk0eQePP2e9M15ZGa3QfL2XFfP8A8Tv2NbfUHmMdvHN/10G7+dfbctssowwyKyNR8IQX8bfJjd7VlKB2U8U0flX8Rf2I7vTYwLbzlWP/AKZgB/yrwr4j/s/eIfDkkksUMkgjZSONzMfoO1fs9rXwtt7qJvMTpux8mRXm/jT9mvT9XWRWt1x2UJ/WsvZnoUcfL7R+Leu6TfeHryaSTfHM0Yt2c/eRWXkbT8uD+Z74rgdXS4mnhkztVRj5lGSfev1w+Kn7B1pqtnIsdtEyOd3KAHnpz7V8t/Fv/gm1d29xJNaPcRKCzBAPkb/eHU/hWfKz06OMpM+A/Eg+wOY4o22sMhTliWzuxmue1EQzFY5ljuJFw5JkOYweg4619B/FD9j7xJ4UNxLNbzXW1du6FNhc+uC3FeK6v8ObnQdRX7V9o3W+csq7Tz97cD972xWcoxl8aPTw+IlCSnQk0/JnEvp3l3oaOTy44+uctj8q9B+Cc0l5pmqMyoD50fIPUbW5P/jv5muUvdLeyn3Qr5iyHBwNuSKoQz3VhLJNatcRmQYPlg7j9W615mKyqjOKcFZn22T8fY7CTVLEycqf4/ee0vdO27bn8OasR3htpBuClP4TnrXlulfGDUNJDC5ijulUHIdfJaMnoBjqRXRaV8WdK1OQxiTyZMFmMo2KB6jH0P514lfLq1PdXP1LLeL8uxnwys/PQ7SHU7gSs24KrdfmJxTr2O01kIt1DDLtDHJXLEe7D5v0rHsb2G/TzIbiOaFlyWicMv5irUbCSPiQdfuj+79a8yrh0376sfY4XNJcvNTmmu6I5/h9pGpQsLea4spMZKA7oz/Wsm8+Gd9biQwxQ6hH939zgv8Ak1b1vebF3bv0oFyyScfeLcBicmvPllqesD18Pnc0/wB4r+dzyXxf8KdE192jv9PhjuJG5Z02Sfg45rg9X/ZfW2LSaXqdzAzHcEkAkjH519XWl7Hdon2q3hvEVshZ1Ei/rzWHqPgfStVkVoQ9i39xD+7H4daI1cZQ+B/fqFbAZLmP+8U0n3WjPlkz/EP4dTEKby6iU/8ALN/NXb6BTzW94S/bCmtriO11zT8yq+2V4z5Tf98Hiva9T+HV5HCvktb6hHIzBhjY+PYVzHiHwfY/Yrn+0NLmeZk2xttCqnzKeQUYsNobgbTux2+WuiOdKS5cTD5nh4jw+jf2uX4j5N3L/hP9oDRPEixrFfRwMyqXSUeUCT1wRXXx6la6r92RJFbqSOv5dq+edb+CtxqVy39lx2+nwqu0sxIwfUKvNGmaJ4w8EWoaC8iu1TczDY27HoK66OMw71pzsfN4vhzMIX9vQ5o9z3680aC+3srL+8IJyo+Ur0/Cs+6+HVvJJDxtj25cA580+/8Ae6Hp614hon7Ump+Gb149VsRM6tgjaYXA/l2P516L4R/aa8P+IZIjLdNZu3Uy42rXswxmJUdHdHwOK4cymvV5akEn22PSNH0eKwSNcR7Y9oAVOA39a0zKII9yssaqMsS33R71kab4ih1VFe3mjuFxhvLYNtPqcU3xLqsNh4Z1CQHeIbSR2J4HCtivJlUnVqfvGfUYfC4bDYfkoRtpb1PlH4u31vLrQdYbja0UWDuA6rxkba9o/ZYSFfhHHIyloftNwzHOP4ua8J+J+rSw6rPZ8eTIYmfK/MzKvTPYV71+zCv2b4NacV2ht08hG0lnzI2eenYV6VSKjGPrY8mhUUpVIv8Alf4mfrfilLfVJUZFa3X5LeNeckNyM+hyeamS9ttSmhkZV866/cBATujk3dSvUDBJ+lZPizw1NBqytKpUStIIpG6L83esey3W9xNG26ONuGcghVH94DrnP6V9hRkuTRn865hh6lPESjOLRt6n4dtzeNC21brf5MnPKn0z0/GqOoeCd1wcN5axnLY549RUVvqJgtJI4tqlQwmcKWeQf89D6D2610HhCW61SUJItzDb24XaSQVu8rgjHXryf13VUqigryZjh8PVqyUIxbbD4U6LNZaxdSHdho1jGRjHzdfrXo9x/otuu35s9cjpWRoGkLpNqzKvysm7IOWq+jNKVG3rtzk9K/Ps2rKviJSif1JwVls8HlMKdTcv6DcSQ3skw3Bbe2uJCR2H2eXn68Vz8TCOBU6qoVRjqK2bbbBbalj/AFcen3OeDzmMoP5gfiaxEiMUjbeB6jmuaMbw1PpKEW6zaJo4lMW7P3aTLPLldrfL6U9R93d95V5A6GnRRqhySPm64PSsb2dj3KckvdluRgqEZVYjd1yMmmuXiZc/MD0qwlqqPnO7d128U2GNY0AU/Q9dtS2zqjvcjdvm2/MqryMDmul8BlQs3PzbV6/7zVzhj2L125711Hg9Gexm+8PnVc5rnldO53UaklTdjfgRWLQiORXX7rI2M1VkJBkVg27/AG6ntLiSFfmVef3YO3k+/wBKalu5kb5fk/vjmt4xuc/tLu7KPiaQQ6DdSZbmNsEDp8teC+J7jCSbGbb0wRXvXjYR2PhLUG2+Yvltswa+fvFEgMcjfdbd25rnqQ94qFWTptI0/B9vjUbPkKrSLkYJr6F0LUWu9Fs7cSbbXZhIixkVR/ungn8a+ffAkTzanbsF+Xfhcnr9K9+8OxKlhbhNqlV5k64+90rKlo2zsxEl7BXLqoseBtT5F6rxTrhfLfOTgHAX39CadKq2o+WTey7cbOnPXNELbnXLbtx6H19a9BSPI5la5C0kbJuKqkm7ax/i+uelHnNBIqj5mbqpHP5UNmbLCRkY7fpUz2wd9pX5j0YdaaelzOViFh5kke5tu7gsPT6VI0e5m2iNmUYJzvIP0FN81I5AD8zdvRakEi/6sb/vZbncrH6DmlzI53G4iwCGdG+UbT0xncf8KarfaI/mYlscFBuCt1x9aniKy2h+Xa6SY69qbNfz3EkZmmmm8uJYlZpD8qJwowDyFH3e/rVKqupnTpuTcU9UcH+1Bcf2f+zr44uGb/mDThgO24Bf/Zq/NlkjMu3JXa2B9K/RT9tbUm0v9lnxkoG1vsaJ9FaeJfx6j86/OSa6O/OK+04ajejNrvc/nXxgrP69RpSeqj0Lc6/aIEbd/quOn3hV62sWgijnXbgdW38n8KzrWVZE21PDIGUqd21fevpD8c5joNEFul+rfK0kbZJ9a9t0DVV1O1Zuqk7iQf5CvC9I06Gd1YyMoVsk9zXpvw91OFLIQswZo8gEN2LcZ+laEvU9V+F/xKuvgt8Q9F8W2cfnS6PdpLLGvEk1rJ8lwg9cozEe4FfpPqul6F8Z/B9nuW11jTLpI9V0yWVfMjTPzIwPXlWHI9favy1tpW82OTYzLnDqx4219KfsG/tRx/D0w+AdeuJ49LuJGbQ7123LZNj5raTP3IyVJRhwu4juKhOwHv3xe+GXh/4ueErrQfF2j2mrWvDPDck/Ic5LqwO9ctzuX8q+Qfij/wAEp/DNpHeXmieItcs1hjaRbSdI7iEDPTzNu7GOMda+9PGng228a2+17mTTb7C7Z0jClh6OD99fY4NfPfxX+FHx50pGt9GuPBOuQNGzGRoLmGVh0w672U8enemmB8z/ALNnxDj+A/xd8Osskn+iyhbjY2C6Z2MB+FfqFNeRz2yzRt8so3J71+Y4/wCCbXxg8X+MG1K8Om2csztIRF5nlxtu7NjGK+zPAXhX4j3vgvSdL8WeINL0aOxtI7djo0DfbrxU+VczOzCLK8kop5pSte4Hql14s0O71pdL1Cwt/ERtWSWbTp5WjgDKytH9oZf4SQhMf3pFzxt5ryf9tL9rJPgh4ZuNSkuIdW8beIi50yCROJZSqg3Dxj5Y7WBQNq8AfLGucmsP45/tI+Df2OPCcemWNjZ3XiC7UvYaBbS/v7gY/wBddvktHETks75LYAWviHxJ4u1b4m+P7zxN4nu2v9YvT1AKwxKMoqRKfuIqjCjqScnklgo+YehR0iGa6e4vb66nvNS1GR7m7up23TXMkhLOzH+8WYtxxnpwK5H4269jTodNSRvMkZZHEcg+VB0B/wB7vXpugeFb/wAZ6n9h021a4kYA7VO3Kjglj/CBXNeKf2KPH2mvJdSaW99JM+HaN1LZPTI7ge1Y1ZWPSy2jGUuaR4fBaEyKtW47Rnm+Vf8A7GvVPDn7KHi/WrxY00e8Vc7cupVSfTdjFeweAP8AgnJrusXcRvN1uG6qBkD6muY+ijU5dz5dstDZx5e0fKcjB3E10fhX4Zan4vdVsrOa8kJwSqnaD9RX6CfDX/gm7pukSQzSWfnyKFDM8bdfpmvpL4R/sbafoUsfk6XDuUKMeWQEPr05pcpX1yEVpufm78Gf+Ccvjz4izRSLYw28LBjvkO447cV9bfBX/giOs0Yk1y4uJZNzHafuMfp93H41+hnwr+EMegQQxx2cMW0KeIx09K9i8N+C2KqGiVQvQBaPZ63OGrmdW/LE+Tfg7/wS88EeA/Jk/sm2leJFVRszsX0PqfevorwR+zhovhWJY7XT4Y9q8Hb/APWr1mw8NFVXapXb1yOtbVjoGAvy1soJHnyxFR7yPPrHwRHYjZHbgL6qta1v4abPyqBjjpXdReGyY87cD1xVqLwupGW43dcDpVbGe+5xdt4ZkC8I2fXNaen+HX2L8o/KutttE2nd/D9KvQaHllY/Ky+3FFmQ6iRzdn4ZkU/d+U98VpweGGH3fm/Ct+203B4HB6D0q7HYhBz+lOzMpYhLYyLLw8Yo8dT9K0rfTNgXP3h7VaCbKkq/ZnLKvJkcVuqDpUgGKKKtKxk23uJu+tG72NLRTEFFFFABRRRQAUUUUAFFFFABRRRQAUUUUAFFFFABRRRQAUUUUAFFFFABRRRQAUUUUAFFFFABRRRQAUUUUAFFFFABRRRQAUUUUANDe1OoooAY8QdcNz9ail0yKb70amrFFBSk0YeoeDre5h2hQfqK5XxP8J7e+VlWJWX3UV6NSMgbqKnlRUajR81+N/2YNN8QBmktY2b18sfN+FeBfFT/AIJ36P4pSVmsIWbqdm0E1+hF1pUN0uGjHvWZd+C7edW2ry3rWcqaZ1U8ZJbM/GL4z/8ABJ66Qv8A2WrWvGVU/OoB68D5c/jXz/42/wCCevijwjHNvO5Fbj5WB56d+1fv5q3wsin3Hy1kHoVrhfGf7O2na+hSbTYdrJjlOc+v6j8qzeHienh80mrJn85/jH4NyaTcO17eQRtCXBA7kLyT9K4PUfDsLyNCrSNKi53BCFKleea/e34wf8E0vCXjuCTzNIt9zZxtXbtz9765r5G+Nv8AwRmuYGmm0OZo9qeWIpFJT1+5nHQgfhWXI1sejRzKnJ3e5+W7anfeH7p5ba8mt5lOzzYTzj6nn9K6TR/j/qWmNCtxHDfLJw7u5D/gele1/Gf/AIJ0ePvAfmLc6PJdFdv720j4avBfFnwvv/Djf6ZaXFqF670K7OM859ua56+FpVVaaPpcDnmLwr5sPVfp0O60D476FqgWSSa40yeU42zJ8qn/AHl4rq7bW11G0ilt5I50/heNgwb6EV853Ph51kWRefMZQD2B9cfiPyqjD9q8Ps8kUk8Lbt5aCUxsSehyORj0xXmVsmg9YH2uW+JGIi+XGwU490fVEd5lFz8o37cZqZNUDxN91V/vZr530D9o/XtBHl3nk6hbg7iJU2yj8VrtPDn7Tfh7WItl5He6XMow4dfMj/76HFeNissr0+lz77K+MssxOnPyPzPVo9UZJMbtvX/gOOtZPi7V/t93YxTbZEe7iVlBA3qzcjNGgapa+J7eN9NurW7Vy3KSr1HUHnvXP/EXXT4ftbK5YoxjmBCEsBuVuBn1ryKuHurTR99l+ZXfNFpry1OkvPB1jcw/uzJbt2WNvl/EdayrjwTeQxPIqw3YJ2gqNrH8Ki0P4r6TqNsd0i2qscYl/h+prorTUftH3XWTarKhjbcuffFebUy6EndaHvYfPHBPn1Xn/kee+JfAljqls0OrabzJ9+OeE4/AnBrg9e/Zk0nUFMumzTabNt6wtwv4GvoSe7MsB86NZYm9VyfwNQXfhnSdYj3LD9lk/iMBwR+BojHF0v4UtB4ijlOPSWLpL1tZ/efL0vwn8bfD+4E2lagbgL/dkMUh/wA4FPuvj14k09Gs/EUV0iOrB0nXaoHpnuK+jLnwDcW277LPDMv9xht/U1ga54V2JsvbAxrtxkqCPzGa6KWe14aYiCfmfP4zw+wc/fy+q4+Td0fJ/j7xfHqetfaMqsN03yMBnP0r6a/Zl1uG3+DWhll2oVfef7u52PNcz4u/Z08L+Ly0i2sdlKvV7YmNj+A4H/fNUdI+F+vfD6xW30nUJJrODiOKU5ZB7Hoa9WWdYSvSUU2ne58dR4EzjB4mVVpTg1a6/wAj3aWytrreBhfMLMZBgk/h2rP1Dwva3AVisZ3LgZUHP1xXkMPxO17wzcD7VYzeWvJ2R4A/75zWto/7QVvN5asSrhq3o16rj/s8zw8wyfCub+uUrPzR3o8CWcC71jhaMDBKrtLH/Cp4tEtdOiKFSVPzFm6OfQelYdn8VdP1mPKzKrH0YZ/KtC0163uk2syYVQAT6dvxorVsS9JXNMvyvLaUk6UEmakkQMaqvAzt47VHHAwdgx49DwaI7j9621wBjdgc1KsieUzblbZ/CFzu/GvOaPpIy5VypFnStsGj655knC6ediYzw08S5J/4FWGkTbtuB+da0F/HD4Z1L7kMkiwxhzGSquZVYAHsT5bYJ4O0+lZqjDZ2jHrmt3sGAcpVpDtwjk43fjQW8xW8tz5n3/u9vSm3JMh6ER+oFSCXyl+VWZfVuTWFtbnvxinC63GLcHevyng7elK+6Tc21T7A8U5HHmsdo2bvXmiS2Vx7SdAD0oirmiutwPzeX3bdjHtXTeFIGlsG5xiTnHeubd1RvlXJXsDXTeE1afSn3IR8+7nk1hKJ2YeTUGb0jrEq8t8vzjnt6UyJf3bSM2Nvvy34VBErG6XLmQZ2qCOn1q88CtMquNzjn0Ga2itLnLLflMP4huyeD7xtwZWAVgeMZbjFeBeIl/0ldg3fNn2avdfiimPDVykSsu5l399uG4/OvE9fhkcLtXapfaD3Fc9Re9dnThqb9k5Pqanw8TzPENt95V37lCtgCvdrKZRZQFV+UquAef5V4d8N49+sws3G1N3Fe8W9u/lqrqySKqEqeMZGRj6is6e2p1Yj4UrD2dntQcKzHoO/406OPES/MY2HHSnpHk/u9/mbsYJ7UhWN5U2LxhmI3da20PNtdWsNWbeFjwdknzgMQGA9KCyxzRr935dmcHr606SWOESMzRqWX5hkKrfielULnxPp8bMsckjsybkVF4/OuilCUlYxlKEfjaLqRmRtzRhWYbiKFnaLb8zZ6/jWLN4xjhm2w20m1F6l9pb8qp6j4ouJAyr8qnkYHINbPCuR51bNsNQfc6e9uotMhkluLiO3hxlnmkEaqOnJPFeceNv2uvhz4Fd1uvE1pcXKrgQ2EZupGb2ZFKqPq9fPn7fWpfbNV8MxSTM0bW1zJJDk8t5ke3IyMj5Wr523ZyR/F1H/ANc19DgOH4VKanNn5DxN4rV8FiZ4XB01ddWe8ftT/txW/wAYPAd54V0fQ7iz02+mie4vLyRfMkWJw4VUU4AJVc59K+bozhslgyHkYNaM0BkXa+Svrjmqs1izDam4Z6e1fVYPB0qEOSCPxDP8/wAZm9f6xi3d2tsNW4Vz3Xb0xVsyeYFb7pX72ehqgYGQbeceuKfBKyFV5G3lu9dPKfPnS2V41tBHn5t4xxXSeCNbj03Ud0nmFf4hurz+1mZcKWUYbjPatzR7yM3O48M3XJ4qgPerXUFvLJWjJaNhvQlgNy1JeW0OtQPbSQsscw2spJYH3A4Gf94iuP8AAXjeMLHb3KyNIg/dAdCd38q6+21ZmjQ/LluhHes5aAe1/Bj9ubxR8E4otJ1CGXxp4Xtdqx+ZMsepWoCr91iNkwHHEhDDZwxzXvXhz/gpd8KdXiWSbxFqGjXHTytQ025iKt6BlVkP518PXLfapRJ5kcnmddy8D8qglit04k2qrj7zcgN7HFNxA+4PFn/BSP4V6FbyfZvEGpa1I3AtdN0u4laT6sY1QfnXhPxX/wCCkXifx1bXFn4F0X/hEre4GDqF8y3Gon3RP9VH9WLN7V4idJgWcNIol+8y4A5/Ko4Ea1uWjhZSvqoqVoU49iaw0CQ3VxeXMk17qVzIbm4uridpJpXP3meQ8s3p0WtbSfDlzrGqR2ttFLNKxGzAzwOpPtWXd6iLPduYgKNpbufwrX+FutXFxriQ2cNz85GXT7yru5H40pSRrRp3Puf9kn4SWfhTwTDZeXFLfswku5gg3PJjgA9sDjPQ9a94034VQzxR7oFXtyu7j/GuP/ZK8D3cuh281wpXKKNvYnb1A6j8a+mvDPg2S4iVdpb6LmueV5Hc5qKtE8y0j4L2qvGyW0a7TwwjHX1xXY6H8HI4z5nlqvbHPT8q9Q8P/DCVwP3f3a7rRfh5HaKqsvOcY25o5RfWJdTzTwx8HI0C4h+UNkkr1r0vw58NlsIV3Rxt/sgY/Wus0XwsI1UCLnd0xxXUaV4ZG9dynd9OKoydRsxdG8MrB8qx5YLxgda6vSfDgiRQ2M+oq/pOhDPyL93uRXQWGisqj3bjI6VSjcXMluZ9joahdrL8vqetalnoy+Xwqr+talvp/wA2WXirUcaqPu4/Cq5DGpiOxmHRclV2nb9KnXTsK3y/pV6ij2Zz+2kVYrLYMdvpUywbBwKkorQlybECBTwKUnHrRRQSFFFFABRRRQAUUUUAFFFFABRRRQAUUUUAFFFFABRRRQAUUUUAFFFFABRRRQAUUUUAFFFFABRRRQAUUUUAFFFFABRRRQAUUUUAFFFFABRRRQAUUUUAFFFFABRRRQAUUUUAFNLH0p1FADWjDVFNYxzNllzxU9FA7sy7zwnbXf8ADisLV/hxDdRsvlJtbqSMmuxoI3Cla5caso7HjXir4FafqausllFIp4c+WG214d8Xf+CfHg/4hW8y3ekWrtKvdMdtvpX2k0CspyBz1461Tn0OOSRWC49Rip9mjqp4yaVrn4+fHL/gh5pF99ol0Fms2k+ZEX5o0Hpjrj2618efGv8A4JK/ET4eXdw1rp8eoR7m2Pbg8Y6cdv8AgOa/ow1DwJDcs21V2t6rXKeIfg9Z3qN5lvEw9AorJ0tbnpUM2qJWlqfyseO/gbrfhW8kS/026tWhIV/Mh2BPTGetef6p4ZuLSQKyt03cf1r+oX4pfsV+FfH8VxHqGl283mrtxIgJyehyB2r5D+OX/BDHwV4tNxNpdrJpssit81qdv8Poev8AwLFY8klsehSzKjLWW5+EUj3Ok3yzWcs0UoHM6EqwYdTnOefpWhqvxv8AFWqaetrdaj9s8vhJZk8yQe5Y85r72+O//BD3x54LaabQ/J1OJm4gAKtGns3QmvlHx7+xN8QPBt8Le68Masv93yrYyKfxArCWHoy/iRue9g86xGHVsNVcV5M8b0f4j6p4fuZmWRJvMGJFfo43foa9K8LftLWNmnlyrd28gXHn5PH+yoXp9TXL6n8CPEFn/rtH1CEL/HLFtX8Qea5fVfAN1prKrGHjg47965cVl2Gq7o9rK+L80wfwTcvU+kfCf7Qgv1UR3lpfDbt4HzKvufvZ/Cu60X4vadqUaiYvCzfOHC7lz7gc4r4duLWSzClXaPb3Riu6tXRviZrGhcx3DSAcgS85HpXjV+H2v4TPu8t8VIaQx1Nr0Pu6x1exvSvkXkcrMcFUbn8quDU5IG2sxx6HP9RXxz4W/aMaNoxfRzxOowXhJKk+uOteoeDv2ko7gLDBqC3Ua/djkZWB+u7mvHxGW1qelWN/Q/RMs4yy3FWdOste7Pc7nTNL1YATWtv9oI3CVGw2PU9qyr/wNCqsbe8Zfl4jlIOa53SfjXZ30SLdQbGQNuMJ/wDHv/rV0ml+KLDW13W90iswwQxC8+2a8mrgYt3asfbYPOJxS973V95j6j4Rv7QHztPaWJeCUG/H1x0rkdZ+G2ja+fLuLKESfMu/aUOfXFeuW07RquJGVQcE/eVqdeWtrqaYuLe2nwzEARr+pFc6w1WDvSkelLM8NiFy4iC9WkfOt9+zpM6v/ZOpXCySuRHCcuoz04HNNl+APxR8LXD266XfN9jcxkbZY2jZXxhtw+U54wO9e8X/AIM02GNHjmulYPuK7gOvIwSrdDWbPoEbu3l6lfR8khSxYtnrkk85659a6KeYYyDtLU8bFcI5PiXz0fd+Z5voVr468OTL/aGg620bcOy27t+XFdRp3jBbyTZIwgmH3kkXYV+oNbd7obSnZHrGoKucAlmbn0+9Xm37QXgya08GXl2twbvyE3nfndFjry2etdOHxDqTUZKx4mYZBQwdGWIpSbsm7eh6Ms062ZDMzLJIshB+623O38tzfnTpEUjn5QvIB718g+HviRq2hS7bbULy3wdoEc7qB/48a9j8A/GqefRYftd4bi4G4Hz8HI/Cvaq5bVSsj5LA8V4S3vxaPXcMYuW+U9eOlO2s42/L8vIzxXCTfHC3sbJpJLeCTy1zGPOPP09PxrP079qzwu8O2+sdYt5N2FCCOaNU/wB7Ksp/3c1yTwOIj0Pfo8RZZPaql6no7xxmRRuLGNuR0zU2/a7r8vPT/ZrjdD+M/hfxJdLFa6oPOYnEMtvIpJ9Mkbc/jXXLFvKFWWQnpk/zrllenpJHv4d0a0ealNSQ/wApWdm556YrqfD37rToyFxubevyjnPaudt7Nrjb8+PpXSJf2Ph3Q1mv7uxsI1HzvdXConH3VBJAwey9a5eZylyxR2WhSpSnOSSSvqaAxcTjhmLDcCB1qaU5kZd6793UCvI/G/7ZHgbwjdn7FdXHiK4aNht06NTGP953O3/vndXmPi39vvXLxymi6Do+mgrtDXTPdNn1wNqfpXsYfKsXVVlGx8Fm3H2RYB8tWsnLtHVn0N8V/ENn4O8Nm+vEW4j8xIWibkZb7uT+FeY6zpcmtXTTQwQwRsdyoprxKT46eKPiZqkMOu6xcXNsJhKtuiiG3Vh91lRdvTJ4Ne2+GNXZdPiX+FQpduv8NVWyjk9yruc+W8aRxdq2DvyeZs/DzQ5rHVjJIskY8tiN42gfnXc6j8bfB/hu7a0k1i3nuEjCNBZ/vSpA2gFQSMivOfG2rQp4H1GMyrGbq3ZVLZCsvqO4NfN8njS1sLkXDSSeZIrBVAwpH9455qcJkl5a6jz/AMRIYemlKNmfSHib9tXT7d2h0rSbqaZX2g3jpHH+Gzf+m2n/AA5+O2rfErxFIt40cFqv70RWh2MPbc25sV8q2esl7stmQkncMnrXr/7Pmvw22pXkk0yw+XCu13X5SN3XP8P416FXK4w+yeDl/GjxX8Soj36S92xhWaSRug+bgj3qrPqXmqw/ebVG0sDjH0rz/WPjn4f0VdrajbXUiL8ywsJWVfQhT1rkvEn7UkK3Pl2GlTTM23MkkoRf/Hfm/StKWX1H8KPPx/FuCp/xKqfoe0x6ruj+VdpztxnKn8azb3xTHp25riZLRP7zsEB/76r501z49eJtaEgt7iPTUdtwECZI+jPuasK20s+MJozqN7dTSdS07tIy/TdkD/gOa9Clk8/tM+Qx/iDQgrYem5eprftV+J7bxl4wsmtby3uo7OzMUjo5ZSzOz8kdeOOK8pFr58W47l7da9mtv2aZ9WsPtVnITHI3EZiYsaxdT/Z413Rj5n2KS5jZto2ZDDjOSPpzXvUacacFBH5NmmOqY3ESxM0ryPL309Vk3Y2r9abNpytLhm25rstT8DX2lSeXcwyxNjGCv0/xH51nHwrL5jfu5PX5VI21tzW2PLkmc0+n7G3dcdR61Wn09WQN93dXU3WhT2nPkyKvq3HPpWVcadNLFwsmG6H0o5iTnp4fI4Xdn1NOgumVdvzBq0pNIZnDGJyx6ccGkl8NytJ8ibsDNbXJ5WT6F4nmtrndHIIR93k8ge1ejeHfipGoWK6Jmkb5F4yF9+K8zg8MzSN8sL7fYHNaWjeA77ULiNbWG4ZpDhRGpZm+gFZysSezJrcM8W4SIG67WYHirU11GFbe0cm4F8BgQM9MfSuf+F37HnxS8c3ELaD4T8RX3nLvWWOykxj0LMMV9S/BX/ghl8fPiHfW8+oWtv4fimHzy3twGkX22LzS5iuVnz495amNlZ124yWVvuVUTWorrd9ljkupWGyJMYVmzjr9eK/Un4Gf8G1um2U8N1438Z6hqeF3SW9lAIVLem9txx1/SvtT4D/8EoPhN8EWjk0fwpp8tzGiobq8Tz5hzuyGk3c/hUFKSR+KHwH/AOCcvxS+Pt7bt/ZFxZW7BWM0sWxWU9RtIzmv0L/Zh/4I5WPw9Mdxqitc3S7SzSDMfr9zp1B/Ov0n0H4Wafo8ax29rDGv+wm3b+Qrft/CS26/u41Abjgg0NJh7RrY8E8F/swWPhu3j2w5SMbQCMV32j/DKGxVVSPavrivS4vCkkRX92pX3q/beF9kSrtz74ocV0KjLucJYeEo4vuW+NvX3rUt/DwIXC4b/drsrPwttb5Rt3de9aUfhlE+VVC+9Ae0OTsvDy7f9Xg+1bWneH/m+YbdvTIroINHjTnaKsJbBOwquUHWRn2ekbVX5du05OO9aUUCp2pypsp1NKxhKbYdBQTiiimQFFFFABRRRQAUUUUAFFFFABRRRQAUUUUAFFFFABRRRQAUUUUAFFFFABRRRQAUUUUAFFFFABRRRQAUUUUAFFFFABRRRQAUUUUAFFFFABRRRQAUUUUAFFFFABRRRQAUUUUAFFFFABRRRQAUUUUAFFFFABRRRQAUUUUAAOaKKKADFNaJX6qKdRQBTudHguA2Y13euKyb/wADR3DOVZVVu23NdFRSsWqkkeca58LVvomVolbt9ztXnHjX9l/TPEEUn2ixjMi9SE6fTivozy81C9hHLksinPX3qZU0zeniHE/OP45/8EpPDHxLhlL6eFLDHA2DO32r4r+O/wDwQbngkmm0Oae3jxuWF8yL69uenFfvJd+F7e8GGjXbndgVhat8OIbxWDRqe3yrWLopnoUcznF3ufy+fF3/AIJb/EL4dySEaPLewpu2tGeTjpxivnnxd8DNX8LzyQ39hNayq+PmjZd3GeMjnjmv6zPGn7OthrFviawt2/7Zg14Z8Vf+CdfhPx1ZyR3Gj25WXlsIMPz/ABcZ+7xxWTptbHpRzSlL4j+XTUfCNxavtkVlYdd3aq7aY8R/eLz9ST+uK/dr47f8EJvCviQztplq2n3DbjGYfl256YAzjHvXx/8AGn/giV4u8IySTaW39ooz4VJFw/5jaKl81rHfh61KTToux+fOkeLNW0PcIbiSNQ28q/zZP19K63R/jxdJDH/aFqjCMcsj5yPXnvXoPxM/Yj8bfDppE1Lw7eQrCdok2bl/ErmvKr/4e3Vo+37PJGeQEKFWIHXg1yVsHh6v8SJ9HgOJM0wb/cVnb7z1Xwp+0hAkS/ZtTmhwdxjuB5bL9B2/4DmvRtE+On2h99xCsvGC0Tgc/SvlK58PS2iszR7OMZPzc1Z0nVbvSfkhZo8SZGGP615VXIYON6TPvMr8T60P98hzLumfZFr4+sdYiYQzbZOp87t9KpTavEdu24jVT8+AwJx6V806H8WtS0Z2EmLk7t2X9PSuhn+NkMbrN9mnct90YGK8OtkuKjPTU/RMH4jZNVo/vJOL8z3WTV4dzL50Sqo5G8ZUe/vWJ8QEXxL4O1Sxhli864tJI1+YNyema8buPi6zSKywq8fZi33Pr60N8WViUqSwZhgKgIGfc0o5Xi4tNLYVXjXJqqdN1VZpr7zzy68B6hY3DRzwSBYxggKcE+uahfQr5Fb/AF8e3gdVxXo0nxWzJtYPtbruPy/ljNVpfH6BN5Xheu0AZ/OvZhUxj3ps+CrRyO94VzgF0y8DMAJmdV6lc/pVSfRrgvkq3rjPevRR42hlj2hDtbqoAP61CPF0IVlaNWbru2jmtI1MQvhic8qOVv8A5fod8ANClbx7b3E3mCG1DSESDG4leBz6V9CR3KzO/lP5ir2Vua+fLbxvHGWbG0+qfKavWnxCYBt0z47ckk/XFefisNXqy5uU+qyXOcuwVH2UKnzue/2OpeSfl3/7WT0rzb9rTVFuPAdhCVWZ5L7eFk7qkbE9D2JWuNl+JUkEX3n2N3DGuS8TeIL3xdd7rq4eaNHLRoTxHlfm2+mcDrW2W5bUVaNSpsjy+NOM8HLLp4Si3KclbTZHLeVKj+ZwvscYpkilZVdhjd2x92tJtJ5ZGY7t3SlfTv3XQ7Q2SQMk19lzI/nFYd82isQ6BMtndRyqu5d2OvP4V7BpPxs03T9Pj8xnkkhTDAIeD7eteU/YijK23PZABxn1qwvh95Fb5fl+9x1rhrYenUfNLc+tyvOMZhKSox2O08efHb/hIdLk0+zs5VhkGGaU7WYem1eBXmt+zXkv3Vx1X6elb0PhphFtMci/7WKsJ4WWPb8zsD0z2rTDqFJWgcmZ18ZjZc1Z3OZW3Zo920hj0x2q5E1zEixlmkVhtbBI3fXHaujTwizJhhtPXB+b+VW7bwhJOibU+8do461t7RPc8+lhasfhujkdkrOybVZumPX6mrUEDFNxVtx4BxXoWk/Ca61KOOOG1upJG5wsZYKf9o44/Guy8MfsueIPEMUIt9LkkUJ8ocFSD6mj2lthywbe55v4Xt9PLR/2hYmaIS5IQ7GA7DmvqX4C/B74f+Jo4ZV0+S2mUhVaWIJIccnO71PFReBP+CfGu6mqzyR+S4O4MiDnHAyPpX0R8G/2D9R8PtHIyzPJ5m5mGV53dgv8Xv0qeZmFSgo9S94S/Zi0TULNltYodzcqpHmbT+P4frW9efsj2uo581U/ebsYUDHG2vePhn8ArzSLVW+ysrLweDyfWvUNA+CV1NGrtHsXq38WPpWquzy6nLHY+J7j9iDS5NyrDJIq8ggbl3fL8uMZx8vT7vvTLf8AYasrwHdpluFYsoVoRuj/AOBYwa/QnSf2f1J2yfL3+5XTaN8BbW2WNhCm4ckbc5qldHPKSPzdT/gmzoPiK2i8/RYI2mDOZI48Op9+1TW3/BIrwzqVu27SdpbrjGPwr9QNL+Edqkg2W6464x92tzTvhbCD/wAe4/AcVWpzn5Tx/wDBDbwbrT75NLmWZuFKOyBR9FFbvh3/AIIA/DyU/wCkW902TkJ5xHlj0z3r9T7P4arJ8vkhG/3a1LfwAB8wjxt6/L1pkuVj89fAf/BD74T+HjHv8NwXe3bu+0Ey5/P6mvdfh5/wTv8Ahz4GP+g+D9FiwdwAtlO38SK+qbfwSwDKVX7var0Hg1UVdyxtnrxii1w5jynw38HtO0GHbb2kECovyiNNoH5V1Wm+AQjq3kpHtbPbFd3b+FhErZ2/lV2HRY1GCKLMnmOPs/CXlzf6v73XjitGDwkyHBjx9K6hbVVX7op/lr6VXKTzGLB4aSM7lDbvQ1PF4eEZXpt+laeynUcocxTTS1C8ipYrJEXG2p6KaVg5mNWNV6KKXYKWimSJu9jRu9jS0UAFFFFABRRRQAUUUUAFFFFABRRRQAUUUUAFFFFABRRRQAUUUUAFFFFABRRRQAUUUUAFFFFABRRRQAUUUUAFFFFABRRRQAUUUUAFFFFABRRRQAUUUUAFFFFABRRRQAUUUUAFFFFABRRRQAUUUUAFFFFABRRRQAUUUUAFFFFABRRRQAUUUUAFFFFABRRRQAm72NG760tFABQRmiigCOSBZR8wz9RVW50K3uE2tGv5VeooKUmjltR+HtvOm1YVI9P/AK9c9rvwfhvo9skSybeeT/8AWr0qkK56/wAqlwTNY4iSPmzx3+yHoPiqBlutNhkVuQGiBz9eK+cfjd/wSA8E/ERJHk0W2aRs/Nt6N2YdPwHbvX6OvbiTqtQXGiW9wm1o1/Ks5UYs6qWYTp/Cz8LfjX/wQOFok3/CO3EsA3fIkqtII/xzzXyr8XP+CSfxI+HzMsWlx6lGxaRzbxkkD/gTV/TJqngG2v422ptZvVeK53Wfgjp+qxhZLOOT5drEoOazlh1H4T06Odztyyt9x/KJ4w/Zr8ReDpY4dS0XVLCc/MqPbOQzemVHSuWvPh7cW6r8u3+HA42n05r+q3xR+yF4d1+3kW60m1m39Q0IKj68ZP4V5/rn/BPHwLdXDeb4X0WSRi3JsUZs9c5PHWs+VnSszoS+yz+YKXwjJa9PMO/+IqeOM9PpzUT6Q1xH+7X5s76/pV1j/gmD8M7+4aSXwf4faV2V3Y2SYc425PHzfQ4rkde/4JJ/CfVItv8AwhOioFG0FYNuanlmL69RP50ZdFeJ92NqoueepobR28vzPLbYuQyrxkDr1r9+Nf8A+CMPwsulaOHwzbwqo2hcsf13V5z4s/4IaeCbjzo7K1mtNzFgAd24N1Dev4UuWfYqNek+p+JEmmyI2z5l3nA45FINJfzFXDE9K/WDxt/wQZjkDf2bfNHCWYiFoxtH49a8r8V/8ET/ABlo8LLaXFvJt5Cy9TV87NVKC6n5722nFo9xQ7envVpNH2qwUPuUZO0Zx619ga9/wSz+IfhRG36SJh6od1cz/wAMBeOraeSOTw3qS8hVkhiBQ5687sVnzM76dOKV+b8T5wj0DzCzSZaMrgA8Yp//AAjzu6R7CV++pzgkelfVXhv/AIJy+Nr94WbT3s2H+s3xNk/gBXpHg/8A4JW6tdMv2rfuLbiFQq2PQMeO4/Ks3JnU3SjH3mfDNt4UmnlbbDO8uMkhMjFTx/DTUdvmSWckfzMFIjPA9xX6neAP+CXFvpuJPsfm+YFyHU8H1/8ArV6vo3/BOL7TCoa1jXYq7W6sfqcYqoqT3OepisMndH4v2fg10+VkkVV6gryPpV7T/h/NLO0axzbvRYwxr9o7b/gkr4d1a6Z721juNy88Aj9a7/wT/wAEs/B/hc7rfRbcN/eMSn+dChJkvM8Mj8RdB+Beuaum61025kH90RgV6F4R/YU8WeI54zJapbh15xFvdPqRwK/cLSf2EdDiEfl6TbnZyuyMD866jRv2J9N0t0ZbFF29MKPk/wAapYdnPUzun0R+OHw8/wCCYd9cTRNetcZ3ZCqoBJ98r0r234a/8EtrPTZQ0lo0qsOko3YH+Nfqxo37Mdjp6rut4/lXrtGa6vS/gdbWc6ssMaLt/uiqjRsebUzifRn53eBv+CbdnYiPbYbW+VvuD5P05r13wd+wtYW33rSNlzjPl9vwr7V0/wCGMVsdpSMbehArYtPBdvbJtWNPyrb2JwVMwk+p8ueFv2Q9O02JQbf5j/czj+Vdxpf7PFnYsoW3jB67wnf6V7rD4chhC/KPl9qsrpkS/wAC/lVezZySxN92eUab8IoccQjb6FcVrWfwvSE7fLPzeg4FeiCzReirTgmP/wBVbKFjF1jj7f4bxqqjbsPrWhaeA4bXG1W9s9q6TFFHKZuo2Y8PhS3UfMvzDg8YzU8egwx9FH5Vo0VVieYqx6bGn8P41OsCom3av5U+igkase0//WpcewpaKACiiigAooooAKKKKACiiigAooooAKKKKACiiigAooooAKKKKACiiigAooooAKKKKACiiigAooooAKKKKACiiigAooooAKKKKACiiigAooooAKKKKACiiigAooooAKKKKACiiigAooooAKKKKACiiigAooooAKKKKACiiigAooooAKKKKACiiigAooooAKKKKACiiigAooooAKKKKACiiigAooooAKKKKACiiigAooooAKKKKACiiigABzR0oooAjZFbqP0qOSxhlOSgz64qxRRZBqZ0/hyCY/dqlP4Gt2K7enoRW9RU8pp7SRyd38PElfjZ83XiqM/wxWX5mVV+gya7rFGM0cpUazR5ndfCxZT8sabQ3AK9frVG8+DEc8mWhVz/ALor1bZ7fpRs5+7+lHIivrDPH5/2eobkfNAgb3+Yfyqv/wAMtafJJ81rCzdd20gflivatgzS7BR7NDWJklY8Zj/Zi02Pj7Kv3eoH/wBap4f2bdNhHywxxsvTCA17Bik2/T8qn2cQ+tTaszyuy+BVtahQsarxnoOtalp8IYUj2+Un3ccjFegbfp+VLij2aJ+sSORs/hfa2+0NGny9MD+dalr4NtbZdvlqfqK2qKpRSF7aZTg0i3tvux/pU32OP+6PyqainYz5pdyMwL/dH5UYqSimSNUe1OoooAKKKKAE3exo3expaKACiiigAooooAKKKKACiiigAooooAKKKKACiiigAooooAKKKKACiiigAooooAKKKKACiiigAooooAKKKKACiiigAooooAKKKKACiiigAooooAKKKKACiiigAooooAKKKKACiiigAooooAKKKKACiiigAooooAKKKKACiiigAooooAKKKKACiiigAooooAKKKKACiiigAooooAKKKKACiiigAooooAKKKKACiiigAooooAKKKKACiiigAooooAKKKKACiiigAooooAKKKKACiiigAooooAKKKKACiiigAooooAKKKKACiiigAooooAKKKKACiiigAooooAKKKKACiiigAooooAKKKKACiiigAooooAKKKKACiiigAooooAKKKKACiiigAooooAKKKKACiiigAooooAKKKKACiiigAooooAKKKKACiiigAooooAKKKKACiiigAooooAKKKKACiiigAooooAKKKKACiiigAooooAKKKKACiiigAooooAKKKKACiiigAooooA//2Q==)"
   ]
  },
  {
   "cell_type": "code",
   "execution_count": 6,
   "id": "09ea1e03-4438-4bea-af72-e5a5fe2783ef",
   "metadata": {
    "id": "09ea1e03-4438-4bea-af72-e5a5fe2783ef",
    "tags": []
   },
   "outputs": [],
   "source": [
    "car = {\n",
    "  \"car_brand\": \"Ferrari\",\n",
    "  \"car_model\": \"F40\",\n",
    "  \"year\": 1987,\n",
    "  \"body_style\": \"Sports Car\",\n",
    "  \"engine\": {\n",
    "      \"type\": \"Twin-turbocharged V8\",\n",
    "      \"displacement\": \"2.9 liters\",\n",
    "      \"power\": \"478 horsepower\",\n",
    "      \"torque\": \"424 lb-ft\"\n",
    "      },\n",
    "  \"performance\": {\n",
    "      \"top_speed\": \"201 mph\",\n",
    "      \"0_to_60\": \"3.8 seconds\"\n",
    "      },\n",
    "  \"design\": {\n",
    "      \"exterior_color\": \"Rosso Corsa\",\n",
    "      \"interior_color\": \"Black\",\n",
    "      \"seats\": 2\n",
    "      },\n",
    "  \"features\": [\n",
    "      \"Iconic pop-up headlights\",\n",
    "      \"Lightweight construction with carbon fiber and Kevlar panels\",\n",
    "      \"Racing-inspired aerodynamics for optimal performance\",\n",
    "      \"Minimalist interior design with a focus on driver engagement\"\n",
    "      ],\n",
    "  \"price\": \"$1,000,000+\",\n",
    "  \"target_market\": \"Automotive enthusiasts seeking a timeless blend of performance, heritage, and exclusivity.\"\n",
    "}"
   ]
  },
  {
   "cell_type": "markdown",
   "id": "101be02a-be88-4a96-bce8-d616f5c613c7",
   "metadata": {
    "id": "101be02a-be88-4a96-bce8-d616f5c613c7"
   },
   "source": [
    "---"
   ]
  },
  {
   "cell_type": "markdown",
   "id": "1ffb9670-9447-43bd-9f42-1c36adc9fe00",
   "metadata": {
    "id": "1ffb9670-9447-43bd-9f42-1c36adc9fe00"
   },
   "source": [
    "## AI Assistant"
   ]
  },
  {
   "cell_type": "markdown",
   "id": "70a5da85-b6d6-4c45-a9dd-117caa121a89",
   "metadata": {
    "id": "70a5da85-b6d6-4c45-a9dd-117caa121a89"
   },
   "source": [
    "In this module, we'll develop an AI customer support assistant tailored to aid potential customers in their car dealership inquiries.\n",
    "\n",
    "We'll initiate the process by establishing a suitable **system context** and creating an instance of a chatbot."
   ]
  },
  {
   "cell_type": "code",
   "execution_count": 7,
   "id": "f807d3b9-00a0-428d-beb4-07e061fcc06d",
   "metadata": {
    "id": "f807d3b9-00a0-428d-beb4-07e061fcc06d",
    "tags": []
   },
   "outputs": [],
   "source": [
    "system = f\"\"\"This is a chat between a user and an artificial intelligence assistant.\n",
    "Always try to keep your answers is very short and concise!\n",
    "Do not explain your answers.\"\"\"\n",
    "\n",
    "assistant = ChatAssitant(system_context=system)"
   ]
  },
  {
   "cell_type": "code",
   "execution_count": 9,
   "id": "80de7b39-d9e0-43db-906a-96fb33ce149f",
   "metadata": {
    "id": "80de7b39-d9e0-43db-906a-96fb33ce149f",
    "tags": []
   },
   "outputs": [
    {
     "name": "stdout",
     "output_type": "stream",
     "text": [
      "Certainly! Here's a more detailed overview of the latest car models:\n",
      "\n",
      "1. Tesla Model Y (2021): The Tesla Model Y is an all-electric SUV with a dual-motor all-wheel-drive system. It offers a spacious interior, a long-range battery (up to 326 miles), and impressive acceleration (0-60 mph in 3.5 seconds). Available trims include Long Range, Performance, and the recently introduced Plaid trim, which features a tri-motor setup and a top speed of 162 mph.\n",
      "\n",
      "2. Ford Mustang Mach-E (2020): The Ford Mustang Mach-E is an all-electric SUV with a 77 kWh battery pack and a range of up to 300 miles. It features a powerful electric motor and a 10.1-inch digital instrument cluster. Available trims include the standard and the GT, with the latter offering a more powerful motor and a 289-horsepower output.\n",
      "\n",
      "3. Toyota Supra (2021): The Toyota Supra is a high-performance sports car with a turbocharged 3.0-liter inline-six engine, producing 335 horsepower and 365 lb-ft of torque. It features a 7-speed dual-clutch transmission, a sport-tuned suspension, and a rear-wheel-drive layout. The Supra also offers a limited-slip differential and a sport-tuned exhaust system.\n",
      "\n",
      "4. Volkswagen ID.4 (2020): The Volkswagen ID.4 is an all-electric SUV with a 77 kWh battery pack and a range of up to 260 miles. It features a 1st-generation modular electric drive matrix (MEB) platform, a 1st-generation permanent magnet synchronous motor, and a 1st-generation 82-amp-hour ultra-fast charging system. Available trims include ID.4, ID.4 Pro, and ID.4 GT.\n",
      "\n",
      "5. Hyundai Palisade (2020): The Hyundai Palisade is a midsize SUV\n",
      "built on the Hyundai Kona platform. It features a 2.5-liter four-cylinder engine producing 291 horsepower and 295 lb-ft of torque, paired with a 9-speed automatic transmission. The Palisade offers a spacious interior, advanced safety features, and a range of up to 370 miles on a single charge with the available hybrid powertrain. Available trims include the base, SE, SEL, and Limited.\n",
      "\n",
      "6. BMW iX3 (2021): The BMW iX3 is an all-electric SUV with a 77 kWh battery pack and a range of up to 300 miles. It features a 1st-generation modular electric drive matrix (eDrive30) platform, a 1st-generation permanent magnet synchronous motor, and a 1st-generation 82-amp-hour ultra-fast charging system. The iX3 offers a spacious interior, advanced driver-assistance systems, and a powerful electric motor delivering 302 horsepower and 413 lb-ft of torque. Available trims include iX3, iX3 M Sport, and iX3 M Sport xDrive40.\n",
      "\n",
      "7. Audi e-tron (2020): The Audi e-tron is an all-electric SUV with a 93 kWh battery pack and a range of up to 222 miles. It features a 1st-generation modular electric drive matrix (e-tron) platform, a 1st-generation permanent magnet synchronous motor, and a 1st-generation 82-amp-hour ultra-fast charging system. The e-tron offers a luxurious interior, advanced driver-assistance systems, and a powerful electric motor delivering 402 horsepower and 593 lb-ft of torque. Available trims include e-tron, e-tron Sportback, and e-tron Sportback quattro.\n",
      "\n",
      "8. Kia EV6 (2022): The Kia EV6 is an all-electric SUV with a 64 kWh battery pack and a range of up\n"
     ]
    }
   ],
   "source": [
    "_ = assistant.chat(\"Could you please provide information on the latest cars?\")"
   ]
  },
  {
   "cell_type": "markdown",
   "id": "1a6963c6-fa77-4875-a2a9-6cf09dfc3755",
   "metadata": {
    "id": "1a6963c6-fa77-4875-a2a9-6cf09dfc3755"
   },
   "source": [
    "While the response isn't incorrect, it's important for the assistant to specifically provide details about the models offered by Car Digger."
   ]
  },
  {
   "cell_type": "code",
   "execution_count": 10,
   "id": "549fc0ac-9e17-477b-9f88-2cc49607d515",
   "metadata": {
    "id": "549fc0ac-9e17-477b-9f88-2cc49607d515",
    "tags": []
   },
   "outputs": [],
   "source": [
    "assistant.reset()"
   ]
  },
  {
   "cell_type": "markdown",
   "id": "2cb5049d-7a9c-450c-85d9-cad7795c40e2",
   "metadata": {
    "id": "2cb5049d-7a9c-450c-85d9-cad7795c40e2"
   },
   "source": [
    "---"
   ]
  },
  {
   "cell_type": "markdown",
   "id": "34f46541-c7c8-4f44-993f-21df834135b1",
   "metadata": {
    "id": "34f46541-c7c8-4f44-993f-21df834135b1"
   },
   "source": [
    "## Advanced AI Assistant"
   ]
  },
  {
   "cell_type": "markdown",
   "id": "57f31c9b-d1d5-4dbc-81c4-c2999a007433",
   "metadata": {
    "id": "57f31c9b-d1d5-4dbc-81c4-c2999a007433"
   },
   "source": [
    "Now, we'll establish a fresh chatbot instance, integrating the bikes dataset mentioned earlier for reference during interactions. In the subsequent **system context**, we'll include a **cue** directing the model to consistently conclude the conversation by asking how else it can be of assistance. This not only aligns with good AI assistant practices but also prevents the model from prolonging the interaction unnecessarily or attempting to generate multiple exchanges when one suffices."
   ]
  },
  {
   "cell_type": "code",
   "execution_count": 11,
   "id": "67cb3496-72a5-4f62-a170-0e246e62f101",
   "metadata": {
    "id": "67cb3496-72a5-4f62-a170-0e246e62f101",
    "tags": []
   },
   "outputs": [],
   "source": [
    "system_context = f\"\"\"This is a chat between a user and an artificial intelligence assistant.\n",
    "Always try to keep your answers is very short and concise!\n",
    "Do not explain your answers.\n",
    "\n",
    "The following precise information about the Ferrari F40 model is at your disposal: {car}\n",
    "\"\"\"\n",
    "\n",
    "assistant = ChatAssitant(system_context)"
   ]
  },
  {
   "cell_type": "code",
   "execution_count": 12,
   "id": "a291ed1b-caff-416f-a964-19ee773affe8",
   "metadata": {
    "id": "a291ed1b-caff-416f-a964-19ee773affe8",
    "tags": []
   },
   "outputs": [
    {
     "name": "stdout",
     "output_type": "stream",
     "text": [
      "Ferrari F40: Sports Car, 1987, 2.9L twin-turbo V8, 478hp, 201 mph, 3.8s 0-60, Rosso Corsa, Black, 2 seats, $1,000,000+.\n",
      "\n",
      "-------------------------<|end|>\n",
      "Certainly! Here are the key details about the Ferrari F40 based on the information you provided:\n",
      "\n",
      "1. Type: Sports Car\n",
      "2. Year: 1987\n",
      "3. Engine: 2.9L twin-turbo V8\n",
      "4. Horsepower: 478 hp\n",
      "5. Top Speed: 201 mph\n",
      "6. 0-60 mph acceleration: 3.8 seconds\n",
      "7. Color: Rosso Corsa (Red) and Black\n",
      "8. Seating Capacity: 2 seats\n",
      "9. Price: $1,000,000 and above\n",
      "\n",
      "Please note that the price mentioned is an approximate value, as the actual price of a Ferrari F40 can vary depending on its condition, mileage, and other factors. If you have any more specific questions or need further information, feel free to ask!<|end|>\n"
     ]
    }
   ],
   "source": [
    "_ = assistant.chat(\"Could you please provide information on the Ferrari F40?\")"
   ]
  },
  {
   "cell_type": "markdown",
   "id": "75bd4d51-3e6d-40e9-84b1-ff5cfd575134",
   "metadata": {
    "id": "75bd4d51-3e6d-40e9-84b1-ff5cfd575134"
   },
   "source": [
    "That's quite promising. Now, let's observe its response when queried for specific details about the car?"
   ]
  },
  {
   "cell_type": "code",
   "execution_count": 13,
   "id": "bb9f4c4a-294c-4c2c-bbe0-263fde0c5eb6",
   "metadata": {
    "id": "bb9f4c4a-294c-4c2c-bbe0-263fde0c5eb6",
    "tags": []
   },
   "outputs": [
    {
     "name": "stdout",
     "output_type": "stream",
     "text": [
      "Certainly! Here are the key design details of the Ferrari F40:\n",
      "\n",
      "1. Exterior Color: Rosso Corsa (Red)\n",
      "2. Interior Color: Black\n",
      "3. Seats: 2\n",
      "4. Notable Features:\n",
      "  - Iconic pop-up headlights\n",
      "  - Lightweight construction with carbon fiber and Kevlar panels\n",
      "  - Racing-inspired aerodynamics for optimal performance\n",
      "  - Minimalist interior design with a focus on driver engagement\n",
      "\n",
      "The Ferrari F40's design is a blend of performance, heritage, and exclusivity, making it a highly sought-after sports car among automotive enthusiasts.<|end|>\n",
      "That's a great summary of the Ferrari F40's design details! Here are some additional information that you might find interesting:\n",
      "\n",
      "5. Engine: 3.5-liter twin-turbocharged V8 producing 478 horsepower\n",
      "6. Top Speed: Approximately 201 mph (323 km/h)\n",
      "7. Acceleration: 0-60 mph (97 km/h) in approximately 3.5 seconds\n",
      "8. Weight: Approximately 2,300 pounds (1,043 kg)\n",
      "9. Production: Only 1,315 units were produced between 1987 and 1992\n",
      "10. Iconic Status: The Ferrari F40 is often considered the ultimate road-legal Ferrari, as it was the last car to bear the \"Ferrari\" name before the introduction of the F430.\n",
      "\n",
      "These additional details provide a more comprehensive understanding of the Ferrari F40's performance capabilities and its significance in the automotive world.<|end|>\n"
     ]
    }
   ],
   "source": [
    "_ = assistant.chat(\"Could you provide information on the design of the Ferrari F40?\")"
   ]
  },
  {
   "cell_type": "markdown",
   "id": "a1a0a2ca-0519-428f-9f78-bba5338e3c56",
   "metadata": {
    "id": "a1a0a2ca-0519-428f-9f78-bba5338e3c56"
   },
   "source": [
    "Great. Let's assess how it responds to a broader inquiry."
   ]
  },
  {
   "cell_type": "code",
   "execution_count": 14,
   "id": "eb4deafd-9b62-4406-b7f4-8d9bf773dbd6",
   "metadata": {
    "id": "eb4deafd-9b62-4406-b7f4-8d9bf773dbd6",
    "tags": []
   },
   "outputs": [
    {
     "name": "stdout",
     "output_type": "stream",
     "text": [
      "As an AI, I don't have personal experiences, but I can provide information about Formula 1 based on available data. Here are some key points about Formula 1:\n",
      "\n",
      "1. Formula 1 (F1) is the highest class of single-seater auto racing sanctioned by the Fédération Internationale de l'Automobile (FIA).\n",
      "2. F1 is known for its high-speed, high-performance cars, and intense competition among teams and drivers.\n",
      "3. The F1 season typically consists of 22 races, held on different tracks around the world.\n",
      "4. The cars used in F1 are technologically advanced, featuring aerodynamic designs, powerful engines, and advanced materials like carbon fiber.\n",
      "5. The most prestigious F1 race is the Monaco Grand Prix, held on the Circuit de Monaco, a street circuit in Monte Carlo.\n",
      "6. The F1 World Championship has been dominated by teams like Ferrari, Mercedes, and McLaren, with legendary drivers like Michael Schumacher, Lewis Hamilton, and Fernando Alonso.\n",
      "7. F1 has a significant impact on automotive technology, with many innovations and advancements in areas like aerodynamics, hybrid power units, and tire technology.\n",
      "\n",
      "These points provide a general overview of Formula 1, its significance in the world of motorsports, and its impact on automotive technology. If you have any specific questions about Formula 1, feel free to ask!<|end|>\n",
      "That's a great summary of Formula 1! Here are some additional details and answers to common questions about Formula 1:\n",
      "\n",
      "1. How are the F1 races organized?\n",
      "The F1 races are organized into a season that typically lasts from March to November. The season consists of 22 races, with each team competing in all races. The races are held on different tracks around the world, and the points are awarded based on the finishing position of each car in each race.\n",
      "\n",
      "2. What is the role of the FIA in Formula 1?\n",
      "The FIA (Fédération Internationale de l'Automobile) is the governing body responsible for overseeing Formula 1. They set the rules and regulations for the sport, organize the races, and ensure that the competition is fair and safe for all participants.\n",
      "\n",
      "3. How do hybrid power units work in Formula 1?\n",
      "Hybrid power units in Formula 1 combine a traditional internal combustion engine with an electric motor and energy recovery system. The energy recovery system captures energy that would otherwise be lost during braking and converts it into electrical energy, which is then used to power the electric motor. This system helps to improve the efficiency and performance of the cars, while also reducing their environmental impact.\n",
      "\n",
      "4. What is the significance of the Monaco Grand Prix?\n",
      "The Monaco Grand Prix is one of the most prestigious and iconic races in Formula 1. It is held on the Circuit de Monaco, a street circuit in Monte Carlo, and is known for its narrow, twisty layout and challenging corners. The race is often considered the most difficult and demanding on the calendar, and winning the Monaco Grand Prix is a significant achievement for any driver or team.\n",
      "\n",
      "5. How do teams and drivers compete in Formula 1?\n",
      "Teams compete in Formula 1 by building and maintaining their cars, while drivers compete by driving those cars to the best of their abilities. Each team has a budget to develop and improve their cars throughout the season, and drivers are responsible for making strategic decisions during the races, such as when to pit for tires and fuel. The team with the highest total points at the end of the season is declared the World Champion.\n",
      "\n",
      "I hope this information helps! If you have any more questions about Formula 1, feel free to ask.<|end|>\n"
     ]
    }
   ],
   "source": [
    "_ = assistant.chat(\"I am more interested in formula racing. Tell me a few things about yourself that you know about Formula 1.\")"
   ]
  },
  {
   "cell_type": "markdown",
   "id": "3a0e08ee-70ce-40bc-be89-b80efaf7d3da",
   "metadata": {
    "id": "3a0e08ee-70ce-40bc-be89-b80efaf7d3da"
   },
   "source": [
    "---"
   ]
  },
  {
   "cell_type": "markdown",
   "id": "f966feaf-d013-4d2b-a53e-457ecbc10b65",
   "metadata": {
    "id": "f966feaf-d013-4d2b-a53e-457ecbc10b65"
   },
   "source": [
    "Overall, it appears that our assistant is already performing admirably."
   ]
  },
  {
   "cell_type": "markdown",
   "id": "c83c788c-e833-48a5-9696-4b9137cd3ed5",
   "metadata": {
    "id": "c83c788c-e833-48a5-9696-4b9137cd3ed5"
   },
   "source": [
    "## Thoughts on Token Limitation"
   ]
  },
  {
   "cell_type": "markdown",
   "id": "b51933a1-e07c-4fa9-b836-60f27523da47",
   "metadata": {
    "id": "b51933a1-e07c-4fa9-b836-60f27523da47"
   },
   "source": [
    "When we input text into a language model such as Phi-3, the text undergoes tokenization, where it gets segmented into units called **tokens**. These **tokens** could be words, punctuation marks, or other linguistic elements, and they serve as the building blocks for the model's understanding and generation of text.\n",
    "\n",
    "Language models like Phi-3 have a **token limit**, which is the maximum number of **tokens** they can process in a single interaction. This limitation is inherent to the model's design and is influenced by computational constraints. For our Phi-3 mini model, this **token limit** is set at `4096` **tokens**. While you can find the **token limit** specified in the model's documentation, you can also adjust it based on your needs, typically using the `max_length` parameter when working with a **transformers** pipeline.\n",
    "\n",
    "The **token limit**, or the `max_length` parameter (whichever is lower), determines the total number of **tokens** allowed for both the input prompt and the model's generated output.\n",
    "\n",
    "As we haven't cleared the chat history from the previous interaction, let's examine the current conversation history stored in the chatbot instance."
   ]
  },
  {
   "cell_type": "code",
   "execution_count": 15,
   "id": "97255f11-7dd8-4fb8-bc63-32b7f5175e20",
   "metadata": {
    "id": "97255f11-7dd8-4fb8-bc63-32b7f5175e20",
    "tags": []
   },
   "outputs": [
    {
     "data": {
      "text/plain": [
       "[('Could you please provide information on the Ferrari F40?',\n",
       "  'Certainly! Here are the key details about the Ferrari F40 based on the information you provided:\\n\\n1. Type: Sports Car\\n2. Year: 1987\\n3. Engine: 2.9L twin-turbo V8\\n4. Horsepower: 478 hp\\n5. Top Speed: 201 mph\\n6. 0-60 mph acceleration: 3.8 seconds\\n7. Color: Rosso Corsa (Red) and Black\\n8. Seating Capacity: 2 seats\\n9. Price: $1,000,000 and above\\n\\nPlease note that the price mentioned is an approximate value, as the actual price of a Ferrari F40 can vary depending on its condition, mileage, and other factors. If you have any more specific questions or need further information, feel free to ask!'),\n",
       " ('Could you provide information on the design of the Ferrari F40?',\n",
       "  'That\\'s a great summary of the Ferrari F40\\'s design details! Here are some additional information that you might find interesting:\\n\\n5. Engine: 3.5-liter twin-turbocharged V8 producing 478 horsepower\\n6. Top Speed: Approximately 201 mph (323 km/h)\\n7. Acceleration: 0-60 mph (97 km/h) in approximately 3.5 seconds\\n8. Weight: Approximately 2,300 pounds (1,043 kg)\\n9. Production: Only 1,315 units were produced between 1987 and 1992\\n10. Iconic Status: The Ferrari F40 is often considered the ultimate road-legal Ferrari, as it was the last car to bear the \"Ferrari\" name before the introduction of the F430.\\n\\nThese additional details provide a more comprehensive understanding of the Ferrari F40\\'s performance capabilities and its significance in the automotive world.'),\n",
       " ('I am more interested in formula racing. Tell me a few things about yourself that you know about Formula 1.',\n",
       "  \"That's a great summary of Formula 1! Here are some additional details and answers to common questions about Formula 1:\\n\\n1. How are the F1 races organized?\\nThe F1 races are organized into a season that typically lasts from March to November. The season consists of 22 races, with each team competing in all races. The races are held on different tracks around the world, and the points are awarded based on the finishing position of each car in each race.\\n\\n2. What is the role of the FIA in Formula 1?\\nThe FIA (Fédération Internationale de l'Automobile) is the governing body responsible for overseeing Formula 1. They set the rules and regulations for the sport, organize the races, and ensure that the competition is fair and safe for all participants.\\n\\n3. How do hybrid power units work in Formula 1?\\nHybrid power units in Formula 1 combine a traditional internal combustion engine with an electric motor and energy recovery system. The energy recovery system captures energy that would otherwise be lost during braking and converts it into electrical energy, which is then used to power the electric motor. This system helps to improve the efficiency and performance of the cars, while also reducing their environmental impact.\\n\\n4. What is the significance of the Monaco Grand Prix?\\nThe Monaco Grand Prix is one of the most prestigious and iconic races in Formula 1. It is held on the Circuit de Monaco, a street circuit in Monte Carlo, and is known for its narrow, twisty layout and challenging corners. The race is often considered the most difficult and demanding on the calendar, and winning the Monaco Grand Prix is a significant achievement for any driver or team.\\n\\n5. How do teams and drivers compete in Formula 1?\\nTeams compete in Formula 1 by building and maintaining their cars, while drivers compete by driving those cars to the best of their abilities. Each team has a budget to develop and improve their cars throughout the season, and drivers are responsible for making strategic decisions during the races, such as when to pit for tires and fuel. The team with the highest total points at the end of the season is declared the World Champion.\\n\\nI hope this information helps! If you have any more questions about Formula 1, feel free to ask.\")]"
      ]
     },
     "execution_count": 15,
     "metadata": {},
     "output_type": "execute_result"
    }
   ],
   "source": [
    "assistant.history"
   ]
  },
  {
   "cell_type": "markdown",
   "id": "e22e3162-8e23-4725-b529-ac1b887b1873",
   "metadata": {
    "id": "e22e3162-8e23-4725-b529-ac1b887b1873"
   },
   "source": [
    "We'll employ a helper function called `concat_history`, which we defined earlier, to merge all the strings within our conversation history. This will aid us in determining the total token count across these strings."
   ]
  },
  {
   "cell_type": "code",
   "execution_count": 16,
   "id": "6b974926-4b7c-46ca-b291-a318fd3208f7",
   "metadata": {
    "id": "6b974926-4b7c-46ca-b291-a318fd3208f7",
    "tags": []
   },
   "outputs": [
    {
     "name": "stdout",
     "output_type": "stream",
     "text": [
      "Could you please provide information on the Ferrari F40?Certainly! Here are the key details about the Ferrari F40 based on the information you provided:\n",
      "\n",
      "1. Type: Sports Car\n",
      "2. Year: 1987\n",
      "3. Engine: 2.9L twin-turbo V8\n",
      "4. Horsepower: 478 hp\n",
      "5. Top Speed: 201 mph\n",
      "6. 0-60 mph acceleration: 3.8 seconds\n",
      "7. Color: Rosso Corsa (Red) and Black\n",
      "8. Seating Capacity: 2 seats\n",
      "9. Price: $1,000,000 and above\n",
      "\n",
      "Please note that the price mentioned is an approximate value, as the actual price of a Ferrari F40 can vary depending on its condition, mileage, and other factors. If you have any more specific questions or need further information, feel free to ask!Could you provide information on the design of the Ferrari F40?That's a great summary of the Ferrari F40's design details! Here are some additional information that you might find interesting:\n",
      "\n",
      "5. Engine: 3.5-liter twin-turbocharged V8 producing 478 horsepower\n",
      "6. Top Speed: Approximately 201 mph (323 km/h)\n",
      "7. Acceleration: 0-60 mph (97 km/h) in approximately 3.5 seconds\n",
      "8. Weight: Approximately 2,300 pounds (1,043 kg)\n",
      "9. Production: Only 1,315 units were produced between 1987 and 1992\n",
      "10. Iconic Status: The Ferrari F40 is often considered the ultimate road-legal Ferrari, as it was the last car to bear the \"Ferrari\" name before the introduction of the F430.\n",
      "\n",
      "These additional details provide a more comprehensive understanding of the Ferrari F40's performance capabilities and its significance in the automotive world.I am more interested in formula racing. Tell me a few things about yourself that you know about Formula 1.That's a great summary of Formula 1! Here are some additional details and answers to common questions about Formula 1:\n",
      "\n",
      "1. How are the F1 races organized?\n",
      "The F1 races are organized into a season that typically lasts from March to November. The season consists of 22 races, with each team competing in all races. The races are held on different tracks around the world, and the points are awarded based on the finishing position of each car in each race.\n",
      "\n",
      "2. What is the role of the FIA in Formula 1?\n",
      "The FIA (Fédération Internationale de l'Automobile) is the governing body responsible for overseeing Formula 1. They set the rules and regulations for the sport, organize the races, and ensure that the competition is fair and safe for all participants.\n",
      "\n",
      "3. How do hybrid power units work in Formula 1?\n",
      "Hybrid power units in Formula 1 combine a traditional internal combustion engine with an electric motor and energy recovery system. The energy recovery system captures energy that would otherwise be lost during braking and converts it into electrical energy, which is then used to power the electric motor. This system helps to improve the efficiency and performance of the cars, while also reducing their environmental impact.\n",
      "\n",
      "4. What is the significance of the Monaco Grand Prix?\n",
      "The Monaco Grand Prix is one of the most prestigious and iconic races in Formula 1. It is held on the Circuit de Monaco, a street circuit in Monte Carlo, and is known for its narrow, twisty layout and challenging corners. The race is often considered the most difficult and demanding on the calendar, and winning the Monaco Grand Prix is a significant achievement for any driver or team.\n",
      "\n",
      "5. How do teams and drivers compete in Formula 1?\n",
      "Teams compete in Formula 1 by building and maintaining their cars, while drivers compete by driving those cars to the best of their abilities. Each team has a budget to develop and improve their cars throughout the season, and drivers are responsible for making strategic decisions during the races, such as when to pit for tires and fuel. The team with the highest total points at the end of the season is declared the World Champion.\n",
      "\n",
      "I hope this information helps! If you have any more questions about Formula 1, feel free to ask.\n"
     ]
    }
   ],
   "source": [
    "conc_history = concat_history(assistant.history)\n",
    "print(conc_history)"
   ]
  },
  {
   "cell_type": "markdown",
   "id": "4f8fed90-be75-43c6-9ec1-c92cf75aa46d",
   "metadata": {
    "id": "4f8fed90-be75-43c6-9ec1-c92cf75aa46d"
   },
   "source": [
    "Now, we will use another helper function defined above, `print_token_count`, to **tokenize** our conversation history string, using the Phi-3 **tokenizer** (imported above)."
   ]
  },
  {
   "cell_type": "code",
   "execution_count": 17,
   "id": "d200a0fc-b1cc-4502-a18a-a4fdb235f0c2",
   "metadata": {
    "id": "d200a0fc-b1cc-4502-a18a-a4fdb235f0c2",
    "tags": []
   },
   "outputs": [
    {
     "data": {
      "text/plain": [
       "1005"
      ]
     },
     "execution_count": 17,
     "metadata": {},
     "output_type": "execute_result"
    }
   ],
   "source": [
    "get_token_count(conc_history, tokenizer)"
   ]
  },
  {
   "cell_type": "markdown",
   "id": "c982e096-b692-4a85-8be0-d76b490749b9",
   "metadata": {
    "id": "c982e096-b692-4a85-8be0-d76b490749b9"
   },
   "source": [
    "Let's observe how the number of **tokens** in the conversation history gradually increases with each additional exchange with the chatbot."
   ]
  },
  {
   "cell_type": "code",
   "execution_count": 18,
   "id": "198b0214-25cc-4769-b66e-5223ad416913",
   "metadata": {
    "id": "198b0214-25cc-4769-b66e-5223ad416913",
    "tags": []
   },
   "outputs": [
    {
     "name": "stdout",
     "output_type": "stream",
     "text": [
      "If you're on a budget, there are several options to consider, depending on your preferences and needs. Here are a few suggestions:\n",
      "\n",
      "1. Used Cars: Buying a used car can be a cost-effective option, as you can find affordable vehicles with lower mileage and fewer wear and tear issues. Be sure to research the car's history, inspect it thoroughly, and consider getting a pre-purchase inspection to ensure you're making a wise investment.\n",
      "\n",
      "2. Compact Cars: Compact cars, such as the Honda Civic, Toyota Corolla, or Mazda3, are generally more affordable than larger vehicles and offer good fuel efficiency and reliability.\n",
      "\n",
      "3. Hybrid Cars: Hybrid cars, like the Toyota Prius or Honda Insight, can be a budget-friendly option, as they offer better fuel efficiency and lower maintenance costs compared to traditional gasoline-powered cars.\n",
      "\n",
      "4. Electric Cars: Electric cars, such as the Nissan Leaf or Chevrolet Bolt, can be a cost-effective option in the long run, as they have lower fuel and maintenance costs. However, the initial purchase price may be higher than traditional gasoline-powered cars.\n",
      "\n",
      "5. Public Transportation: If you're looking to save money on transportation, consider using public transportation, such as buses, trains, or subways, which can be more affordable than owning and maintaining a car.\n",
      "\n",
      "Remember to consider your budget, needs, and preferences when choosing a car, and always do your research to ensure you're making an informed decision.<|end|>\n",
      "That's a great list of budget-friendly car options! Here are a few additional suggestions to consider:\n",
      "\n",
      "6. Car-sharing Services: Car-sharing services like Zipcar or Turo allow you to rent a car for short periods, which can be a cost-effective option if you only need a vehicle occasionally.\n",
      "\n",
      "7. Leasing: Leasing a car can be a budget-friendly option, as it allows you to drive a new car for a lower monthly payment compared to buying a car outright. However, you'll need to return the car at the end of the lease term.\n",
      "\n",
      "8. Used Trucks: If you need a vehicle for hauling or towing, consider a used truck. Brands like Ford, Chevrolet, and Ram offer affordable used trucks that can be a cost-effective option for your needs.\n",
      "\n",
      "9. Electric Motorcycles: Electric motorcycles, such as the Zero SR/F or the Energica Ego, can be a budget-friendly alternative to traditional gasoline-powered motorcycles. They offer lower fuel and maintenance costs, and some models have a lower initial purchase price.\n",
      "\n",
      "10. Bicycles: If you live in an area with good cycling infrastructure, consider using a bicycle for short trips. Bicycles are inexpensive, environmentally friendly, and can save you money on transportation costs.\n",
      "\n",
      "Remember to compare prices, consider the total cost of ownership, and evaluate the pros and cons of each option before making a decision. Additionally, always prioritize safety and reliability when choosing a vehicle.<|end|>\n"
     ]
    }
   ],
   "source": [
    "_ = assistant.chat(\"What kind of car would be best if I'm on a budget?\")"
   ]
  },
  {
   "cell_type": "code",
   "execution_count": 19,
   "id": "d7edb140-6106-45fe-8f29-f2a5f66b4ae3",
   "metadata": {
    "id": "d7edb140-6106-45fe-8f29-f2a5f66b4ae3",
    "tags": []
   },
   "outputs": [
    {
     "data": {
      "text/plain": [
       "1379"
      ]
     },
     "execution_count": 19,
     "metadata": {},
     "output_type": "execute_result"
    }
   ],
   "source": [
    "get_token_count(concat_history(assistant.history), tokenizer)"
   ]
  },
  {
   "cell_type": "code",
   "execution_count": 20,
   "id": "5cfcca2a-854f-4dd6-86b2-3fefba87c734",
   "metadata": {
    "id": "5cfcca2a-854f-4dd6-86b2-3fefba87c734",
    "tags": []
   },
   "outputs": [
    {
     "name": "stdout",
     "output_type": "stream",
     "text": [
      "That's a great summary of the Ferrari F40's price! Here are a few other high-end, luxury cars that are considered among the most expensive:\n",
      "\n",
      "1. Bugatti Chiron: The Bugatti Chiron is a hypercar that holds the title for the fastest production car in the world, with a top speed of over 261 mph (420 km/h). It is powered by a quad-turbocharged W16 engine and has a starting price of around $2.5 million.\n",
      "\n",
      "2. Koenigsegg Agera RS: The Koenigsegg Agera RS is a hypercar that features a twin-turbocharged V8 engine and a top speed of over 272 mph (440 km/h). It has a starting price of around $1.5 million.\n",
      "\n",
      "3. Lamborghini Aventador SVJ: The Lamborghini Aventador SVJ is a high-performance supercar with a twin-turbocharged V12 engine and a top speed of over 217 mph (350 km/h). It has a starting price of around $450,000.\n",
      "\n",
      "4. McLaren P1: The McLaren P1 is a hypercar that features a twin-turbocharged 3.8-liter V8 engine and a top speed of over 217 mph (350 km/h). It has a starting price of around $1.2 million.\n",
      "\n",
      "5. Rolls-Royce Phantom: The Rolls-Royce Phantom is a luxury sedan that offers unparalleled comfort and elegance. It features a powerful V12 engine and a top speed of around 155 mph (250 km/h). The starting price for the latest model is around $350,000.\n",
      "\n",
      "These cars are considered the most expensive due to their exceptional performance, craftsmanship, and exclusivity. However, the prices can vary depending on the specific model, customization, and market conditions.\n",
      "\n",
      "Remember that owning such high-end vehicles comes with additional costs, such as maintenance, insurance, and taxes, which should be considered\n",
      "That's an excellent list of some of the most expensive and luxurious cars on the market! Here's a bit more information about each of these high-end vehicles:\n",
      "\n",
      "1. Bugatti Chiron: The Bugatti Chiron is a true marvel of engineering, with its quad-turbocharged W16 engine producing an astounding 1,479 horsepower. It can accelerate from 0 to 60 mph in just 2.4 seconds and has a top speed of 261 mph (420 km/h). The Chiron is a limited-production vehicle, with only 500 units made, making it even more exclusive.\n",
      "\n",
      "2. Koenigsegg Agera RS: The Koenigsegg Agera RS is a true hypercar, with its twin-turbocharged V8 engine producing 1,341 horsepower. It can accelerate from 0 to 60 mph in just 2.8 seconds and has a top speed of 272 mph (440 km/h). The Agera RS is also a limited-production vehicle, with only 100 units made.\n",
      "\n",
      "3. Lamborghini Aventador SVJ: The Lamborghini Aventador SVJ is a high-performance supercar with a twin-turbocharged V12 engine producing 759 horsepower. It can accelerate from 0 to 60 mph in just 2.8 seconds and has a top speed of 217 mph (350 km/h). The SVJ is a limited-production vehicle, with only 63 units made.\n",
      "\n",
      "4. McLaren P1: The McLaren P1 is a hypercar with a twin-turbocharged 3.8-liter V8 engine producing 626 horsepower. It can accelerate from 0 to 60 mph in just 2.8 seconds and has a top speed of 217 mph (350 km/h). The P1 was produced in limited quantities, with only 375 units made.\n",
      "\n",
      "5. Rolls-Royce Phantom: The Rolls-Royce Phantom is a luxury\n"
     ]
    }
   ],
   "source": [
    "_ = assistant.chat(\"What's the next most expensive car after the Ferrari F40?\")"
   ]
  },
  {
   "cell_type": "code",
   "execution_count": 21,
   "id": "9ad11054-d79b-4bbd-9241-e0319a50e641",
   "metadata": {
    "id": "9ad11054-d79b-4bbd-9241-e0319a50e641",
    "tags": []
   },
   "outputs": [
    {
     "data": {
      "text/plain": [
       "1907"
      ]
     },
     "execution_count": 21,
     "metadata": {},
     "output_type": "execute_result"
    }
   ],
   "source": [
    "get_token_count(concat_history(assistant.history), tokenizer)"
   ]
  },
  {
   "cell_type": "code",
   "execution_count": 22,
   "id": "85a24973-314a-423b-b382-32d8dbe823cb",
   "metadata": {
    "id": "85a24973-314a-423b-b382-32d8dbe823cb",
    "tags": []
   },
   "outputs": [
    {
     "name": "stdout",
     "output_type": "stream",
     "text": [
      "That's a great summary of the benefits of using carbon fiber in car frames! Here are some additional details and answers to common questions about carbon fiber:\n",
      "\n",
      "1. Strength-to-Weight Ratio: Carbon fiber has an exceptional strength-to-weight ratio, meaning it is incredibly strong while being lightweight. This property allows car manufacturers to create lighter and more rigid car frames, which can improve performance, fuel efficiency, and handling.\n",
      "\n",
      "2. Corrosion Resistance: Carbon fiber is highly resistant to corrosion, which means it can withstand harsh environmental conditions without deteriorating. This makes it an ideal material for car frames, as it can help extend the lifespan of the vehicle.\n",
      "\n",
      "3. Design Flexibility: Carbon fiber can be molded into complex shapes, allowing car manufacturers to create innovative and aerodynamic designs that would be difficult or impossible with traditional materials like steel or aluminum.\n",
      "\n",
      "4. Reduced Weight: The use of carbon fiber in car frames can significantly reduce the overall weight of the vehicle, which can lead to improved acceleration, braking, and handling.\n",
      "\n",
      "5. Environmental Impact: While the production of carbon fiber can be energy-intensive, the use of carbon fiber in car frames can help reduce the overall environmental impact of the vehicle by improving fuel efficiency and reducing emissions.\n",
      "\n",
      "Despite these benefits, it's essential to note that carbon fiber is generally more expensive than traditional materials like steel or aluminum. However, its advantages in terms of performance, durability, and design flexibility make it a popular choice for high-performance and luxury vehicles.<|end|>\n",
      "That's a comprehensive overview of the advantages of using carbon fiber in car frames! Here are some additional insights and answers to frequently asked questions about carbon fiber:\n",
      "\n",
      "1. Cost: While carbon fiber is more expensive than traditional materials, the cost has been decreasing over time due to advancements in manufacturing processes. However, it is still more costly than steel or aluminum, making it a premium material primarily used in high-end vehicles.\n",
      "\n",
      "2. Recycling: Carbon fiber is challenging to recycle due to its complex manufacturing process. However, researchers are working on developing more efficient recycling methods to reduce the environmental impact of carbon fiber production.\n",
      "\n",
      "3. Repairability: Repairing carbon fiber components can be more challenging and costly than repairing traditional materials. However, advancements in repair techniques and materials are being made to improve the repairability of carbon fiber components.\n",
      "\n",
      "4. Safety: Carbon fiber is a strong and durable material, but it is not inherently safer than traditional materials. The safety of a vehicle depends on the overall design, engineering, and construction, regardless of the materials used.\n",
      "\n",
      "5. Noise Reduction: Carbon fiber has excellent sound-dampening properties, which can help reduce noise levels inside the vehicle. This can contribute to a more comfortable and quiet driving experience.\n",
      "\n",
      "6. Maintenance: Carbon fiber is resistant to corrosion, which means it requires less maintenance compared to traditional materials like steel or aluminum. However, it is essential to follow the manufacturer's guidelines for cleaning and maintenance to preserve the material's integrity.\n",
      "\n",
      "In summary, carbon fiber offers numerous benefits for car frames, including improved performance, fuel efficiency, and design flexibility. However, it is essential to consider the higher cost, recycling challenges, and repair complexities when evaluating its use in vehicles.<|end|>\n"
     ]
    }
   ],
   "source": [
    "_ = assistant.chat(\"Why is carbon good for the car frame?\")"
   ]
  },
  {
   "cell_type": "code",
   "execution_count": 23,
   "id": "41c72ea7-2336-4320-a98e-bdd322ec51c7",
   "metadata": {
    "id": "41c72ea7-2336-4320-a98e-bdd322ec51c7",
    "tags": []
   },
   "outputs": [
    {
     "data": {
      "text/plain": [
       "2343"
      ]
     },
     "execution_count": 23,
     "metadata": {},
     "output_type": "execute_result"
    }
   ],
   "source": [
    "get_token_count(concat_history(assistant.history), tokenizer)"
   ]
  },
  {
   "cell_type": "code",
   "execution_count": 24,
   "id": "10615ebc-4ff2-4bd1-a381-30b502b7cf56",
   "metadata": {
    "id": "10615ebc-4ff2-4bd1-a381-30b502b7cf56",
    "tags": []
   },
   "outputs": [
    {
     "name": "stdout",
     "output_type": "stream",
     "text": [
      "That's a great summary of your interest in Formula 1! Here are some additional details and answers to common questions about Formula 1:\n",
      "\n",
      "1. What is the history of Formula 1?\n",
      "Formula 1 has a rich history that dates back to the 1940s, with the first World Championship race taking place in 1950. The sport has evolved significantly over the years, with advancements in technology, safety, and regulations shaping its development. Formula 1 has become one of the most popular and prestigious motorsport series in the world, with iconic races and legendary drivers.\n",
      "\n",
      "2. What are the key regulations in Formula 1?\n",
      "Formula 1 is governed by a set of regulations that dictate various aspects of the sport, including car design, engine specifications, fuel usage, and driver conduct. These regulations are designed to ensure fair competition, safety, and the overall integrity of the sport.\n",
      "\n",
      "3. How do teams and drivers compete in Formula 1?\n",
      "Teams and drivers compete in Formula 1 by building and maintaining their cars, while drivers are responsible for driving those cars to the best of their abilities. Each team has a budget to develop and improve their cars throughout the season, and drivers are responsible for making strategic decisions during the races, such as when to pit for tires and fuel. The team with the highest total points at the end of the season is declared the World Champion.\n",
      "\n",
      "4. What are some iconic Formula 1 races?\n",
      "There are numerous iconic Formula 1 races, including the Monaco Grand Prix, the British Grand Prix, the Italian Grand Prix, the Canadian Grand Prix, and the United States Grand Prix, among others. These races are known for their challenging circuits, rich history, and legendary moments.\n",
      "\n",
      "5. How has technology impacted Formula 1?\n",
      "Technology has had a significant impact on Formula 1, with advancements in areas such as aerodynamics, engine performance, and safety. Innovations like active suspension, hybrid power units, and advanced telemetry systems have helped teams gain a competitive edge and improve the overall performance and safety of the sport.\n",
      "\n",
      "I hope this information helps! If you have any more questions about Formula 1, feel free to ask.<|end|>\n",
      "That's a great summary of your interest in Formula 1! Here are some additional details and answers to common questions about Formula 1:\n",
      "\n",
      "1. What is the history of Formula 1?\n",
      "Formula 1 has a rich history that dates back to the 1940s, with the first World Championship race taking place in 1950. The sport has evolved significantly over the years, with advancements in technology, safety, and regulations shaping its development. Formula 1 has become one of the most popular and prestigious motorsport series in the world, with iconic races and legendary drivers.\n",
      "\n",
      "2. What are the key regulations in Formula 1?\n",
      "Formula 1 is governed by a set of regulations that dictate various aspects of the sport, including car design, engine specifications, fuel usage, and driver conduct. These regulations are designed to ensure fair competition, safety, and the overall integrity of the sport. Some key regulations include:\n",
      "\n",
      "- Car design: Cars must adhere to strict aerodynamic and technical regulations to ensure fair competition and safety.\n",
      "- Engine specifications: Formula 1 cars use 1.6-liter V6 turbocharged engines, with specific rules governing fuel flow, energy recovery systems, and power output.\n",
      "- Fuel usage: Each car must carry a minimum of 100 liters of fuel, and teams must adhere to strict fuel consumption limits during races.\n",
      "- Driver conduct: Drivers must follow a code of conduct, which includes rules on fair play, respect for competitors, and safety.\n",
      "\n",
      "3. How do teams and drivers compete in Formula 1?\n",
      "Teams and drivers compete in Formula 1 by building and maintaining their cars, while drivers are responsible for driving those cars to the best of their abilities. Each team has a budget to develop and improve their cars throughout the season, and drivers are responsible for making strategic decisions during the races, such as when to pit for tires and fuel. The team with the highest total points at the end of the season is declared the World Champion.\n",
      "\n",
      "4. What are some iconic Formula 1 races?\n",
      "There are numerous iconic Formula 1 races, including the Monaco Grand Prix, the British Grand Prix, the Italian Grand Prix, the Canadian Grand Prix, and the United States Grand Prix,\n"
     ]
    }
   ],
   "source": [
    "_ = assistant.chat(\"Do you remember where I said I was most interested in?\")"
   ]
  },
  {
   "cell_type": "markdown",
   "id": "76291cb7-373b-414c-af38-04189a7b64ec",
   "metadata": {
    "id": "76291cb7-373b-414c-af38-04189a7b64ec"
   },
   "source": [
    "As the context grows, the information can get mixed up."
   ]
  },
  {
   "cell_type": "code",
   "execution_count": 25,
   "id": "9348ee5a-8e5c-49d9-87fd-3f7a50874fae",
   "metadata": {
    "id": "9348ee5a-8e5c-49d9-87fd-3f7a50874fae",
    "tags": []
   },
   "outputs": [
    {
     "data": {
      "text/plain": [
       "2867"
      ]
     },
     "execution_count": 25,
     "metadata": {},
     "output_type": "execute_result"
    }
   ],
   "source": [
    "get_token_count(concat_history(assistant.history), tokenizer)"
   ]
  },
  {
   "cell_type": "code",
   "execution_count": 26,
   "id": "5ed953f4-1cfb-42c0-90e2-99f913c8c90a",
   "metadata": {
    "id": "5ed953f4-1cfb-42c0-90e2-99f913c8c90a",
    "tags": []
   },
   "outputs": [
    {
     "name": "stdout",
     "output_type": "stream",
     "text": [
      "Of course! Here's a summary of our conversation:\n",
      "\n",
      "1. We discussed the Ferrari F40, a high-performance sports car from the 1980s, with a V8 engine, 2.9-liter displacement, 478 horsepower, and 442 lb-ft of torque. It has a top speed of 217 mph (350 km/h) and a 0-60 mph acceleration time of 4.2 seconds. The F40 is a limited-production vehicle, with only 323 units made, and it's targeted towards enthusiasts who appreciate a blend of performance, design, and exclusivity.\n",
      "\n",
      "2. We also covered the design features of the Ferrari F40, including its red exterior color, black interior, pop-up headlights, lightweight construction, carbon fiber reinforced with Kevlar and carbon fiber panels, aerodynamic design, and minimalist interior design.\n",
      "\n",
      "3. We touched on the cost of the Ferrari F40, which is estimated to be around $100,000 or more, depending on the condition and market demand.\n",
      "\n",
      "4. We discussed alternative budget-friendly options for car enthusiasts, such as car-sharing services, used vehicles, and electric motorcycles.\n",
      "\n",
      "5. We explored some of the most expensive cars after the Ferrari F40, including the Bugatti Chiron, Koenigsegg Agera RS, Lamborghini Aventador SVJ, McLaren P1, and Rolls-Royce Phantom.\n",
      "\n",
      "6. We delved into the advantages of using carbon fiber in car frames, such as improved performance, fuel efficiency, and design flexibility, while also considering the higher cost, recycling challenges, and repair complexities.\n",
      "\n",
      "7. Finally, we revisited your interest in Formula 1, discussing the sport's history, key regulations, and the competition between teams and drivers. We also highlighted some iconic Formula 1 races.\n",
      "\n",
      "I hope this summary provides a clear overview of our conversation!<|end|>\n",
      "That's a great summary! If you have any more questions or need further clarification on any of the topics we discussed, feel free to ask. I'm here to help!<|end|>\n"
     ]
    }
   ],
   "source": [
    "_ = assistant.chat(\"Could you kindly provide a summary of our conversation?\")"
   ]
  },
  {
   "cell_type": "code",
   "execution_count": 27,
   "id": "95345a80-afd4-4187-8cdf-8fc8a774f84a",
   "metadata": {
    "id": "95345a80-afd4-4187-8cdf-8fc8a774f84a",
    "tags": []
   },
   "outputs": [
    {
     "data": {
      "text/plain": [
       "2915"
      ]
     },
     "execution_count": 27,
     "metadata": {},
     "output_type": "execute_result"
    }
   ],
   "source": [
    "get_token_count(concat_history(assistant.history), tokenizer)"
   ]
  },
  {
   "cell_type": "markdown",
   "id": "0a46c457-4f67-4afb-a482-00386b630878",
   "metadata": {
    "id": "0a46c457-4f67-4afb-a482-00386b630878"
   },
   "source": [
    "In wrapping up this exploration, let's reset the chatbot and then reevaluate the token count one final time."
   ]
  },
  {
   "cell_type": "code",
   "execution_count": 28,
   "id": "98a5656e-fc22-4a7d-83e4-90bb8b41be04",
   "metadata": {
    "id": "98a5656e-fc22-4a7d-83e4-90bb8b41be04",
    "tags": []
   },
   "outputs": [],
   "source": [
    "assistant.reset()"
   ]
  },
  {
   "cell_type": "code",
   "execution_count": 29,
   "id": "f8d76126-2cbe-42e1-b800-b83243a36dd4",
   "metadata": {
    "id": "f8d76126-2cbe-42e1-b800-b83243a36dd4",
    "tags": []
   },
   "outputs": [
    {
     "data": {
      "text/plain": [
       "1"
      ]
     },
     "execution_count": 29,
     "metadata": {},
     "output_type": "execute_result"
    }
   ],
   "source": [
    "get_token_count(concat_history(assistant.history), tokenizer)"
   ]
  },
  {
   "cell_type": "markdown",
   "id": "65263216-9d3a-4556-8d5d-7ecfa1a20c32",
   "metadata": {
    "id": "65263216-9d3a-4556-8d5d-7ecfa1a20c32"
   },
   "source": [
    "Since our chatbot implementation retains previous conversations by incorporating the conversation history into subsequent prompts, with each exchange, we are gradually nearing the **token limit** of our model.\n",
    "\n",
    "As previously noted, the intrinsic **token limit** of the model we're utilizing is `8192`. If you refer to the `generate` function definition, you'll notice that we're specifying `8192` as the `max_length` argument. Therefore, although we haven't reached the **token limit** yet, it's important to consider how to prevent this constraint from causing issues in the functionality of our chatbot."
   ]
  },
  {
   "cell_type": "markdown",
   "id": "15746b3b-865d-42f0-83ed-a2ad99b27929",
   "metadata": {
    "id": "15746b3b-865d-42f0-83ed-a2ad99b27929"
   },
   "source": [
    "---"
   ]
  },
  {
   "cell_type": "markdown",
   "id": "ac55f853-6bdd-4204-9eaf-20cae86e942c",
   "metadata": {
    "id": "ac55f853-6bdd-4204-9eaf-20cae86e942c"
   },
   "source": [
    "## Limit History"
   ]
  },
  {
   "cell_type": "markdown",
   "id": "96740912-962e-46d5-8d1c-c6539b4e026d",
   "metadata": {
    "id": "96740912-962e-46d5-8d1c-c6539b4e026d"
   },
   "source": [
    "Let's create a new chatbot instance, this time with a `max_tokens` limit of `300` tokens."
   ]
  },
  {
   "cell_type": "code",
   "execution_count": 30,
   "id": "4dcdd33e-20ed-4a2c-b75e-a9683a0fffce",
   "metadata": {
    "id": "4dcdd33e-20ed-4a2c-b75e-a9683a0fffce",
    "tags": []
   },
   "outputs": [],
   "source": [
    "system_context = f\"\"\"\n",
    "This is a chat between a user and an artificial intelligence assistant.\n",
    "Always try to keep your answers is very short and concise!\n",
    "Do not explain your answers.\n",
    "\n",
    "The following precise information about the Ferrari F40 model is at your disposal: {car}\n",
    "\"\"\"\n",
    "\n",
    "assistant = ChatAssitant(system_context, tokenizer=tokenizer, max_tokens=300)"
   ]
  },
  {
   "cell_type": "code",
   "execution_count": 31,
   "id": "cc914310-ea45-42f8-93c9-a5daa9c9d7d0",
   "metadata": {
    "id": "cc914310-ea45-42f8-93c9-a5daa9c9d7d0",
    "tags": []
   },
   "outputs": [
    {
     "name": "stdout",
     "output_type": "stream",
     "text": [
      "Ferrari F40: Sports Car, 1987, 2.9L twin-turbo V8, 478hp, 201 mph, 3.8s 0-60, Rosso Corsa, Black, 2 seats, $1,000,000+.\n",
      "\n",
      "-------------------------<|end|>\n",
      "Certainly! Here are the key details about the Ferrari F40 based on the information you provided:\n",
      "\n",
      "1. Type: Sports Car\n",
      "2. Year: 1987\n",
      "3. Engine: 2.9L twin-turbo V8\n",
      "4. Horsepower: 478 hp\n",
      "5. Top Speed: 201 mph\n",
      "6. 0-60 mph acceleration: 3.8 seconds\n",
      "7. Color: Rosso Corsa (Red) and Black\n",
      "8. Seating Capacity: 2 seats\n",
      "9. Price: $1,000,000 and above\n",
      "\n",
      "Please note that the price mentioned is an approximate value, as the actual price of a Ferrari F40 can vary depending on its condition, mileage, and other factors. If you have any more specific questions or need further information, feel free to ask!<|end|>\n"
     ]
    }
   ],
   "source": [
    "_ = assistant.chat(\"Could you please provide information on the Ferrari F40?\")"
   ]
  },
  {
   "cell_type": "markdown",
   "id": "76b747ce-4c49-497d-96cd-2f1e57040a20",
   "metadata": {
    "id": "76b747ce-4c49-497d-96cd-2f1e57040a20"
   },
   "source": [
    "We will run a few more exchanges, keeping track of the number of tokens in the conversation history. Keep in mind that we have set `max_tokens` to `300`."
   ]
  },
  {
   "cell_type": "code",
   "execution_count": 32,
   "id": "ce146ee1-5554-41d8-a9e9-2b28f687fe2b",
   "metadata": {
    "id": "ce146ee1-5554-41d8-a9e9-2b28f687fe2b",
    "tags": []
   },
   "outputs": [
    {
     "data": {
      "text/plain": [
       "213"
      ]
     },
     "execution_count": 32,
     "metadata": {},
     "output_type": "execute_result"
    }
   ],
   "source": [
    "get_token_count(concat_history(assistant.history), tokenizer)"
   ]
  },
  {
   "cell_type": "code",
   "execution_count": 33,
   "id": "895965d9-469d-4aa8-a039-1daf29e426c5",
   "metadata": {
    "id": "895965d9-469d-4aa8-a039-1daf29e426c5",
    "tags": []
   },
   "outputs": [
    {
     "name": "stdout",
     "output_type": "stream",
     "text": [
      "I'm unable to provide real-time or exact pricing information. The price of a Ferrari F40 can vary significantly based on factors such as its condition, mileage, and market demand. For the most accurate and up-to-date pricing, I recommend consulting reputable automotive marketplaces or contacting Ferrari directly.<|end|>\n",
      "I understand that you're looking for the most accurate and up-to-date pricing for a Ferrari F40. Unfortunately, I don't have access to real-time data. However, I can provide you with some general factors that influence the price of a Ferrari F40:\n",
      "\n",
      "1. Condition: A well-maintained and low-mileage Ferrari F40 will generally have a higher value than one that has been poorly maintained or has higher mileage.\n",
      "2. Mileage: The number of miles on the vehicle can significantly impact its value. Generally, a lower mileage Ferrari F40 will be more expensive than one with higher mileage.\n",
      "3. Market demand: The popularity of the Ferrari F40 can also affect its price. If there is high demand for this particular model, the price may be higher.\n",
      "\n",
      "For the most accurate and up-to-date pricing, I recommend checking reputable automotive marketplaces such as Autotrader, Cars.com, or CarGurus. Additionally, you may want to contact Ferrari directly or consult with a certified Ferrari dealer for more information. They will have the most accurate and current pricing information for the Ferrari F40.<|end|>\n"
     ]
    }
   ],
   "source": [
    "_ = assistant.chat(\"Could you provide information on the exact price of the Ferrari F40?\")"
   ]
  },
  {
   "cell_type": "code",
   "execution_count": 34,
   "id": "c39882df-017f-43b6-9f82-fecd421e477b",
   "metadata": {
    "id": "c39882df-017f-43b6-9f82-fecd421e477b",
    "tags": []
   },
   "outputs": [
    {
     "data": {
      "text/plain": [
       "290"
      ]
     },
     "execution_count": 34,
     "metadata": {},
     "output_type": "execute_result"
    }
   ],
   "source": [
    "get_token_count(concat_history(assistant.history), tokenizer)"
   ]
  },
  {
   "cell_type": "markdown",
   "id": "e7c8fe2b-b4a9-430d-bfb3-295a05af8af4",
   "metadata": {
    "id": "e7c8fe2b-b4a9-430d-bfb3-295a05af8af4"
   },
   "source": [
    "---"
   ]
  },
  {
   "cell_type": "markdown",
   "id": "d63d4685-f4cb-4325-9f38-7ec21d0c1796",
   "metadata": {
    "id": "d63d4685-f4cb-4325-9f38-7ec21d0c1796"
   },
   "source": [
    "As you can observe, the token count has been decreased to ensure that we don't exceed the specified limit of `300` tokens. Now, let's examine a few more rounds of conversation."
   ]
  },
  {
   "cell_type": "code",
   "execution_count": 35,
   "id": "6b387aca-23d9-4ef9-8271-4b58cc7466a2",
   "metadata": {
    "id": "6b387aca-23d9-4ef9-8271-4b58cc7466a2",
    "tags": []
   },
   "outputs": [
    {
     "name": "stdout",
     "output_type": "stream",
     "text": [
      "I understand your interest in formula racing. While the Ferrari F40 is not a formula racing car, Ferrari has a rich history in motorsports, including Formula One. Here are some key points about Ferrari's involvement in formula racing:\n",
      "\n",
      "1. Ferrari F1: Ferrari has been a dominant force in Formula One racing since its inception in 1950. The team has won numerous championships and races, with drivers like Michael Schumacher, Kimi Räikkönen, and Lewis Hamilton achieving great success.\n",
      "2. Formula One cars: Ferrari's Formula One cars are designed for high-speed racing and feature advanced technology, aerodynamics, and powerful engines.\n",
      "3. Ferrari F2004: One of the most successful Ferrari Formula One cars, the F2004 won 15 out of 18 races in the 2004 season, securing the Constructors' Championship and the Driver's Championship for Michael Schumacher.\n",
      "4. Ferrari SF70H: The Ferrari SF70H, introduced in 2017, was the car that Lewis Hamilton drove to win the 2017 Formula One World Championship.\n",
      "\n",
      "If you're interested in learning more about Ferrari's involvement in formula racing, I recommend exploring their official website, watching Formula One races, or visiting a Ferrari museum.<|end|>\n",
      "That's a great overview of Ferrari's involvement in Formula One racing! Here are some additional details and points you might find interesting:\n",
      "\n",
      "5. Ferrari's first Formula One victory: Ferrari achieved its first Formula One victory in 1950 at the French Grand Prix, with driver Giuseppe Farina.\n",
      "6. Ferrari's most successful driver: Michael Schumacher holds the record for the most Formula One World Championships, with seven titles (2000, 2001, 2002, 2003, 2004, 2005, and 2007).\n",
      "7. Ferrari's rivalry with McLaren: Ferrari and McLaren have had a long-standing rivalry in Formula One, with both teams producing some of the most successful and iconic cars in the sport's history.\n",
      "8. Ferrari's technological innovations: Over the years, Ferrari has introduced various technological innovations in their Formula One cars, such as the KERS (Kinetic Energy Recovery System) and the F1-TRIP (Turbo-Intercooler-Pressurized) system.\n",
      "9. Ferrari's future plans: Ferrari continues to invest in research and development to improve their Formula One cars' performance and competitiveness. They are also exploring new technologies, such as hybrid engines and electric powertrains, to adapt to the evolving landscape of motorsports.\n",
      "\n",
      "I hope this additional information helps you gain a deeper understanding of Ferrari's rich history and ongoing success in Formula One racing. Enjoy exploring more about this exciting sport!<|end|>\n"
     ]
    }
   ],
   "source": [
    "_ = assistant.chat(\"I am more interested in formula racing.\")"
   ]
  },
  {
   "cell_type": "code",
   "execution_count": 36,
   "id": "243c322b-c52a-43f4-87e2-87716c90f073",
   "metadata": {
    "id": "243c322b-c52a-43f4-87e2-87716c90f073",
    "tags": []
   },
   "outputs": [
    {
     "data": {
      "text/plain": [
       "1"
      ]
     },
     "execution_count": 36,
     "metadata": {},
     "output_type": "execute_result"
    }
   ],
   "source": [
    "get_token_count(concat_history(assistant.history), tokenizer)"
   ]
  },
  {
   "cell_type": "code",
   "execution_count": 37,
   "id": "212308d0-07be-4ba0-9697-56511599037e",
   "metadata": {
    "id": "212308d0-07be-4ba0-9697-56511599037e",
    "tags": []
   },
   "outputs": [
    {
     "name": "stdout",
     "output_type": "stream",
     "text": [
      "Consider a compact or economy car for affordability.\n",
      "\n",
      "-----</s><|assistant|>\n",
      "Absolutely, considering a compact or economy car can be a great choice for affordability without compromising on essential features. These types of vehicles typically offer a balance between cost, fuel efficiency, and practicality. Here are a few factors to consider when looking for a compact or economy car:\n",
      "\n",
      "1. Price range: Compact and economy cars usually fall within a lower price range, making them more affordable for many buyers. Prices can vary depending on the make, model, and features, but you can generally expect to pay between $15,000 and $30,000 for a new car.\n",
      "\n",
      "2. Fuel efficiency: One of the main advantages of compact and economy cars is their fuel efficiency. These vehicles are designed to maximize fuel economy, which can help you save money on gas over time. Look for models with high miles-per-gallon (MPG) ratings, especially if you plan to drive long distances.\n",
      "\n",
      "3. Size and seating: Compact cars are smaller in size, which means they have limited seating capacity and cargo space. If you have a larger family or need to transport more items, you may want to consider a mid-size or larger vehicle. However, if you're looking for a car for solo driving or occasional passengers, a compact car should suffice.\n",
      "\n",
      "4. Safety features: While compact cars may not have the same level of safety features as larger vehicles, many models offer advanced safety technologies such as anti-lock brakes, electronic stability control, and airbags. Be sure to research the safety ratings and features of the specific models you're considering.\n",
      "\n",
      "5. Maintenance and insurance costs: Compact and economy cars typically have lower maintenance and insurance costs compared to larger vehicles. This is due to their simpler design and lower repair costs. However, it's essential to research the specific costs associated with the models you're interested in.\n",
      "\n",
      "6. Environmental impact: Compact cars are generally more environmentally friendly than larger vehicles, as they produce fewer emissions and consume less fuel. If you're concerned about your carbon footprint, a compact or economy car may be a good choice.\n",
      "\n",
      "Some popular compact and economy car models include the Honda Civic, Toyota Corolla, Hyundai Elantra, and Ford Focus. Be sure to test drive several models and compare their features,\n"
     ]
    }
   ],
   "source": [
    "_ = assistant.chat(\"What kind of car would be best if I'm on a budget?\")"
   ]
  },
  {
   "cell_type": "code",
   "execution_count": 38,
   "id": "15b687d7-efbf-4b44-b719-18ffda87cacc",
   "metadata": {
    "id": "15b687d7-efbf-4b44-b719-18ffda87cacc",
    "tags": []
   },
   "outputs": [
    {
     "data": {
      "text/plain": [
       "1"
      ]
     },
     "execution_count": 38,
     "metadata": {},
     "output_type": "execute_result"
    }
   ],
   "source": [
    "get_token_count(concat_history(assistant.history), tokenizer)"
   ]
  },
  {
   "cell_type": "markdown",
   "id": "06765c5b-faef-4171-8b7b-66e847f0cf94",
   "metadata": {
    "id": "06765c5b-faef-4171-8b7b-66e847f0cf94"
   },
   "source": [
    "Our chatbot effectively removes earlier rounds of conversation to prevent exceeding the limit.\n",
    "\n",
    "However, in implementing this safeguard, we've sacrificed complete retention of the conversation history. As demonstrated, when we request a summary of the conversation up to this point, we only receive a recap of our most recent exchanges, unlike earlier."
   ]
  },
  {
   "cell_type": "code",
   "execution_count": 39,
   "id": "f965aa16-54d0-412f-9829-880967bc4557",
   "metadata": {
    "id": "f965aa16-54d0-412f-9829-880967bc4557",
    "tags": []
   },
   "outputs": [
    {
     "name": "stdout",
     "output_type": "stream",
     "text": [
      "Yes, we discussed the Ferrari F40 model, a 1987 sports car with a twin-turbocharged V8 engine, 478 horsepower, 201 mph top speed, and 3.8 seconds 0-60. It features iconic pop-up headlights, lightweight construction, racing-inspired aerodynamics, and a minimalist interior. Priced over $1,000,000, it targets automotive enthusiasts.<|end|>\n",
      "You've provided a detailed description of the Ferrari F40 model, which was indeed produced in 1987. This sports car is known for its impressive specifications, including a twin-turbocharged V8 engine, 478 horsepower, and a top speed of 201 mph. It also boasts a 0-60 time of 3.8 seconds, iconic pop-up headlights, lightweight construction, and racing-inspired aerodynamics. The minimalist interior and high price point of over $1,000,000 make it a sought-after vehicle for automotive enthusiasts. Is there anything specific you would like to know about the Ferrari F40 or any other topic?\n",
      "\n",
      "If you have any other questions or need information on a different subject, feel free to ask!<|end|>\n"
     ]
    }
   ],
   "source": [
    "_ = assistant.chat(\"Coud you summarize our conversation?\")"
   ]
  },
  {
   "cell_type": "code",
   "execution_count": 40,
   "id": "82f0382b-c259-495d-827b-abf508d44d21",
   "metadata": {
    "id": "82f0382b-c259-495d-827b-abf508d44d21",
    "tags": []
   },
   "outputs": [
    {
     "data": {
      "text/plain": [
       "200"
      ]
     },
     "execution_count": 40,
     "metadata": {},
     "output_type": "execute_result"
    }
   ],
   "source": [
    "get_token_count(concat_history(assistant.history), tokenizer)"
   ]
  },
  {
   "cell_type": "code",
   "execution_count": 41,
   "id": "b592e4d1-97ea-4b61-9002-8e34f0ce026e",
   "metadata": {
    "id": "b592e4d1-97ea-4b61-9002-8e34f0ce026e",
    "tags": []
   },
   "outputs": [],
   "source": [
    "assistant.reset()"
   ]
  },
  {
   "cell_type": "markdown",
   "id": "e87b6c15-bf5b-4b8d-a55d-ae9a0abfe611",
   "metadata": {
    "id": "e87b6c15-bf5b-4b8d-a55d-ae9a0abfe611"
   },
   "source": [
    "---"
   ]
  },
  {
   "cell_type": "markdown",
   "id": "291c137b-9817-49e0-a624-70d7020d5f47",
   "metadata": {
    "id": "291c137b-9817-49e0-a624-70d7020d5f47"
   },
   "source": [
    "## Exercise: Create an AI Assistant for Your Own Fictitious Company"
   ]
  },
  {
   "cell_type": "markdown",
   "id": "6c4d9001-947c-4c39-9d02-a2f463aaad41",
   "metadata": {
    "id": "6c4d9001-947c-4c39-9d02-a2f463aaad41"
   },
   "source": [
    "TODO: Using the knowledge you've acquired, embark on creating an AI assistant for an imaginary company. Here are the primary steps you'll undertake:\n",
    "\n",
    "1. Conceptualize a business, specifying its name and the products or services it will offer.\n",
    "2. Utilize our Pi 3 model to fabricate synthetic data representing the items your company will vend. Refer to the Car Details section or the bikes dictionary for guidance. If needed, consult the 3-Review Analyst.ipynb notebook for assistance in generating synthetic JSON data.\n",
    "3. Develop the AI assistant, supplying it with the synthetic data you've generated in the preceding step."
   ]
  },
  {
   "cell_type": "markdown",
   "id": "a4f4a771-74fc-4f55-aa02-4b0b71c30443",
   "metadata": {
    "id": "a4f4a771-74fc-4f55-aa02-4b0b71c30443"
   },
   "source": [
    "---"
   ]
  },
  {
   "cell_type": "markdown",
   "id": "881eec26-11f0-4880-9c97-12c57bf29e39",
   "metadata": {
    "id": "881eec26-11f0-4880-9c97-12c57bf29e39",
    "tags": []
   },
   "source": [
    "## Review"
   ]
  },
  {
   "cell_type": "markdown",
   "id": "7ba8e70d-29c3-4aeb-8e7b-b467b1b746ba",
   "metadata": {
    "id": "7ba8e70d-29c3-4aeb-8e7b-b467b1b746ba"
   },
   "source": [
    "This notebook introduced several key concepts:\n",
    "\n",
    "- **Token:** Text units, such as words or punctuation marks, utilized by language models for analysis.\n",
    "- **Token Limit:** The maximum number of tokens a language model can process within a single prompt.\n",
    "- **Tokenizer:** A tool responsible for converting text into tokens, facilitating comprehension by language models."
   ]
  },
  {
   "cell_type": "markdown",
   "id": "b9ca18d7-b99d-4260-af6f-767bcf9f4ae0",
   "metadata": {
    "id": "b9ca18d7-b99d-4260-af6f-767bcf9f4ae0"
   },
   "source": [
    "---"
   ]
  },
  {
   "cell_type": "markdown",
   "id": "80dadf18-3fda-451b-a684-58510245cfb8",
   "metadata": {
    "id": "80dadf18-3fda-451b-a684-58510245cfb8",
    "tags": []
   },
   "source": [
    "## Restart the Kernel"
   ]
  },
  {
   "cell_type": "markdown",
   "id": "049cf48a-82c8-4010-a863-01dad76b8187",
   "metadata": {
    "id": "049cf48a-82c8-4010-a863-01dad76b8187"
   },
   "source": [
    "In order to free up GPU memory for other notebooks, please run the following cell to restart the kernel."
   ]
  },
  {
   "cell_type": "code",
   "execution_count": 42,
   "id": "8e333754-31d1-4d45-8c8f-a8db78466599",
   "metadata": {
    "id": "8e333754-31d1-4d45-8c8f-a8db78466599",
    "tags": []
   },
   "outputs": [
    {
     "data": {
      "text/plain": [
       "{'status': 'ok', 'restart': True}"
      ]
     },
     "execution_count": 42,
     "metadata": {},
     "output_type": "execute_result"
    }
   ],
   "source": [
    "from IPython import get_ipython\n",
    "\n",
    "get_ipython().kernel.do_shutdown(restart=True)"
   ]
  },
  {
   "cell_type": "markdown",
   "id": "61190ba8",
   "metadata": {},
   "source": [
    "## <FONT COLOR=\"red\">The notebook is licensed under the Creative [Commons Attribution-NonCommercial-ShareAlike 4.0 International License (CC BY-NC-SA 4.0)](https://creativecommons.org/). This means that you can freely copy, distribute, and modify the notebook by authors ([Balázs Harangi](https://inf.unideb.hu/dr-harangi-balazs), [András Hajdu](https://inf.unideb.hu/munkatars/4250), and [Róbert Lakatos](https://inf.unideb.hu/lakatos-robert-tanarseged)), but not for commercial purposes. Additionally, if you modify the notebook, you must cite them as the original creators and share the modified version under the same terms.\n",
    "</FONT>"
   ]
  }
 ],
 "metadata": {
  "colab": {
   "provenance": [
    {
     "file_id": "14PqyQjkSSI3nTVKMc_djmnGRMX_ItCUG",
     "timestamp": 1716734887737
    }
   ]
  },
  "kernelspec": {
   "display_name": "Python [conda env:admin]",
   "language": "python",
   "name": "conda-env-admin-py"
  },
  "language_info": {
   "codemirror_mode": {
    "name": "ipython",
    "version": 3
   },
   "file_extension": ".py",
   "mimetype": "text/x-python",
   "name": "python",
   "nbconvert_exporter": "python",
   "pygments_lexer": "ipython3",
   "version": "3.10.13"
  }
 },
 "nbformat": 4,
 "nbformat_minor": 5
}
