{
  "cells": [
    {
      "cell_type": "markdown",
      "metadata": {
        "id": "weihsmlsdDvo"
      },
      "source": [
        "# Review creating with generative LLM"
      ]
    },
    {
      "cell_type": "code",
      "execution_count": null,
      "metadata": {
        "id": "Aba1GBvVdDvp"
      },
      "outputs": [],
      "source": [
        "!pip install --upgrade --quiet arxiv\n",
        "!pip install --upgrade --quiet pymupdf\n",
        "!pip install --upgrade --quiet langchain-community\n",
        "!pip install --upgrade --quiet accelerate"
      ]
    },
    {
      "cell_type": "code",
      "execution_count": null,
      "metadata": {
        "id": "Nitcd_WzdDvq"
      },
      "outputs": [],
      "source": [
        "from tqdm import tqdm\n",
        "from langchain.document_loaders import ArxivLoader\n",
        "from sentence_transformers import SentenceTransformer"
      ]
    },
    {
      "cell_type": "code",
      "execution_count": null,
      "metadata": {
        "id": "9XbHJQbddDvr"
      },
      "outputs": [],
      "source": [
        "documents = ArxivLoader(query=\"Llamaindex\", load_max_docs=10).load()"
      ]
    },
    {
      "cell_type": "code",
      "execution_count": null,
      "metadata": {
        "id": "RgZTA0wmdDvs"
      },
      "outputs": [],
      "source": [
        "# Write to file\n",
        "with open(\"doc_contents.txt\", \"w\") as f:\n",
        "  for doc in documents:\n",
        "    f.write(f\"Title: {doc.metadata['Title']}\\n\")\n",
        "    f.write(f\"Summary: {doc.metadata['Summary']}\\n\")\n",
        "    f.write(\"-\" * 20)\n",
        "    f.write(\"\\n\")\n",
        "\n",
        "    print(f\"Title: {doc.metadata['Title']}\")  # Added 'title' to 'Published'\n",
        "    print(f\"Summary: {doc.metadata['Summary']}\") # Added 'abstract' to 'Abstract'\n",
        "    # print(f\"Content: {doc.page_content}\")  # Added page content\n",
        "    print(\"-\" * 20)"
      ]
    }
  ],
  "metadata": {
    "kernelspec": {
      "display_name": "NLP",
      "language": "python",
      "name": "python3"
    },
    "language_info": {
      "name": "python",
      "version": "3.11.4"
    },
    "colab": {
      "provenance": []
    }
  },
  "nbformat": 4,
  "nbformat_minor": 0
}