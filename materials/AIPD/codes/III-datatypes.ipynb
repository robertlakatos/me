{
  "cells": [
    {
      "cell_type": "markdown",
      "metadata": {
        "id": "YAVMw0ga-QEn"
      },
      "source": [
        "# Data Types"
      ]
    },
    {
      "cell_type": "markdown",
      "metadata": {
        "id": "GJeTsyqx-oHq"
      },
      "source": [
        "##  Structured data"
      ]
    },
    {
      "cell_type": "markdown",
      "metadata": {
        "id": "Ilsh6JLR-ebl"
      },
      "source": [
        "\n",
        "\n",
        "### Tabular data\n",
        "\n",
        "Data stored in databases, tables, with well-defined rows and columns, such as relational databases (SQL).\n",
        "\n"
      ]
    },
    {
      "cell_type": "code",
      "execution_count": null,
      "metadata": {
        "id": "k4LRxvbD_8_a"
      },
      "outputs": [],
      "source": [
        "# Install necessary libraries\n",
        "!pip install pandas eurostat pyjstat"
      ]
    },
    {
      "cell_type": "code",
      "execution_count": null,
      "metadata": {
        "id": "IJOg50fO-dyt"
      },
      "outputs": [],
      "source": [
        "import pandas as pd\n",
        "import eurostat\n",
        "import pyjstat\n",
        "\n",
        "# Download data from Eurostat\n",
        "# Example: Get GDP per capita for EU countries\n",
        "data_eurostat = eurostat.get_data_df('nama_10_gdp')\n",
        "data_eurostat.head()"
      ]
    },
    {
      "cell_type": "markdown",
      "metadata": {
        "id": "PePaBOWO_C9g"
      },
      "source": [
        "\n",
        "\n",
        "### Time series data\n",
        "\n",
        "Measurement results stored in a structured form, where the values ​​assigned to different times are present (e.g. stock prices, changes in sensor data over time)."
      ]
    },
    {
      "cell_type": "code",
      "execution_count": null,
      "metadata": {
        "id": "T_oUfpz3_E4m"
      },
      "outputs": [],
      "source": [
        "import yfinance as yf\n",
        "\n",
        "# Download NVIDIA stock data\n",
        "nvidia = yf.download('NVDA', start='2023-01-01', end='2023-10-26')\n",
        "\n",
        "# Print the downloaded data\n",
        "nvidia"
      ]
    },
    {
      "cell_type": "code",
      "execution_count": null,
      "metadata": {
        "id": "y_yPS01kAfJi"
      },
      "outputs": [],
      "source": [
        "nvidia.info()"
      ]
    },
    {
      "cell_type": "code",
      "execution_count": null,
      "metadata": {
        "id": "Uevc_-_lAY8_"
      },
      "outputs": [],
      "source": [
        "nvidia.describe()"
      ]
    },
    {
      "cell_type": "code",
      "execution_count": null,
      "metadata": {
        "id": "kyCy9lYdAlQ-"
      },
      "outputs": [],
      "source": [
        "nvidia.to_csv(\"nvidia.csv\")"
      ]
    },
    {
      "cell_type": "markdown",
      "metadata": {
        "id": "VfcvN43Y-s1q"
      },
      "source": [
        "### Network data (Graph data)\n",
        "\n",
        "Networks of connections, such as social media networks or route networks. Although in some cases it can be considered semi-structured, they often have a well-defined structure."
      ]
    },
    {
      "cell_type": "code",
      "execution_count": null,
      "metadata": {
        "id": "freF4nYhA7aA"
      },
      "outputs": [],
      "source": [
        "!pip install networkx matplotlib"
      ]
    },
    {
      "cell_type": "code",
      "execution_count": null,
      "metadata": {
        "id": "jy8VVYTY_GHQ"
      },
      "outputs": [],
      "source": [
        "import networkx as nx\n",
        "import matplotlib.pyplot as plt\n",
        "\n",
        "# Create a sample graph\n",
        "graph = nx.karate_club_graph()\n",
        "\n",
        "# Visualize the graph\n",
        "plt.figure(figsize=(8, 6))\n",
        "nx.draw(graph, with_labels=True, node_color='skyblue', node_size=500, edge_color='gray')\n",
        "plt.title(\"Karate Club Graph\")\n",
        "plt.show()"
      ]
    },
    {
      "cell_type": "markdown",
      "metadata": {
        "id": "G1hh8XayB_Jq"
      },
      "source": [
        "## Semi-structured data\n",
        "\n"
      ]
    },
    {
      "cell_type": "markdown",
      "metadata": {
        "id": "ilCdAi3GnHNV"
      },
      "source": [
        "### Document-based data\n",
        "\n",
        "Data in XML, JSON format, which are structured at a certain level, but not in a rigid tabular format."
      ]
    },
    {
      "cell_type": "code",
      "execution_count": null,
      "metadata": {
        "id": "1WFSVz5unb1A"
      },
      "outputs": [],
      "source": [
        "import json\n",
        "\n",
        "# Sample JSON data as a string\n",
        "json_data = \"\"\"\n",
        "{\n",
        "  \"name\": \"John Doe\",\n",
        "  \"age\": 30,\n",
        "  \"city\": \"New York\"\n",
        "}\n",
        "\"\"\"\n",
        "\n",
        "# Parse the JSON data into a Python dictionary\n",
        "data = json.loads(json_data)\n",
        "\n",
        "# Access data elements using keys\n",
        "print(data[\"name\"])  # Output: John Doe\n",
        "print(data[\"age\"])   # Output: 30\n",
        "\n",
        "# Modify the dictionary\n",
        "data[\"age\"] = 31\n",
        "\n",
        "# Convert the Python dictionary back to JSON format\n",
        "new_json_data = json.dumps(data)\n",
        "\n",
        "# Print the updated JSON data\n",
        "print(new_json_data)"
      ]
    },
    {
      "cell_type": "code",
      "execution_count": null,
      "metadata": {
        "id": "WpdKvg4jnRhO"
      },
      "outputs": [],
      "source": [
        "# Working with XML\n",
        "\n",
        "import xml.etree.ElementTree as ET\n",
        "\n",
        "# Sample XML data\n",
        "xml_data = \"\"\"\n",
        "<person>\n",
        "  <name>Jane Doe</name>\n",
        "  <age>25</age>\n",
        "  <city>London</city>\n",
        "</person>\n",
        "\"\"\"\n",
        "\n",
        "# Parse XML data\n",
        "root = ET.fromstring(xml_data)\n",
        "\n",
        "# Access data\n",
        "name = root.find(\"name\").text\n",
        "age = root.find(\"age\").text\n",
        "print(name)  # Output: Jane Doe\n",
        "print(age)   # Output: 25"
      ]
    },
    {
      "cell_type": "markdown",
      "metadata": {
        "id": "q3WJjeaGnvoe"
      },
      "source": [
        "### Spatial (geospatial) data\n",
        "\n",
        "GPS coordinates, map data. These are usually stored in a semi-structured format (e.g. GeoJSON, KML)."
      ]
    },
    {
      "cell_type": "code",
      "execution_count": null,
      "metadata": {
        "id": "9bJBF6AHoa7W"
      },
      "outputs": [],
      "source": [
        "!pip install geopandas"
      ]
    },
    {
      "cell_type": "code",
      "execution_count": null,
      "metadata": {
        "id": "HqCYiOrjnvT-"
      },
      "outputs": [],
      "source": [
        "# https://www.naturalearthdata.com/\n",
        "\n",
        "import pandas as pd\n",
        "\n",
        "\n",
        "import geopandas as gpd\n",
        "import requests\n",
        "\n",
        "# Download GeoJSON data from a public source (e.g., Natural Earth)\n",
        "url = \"https://d2ad6b4ur7yvpq.cloudfront.net/naturalearth-3.3.0/ne_110m_admin_0_countries.geojson\"\n",
        "response = requests.get(url)\n",
        "geojson_data = response.json()\n",
        "\n",
        "# Load the GeoJSON data into a GeoDataFrame\n",
        "gdf = gpd.GeoDataFrame.from_features(geojson_data['features'])\n",
        "\n",
        "# Print the first few rows of the GeoDataFrame\n",
        "gdf.head()"
      ]
    },
    {
      "cell_type": "code",
      "execution_count": null,
      "metadata": {
        "id": "C22DfE3nojOv"
      },
      "outputs": [],
      "source": [
        "# Plot the GeoDataFrame\n",
        "gdf.plot()"
      ]
    },
    {
      "cell_type": "markdown",
      "metadata": {
        "id": "KXDBmlZCn3T-"
      },
      "source": [
        "\n",
        "### Sensor data\n",
        "\n",
        "Although structured to some extent, it is often present in semi-structured form, especially when different types of sensors send different data or when different formats (e.g. CSV or JSON) are used."
      ]
    },
    {
      "cell_type": "code",
      "execution_count": null,
      "metadata": {
        "id": "0JUd1LcGn7CW"
      },
      "outputs": [],
      "source": [
        "# prompt: Generate me a simple code which show how can I manage the sensor data in python\n",
        "\n",
        "# Sample sensor data (replace with your actual data)\n",
        "sensor_data = [\n",
        "    {\"timestamp\": \"2023-10-27 10:00:00\", \"temperature\": 25.5, \"humidity\": 60.2},\n",
        "    {\"timestamp\": \"2023-10-27 10:01:00\", \"temperature\": 25.7, \"humidity\": 60.5},\n",
        "    {\"timestamp\": \"2023-10-27 10:02:00\", \"temperature\": 25.9, \"humidity\": 60.8},\n",
        "]\n",
        "\n",
        "# Convert the list of dictionaries to a Pandas DataFrame for easier manipulation\n",
        "import pandas as pd\n",
        "df = pd.DataFrame(sensor_data)\n",
        "\n",
        "# Print the DataFrame\n",
        "print(df)\n",
        "\n",
        "# You can now perform various operations on the DataFrame, such as:\n",
        "\n",
        "# 1. Calculate the average temperature:\n",
        "average_temperature = df['temperature'].mean()\n",
        "print(f\"Average temperature: {average_temperature}\")\n",
        "\n",
        "# 2. Filter data based on specific conditions:\n",
        "high_humidity_data = df[df['humidity'] > 60.5]\n",
        "print(\"Data with high humidity:\")\n",
        "print(high_humidity_data)\n",
        "\n",
        "# 3. Plot the temperature over time:\n",
        "import matplotlib.pyplot as plt\n",
        "plt.plot(df['timestamp'], df['temperature'])\n",
        "plt.xlabel('Timestamp')\n",
        "plt.ylabel('Temperature')\n",
        "plt.title('Temperature over Time')\n",
        "plt.show()\n",
        "\n",
        "# 4. Export the data to a CSV file:\n",
        "df.to_csv('sensor_data.csv', index=False)"
      ]
    },
    {
      "cell_type": "markdown",
      "metadata": {
        "id": "iJZbNTeK-jmK"
      },
      "source": [
        "\n",
        "\n",
        "## Unstructured data\n",
        "\n",
        "- Audio data: Voice recordings, music, sound effects, which usually do not contain a structure (e.g. MP3, WAV).\n",
        "- Video data: Movies, moving image content (e.g. MP4, AVI), where the structure is minimal."
      ]
    },
    {
      "cell_type": "markdown",
      "metadata": {
        "id": "6lz6DBv-qr9G"
      },
      "source": [
        "### Image data\n",
        "\n",
        "Photos, images (e.g. JPG, PNG), which are usually stored in an unstructured form."
      ]
    },
    {
      "cell_type": "code",
      "execution_count": null,
      "metadata": {
        "id": "WYOzWz3eqUNX"
      },
      "outputs": [],
      "source": [
        "# prompt: Generate me a simple code wich show me how can i work with image in python\n",
        "\n",
        "from PIL import Image\n",
        "import requests\n",
        "from io import BytesIO\n",
        "\n",
        "# Download an image from a URL\n",
        "image_url = \"https://www.easygifanimator.net/images/samples/video-to-gif-sample.gif\"  # Replace with your image URL\n",
        "response = requests.get(image_url)\n",
        "img = Image.open(BytesIO(response.content))\n",
        "\n",
        "# Display the image\n",
        "img.show()\n",
        "\n",
        "# Resize the image\n",
        "new_width = 200\n",
        "new_height = 150\n",
        "resized_img = img.resize((new_width, new_height))\n",
        "resized_img.show()\n",
        "\n",
        "# Convert to grayscale\n",
        "grayscale_img = img.convert(\"L\")\n",
        "\n",
        "# Save the image\n",
        "resized_img.save(\"resized_image.jpg\")  # Save as JPG, PNG, etc."
      ]
    },
    {
      "cell_type": "markdown",
      "metadata": {
        "id": "WbCIWfCrvmm3"
      },
      "source": [
        "### Video data\n",
        "\n",
        "Movies, moving image content (e.g. MP4, AVI), where the structure is minimal."
      ]
    },
    {
      "cell_type": "code",
      "execution_count": null,
      "metadata": {
        "id": "jcKLYhN7s7Om"
      },
      "outputs": [],
      "source": [
        "!pip install -U yt-dlp"
      ]
    },
    {
      "cell_type": "code",
      "execution_count": null,
      "metadata": {
        "id": "oQiBp8KCvGuw"
      },
      "outputs": [],
      "source": [
        "!yt-dlp -f \"bestvideo[height<=1080][ext=mp4]+bestaudio[ext=m4a]/best[ext=mp4]/best\" \"https://www.youtube.com/watch?v=dQw4w9WgXcQ\""
      ]
    },
    {
      "cell_type": "code",
      "execution_count": null,
      "metadata": {
        "id": "8M82BpSwwWcT"
      },
      "outputs": [],
      "source": [
        "!pip install moviepy"
      ]
    },
    {
      "cell_type": "code",
      "execution_count": null,
      "metadata": {
        "id": "7q0SfyLQv_7I"
      },
      "outputs": [],
      "source": [
        "from moviepy.editor import *\n",
        "\n",
        "def extract_audio(video_file, audio_file):\n",
        "  \"\"\"\n",
        "  Extracts the audio from an MP4 video file.\n",
        "\n",
        "  Args:\n",
        "    video_file: Path to the input MP4 video file.\n",
        "    audio_file: Path to save the extracted audio file (e.g., 'output.mp3').\n",
        "  \"\"\"\n",
        "  try:\n",
        "    video = VideoFileClip(video_file)\n",
        "    audio = video.audio\n",
        "    audio.write_audiofile(audio_file)\n",
        "    print(f\"Audio extracted successfully to {audio_file}\")\n",
        "  except Exception as e:\n",
        "    print(f\"Error extracting audio: {e}\")\n",
        "\n",
        "\n",
        "# Example usage:\n",
        "video_path = \"Never Gonna Give You Up.mp4\"  # Replace with the path to your MP4 video file\n",
        "audio_path = \"Never Gonna Give You Up.mp3\"  # Replace with the desired output audio file path\n",
        "\n",
        "extract_audio(video_path, audio_path)"
      ]
    },
    {
      "cell_type": "code",
      "execution_count": null,
      "metadata": {
        "id": "3Nta3ll4wmbp"
      },
      "outputs": [],
      "source": [
        "import cv2\n",
        "from tqdm import tqdm\n",
        "\n",
        "resolution=24\n",
        "output_folder = \"Images\"\n",
        "vidcap = cv2.VideoCapture(\"Never Gonna Give You Up.mp4\")\n",
        "success, image = vidcap.read()\n",
        "\n",
        "count = 0\n",
        "for i in tqdm(range(0,240)):\n",
        "    if count % resolution == 0:\n",
        "        cv2.imwrite(output_folder + \"/frame%d.jpg\" % count, image)\n",
        "        success,image = vidcap.read()\n",
        "    else:\n",
        "        success,image = vidcap.read()\n",
        "    count += 1"
      ]
    },
    {
      "cell_type": "markdown",
      "metadata": {
        "id": "BjOfUQqNqQxH"
      },
      "source": [
        "### Text data\n",
        "\n",
        "Content of articles, e-mails, chat messages, web pages. These are often completely unstructured and do not have a well-defined format."
      ]
    },
    {
      "cell_type": "code",
      "execution_count": null,
      "metadata": {
        "id": "5wnlRbsyyD8x"
      },
      "outputs": [],
      "source": [
        "!pip install datasets"
      ]
    },
    {
      "cell_type": "code",
      "execution_count": null,
      "metadata": {
        "id": "BxXufDwgqCQA"
      },
      "outputs": [],
      "source": [
        "# https://huggingface.co/\n",
        "\n",
        "from datasets import load_dataset\n",
        "\n",
        "ds = load_dataset(\"sileod/movie_recommendation\")\n",
        "ds"
      ]
    },
    {
      "cell_type": "code",
      "execution_count": null,
      "metadata": {
        "id": "QoCFhSKAyaDg"
      },
      "outputs": [],
      "source": [
        "import pandas as pd\n",
        "\n",
        "# Convert the dataset to a Pandas DataFrame\n",
        "df = pd.DataFrame(ds['test'])\n",
        "\n",
        "# Now 'df' is a Pandas DataFrame containing the data from the 'train' split of your dataset\n",
        "df.head()"
      ]
    },
    {
      "cell_type": "code",
      "execution_count": null,
      "metadata": {
        "id": "bIc6PyhuDDx1"
      },
      "outputs": [],
      "source": [
        "!pip install arxiv pymupdf langchain_openai langchain_experimental langchain-community"
      ]
    },
    {
      "cell_type": "code",
      "execution_count": null,
      "metadata": {
        "id": "x_pPCXiyDMkh"
      },
      "outputs": [],
      "source": [
        "from langchain.document_loaders import ArxivLoader\n",
        "\n",
        "documents = ArxivLoader(query=\"Business Stock prices Machine Learning Deep Learning\", load_max_docs=10).load()\n",
        "\n",
        "for doc in documents:\n",
        "  print(f\"Title: {doc.metadata['Title']}\")  # Changed 'title' to 'Published'\n",
        "  print(f\"Summary: {doc.metadata['Summary']}\") # Changed 'abstract' to 'Abstract'\n",
        "  print(\"-\" * 20)"
      ]
    }
  ],
  "metadata": {
    "colab": {
      "provenance": []
    },
    "kernelspec": {
      "display_name": "Python 3",
      "name": "python3"
    },
    "language_info": {
      "name": "python"
    }
  },
  "nbformat": 4,
  "nbformat_minor": 0
}
