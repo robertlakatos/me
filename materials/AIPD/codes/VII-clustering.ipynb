{
  "cells": [
    {
      "cell_type": "markdown",
      "metadata": {
        "id": "C-uiOwaFAVrU"
      },
      "source": [
        "# Clustering"
      ]
    },
    {
      "cell_type": "markdown",
      "metadata": {
        "id": "x80PZQjqAVrY"
      },
      "source": [
        "## [Data - Mall Customers](https://www.kaggle.com/datasets/vjchoudhary7/customer-segmentation-tutorial-in-python)"
      ]
    },
    {
      "cell_type": "code",
      "execution_count": null,
      "metadata": {
        "id": "krvGBuUxBNAl"
      },
      "outputs": [],
      "source": [
        "# URL: https://www.kaggle.com/api/v1/datasets/download/vjchoudhary7/customer-segmentation-tutorial-in-python?dataset_version_number=1\n",
        "\n",
        "import requests\n",
        "import zipfile\n",
        "import io\n",
        "\n",
        "def download_and_extract_zip(url, extract_to='.'):\n",
        "  \"\"\"Downloads a zip file from a URL and extracts it to a specified directory.\n",
        "\n",
        "  Args:\n",
        "    url: The URL of the zip file.\n",
        "    extract_to: The directory to extract the zip file to. Defaults to the current directory.\n",
        "  \"\"\"\n",
        "  try:\n",
        "    response = requests.get(url, stream=True)\n",
        "    response.raise_for_status()  # Raise an exception for bad status codes\n",
        "\n",
        "    with zipfile.ZipFile(io.BytesIO(response.content)) as zip_ref:\n",
        "      zip_ref.extractall(extract_to)\n",
        "    print(f\"Zip file downloaded and extracted to '{extract_to}' successfully.\")\n",
        "\n",
        "  except requests.exceptions.RequestException as e:\n",
        "    print(f\"Error downloading the file: {e}\")\n",
        "  except zipfile.BadZipFile as e:\n",
        "    print(f\"Error extracting the zip file: {e}\")\n",
        "\n",
        "# Example usage:\n",
        "url = \"https://www.kaggle.com/api/v1/datasets/download/vjchoudhary7/customer-segmentation-tutorial-in-python?dataset_version_number=1\"\n",
        "download_and_extract_zip(url)"
      ]
    },
    {
      "cell_type": "code",
      "execution_count": null,
      "metadata": {
        "id": "BFcUyW3eBYPu"
      },
      "outputs": [],
      "source": [
        "import pandas as pd\n",
        "\n",
        "df_mall_customers = pd.read_csv(\"Mall_Customers.csv\")\n",
        "df_mall_customers.head()"
      ]
    },
    {
      "cell_type": "markdown",
      "metadata": {
        "id": "6BaMRh51JeIl"
      },
      "source": [
        "## Distance\n",
        "\n",
        "<img src=\"https://weaviate.io/assets/images/hero-183a22407b0eaf83e53d574aee0a049a.png\">"
      ]
    },
    {
      "cell_type": "markdown",
      "metadata": {
        "id": "kKIEv0WIAVrc"
      },
      "source": [
        "## [K-Means](https://www.youtube.com/watch?v=5I3Ei69I40s)\n",
        "\n",
        "1. Choose the number of clusters (K):\n",
        "    - Decide how many clusters you want to form (K). This number must be defined before running the algorithm.\n",
        "2. Initialize the centroids:\n",
        "    - Randomly select K data points from the dataset as the initial centroids (cluster centers). These centroids represent the center of each cluster.\n",
        "3. Assign each data point to the nearest centroid:\n",
        "    - For each data point in the dataset, calculate the distance between the point and each of the K centroids (using a distance metric such as Euclidean distance).\n",
        "    - Assign each data point to the cluster with the closest centroid.\n",
        "4. Recalculate the centroids: Once all the data points are assigned to clusters, recalculate the centroids. The new centroid of a cluster is the mean (average) of all the points in that cluster.\n",
        "5. Repeat steps 3 and 4:\n",
        "    - Reassign all the data points to the nearest centroids (based on the new centroids from Step 4).\n",
        "    - Recalculate the centroids again based on the updated clusters.\n",
        "    - This iterative process continues until the centroids no longer change significantly or a maximum number of iterations is reached.\n",
        "6. Convergence:\n",
        "    - The algorithm stops when the centroids stabilize (i.e., when they don't move anymore between iterations) or after a predefined number of iterations.\n",
        "    - At this point, the data points are divided into K clusters, with each point assigned to the nearest centroid."
      ]
    },
    {
      "cell_type": "code",
      "execution_count": null,
      "metadata": {
        "id": "_Sa68nxcBwkN"
      },
      "outputs": [],
      "source": []
    },
    {
      "cell_type": "markdown",
      "metadata": {
        "id": "mIxNSHY1AVre"
      },
      "source": [
        "## K-elbow - How many cluster do we need?\n",
        "\n",
        "<img src=\"https://miro.medium.com/v2/resize:fit:670/0*aY163H0kOrBO46S-.png\">"
      ]
    },
    {
      "cell_type": "code",
      "execution_count": null,
      "metadata": {
        "id": "b1SUASrKBu40"
      },
      "outputs": [],
      "source": []
    },
    {
      "cell_type": "markdown",
      "metadata": {
        "id": "tk5mYR4FB2vF"
      },
      "source": [
        "## Prediction"
      ]
    },
    {
      "cell_type": "code",
      "execution_count": null,
      "metadata": {
        "id": "scT2JKCHB4pt"
      },
      "outputs": [],
      "source": []
    },
    {
      "cell_type": "markdown",
      "metadata": {
        "id": "Pfr3Y6hmHD5G"
      },
      "source": [
        "## [Hierarchical clustering](https://www.youtube.com/shorts/W9j5pAIYbQQ)\n",
        "\n",
        "### [Agglomerative Clustering](https://scikit-learn.org/dev/modules/generated/sklearn.cluster.AgglomerativeClustering.html)"
      ]
    },
    {
      "cell_type": "code",
      "execution_count": null,
      "metadata": {
        "id": "hlqMrZE8HFjt"
      },
      "outputs": [],
      "source": []
    },
    {
      "cell_type": "markdown",
      "metadata": {
        "id": "AWYU2ULKJzRO"
      },
      "source": [
        "## [DBSCAN](https://www.youtube.com/watch?v=_A9Tq6mGtLI)\n",
        "\n",
        "### Setting parameters: The algorithm uses two main parameters:\n",
        "\n",
        " - **Epsilon (ε):** This is the maximum distance within which a point can have neighbors. The neighbors of a point are the points that are located within this distance.\n",
        " - **MinPts:** The minimum number of neighbors required to consider a point as a dense center.\n",
        "\n",
        "### Categorization of points: The algorithm distinguishes three types of points:\n",
        "\n",
        " - **Core points:** Points that have at least MinPts neighbors in their ε-radius environment.\n",
        " - **Boundary points:** Points that have less than MinPts neighbors, but are located within the ε-radius region of a core point.\n",
        " - **Noise points:** Points that are neither core points nor boundary points and are not close enough to any core point."
      ]
    },
    {
      "cell_type": "code",
      "execution_count": null,
      "metadata": {
        "id": "BBHETWdlJa9W"
      },
      "outputs": [],
      "source": []
    }
  ],
  "metadata": {
    "colab": {
      "provenance": []
    },
    "kernelspec": {
      "display_name": "NLP",
      "language": "python",
      "name": "python3"
    },
    "language_info": {
      "name": "python",
      "version": "3.11.4"
    }
  },
  "nbformat": 4,
  "nbformat_minor": 0
}
