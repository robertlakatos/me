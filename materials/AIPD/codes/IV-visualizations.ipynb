{
  "nbformat": 4,
  "nbformat_minor": 0,
  "metadata": {
    "colab": {
      "provenance": []
    },
    "kernelspec": {
      "name": "python3",
      "display_name": "Python 3"
    },
    "language_info": {
      "name": "python"
    }
  },
  "cells": [
    {
      "cell_type": "markdown",
      "source": [
        "# Visualizations"
      ],
      "metadata": {
        "id": "qNncthvYkwRL"
      }
    },
    {
      "cell_type": "markdown",
      "source": [
        "## Understanding and preparing data"
      ],
      "metadata": {
        "id": "wv4YYSCokhLe"
      }
    },
    {
      "cell_type": "code",
      "source": [
        "# Import required libraries\n",
        "import pandas as pd\n",
        "import seaborn as sns\n",
        "import matplotlib.pyplot as plt\n",
        "\n",
        "# Load dataset (titanic dataset from seaborn)\n",
        "df = sns.load_dataset('titanic')\n",
        "\n",
        "# View the first 10 rows of the DataFrame\n",
        "df.head()"
      ],
      "metadata": {
        "id": "KR1_HG9Pk4pS"
      },
      "execution_count": null,
      "outputs": []
    },
    {
      "cell_type": "code",
      "source": [
        "# Basic statistics to understand the data\n",
        "df.describe()"
      ],
      "metadata": {
        "id": "9iQ4QBrjlhmt"
      },
      "execution_count": null,
      "outputs": []
    },
    {
      "cell_type": "code",
      "source": [
        "# Detect missing data - Use Heatmap\n",
        "plt.figure(figsize=(10, 6))\n",
        "sns.heatmap(df.isnull(), cbar=False, cmap='viridis')\n",
        "plt.title('Hiányzó adatok vizualizációja (heatmap)')\n",
        "plt.show()"
      ],
      "metadata": {
        "id": "4eAAJT2flZt2"
      },
      "execution_count": null,
      "outputs": []
    },
    {
      "cell_type": "code",
      "source": [
        "# Visualization to discover patterns and trends - Age vs Survival\n",
        "plt.figure(figsize=(10, 6))\n",
        "sns.histplot(data=df, x='age', hue='survived', multiple='stack', kde=True)\n",
        "plt.title('Kor szerinti túlélés (Histplot)')\n",
        "plt.xlabel('Kor')\n",
        "plt.ylabel('Előfordulás')\n",
        "plt.show()"
      ],
      "metadata": {
        "id": "Kux1N5wQlq_b"
      },
      "execution_count": null,
      "outputs": []
    },
    {
      "cell_type": "code",
      "source": [
        "# Visualization to examine the relationship between gender and survival rate\n",
        "plt.figure(figsize=(8, 6))\n",
        "sns.countplot(data=df, x='sex', hue='survived')\n",
        "plt.title('Nemek szerinti túlélés (Countplot)')\n",
        "plt.xlabel('Nem')\n",
        "plt.ylabel('Előfordulás')\n",
        "plt.show()"
      ],
      "metadata": {
        "id": "I7VtyrPalraD"
      },
      "execution_count": null,
      "outputs": []
    },
    {
      "cell_type": "code",
      "execution_count": null,
      "metadata": {
        "id": "EYqDHs7ekVxO"
      },
      "outputs": [],
      "source": [
        "# Visualization to examine the relationship between fare and class\n",
        "plt.figure(figsize=(10, 6))\n",
        "sns.boxplot(data=df, x='class', y='fare', palette='Set3')\n",
        "plt.title('Viteldíjak osztály szerint (Boxplot)')\n",
        "plt.xlabel('Osztály')\n",
        "plt.ylabel('Viteldíj')\n",
        "plt.show()"
      ]
    },
    {
      "cell_type": "markdown",
      "source": [
        "## Evaluation of model performance"
      ],
      "metadata": {
        "id": "AQR7eKptpAmz"
      }
    },
    {
      "cell_type": "code",
      "source": [
        "# Import necessary libraries\n",
        "import numpy as np\n",
        "import pandas as pd\n",
        "import matplotlib.pyplot as plt\n",
        "import seaborn as sns\n",
        "from sklearn.datasets import load_iris\n",
        "from sklearn.model_selection import train_test_split\n",
        "from sklearn.metrics import confusion_matrix, roc_curve, auc, classification_report\n",
        "from sklearn.model_selection import learning_curve\n",
        "import tensorflow as tf\n",
        "from tensorflow.keras.models import Sequential\n",
        "from tensorflow.keras.layers import Dense\n",
        "from tensorflow.keras.optimizers import Adam"
      ],
      "metadata": {
        "id": "wUYZoBBzpBzp"
      },
      "execution_count": null,
      "outputs": []
    },
    {
      "cell_type": "code",
      "source": [
        "# Load the Iris dataset\n",
        "iris = load_iris()\n",
        "X = iris.data\n",
        "y = iris.target\n",
        "\n",
        "# For simplicity, we'll convert this into a binary classification problem (class 0 vs class 1)\n",
        "# Filter the data to only include class 0 and class 1 for binary classification\n",
        "X = X[y != 2]\n",
        "y = y[y != 2]"
      ],
      "metadata": {
        "id": "4SXPs0KlpSfv"
      },
      "execution_count": null,
      "outputs": []
    },
    {
      "cell_type": "code",
      "source": [
        "# Split the data into training and testing sets (80% training, 20% testing)\n",
        "X_train, X_test, y_train, y_test = train_test_split(X, y, test_size=0.2, random_state=42)\n",
        "\n",
        "# Normalize the data for better neural network performance\n",
        "X_train = X_train / np.max(X_train, axis=0)\n",
        "X_test = X_test / np.max(X_test, axis=0)"
      ],
      "metadata": {
        "id": "x8I-ZUiWtl4P"
      },
      "execution_count": null,
      "outputs": []
    },
    {
      "cell_type": "code",
      "source": [
        "# Build a simple neural network model in TensorFlow/Keras\n",
        "model = Sequential([\n",
        "    Dense(8, input_shape=(X_train.shape[1],), activation='relu'),  # First hidden layer\n",
        "    Dense(1, activation='sigmoid')  # Output layer with sigmoid activation for binary classification\n",
        "])\n",
        "\n",
        "# Compile the model\n",
        "model.compile(optimizer=Adam(learning_rate=0.01), loss='binary_crossentropy', metrics=['accuracy'])\n",
        "\n",
        "# Train the model\n",
        "history = model.fit(X_train, y_train, epochs=100, batch_size=8, validation_data=(X_test, y_test))"
      ],
      "metadata": {
        "id": "RwyqUDlHpTBn"
      },
      "execution_count": null,
      "outputs": []
    },
    {
      "cell_type": "code",
      "source": [
        "# Make predictions on the test set\n",
        "y_pred = (model.predict(X_test) > 0.5).astype(\"int32\")\n",
        "y_prob = model.predict(X_test).flatten()  # Probabilities for ROC curve"
      ],
      "metadata": {
        "id": "gymRQjifuDr4"
      },
      "execution_count": null,
      "outputs": []
    },
    {
      "cell_type": "code",
      "source": [
        "# 1. Confusion Matrix\n",
        "# Calculate confusion matrix\n",
        "conf_matrix = confusion_matrix(y_test, y_pred)\n",
        "\n",
        "# Plot the confusion matrix\n",
        "plt.figure(figsize=(6, 5))\n",
        "sns.heatmap(conf_matrix, annot=True, fmt='d', cmap='Blues', cbar=False)\n",
        "plt.title('Confusion Matrix')\n",
        "plt.xlabel('Predicted Label')\n",
        "plt.ylabel('True Label')\n",
        "plt.show()"
      ],
      "metadata": {
        "id": "Ioe9ejHDpzg9"
      },
      "execution_count": null,
      "outputs": []
    },
    {
      "cell_type": "code",
      "source": [
        "# 2. ROC Curve and AUC\n",
        "# Calculate ROC curve\n",
        "fpr, tpr, _ = roc_curve(y_test, y_prob)\n",
        "roc_auc = auc(fpr, tpr)\n",
        "\n",
        "# Plot ROC curve\n",
        "plt.figure(figsize=(6, 5))\n",
        "plt.plot(fpr, tpr, color='blue', lw=2, label=f'ROC curve (AUC = {roc_auc:.2f})')\n",
        "plt.plot([0, 1], [0, 1], color='grey', lw=2, linestyle='--')\n",
        "plt.xlim([0.0, 1.0])\n",
        "plt.ylim([0.0, 1.05])\n",
        "plt.xlabel('False Positive Rate')\n",
        "plt.ylabel('True Positive Rate')\n",
        "plt.title('Receiver Operating Characteristic (ROC)')\n",
        "plt.legend(loc='lower right')\n",
        "plt.show()"
      ],
      "metadata": {
        "id": "RdxltTGcuIyR"
      },
      "execution_count": null,
      "outputs": []
    },
    {
      "cell_type": "code",
      "source": [
        "# 3. Learning Curve\n",
        "# Manually simulate learning curve by recording the training/validation accuracy\n",
        "epochs = range(1, 101)  # 100 epochs\n",
        "train_acc = history.history['accuracy']\n",
        "val_acc = history.history['val_accuracy']\n",
        "\n",
        "# Plot learning curve\n",
        "plt.figure(figsize=(8, 6))\n",
        "plt.plot(epochs, train_acc, label='Training Accuracy', color='r')\n",
        "plt.plot(epochs, val_acc, label='Validation Accuracy', color='g')\n",
        "plt.title('Learning Curve')\n",
        "plt.xlabel('Epochs')\n",
        "plt.ylabel('Accuracy')\n",
        "plt.legend(loc='best')\n",
        "plt.grid(True)\n",
        "plt.show()"
      ],
      "metadata": {
        "id": "5IpvD-8MseAu"
      },
      "execution_count": null,
      "outputs": []
    },
    {
      "cell_type": "code",
      "source": [
        "# 4. Classification Report\n",
        "# Print a detailed classification report\n",
        "print(\"Classification Report:\")\n",
        "print(classification_report(y_test, y_pred))"
      ],
      "metadata": {
        "id": "ah43RAR4sim9"
      },
      "execution_count": null,
      "outputs": []
    },
    {
      "cell_type": "markdown",
      "source": [
        "## Detection of anomalies"
      ],
      "metadata": {
        "id": "jRi9aPUDyABb"
      }
    },
    {
      "cell_type": "code",
      "source": [
        "# Import necessary libraries\n",
        "import pandas as pd\n",
        "import seaborn as sns\n",
        "import matplotlib.pyplot as plt\n",
        "\n",
        "# Load the Titanic dataset from seaborn\n",
        "df = sns.load_dataset('titanic')\n",
        "\n",
        "# Display the first few rows of the dataset\n",
        "df.head()"
      ],
      "metadata": {
        "id": "MFONXgmtxRRJ"
      },
      "execution_count": null,
      "outputs": []
    },
    {
      "cell_type": "code",
      "source": [
        "# 1. Detecting Missing Data\n",
        "# Visualize missing data using a heatmap\n",
        "plt.figure(figsize=(10, 6))\n",
        "sns.heatmap(df.isnull(), cbar=False, cmap='viridis', yticklabels=False)\n",
        "plt.title('Missing Data Heatmap')\n",
        "plt.show()"
      ],
      "metadata": {
        "id": "lHguA6uDxZxy"
      },
      "execution_count": null,
      "outputs": []
    },
    {
      "cell_type": "code",
      "source": [
        "# 3. Anomaly Detection in Age Distribution\n",
        "# Plotting the distribution of 'age' to detect anomalies\n",
        "plt.figure(figsize=(10, 6))\n",
        "sns.histplot(df['age'].dropna(), bins=30, kde=True)\n",
        "plt.title('Age Distribution with Potential Outliers')\n",
        "plt.xlabel('Age')\n",
        "plt.ylabel('Count')\n",
        "plt.show()"
      ],
      "metadata": {
        "id": "9zXizCMfxemg"
      },
      "execution_count": null,
      "outputs": []
    },
    {
      "cell_type": "markdown",
      "source": [
        "## Decision support"
      ],
      "metadata": {
        "id": "oXgPEaRRyulV"
      }
    },
    {
      "cell_type": "code",
      "source": [
        "# How to work the weights?"
      ],
      "metadata": {
        "id": "KJC0PeS31JzZ"
      },
      "execution_count": null,
      "outputs": []
    }
  ]
}