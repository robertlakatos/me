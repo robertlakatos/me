{
 "cells": [
  {
   "cell_type": "markdown",
   "id": "f4709aa2",
   "metadata": {},
   "source": [
    "# Code Generation"
   ]
  },
  {
   "cell_type": "markdown",
   "id": "75f621ef",
   "metadata": {},
   "source": [
    "## Egyszerű feladatok"
   ]
  },
  {
   "cell_type": "markdown",
   "id": "ab4316a3",
   "metadata": {},
   "source": [
    "### Listában lévő páros számok összege | Sum of Even Numbers in a List:\n",
    "\n",
    "- Írj egy Python függvényt, amely egy listát kap bemenetül, és visszaadja a listában lévő páros számok összegét. /Write a Python function that takes a list as input and returns the sum of the even numbers in the list.\n",
    "- Validálás | Validation: Írj unit teszteket különböző listákkal (üres lista, csak páros/páratlan számok, vegyes lista). /Write unit tests with different lists (empty list, only even/odd numbers, mixed list)."
   ]
  },
  {
   "cell_type": "code",
   "execution_count": null,
   "id": "3bc54763",
   "metadata": {},
   "outputs": [],
   "source": [
    "# ToDo"
   ]
  },
  {
   "cell_type": "markdown",
   "id": "d3104d55",
   "metadata": {},
   "source": [
    "### Palindrom ellenőrzés | Palindrome Check:\n",
    "- Írj egy Python függvényt, amely egy sztringet kap bemenetül, és visszaadja, hogy a sztring palindrom-e (a kis- és nagybetűk, szóközök, írásjelek figyelmen kívül hagyásával). /Write a Python function that takes a string as input and returns whether the string is a palindrome (ignoring case, spaces, and punctuation).\n",
    "- Validálás | Validation: Írj unit teszteket különböző sztringekkel (palindrom, nem palindrom, üres sztring, írásjeleket tartalmazó sztring). / Write unit tests with various strings (palindrome, non-palindrome, empty string, string with punctuation)."
   ]
  },
  {
   "cell_type": "code",
   "execution_count": null,
   "id": "a9de212c",
   "metadata": {},
   "outputs": [],
   "source": [
    "# ToDo"
   ]
  },
  {
   "cell_type": "markdown",
   "id": "f94a42b7",
   "metadata": {},
   "source": [
    "### Prímszám generátor | Prime Number Generator:\n",
    "- Írj egy Python generátort, amely az első n prímszámot adja vissza. / Write a Python generator that yields the first n prime numbers.\n",
    "- Validálás | Validation: Írj unit teszteket kisebb n értékekre, ellenőrizve a generált sorozat helyességét. / Write unit tests for small values of n, checking the correctness of the generated sequence."
   ]
  },
  {
   "cell_type": "code",
   "execution_count": null,
   "id": "b37655bf",
   "metadata": {},
   "outputs": [],
   "source": [
    "# ToDo"
   ]
  },
  {
   "cell_type": "markdown",
   "id": "c9015e69",
   "metadata": {},
   "source": [
    "### Bináris keresés implementálása | Binary Search Implementation:\n",
    "- Írj egy Python függvényt, amely egy rendezett listában bináris kereséssel megkeres egy adott elemet. / Write a Python function that searches for a given element in a sorted list using binary search.\n",
    "- Validálás | Validation: Írj unit teszteket különböző rendezett listákkal, keresve meglévő és nem létező elemeket, valamint a lista elején/végén található elemeket. / Write unit tests with different sorted lists, searching for existing and non-existing elements, and elements at the beginning/end of the list."
   ]
  },
  {
   "cell_type": "code",
   "execution_count": null,
   "id": "38e18dc5",
   "metadata": {},
   "outputs": [],
   "source": [
    "# ToDo"
   ]
  },
  {
   "cell_type": "markdown",
   "id": "f2a3145c",
   "metadata": {},
   "source": [
    "### Egyszerű adatszerkezet osztály | Simple Data Structure Class:\n",
    "- Definiálj egy Python osztályt Diak néven, amely tárolja egy diák nevét és átlagát. Legyenek metódusok az adatok kezelésére (pl. beállítás, lekérdezés). / Define a Python class named Student that stores a student's name and GPA. Include methods for managing the data (e.g., setting, getting).\n",
    "- Validálás | Validation: Írj unit teszteket az osztály metódusainak helyes működésének ellenőrzésére. / Write unit tests to check the correct functioning of the class methods."
   ]
  },
  {
   "cell_type": "code",
   "execution_count": null,
   "id": "ed385dfc",
   "metadata": {},
   "outputs": [],
   "source": [
    "# ToDo"
   ]
  },
  {
   "cell_type": "markdown",
   "id": "ecc3ccf7",
   "metadata": {},
   "source": [
    "### Kis méretű szimuláció | Small-Scale Simulation:\n",
    "- Írj egy Python kódot, amely szimulál egy egyszerű véletlenszerű folyamatot, pl. egy pénzfeldobás sorozatot n dobással, és számolja meg a fejek és írások számát. / Write a Python code that simulates a simple random process, e.g., a series of n coin flips, and counts the number of heads and tails.\n",
    "- Validálás | Validation: Futtasd le a szimulációt különböző n értékekkel, és vizualizáld az eredmények eloszlását hisztogram formájában (pl. Matplotlib). / Run the simulation with different values of n, and visualize the distribution of results as a histogram (e.g., Matplotlib)."
   ]
  },
  {
   "cell_type": "code",
   "execution_count": null,
   "id": "74cde458",
   "metadata": {},
   "outputs": [],
   "source": [
    "# ToDo"
   ]
  },
  {
   "cell_type": "markdown",
   "id": "fa6155c7",
   "metadata": {},
   "source": [
    "## Adatmanipulációs feladatok (Pandas használatával) | Data Manipulation Tasks (using Pandas):"
   ]
  },
  {
   "cell_type": "markdown",
   "id": "aaa46f6e",
   "metadata": {},
   "source": [
    "### CSV fájl beolvasása és alapstatisztikák | Reading CSV File and Basic Statistics:\n",
    "- Írj egy Python kódot Pandas segítségével, amely beolvas egy megadott CSV fájlt (adj meg egy nyilvánosan elérhető URL-t vagy egy minta adatot a promptban), és kiírja az első 5 sorát, az oszlopok neveit, és a numerikus oszlopok alapstatisztikáit (átlag, medián, szórás stb.). / Write a Python code using Pandas that reads a specified CSV file (provide a publicly accessible URL or sample data in the prompt) and prints its first 5 rows, column names, and basic statistics for numerical columns (mean, median, standard deviation, etc.).\n",
    "- Validálás | Validation: Ellenőrizd manuálisan a kiírt adatokat és statisztikákat néhány ismert példával. / Manually check the printed data and statistics with some known examples."
   ]
  },
  {
   "cell_type": "code",
   "execution_count": null,
   "id": "bde75010",
   "metadata": {},
   "outputs": [],
   "source": [
    "# ToDo"
   ]
  },
  {
   "cell_type": "markdown",
   "id": "5bda2b23",
   "metadata": {},
   "source": [
    "### Adatok szűrése és rendezése | Filtering and Sorting Data:\n",
    "- Egy adott CSV fájl beolvasása után írj kódot, amely kiszűri azokat a sorokat, amelyek egy bizonyos feltételnek megfelelnek (pl. egy oszlop értéke nagyobb egy küszöbnél), majd rendezi az eredményt egy másik oszlop szerint. / After reading a given CSV file, write code that filters rows based on a specific condition (e.g., a column value is greater than a threshold) and then sorts the result by another column.\n",
    "- Validálás | Validation: Ellenőrizd a szűrés és rendezés eredményét az első/utolsó néhány sor vizualizálásával vagy kiírásával. / Verify the result of filtering and sorting by visualizing or printing the first/last few rows."
   ]
  },
  {
   "cell_type": "code",
   "execution_count": null,
   "id": "3c4e6c35",
   "metadata": {},
   "outputs": [],
   "source": [
    "# ToDo"
   ]
  },
  {
   "cell_type": "markdown",
   "id": "75084c82",
   "metadata": {},
   "source": [
    "### Új oszlop hozzáadása számítás alapján | Adding a New Column Based on Calculation:\n",
    "- Egy CSV fájl beolvasása után hozz létre egy új oszlopot, amely két másik oszlop értékéből származik (pl. két numerikus oszlop összege, vagy egy dátum oszlopból kinyert év). / After reading a CSV file, create a new column derived from the values of two other columns (e.g., sum of two numerical columns, or the year extracted from a date column).\n",
    "- Validálás | Validation: Ellenőrizd az új oszlop értékeit az első néhány sor kiírásával, és vizualizáld az új oszlop eloszlását hisztogrammal. / Check the values in the new column by printing the first few rows and visualize the distribution of the new column with a histogram."
   ]
  },
  {
   "cell_type": "code",
   "execution_count": null,
   "id": "260709a6",
   "metadata": {},
   "outputs": [],
   "source": [
    "# ToDo"
   ]
  },
  {
   "cell_type": "markdown",
   "id": "be675a3f",
   "metadata": {},
   "source": [
    "### Hiányzó értékek kezelése | Handling Missing Values:\n",
    "- Írj kódot, amely azonosítja a hiányzó értékeket egy Pandas DataFrame-ben, és kitölti őket egy megadott stratégiával (pl. átlaggal, mediánnal, vagy egy konstans értékkel). / Write code that identifies missing values in a Pandas DataFrame and fills them using a specified strategy (e.g., mean, median, or a constant value).\n",
    "- Validálás | Validation: Vizualizáld a hiányzó értékek eloszlását oszloponként (pl. hős térkép vagy bar plot) a kezelés előtt és után. / Visualize the distribution of missing values per column (e.g., heatmap or bar plot) before and after handling them."
   ]
  },
  {
   "cell_type": "code",
   "execution_count": null,
   "id": "c0134380",
   "metadata": {},
   "outputs": [],
   "source": [
    "# ToDo"
   ]
  },
  {
   "cell_type": "markdown",
   "id": "260eaf41",
   "metadata": {},
   "source": [
    "### Csoportosítás és aggregáció | Grouping and Aggregation:\n",
    "- Egy CSV fájl beolvasása után csoportosítsd az adatokat egy kategóriális oszlop szerint, és számítsd ki egy numerikus oszlop összegét vagy átlagát csoportonként. / After reading a CSV file, group the data by a categorical column and calculate the sum or mean of a numerical column for each group.\n",
    "- Validálás | Validation: Vizualizáld a csoportosított eredményeket bar plot vagy más megfelelő diagram formájában. / Visualize the grouped results in the form of a bar plot or other appropriate chart."
   ]
  },
  {
   "cell_type": "code",
   "execution_count": null,
   "id": "b0f420a3",
   "metadata": {},
   "outputs": [],
   "source": [
    "# ToDo"
   ]
  },
  {
   "cell_type": "markdown",
   "id": "9005752b",
   "metadata": {},
   "source": [
    "### Adatok mentése új CSV fájlba | Saving Data to a New CSV File:\n",
    "- Egy adatmanipulációs folyamat után mentsd el az eredményül kapott Pandas DataFrame-et egy új CSV fájlba a Colab környezetében. / After a data manipulation process, save the resulting Pandas DataFrame to a new CSV file in the Colab environment.\n",
    "- Validálás | Validation: Olvasd vissza az elmentett fájlt egy új cellában, és ellenőrizd az első néhány sorát. / Read the saved file back in a new cell and check its first few rows."
   ]
  },
  {
   "cell_type": "code",
   "execution_count": null,
   "id": "fc1a7c92",
   "metadata": {},
   "outputs": [],
   "source": [
    "# ToDo"
   ]
  },
  {
   "cell_type": "markdown",
   "id": "68cea3b7",
   "metadata": {},
   "source": [
    "## Gépi tanulási feladatok (PyTorch használatával) | Machine Learning Tasks (using PyTorch)"
   ]
  },
  {
   "cell_type": "markdown",
   "id": "0c703a3e",
   "metadata": {},
   "source": [
    "### Egyszerű lineáris regresszió PyTorch-ban | Simple Linear Regression in PyTorch:\n",
    "- Generálj kódot PyTorch segítségével, amely definiál egy egyszerű lineáris modellt. Generálj szintetikus adatokat (pl. y=ax+b+zaj formában), tanítsd be a modellt néhány epoch erejéig. / Generate code using PyTorch that defines a simple linear model. Generate synthetic data (e.g., in the form y=ax+b+noise), train the model for a few epochs.\n",
    "- Validálás | Validation: Vizualizáld az eredeti szintetikus adatokat és a betanított modell által becsült egyenest Matplotlib segítségével. / Visualize the original synthetic data and the line estimated by the trained model using Matplotlib."
   ]
  },
  {
   "cell_type": "code",
   "execution_count": null,
   "id": "13198cd3",
   "metadata": {},
   "outputs": [],
   "source": [
    "# ToDo"
   ]
  },
  {
   "cell_type": "markdown",
   "id": "260032d0",
   "metadata": {},
   "source": [
    "### Egyszerű neurális háló bináris osztályozásra | Simple Neural Network for Binary Classification:\n",
    "- Generálj kódot PyTorch segítségével, amely definiál egy kis méretű neurális hálót bináris osztályozási feladatra. Használj egy klasszikus demó adathalmazt, mint például az Írisz adathalmaz (csak két osztályt használj, pl. Setosa vs Versicolor). Töltsd be az adatokat, készítsd elő tenzorokká, definiáld a veszteségfüggvényt és az optimalizálót. Tanítsd be a hálót néhány epoch erejéig. / Generate code using PyTorch that defines a small neural network for a binary classification task. Use a classic demo dataset like the Iris dataset (use only two classes, e.g., Setosa vs Versicolor). Load the data, prepare it into tensors, define the loss function and optimizer. Train the network for a few epochs.\n",
    "- Validálás | Validation: Vizualizáld a veszteség csökkenését az epoch-ok során. Számítsd ki és írd ki a betanító adatokon elért pontosságot. / Visualize the loss reduction over epochs. Calculate and print the accuracy achieved on the training data."
   ]
  },
  {
   "cell_type": "code",
   "execution_count": null,
   "id": "9d0d6891",
   "metadata": {},
   "outputs": [],
   "source": [
    "# ToDo"
   ]
  },
  {
   "cell_type": "markdown",
   "id": "1406147b",
   "metadata": {},
   "source": [
    "### Konvolúciós neurális háló (CNN) képosztályozásra | Convolutional Neural Network (CNN) for Image Classification:\n",
    "- Generálj kódot PyTorch segítségével, amely definiál egy egyszerű konvolúciós neurális hálót képosztályozási feladatra. Használj egy klasszikus kis kép adathalmazt, mint az MNIST vagy a FashionMNIST (egy kisebb részhalmazát). Töltsd be az adatokat, definiáld a CNN architektúrát, a veszteségfüggvényt és az optimalizálót. Tanítsd be a hálót néhány epoch erejéig. / Generate code using PyTorch that defines a simple convolutional neural network for an image classification task. Use a classic small image dataset like MNIST or FashionMNIST (a smaller subset). Load the data, define the CNN architecture, loss function, and optimizer. Train the network for a few epochs.\n",
    "- Validálás | Validation: Vizualizáld a veszteség és a pontosság változását az epoch-ok során. Mutass be néhány példát a betanító adatokból a hozzájuk tartozó címkékkel. / Visualize the changes in loss and accuracy over epochs. Display a few examples from the training data with their corresponding labels."
   ]
  },
  {
   "cell_type": "code",
   "execution_count": null,
   "id": "12031954",
   "metadata": {},
   "outputs": [],
   "source": [
    "# ToDo"
   ]
  },
  {
   "cell_type": "markdown",
   "id": "f45a0d1d",
   "metadata": {},
   "source": [
    "## További feladatok (ha szükséges 15 fölé menni) | Additional Tasks (if needed to go above 15)"
   ]
  },
  {
   "cell_type": "markdown",
   "id": "9507b70b",
   "metadata": {},
   "source": [
    "### Fájlkezelés és tartalom olvasása | File Handling and Content Reading:\n",
    "- Írj egy Python kódot, amely beolvas egy szöveges fájlt a Colab környezetében, és megszámolja a szavak vagy sorok számát benne. / Write a Python code that reads a text file in the Colab environment and counts the number of words or lines in it.\n",
    "- Validálás | Validation: Hozz létre egy kis tesztfájlt manuálisan, és ellenőrizd a kód kimenetét. / Manually create a small test file and verify the output of the code."
   ]
  },
  {
   "cell_type": "code",
   "execution_count": null,
   "id": "fd97e269",
   "metadata": {},
   "outputs": [],
   "source": [
    "# ToDo"
   ]
  },
  {
   "cell_type": "markdown",
   "id": "b2d4016b",
   "metadata": {},
   "source": [
    "### Dátumok és időpontok kezelése | Handling Dates and Times:\n",
    "- Írj egy Python kódot, amely két dátum közötti napok számát számítja ki, vagy formáz egy dátum/idő objektumot egy specifikus sztring formátumba. / Write a Python code that calculates the number of days between two dates, or formats a date/time object into a specific string format.\n",
    "- Validálás | Validation: Írj unit teszteket különböző dátumokkal és formátumokkal. / Write unit tests with various dates and formats."
   ]
  },
  {
   "cell_type": "code",
   "execution_count": null,
   "id": "56872181",
   "metadata": {},
   "outputs": [],
   "source": [
    "# ToDo"
   ]
  },
  {
   "cell_type": "markdown",
   "id": "6af7a5aa",
   "metadata": {},
   "source": [
    "### Egyszerű web scraping (óvatosan!) | Simple Web Scraping (use caution!):\n",
    "- Írj egy Python kódot a requests és BeautifulSoup könyvtárak segítségével (telepíteni kell őket), amely beolvas egy nyilvános weboldalt (pl. egy demó oldal), és kinyer belőle bizonyos információkat. Fontos: hangsúlyozd, hogy ezt csak engedéllyel és etikus keretek között szabad végezni! / Write a Python code using the requests and BeautifulSoup libraries (they need to be installed) that reads a public webpage (e.g., a demo page) and extracts certain information from it. Important: Emphasize that this should only be done with permission and within ethical boundaries!\n",
    "- Validálás | Validation: Ellenőrizd manuálisan a kinyert információkat a weboldal tartalmával összevetve. / Manually verify the extracted information by comparing it with the content of the webpage."
   ]
  },
  {
   "cell_type": "code",
   "execution_count": null,
   "id": "2c4332d5",
   "metadata": {},
   "outputs": [],
   "source": [
    "# ToDo"
   ]
  },
  {
   "cell_type": "markdown",
   "id": "bd7e4f78",
   "metadata": {},
   "source": [
    "### API hívás és JSON feldolgozás | API Call and JSON Processing:\n",
    "- Írj egy Python kódot a requests könyvtár segítségével, amely meghív egy egyszerű nyilvános API-t (pl. egy időjárás API, ha van ingyenes és egyszerű), és feldolgozza a visszaadott JSON adatokat. / Write a Python code using the requests library that calls a simple public API (e.g., a weather API, if a free and simple one is available) and processes the returned JSON data.\n",
    "- Validálás | Validation: Írd ki a feldolgozott adatokat, és ellenőrizd azok helyességét egy API dokumentáció vagy más forrás alapján. / Print the processed data and verify its correctness based on API documentation or another source."
   ]
  },
  {
   "cell_type": "code",
   "execution_count": null,
   "id": "a1814170",
   "metadata": {},
   "outputs": [],
   "source": [
    "# ToDo"
   ]
  },
  {
   "cell_type": "markdown",
   "id": "e024415a",
   "metadata": {},
   "source": [
    "### Osztályok közötti öröklődés | Inheritance Between Classes:\n",
    "- Definiálj egy alaposztályt (pl. Animal) és egy vagy több származtatott osztályt (pl. Dog, Cat), bemutatva az öröklődést és a metódusok felülírását. / Define a base class (e.g., Animal) and one or more derived classes (e.g., Dog, Cat), demonstrating inheritance and method overriding.\n",
    "- Validálás | Validation: Írj unit teszteket az öröklődés és a metódusok helyes viselkedésének ellenőrzésére a különböző osztályok példányain. / Write unit tests to check the correct behavior of inheritance and methods on instances of the different classes."
   ]
  },
  {
   "cell_type": "code",
   "execution_count": null,
   "id": "2ebf2c26",
   "metadata": {},
   "outputs": [],
   "source": [
    "# ToDo"
   ]
  },
  {
   "cell_type": "markdown",
   "id": "54fd3860",
   "metadata": {},
   "source": [
    "## Elemzés és Következtetések | Analysis and Conclusions:\n",
    "\n",
    "Fog foglald össze a feladat során szerzett tapasztalataidat / Sum up your experiences during the assignment\n",
    " \n",
    "- Mennyire volt hatékony a Colab beépített kódgenerálója a különböző típusú feladatok megoldásában? / How effective was Colab's built-in code generator in solving different types of tasks?\n",
    "- Milyen kihívásokkal szembesültél a generált kód tesztelése, vizualizációja és értékelése során? / What challenges did you face during testing, visualization, and evaluation of the generated code?\n",
    "- Milyen esetekben volt különösen hasznos vagy éppen megtévesztő a generált kód? / In which cases was the generated code particularly helpful or misleading?\n",
    "- Milyen tanácsokat adnál másoknak a Colab kódgenerálójának hatékony használatához? / What advice would you give others for effectively using Colab's code generator?\n",
    "- Milyen korlátai vannak jelenleg az ilyen AI alapú kódgenerálásnak? / What are the current limitations of such AI-based code generation?"
   ]
  }
 ],
 "metadata": {
  "kernelspec": {
   "display_name": "NLP",
   "language": "python",
   "name": "python3"
  },
  "language_info": {
   "name": "python",
   "version": "3.11.4"
  }
 },
 "nbformat": 4,
 "nbformat_minor": 5
}
