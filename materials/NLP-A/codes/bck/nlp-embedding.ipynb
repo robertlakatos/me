{
  "cells": [
    {
      "cell_type": "code",
      "execution_count": null,
      "metadata": {
        "colab": {
          "base_uri": "https://localhost:8080/"
        },
        "id": "UscUmy5ubaoY",
        "outputId": "4a2bc3e8-7984-4ad0-876f-e2ce02b503e2"
      },
      "outputs": [],
      "source": [
        "!pip install datasets\n",
        "!pip install transformers"
      ]
    },
    {
      "cell_type": "markdown",
      "metadata": {
        "id": "Wlm8B3zRbSAb"
      },
      "source": [
        "# Beágyazás (Embedding)"
      ]
    },
    {
      "cell_type": "markdown",
      "metadata": {
        "id": "ZAD8plyFbSAh"
      },
      "source": [
        "## Transformer architektúra\n",
        "\n",
        "<img src=\"https://www.tensorflow.org/images/tutorials/transformer/transformer.png\" alt=\"Transformer\">\n",
        "\n",
        "Ábra 1: Transformer architektúra. Forrás: [www.tensorflow.org](https://www.tensorflow.org/text/tutorials/transformer)."
      ]
    },
    {
      "cell_type": "markdown",
      "metadata": {
        "id": "xES9PCkKbSAi"
      },
      "source": [
        "## Beágyazó és pozíciókódoló rétegek\n",
        "\n",
        "<img src=\"https://www.tensorflow.org/images/tutorials/transformer/PositionalEmbedding.png\" alt=\"Transformer\">\n",
        "\n",
        "Ábra 2: Beágyazó és pozíciókódoló rétegek. Forrás: [www.tensorflow.org](https://www.tensorflow.org/text/tutorials/transformer)."
      ]
    },
    {
      "cell_type": "markdown",
      "metadata": {
        "id": "gUBzyD_nbSAj"
      },
      "source": [
        "## Beágyazás"
      ]
    },
    {
      "cell_type": "markdown",
      "metadata": {
        "id": "29iArh-ZcrgQ"
      },
      "source": [
        "### CBOW, Skip-gramm\n",
        "\n",
        "<img src=\"https://wiki.pathmind.com/images/wiki/word2vec_diagrams.png\">\n",
        "\n",
        "Ábra 3: CBOW, Skip-gramm. Forrás: [wiki.pathmind.com](https://wiki.pathmind.com/images/wiki/word2vec_diagrams.png)."
      ]
    },
    {
      "cell_type": "markdown",
      "metadata": {
        "id": "VLJbh0KGdG1h"
      },
      "source": [
        "### Word2Vec CBOW\n",
        "\n",
        "<img src=\"https://miro.medium.com/v2/resize:fit:1400/0*3DFDpaXoglalyB4c.png\">\n",
        "\n",
        "Ábra 4: Word2Vec CBOW. Forrás: [medium](https://miro.medium.com/v2/resize:fit:1400/0*3DFDpaXoglalyB4c.png)."
      ]
    },
    {
      "cell_type": "markdown",
      "metadata": {
        "id": "5aDpLPBAd_4h"
      },
      "source": [
        "## Miért használjuk a beágyazást?\n",
        "\n",
        "<img src=\"https://miro.medium.com/v2/resize:fit:2000/1*SYiW1MUZul1NvL1kc1RxwQ.png\">\n",
        "\n",
        "Ábra 5: Miért használjuk a beágyazást? Forrás: [medium](https://miro.medium.com/v2/resize:fit:2000/1*SYiW1MUZul1NvL1kc1RxwQ.png)."
      ]
    },
    {
      "cell_type": "code",
      "execution_count": null,
      "metadata": {
        "colab": {
          "base_uri": "https://localhost:8080/"
        },
        "id": "6mxVvCagbSAk",
        "outputId": "2ac02477-40a5-42cb-b357-4f9c474a08f3"
      },
      "outputs": [],
      "source": [
        "from datasets import load_dataset\n",
        "\n",
        "dataset = load_dataset(\"imdb\")\n",
        "dataset"
      ]
    },
    {
      "cell_type": "code",
      "execution_count": null,
      "metadata": {
        "colab": {
          "base_uri": "https://localhost:8080/"
        },
        "id": "zhO76M5ScLla",
        "outputId": "7c5c94ac-ece8-4396-a6c6-3cab1a7a5004"
      },
      "outputs": [],
      "source": [
        "corpus = [text for text in dataset[\"train\"][\"text\"]][:5000]\n",
        "len(corpus)"
      ]
    },
    {
      "cell_type": "code",
      "execution_count": null,
      "metadata": {
        "colab": {
          "base_uri": "https://localhost:8080/",
          "height": 106
        },
        "id": "vflrAhTbe63a",
        "outputId": "9e846c3f-c8d5-43e9-d3fb-dc41bd22a038"
      },
      "outputs": [],
      "source": [
        "corpus[0]"
      ]
    },
    {
      "cell_type": "markdown",
      "metadata": {
        "id": "RsJ8KtyzfI4S"
      },
      "source": [
        "### Lemmatizáció"
      ]
    },
    {
      "cell_type": "code",
      "execution_count": null,
      "metadata": {
        "colab": {
          "base_uri": "https://localhost:8080/"
        },
        "id": "BpPe2siZfH_5",
        "outputId": "7bcd0400-8285-4868-b579-0ada1019b069"
      },
      "outputs": [],
      "source": [
        "import nltk\n",
        "nltk.download('wordnet')\n",
        "nltk.download('stopwords')"
      ]
    },
    {
      "cell_type": "code",
      "execution_count": null,
      "metadata": {
        "colab": {
          "base_uri": "https://localhost:8080/"
        },
        "id": "LBIRQ5nJfDRR",
        "outputId": "8f18416b-f655-41b1-bd2a-6e11056ba1e0"
      },
      "outputs": [],
      "source": [
        "from nltk.corpus import stopwords\n",
        "from nltk.stem import WordNetLemmatizer\n",
        "\n",
        "stop_words = set(stopwords.words('english'))\n",
        "w_n_lemmatizer = WordNetLemmatizer()\n",
        "\n",
        "words = ['kites', 'babies', 'dogs', 'flying', 'smiling',\n",
        "         'driving', 'died', 'tried', 'feet']\n",
        "\n",
        "for word in words:\n",
        "    print(word + \"\\t\" + w_n_lemmatizer.lemmatize(word))"
      ]
    },
    {
      "cell_type": "code",
      "execution_count": null,
      "metadata": {
        "colab": {
          "base_uri": "https://localhost:8080/"
        },
        "id": "lJjxOKIufsd6",
        "outputId": "eae1798f-f314-46bb-cd04-191642e387d5"
      },
      "outputs": [],
      "source": [
        "from tqdm import tqdm\n",
        "from nltk.tokenize import word_tokenize\n",
        "\n",
        "nltk.download('punkt')\n",
        "\n",
        "corpus_cleaned = []\n",
        "\n",
        "for document in tqdm(corpus):\n",
        "  tmp = []\n",
        "  for word in word_tokenize(document.lower()):\n",
        "    if not word in stop_words and word.isalnum():\n",
        "      tmp.append(w_n_lemmatizer.lemmatize(word))\n",
        "\n",
        "  corpus_cleaned.append(tmp)"
      ]
    },
    {
      "cell_type": "code",
      "execution_count": null,
      "metadata": {
        "colab": {
          "base_uri": "https://localhost:8080/"
        },
        "id": "nKTI0QJ2iWV6",
        "outputId": "05a8ebc0-de0f-479e-a36a-c643305d44f6"
      },
      "outputs": [],
      "source": [
        "len(corpus_cleaned), corpus_cleaned[0]"
      ]
    },
    {
      "cell_type": "code",
      "execution_count": null,
      "metadata": {
        "id": "cAzTOI7ugomB"
      },
      "outputs": [],
      "source": [
        "from gensim.models import Word2Vec\n",
        "\n",
        "w2v_model = Word2Vec(vector_size=10,\n",
        "                     window=5,\n",
        "                     min_count=1)"
      ]
    },
    {
      "cell_type": "code",
      "execution_count": null,
      "metadata": {
        "colab": {
          "base_uri": "https://localhost:8080/"
        },
        "id": "FwBh5NGmibz3",
        "outputId": "b4962047-810b-4b14-f463-98e25d43bf7a"
      },
      "outputs": [],
      "source": [
        "w2v_model.build_vocab(corpus_cleaned)\n",
        "w2v_model.corpus_count"
      ]
    },
    {
      "cell_type": "code",
      "execution_count": null,
      "metadata": {
        "colab": {
          "base_uri": "https://localhost:8080/"
        },
        "id": "ID_0y7BhjRCa",
        "outputId": "e219e94e-d361-4c7d-cfa9-84a98748c5e5"
      },
      "outputs": [],
      "source": [
        "w2v_model.train(corpus_cleaned,\n",
        "                total_examples=w2v_model.corpus_count,\n",
        "                epochs=30)"
      ]
    },
    {
      "cell_type": "code",
      "execution_count": null,
      "metadata": {
        "id": "5seuNxqAl2QD"
      },
      "outputs": [],
      "source": [
        "w2v_model.wv.save_word2vec_format(\"word2vec.vec\")"
      ]
    },
    {
      "cell_type": "code",
      "execution_count": null,
      "metadata": {
        "colab": {
          "base_uri": "https://localhost:8080/"
        },
        "id": "YkjD_vnwn7ZZ",
        "outputId": "b2d43ad8-81c5-4edb-eacc-997d17fcd8bd"
      },
      "outputs": [],
      "source": [
        "w2v_model.wv.most_similar(positive=[\"film\"])"
      ]
    },
    {
      "cell_type": "code",
      "execution_count": null,
      "metadata": {
        "colab": {
          "base_uri": "https://localhost:8080/"
        },
        "id": "QLQAT1qhoAqk",
        "outputId": "d4bf02ef-872c-48a7-eb57-c526d07a5b06"
      },
      "outputs": [],
      "source": [
        "w2v_model.wv.most_similar(negative=[\"good\"])"
      ]
    },
    {
      "cell_type": "markdown",
      "metadata": {
        "id": "Jrd5u9OEoaph"
      },
      "source": [
        "### [projector.tensorflow.org](https://projector.tensorflow.org/)"
      ]
    },
    {
      "cell_type": "code",
      "execution_count": null,
      "metadata": {
        "id": "_BtyNqBvoOWr"
      },
      "outputs": [],
      "source": [
        "with open(\"word2vec.vec\", \"r\") as f:\n",
        "    tmp = f.read().split(\"\\n\")\n",
        "\n",
        "with open(\"word2vec.tsv\", \"w\") as t:\n",
        "    for i in range(1,len(tmp)):\n",
        "        splited = tmp[i].split(\" \")\n",
        "        t.write(\"\\t\".join(splited[1:]) + \"\\n\")\n",
        "\n",
        "with open(\"meta.tsv\", \"w\") as m:\n",
        "    for i in range(1,len(tmp)):\n",
        "        splited = tmp[i].split(\" \")\n",
        "        m.write(splited[0] + \"\\n\")"
      ]
    }
  ],
  "metadata": {
    "colab": {
      "provenance": []
    },
    "kernelspec": {
      "display_name": "Python 3",
      "name": "python3"
    },
    "language_info": {
      "name": "python"
    },
    "orig_nbformat": 4
  },
  "nbformat": 4,
  "nbformat_minor": 0
}
