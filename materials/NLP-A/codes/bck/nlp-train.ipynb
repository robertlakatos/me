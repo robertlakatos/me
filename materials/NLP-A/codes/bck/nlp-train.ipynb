{
  "cells": [
    {
      "cell_type": "markdown",
      "metadata": {
        "id": "tq_2YaHHlXpg"
      },
      "source": [
        "# Train"
      ]
    },
    {
      "cell_type": "markdown",
      "metadata": {
        "id": "Dl2ciqTHq3ff"
      },
      "source": [
        "## Függőségek"
      ]
    },
    {
      "cell_type": "code",
      "execution_count": null,
      "metadata": {
        "colab": {
          "base_uri": "https://localhost:8080/"
        },
        "id": "9h8Qr2YlqlzE",
        "outputId": "6990670c-4641-41e0-a645-9b6bd13435f4"
      },
      "outputs": [],
      "source": [
        "!pip install datasets\n",
        "!pip install transformers==4.28.0\n",
        "!pip install evaluate"
      ]
    },
    {
      "cell_type": "markdown",
      "metadata": {
        "id": "j4TjvF1KlTCs"
      },
      "source": [
        "## Erőforrások ellenőrzése"
      ]
    },
    {
      "cell_type": "code",
      "execution_count": null,
      "metadata": {
        "colab": {
          "base_uri": "https://localhost:8080/"
        },
        "id": "Yec2vf9PkueV",
        "outputId": "4236aab1-a773-4cb5-8f64-23194234f25f"
      },
      "outputs": [],
      "source": [
        "!nvidia-smi"
      ]
    },
    {
      "cell_type": "code",
      "execution_count": null,
      "metadata": {
        "colab": {
          "base_uri": "https://localhost:8080/"
        },
        "id": "wXZ11yoQk-me",
        "outputId": "20b3df33-ea62-4471-bf8d-e8117c1af1b7"
      },
      "outputs": [],
      "source": [
        "import torch\n",
        "\n",
        "torch.cuda.is_available(), torch.cuda.device_count(), torch.cuda.current_device()"
      ]
    },
    {
      "cell_type": "markdown",
      "metadata": {
        "id": "AAsMhBssqqsb"
      },
      "source": [
        "Az adathalmaz: [financial_phrasebank](https://huggingface.co/datasets/financial_phrasebank)"
      ]
    },
    {
      "cell_type": "code",
      "execution_count": null,
      "metadata": {
        "id": "JzNDjW4DqVUX"
      },
      "outputs": [],
      "source": [
        "from datasets import load_dataset\n",
        "\n",
        "dataset = load_dataset(\"financial_phrasebank\", 'sentences_allagree')\n",
        "\n",
        "dataset"
      ]
    },
    {
      "cell_type": "code",
      "execution_count": null,
      "metadata": {
        "colab": {
          "base_uri": "https://localhost:8080/"
        },
        "id": "op2NEcjFr0F8",
        "outputId": "05411625-c4b8-4b59-ce93-6b8724d5f124"
      },
      "outputs": [],
      "source": [
        "dataset[\"train\"][100]"
      ]
    },
    {
      "cell_type": "code",
      "execution_count": null,
      "metadata": {
        "colab": {
          "base_uri": "https://localhost:8080/"
        },
        "id": "TFMPARnajzLN",
        "outputId": "e286bc74-934b-4929-b5df-b7c199670ba1"
      },
      "outputs": [],
      "source": [
        "set([item[\"label\"] for item in dataset[\"train\"]])"
      ]
    },
    {
      "cell_type": "code",
      "execution_count": null,
      "metadata": {
        "id": "APVVF1QQrypO"
      },
      "outputs": [],
      "source": [
        "from transformers import AutoTokenizer\n",
        "\n",
        "tokenizer = AutoTokenizer.from_pretrained(\"distilbert-base-uncased-finetuned-sst-2-english\")"
      ]
    },
    {
      "cell_type": "code",
      "execution_count": null,
      "metadata": {
        "id": "BJJ_Q3rJqd_j"
      },
      "outputs": [],
      "source": [
        "def tokenize_function(examples):\n",
        "    return tokenizer(examples[\"sentence\"], padding=\"max_length\", truncation=True)\n",
        "\n",
        "tokenized_datasets = dataset.map(tokenize_function, batched=True)"
      ]
    },
    {
      "cell_type": "code",
      "execution_count": null,
      "metadata": {
        "id": "VFz8qiTp2O4q"
      },
      "outputs": [],
      "source": [
        "small_train_dataset = tokenized_datasets[\"train\"].shuffle(seed=42).select(range(1000))\n",
        "small_eval_dataset = tokenized_datasets[\"train\"].shuffle(seed=42).select(range(1000,1200))"
      ]
    },
    {
      "cell_type": "code",
      "execution_count": null,
      "metadata": {
        "colab": {
          "base_uri": "https://localhost:8080/"
        },
        "id": "Jn_mqEJpjgPj",
        "outputId": "e717d3d3-e027-4c46-911e-36768387da75"
      },
      "outputs": [],
      "source": [
        "small_train_dataset, small_eval_dataset"
      ]
    },
    {
      "cell_type": "code",
      "execution_count": null,
      "metadata": {
        "colab": {
          "base_uri": "https://localhost:8080/"
        },
        "id": "NmTC2rRijpI3",
        "outputId": "55ab4c2c-8007-40c0-d5e7-46b2f3d28a6d"
      },
      "outputs": [],
      "source": [
        "print(small_train_dataset[0][\"sentence\"])\n",
        "print(small_train_dataset[0][\"label\"])\n",
        "print(small_train_dataset[0][\"input_ids\"])\n",
        "print(small_train_dataset[0][\"attention_mask\"])"
      ]
    },
    {
      "cell_type": "code",
      "execution_count": null,
      "metadata": {
        "colab": {
          "base_uri": "https://localhost:8080/"
        },
        "id": "68qxKVtEhi-j",
        "outputId": "a7c60b4e-37cc-4b98-fba2-02977047ba9a"
      },
      "outputs": [],
      "source": [
        "print(small_eval_dataset[0][\"sentence\"])\n",
        "print(small_eval_dataset[0][\"label\"])\n",
        "print(small_eval_dataset[0][\"input_ids\"])\n",
        "print(small_eval_dataset[0][\"attention_mask\"])"
      ]
    },
    {
      "cell_type": "code",
      "execution_count": null,
      "metadata": {
        "colab": {
          "base_uri": "https://localhost:8080/"
        },
        "id": "sQ3L3GHisoaM",
        "outputId": "6441ee80-4efd-4f09-88f3-82c8db7b4fcc"
      },
      "outputs": [],
      "source": [
        "from transformers import AutoModelForSequenceClassification\n",
        "\n",
        "model = AutoModelForSequenceClassification.from_pretrained(\n",
        "    \"distilbert-base-uncased-finetuned-sst-2-english\",\n",
        "    ignore_mismatched_sizes=True,\n",
        "    num_labels=3)"
      ]
    },
    {
      "cell_type": "markdown",
      "metadata": {},
      "source": [
        "## Mérés\n",
        "\n",
        "<img src=\"https://www.researchgate.net/publication/336402347/figure/fig3/AS:812472659349505@1570719985505/Calculation-of-Precision-Recall-and-Accuracy-in-the-confusion-matrix.ppm\" alt=\"ACC\">\n",
        "\n",
        "Ábra 1: Pontosság. Forrás: [researchgate](https://www.researchgate.net/publication/336402347/figure/fig3/AS:812472659349505@1570719985505/Calculation-of-Precision-Recall-and-Accuracy-in-the-confusion-matrix.ppm)."
      ]
    },
    {
      "cell_type": "markdown",
      "metadata": {},
      "source": [
        "<img src=\"https://oncologymedicalphysics.com/wp-content/uploads/2021/04/Precision-vs-Accuracy-OMP.png\" alt=\"PvP\">\n",
        "\n",
        "Ábra 2: Pontosság és precizitás. Forrás: [oncologymedicalphysics](https://oncologymedicalphysics.com/wp-content/uploads/2021/04/Precision-vs-Accuracy-OMP.png)."
      ]
    },
    {
      "cell_type": "code",
      "execution_count": null,
      "metadata": {
        "id": "0PcHeUh0svzs"
      },
      "outputs": [],
      "source": [
        "import numpy as np\n",
        "import evaluate\n",
        "\n",
        "metric = evaluate.load(\"accuracy\")"
      ]
    },
    {
      "cell_type": "code",
      "execution_count": null,
      "metadata": {
        "id": "-_XkT72Msx7O"
      },
      "outputs": [],
      "source": [
        "def compute_metrics(eval_pred):\n",
        "    logits, labels = eval_pred\n",
        "    predictions = np.argmax(logits, axis=-1)\n",
        "    return metric.compute(predictions=predictions, references=labels)"
      ]
    },
    {
      "cell_type": "markdown",
      "metadata": {},
      "source": [
        "## Tanítás/képzés"
      ]
    },
    {
      "cell_type": "markdown",
      "metadata": {},
      "source": [
        "<img src=\"https://tropeaka.com/cdn/shop/articles/main_image_d517c79f-4ec7-4946-bb5e-db7e80623e85_1080x.jpg?v=1571697737\" alt=\"Train\">\n",
        "\n",
        "Ábra 3: Training. Forrás: [tropeaka](https://tropeaka.com/cdn/shop/articles/main_image_d517c79f-4ec7-4946-bb5e-db7e80623e85_1080x.jpg?v=1571697737)."
      ]
    },
    {
      "cell_type": "code",
      "execution_count": null,
      "metadata": {
        "id": "ZlUMKeILs0as"
      },
      "outputs": [],
      "source": [
        "from transformers import TrainingArguments, Trainer\n",
        "\n",
        "training_args = TrainingArguments(\n",
        "    output_dir=\"test_trainer\",\n",
        "    evaluation_strategy=\"epoch\",\n",
        "    num_train_epochs=2\n",
        "    )"
      ]
    },
    {
      "cell_type": "code",
      "execution_count": null,
      "metadata": {
        "id": "HggwsRwFs2jm"
      },
      "outputs": [],
      "source": [
        "trainer = Trainer(\n",
        "    model=model,\n",
        "    args=training_args,\n",
        "    train_dataset=small_train_dataset,\n",
        "    eval_dataset=small_eval_dataset,\n",
        "    compute_metrics=compute_metrics,\n",
        ")"
      ]
    },
    {
      "cell_type": "code",
      "execution_count": null,
      "metadata": {
        "colab": {
          "base_uri": "https://localhost:8080/",
          "height": 229
        },
        "id": "HhPUGsYhs9EP",
        "outputId": "68c69246-c34e-40d8-caa2-d5f6bb5efc68"
      },
      "outputs": [],
      "source": [
        "trainer.train()"
      ]
    },
    {
      "cell_type": "code",
      "execution_count": null,
      "metadata": {
        "id": "v0CYqoMHpNdd"
      },
      "outputs": [],
      "source": [
        "from transformers import pipeline\n",
        "\n",
        "model_old = AutoModelForSequenceClassification.from_pretrained(\"distilbert-base-uncased-finetuned-sst-2-english\")\n",
        "pipeline_old = pipeline(\"text-classification\", model=model_old, tokenizer=tokenizer)"
      ]
    },
    {
      "cell_type": "code",
      "execution_count": null,
      "metadata": {
        "colab": {
          "base_uri": "https://localhost:8080/"
        },
        "id": "VoceGQg-qFge",
        "outputId": "37870fe4-2be4-4018-ff1c-a8d8c808c1ff"
      },
      "outputs": [],
      "source": [
        "text = small_eval_dataset[0:10][\"sentence\"]\n",
        "labels = small_eval_dataset[0:10][\"label\"]\n",
        "text, labels"
      ]
    },
    {
      "cell_type": "code",
      "execution_count": null,
      "metadata": {
        "colab": {
          "base_uri": "https://localhost:8080/"
        },
        "id": "oTAQ-eu3p-VF",
        "outputId": "b4a90b0a-ba93-4eff-ea0b-7992058d6ac5"
      },
      "outputs": [],
      "source": [
        "pipeline_old(text)"
      ]
    },
    {
      "cell_type": "code",
      "execution_count": null,
      "metadata": {
        "colab": {
          "base_uri": "https://localhost:8080/",
          "height": 35
        },
        "id": "E00YMOYbrG93",
        "outputId": "a4ae6333-4b8b-41a4-ece4-e3a4d32301e6"
      },
      "outputs": [],
      "source": [
        "device = \"cuda:0\" if torch.cuda.is_available() else \"cpu\"\n",
        "device"
      ]
    },
    {
      "cell_type": "code",
      "execution_count": null,
      "metadata": {
        "id": "QVZ1zaDqrkFO"
      },
      "outputs": [],
      "source": [
        "model_cpu = model.to(\"cpu\")"
      ]
    },
    {
      "cell_type": "code",
      "execution_count": null,
      "metadata": {
        "id": "deEhokCkoRZe"
      },
      "outputs": [],
      "source": [
        "pipeline_new = pipeline(\"text-classification\", model=model_cpu, tokenizer=tokenizer)"
      ]
    },
    {
      "cell_type": "code",
      "execution_count": null,
      "metadata": {
        "colab": {
          "base_uri": "https://localhost:8080/"
        },
        "id": "D26qXrbfnJ2c",
        "outputId": "f6f30e3e-a8e8-4374-b74a-9719f53e0fa5"
      },
      "outputs": [],
      "source": [
        "print(labels)\n",
        "pipeline_new(text)"
      ]
    },
    {
      "cell_type": "markdown",
      "metadata": {},
      "source": [
        "### Pipeline nélkül (Hardcore verzió :D)\n",
        "\n",
        "<img src=\"https://xforgeassets002.xboxlive.com/pf-title-b63a0803d3653643-20ca2/2e79fa0e-b89d-46c1-9c12-978f30edb150/HardcoreHackers2_Thumbnail_0.jpg\" alt=\"Hard Core\">\n",
        "\n",
        "Ábra 4: Training. Forrás: [xboxlive](https://xforgeassets002.xboxlive.com/pf-title-b63a0803d3653643-20ca2/2e79fa0e-b89d-46c1-9c12-978f30edb150/HardcoreHackers2_Thumbnail_0.jpg)."
      ]
    },
    {
      "cell_type": "code",
      "execution_count": null,
      "metadata": {
        "colab": {
          "base_uri": "https://localhost:8080/"
        },
        "id": "JwtuTouftWX-",
        "outputId": "4f062208-a424-479f-ea00-886a3d33aa63"
      },
      "outputs": [],
      "source": [
        "import torch\n",
        "from transformers import DistilBertTokenizer, DistilBertForSequenceClassification\n",
        "\n",
        "tokenizer_hc = DistilBertTokenizer.from_pretrained(\"distilbert-base-uncased-finetuned-sst-2-english\")\n",
        "model_hc = model\n",
        "\n",
        "inputs = tokenizer(text, return_tensors=\"pt\",padding=True,truncation=True)\n",
        "with torch.no_grad():\n",
        "    logits = model_hc(**inputs).logits\n",
        "\n",
        "predicted_class_ids = [l.argmax().item() for l in logits]\n",
        "predicted_class_ids, labels"
      ]
    }
  ],
  "metadata": {
    "accelerator": "GPU",
    "colab": {
      "gpuType": "T4",
      "provenance": []
    },
    "kernelspec": {
      "display_name": "Python 3",
      "name": "python3"
    },
    "language_info": {
      "name": "python"
    }
  },
  "nbformat": 4,
  "nbformat_minor": 0
}
