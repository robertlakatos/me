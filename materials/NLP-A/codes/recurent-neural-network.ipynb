{
  "cells": [
    {
      "cell_type": "markdown",
      "metadata": {
        "id": "1d-T8hutgWM1"
      },
      "source": [
        "# Classic Solutions (NN and RNN)"
      ]
    },
    {
      "cell_type": "markdown",
      "metadata": {
        "id": "LDIycYyQhHqm"
      },
      "source": [
        "## Load Data"
      ]
    },
    {
      "cell_type": "code",
      "execution_count": 1,
      "metadata": {
        "colab": {
          "base_uri": "https://localhost:8080/"
        },
        "id": "tsfToJX1g3gW",
        "outputId": "752364ee-ef6a-4c8e-d1b2-26dee135df00"
      },
      "outputs": [
        {
          "output_type": "stream",
          "name": "stderr",
          "text": [
            "/usr/local/lib/python3.11/dist-packages/huggingface_hub/utils/_auth.py:94: UserWarning: \n",
            "The secret `HF_TOKEN` does not exist in your Colab secrets.\n",
            "To authenticate with the Hugging Face Hub, create a token in your settings tab (https://huggingface.co/settings/tokens), set it as secret in your Google Colab and restart your session.\n",
            "You will be able to reuse this secret in all of your notebooks.\n",
            "Please note that authentication is recommended but still optional to access public models or datasets.\n",
            "  warnings.warn(\n"
          ]
        }
      ],
      "source": [
        "import pandas as pd\n",
        "\n",
        "splits = {'train': 'plain_text/train-00000-of-00001.parquet', 'test': 'plain_text/test-00000-of-00001.parquet', 'unsupervised': 'plain_text/unsupervised-00000-of-00001.parquet'}\n",
        "\n",
        "df_imdb_train = pd.read_parquet(\"hf://datasets/stanfordnlp/imdb/\" + splits[\"train\"])\n",
        "df_imdb_test = pd.read_parquet(\"hf://datasets/stanfordnlp/imdb/\" + splits[\"test\"])"
      ]
    },
    {
      "cell_type": "code",
      "execution_count": 2,
      "metadata": {
        "colab": {
          "base_uri": "https://localhost:8080/"
        },
        "id": "A4BkyvP6iWw2",
        "outputId": "63eb95bd-8d47-40a2-b0f8-9dde5e144910"
      },
      "outputs": [
        {
          "output_type": "stream",
          "name": "stdout",
          "text": [
            "<class 'pandas.core.frame.DataFrame'>\n",
            "RangeIndex: 25000 entries, 0 to 24999\n",
            "Data columns (total 2 columns):\n",
            " #   Column  Non-Null Count  Dtype \n",
            "---  ------  --------------  ----- \n",
            " 0   text    25000 non-null  object\n",
            " 1   label   25000 non-null  int64 \n",
            "dtypes: int64(1), object(1)\n",
            "memory usage: 390.8+ KB\n"
          ]
        }
      ],
      "source": [
        "df_imdb_train.info()"
      ]
    },
    {
      "cell_type": "code",
      "execution_count": 3,
      "metadata": {
        "colab": {
          "base_uri": "https://localhost:8080/"
        },
        "id": "gRTJs47KiY02",
        "outputId": "1989a234-707e-427a-d0a1-da4426a873d1"
      },
      "outputs": [
        {
          "output_type": "stream",
          "name": "stdout",
          "text": [
            "<class 'pandas.core.frame.DataFrame'>\n",
            "RangeIndex: 25000 entries, 0 to 24999\n",
            "Data columns (total 2 columns):\n",
            " #   Column  Non-Null Count  Dtype \n",
            "---  ------  --------------  ----- \n",
            " 0   text    25000 non-null  object\n",
            " 1   label   25000 non-null  int64 \n",
            "dtypes: int64(1), object(1)\n",
            "memory usage: 390.8+ KB\n"
          ]
        }
      ],
      "source": [
        "df_imdb_test.info()"
      ]
    },
    {
      "cell_type": "code",
      "execution_count": 4,
      "metadata": {
        "colab": {
          "base_uri": "https://localhost:8080/"
        },
        "id": "WshRMfQhii8G",
        "outputId": "791e2c5f-f295-4ea0-a551-c182f4536618"
      },
      "outputs": [
        {
          "output_type": "stream",
          "name": "stdout",
          "text": [
            "Validation set size: 20000\n",
            "Test set size: 5000\n"
          ]
        }
      ],
      "source": [
        "from sklearn.model_selection import train_test_split\n",
        "\n",
        "df_imdb_validation, df_imdb_test = train_test_split(df_imdb_test, test_size=0.2, random_state=42)\n",
        "print(f\"Validation set size: {len(df_imdb_validation)}\")\n",
        "print(f\"Test set size: {len(df_imdb_test)}\")"
      ]
    },
    {
      "cell_type": "markdown",
      "metadata": {
        "id": "uuT4r3FkhKjf"
      },
      "source": [
        "## Tokenization (Create dictionary)"
      ]
    },
    {
      "cell_type": "code",
      "execution_count": 5,
      "metadata": {
        "id": "RFOaTo8HhERq"
      },
      "outputs": [],
      "source": [
        "from tokenizers import Tokenizer\n",
        "from tokenizers.models import WordPiece\n",
        "from tokenizers.trainers import WordPieceTrainer\n",
        "from tokenizers.pre_tokenizers import Whitespace\n",
        "\n",
        "tokenizer = Tokenizer(WordPiece(unk_token=\"[UNK]\"))\n",
        "tokenizer.pre_tokenizer = Whitespace()\n",
        "\n",
        "trainer = WordPieceTrainer(\n",
        "    vocab_size=5000,\n",
        "    min_frequency=2,\n",
        "    special_tokens=[\"[UNK]\", \"[CLS]\", \"[SEP]\", \"[PAD]\", \"[MASK]\"])"
      ]
    },
    {
      "cell_type": "code",
      "execution_count": 6,
      "metadata": {
        "colab": {
          "base_uri": "https://localhost:8080/"
        },
        "id": "3531ak5ThpT_",
        "outputId": "a98cccfb-0d1f-4f8a-b6fa-4e93855b2f3e"
      },
      "outputs": [
        {
          "output_type": "stream",
          "name": "stderr",
          "text": [
            "Train: 100%|██████████| 25000/25000 [00:05<00:00, 4794.48 text/s]\n"
          ]
        }
      ],
      "source": [
        "from tqdm import tqdm\n",
        "\n",
        "def data_generator(texts):\n",
        "    for text in tqdm(texts, desc=\"Train\", unit=\" text\"):\n",
        "        yield text\n",
        "\n",
        "# Tokenizer tanítása\n",
        "tokenizer.train_from_iterator(data_generator(df_imdb_train['text'].values), trainer)"
      ]
    },
    {
      "cell_type": "code",
      "execution_count": 7,
      "metadata": {
        "id": "41pRiZdqkAde"
      },
      "outputs": [],
      "source": [
        "tokenizer.save(\"tokenizer-wp-imdb.json\")"
      ]
    },
    {
      "cell_type": "code",
      "execution_count": 8,
      "metadata": {
        "colab": {
          "base_uri": "https://localhost:8080/"
        },
        "id": "8g_QbsFslHOC",
        "outputId": "3e42dede-b7a7-44e4-a0f6-34a785e2196d"
      },
      "outputs": [
        {
          "output_type": "stream",
          "name": "stdout",
          "text": [
            "['I', 'rented', 'I', 'A', '##M', 'C', '##U', '##R', '##I', '##OU', '##S', '-', 'Y', '##E', '##LL', '##OW', 'from', 'my', 'video', 'store', 'because', 'of', 'all', 'the', 'contr', '##overs', '##y', 'that', 'surround', '##ed', 'it', 'when', 'it', 'was', 'first', 'released', 'in', '196', '##7', '.', 'I', 'also', 'heard', 'that', 'at', 'first', 'it', 'was', 'se', '##ized', 'by', 'U', '.', 'S', '.', 'c', '##ust', '##om', '##s', 'if', 'it', 'ever', 'tried', 'to', 'enter', 'this', 'country', ',', 'there', '##fore', 'being', 'a', 'fan', 'of', 'films', 'considered', '\"', 'contr', '##overs', '##ial', '\"', 'I', 'really', 'had', 'to', 'see', 'this', 'for', 'myself', '.<', 'br', '/><', 'br', '/>', 'The', 'plot', 'is', 'cent', '##ered', 'around', 'a', 'young', 'Sw', '##ed', '##ish', 'drama', 'student', 'named', 'Le', '##na', 'who', 'wants', 'to', 'learn', 'everything', 'she', 'can', 'about', 'life', '.', 'In', 'particular', 'she', 'wants', 'to', 'focus', 'her', 'attention', '##s', 'to', 'making', 'some', 'sort', 'of', 'documentary', 'on', 'what', 'the', 'average', 'Sw', '##ed', '##e', 'thought', 'about', 'certain', 'political', 'issues', 'such', 'as', 'the', 'V', '##iet', '##na', '##m', 'War', 'and', 'race', 'issues', 'in', 'the', 'Un', '##ited', 'St', '##ates', '.', 'In', 'between', 'ask', '##ing', 'polit', '##ic', '##ians', 'and', 'ord', '##inary', 'den', '##ize', '##n', '##s', 'of', 'St', '##ock', '##hol', '##m', 'about', 'their', 'opinion', '##s', 'on', 'polit', '##ics', ',', 'she', 'has', 'sex', 'with', 'her', 'drama', 'teacher', ',', 'class', '##ma', '##te', '##s', ',', 'and', 'married', 'men', '.<', 'br', '/><', 'br', '/>', 'What', 'kills', 'me', 'about', 'I', 'A', '##M', 'C', '##U', '##R', '##I', '##OU', '##S', '-', 'Y', '##E', '##LL', '##OW', 'is', 'that', '40', 'years', 'ago', ',', 'this', 'was', 'considered', 'porn', '##ograph', '##ic', '.', 'Re', '##ally', ',', 'the', 'sex', 'and', 'nudity', 'scenes', 'are', 'few', 'and', 'far', 'between', ',', 'even', 'then', 'it', \"'\", 's', 'not', 'shot', 'like', 'some', 'cheap', '##ly', 'made', 'porn', '##o', '.', 'While', 'my', 'country', '##men', 'mind', 'find', 'it', 'shocking', ',', 'in', 'reality', 'sex', 'and', 'nudity', 'are', 'a', 'major', 'st', '##ap', '##le', 'in', 'Sw', '##ed', '##ish', 'cinema', '.', 'Even', 'In', '##g', '##ma', '##r', 'Ber', '##g', '##man', ',', 'ar', '##gu', '##ably', 'their', 'answer', 'to', 'good', 'old', 'boy', 'John', 'Ford', ',', 'had', 'sex', 'scenes', 'in', 'his', 'films', '.<', 'br', '/><', 'br', '/>', 'I', 'do', 'comm', '##en', '##d', 'the', 'filmmakers', 'for', 'the', 'fact', 'that', 'any', 'sex', 'shown', 'in', 'the', 'film', 'is', 'shown', 'for', 'artistic', 'purpose', '##s', 'rather', 'than', 'just', 'to', 'shock', 'people', 'and', 'make', 'money', 'to', 'be', 'shown', 'in', 'porn', '##ograph', '##ic', 'theater', '##s', 'in', 'America', '.', 'I', 'A', '##M', 'C', '##U', '##R', '##I', '##OU', '##S', '-', 'Y', '##E', '##LL', '##OW', 'is', 'a', 'good', 'film', 'for', 'anyone', 'wanting', 'to', 'stud', '##y', 'the', 'me', '##at', 'and', 'pot', '##at', '##oes', '(', 'no', 'pun', 'intended', ')', 'of', 'Sw', '##ed', '##ish', 'cinema', '.', 'But', 'really', ',', 'this', 'film', 'doesn', \"'\", 't', 'have', 'much', 'of', 'a', 'plot', '.']\n",
            "[47, 4244, 47, 39, 216, 41, 215, 201, 203, 2559, 212, 19, 63, 222, 2046, 3263, 487, 552, 1609, 3229, 658, 347, 460, 331, 2659, 2747, 185, 373, 3891, 342, 363, 565, 363, 388, 680, 2185, 351, 2836, 254, 20, 47, 694, 1993, 373, 434, 680, 363, 388, 407, 1672, 470, 59, 20, 57, 20, 73, 444, 353, 189, 574, 363, 542, 2542, 346, 1045, 381, 2157, 18, 553, 855, 751, 71, 1325, 347, 736, 3375, 8, 2659, 2747, 881, 8, 47, 576, 573, 346, 546, 381, 392, 1963, 417, 354, 391, 354, 357, 396, 732, 355, 1740, 2310, 991, 71, 945, 3501, 342, 624, 1754, 3999, 2498, 1174, 2110, 451, 1818, 346, 1878, 1429, 566, 519, 506, 763, 20, 678, 2606, 566, 1818, 346, 3264, 476, 2288, 189, 346, 1113, 491, 1559, 347, 2238, 372, 551, 331, 2670, 3501, 342, 193, 965, 506, 1362, 2934, 3704, 838, 395, 331, 60, 1957, 2110, 209, 2027, 344, 4192, 3704, 351, 331, 1268, 1389, 755, 1257, 20, 678, 1015, 1955, 338, 2075, 356, 2276, 344, 4840, 3281, 4043, 1566, 182, 189, 347, 755, 860, 4875, 209, 506, 584, 2188, 189, 372, 2075, 1280, 18, 566, 507, 1039, 402, 476, 1754, 4472, 18, 1036, 2723, 622, 189, 18, 344, 3060, 1439, 417, 354, 391, 354, 357, 1020, 3251, 509, 506, 47, 39, 216, 41, 215, 201, 203, 2559, 212, 19, 63, 222, 2046, 3263, 355, 373, 3792, 880, 2074, 18, 381, 388, 3375, 3105, 1239, 356, 20, 1150, 425, 18, 331, 1039, 344, 3042, 822, 432, 921, 344, 1022, 1015, 18, 578, 741, 363, 13, 89, 423, 1095, 479, 491, 2089, 368, 672, 3105, 179, 20, 1718, 552, 2157, 3380, 1209, 807, 363, 4242, 18, 351, 2204, 1039, 344, 3042, 432, 71, 2010, 383, 591, 358, 351, 3501, 342, 624, 1758, 20, 1577, 678, 183, 2723, 186, 3663, 183, 610, 18, 597, 2062, 842, 584, 4173, 346, 531, 829, 1267, 1147, 4508, 18, 573, 1039, 822, 351, 429, 736, 417, 354, 391, 354, 357, 47, 452, 1393, 337, 188, 331, 3088, 392, 331, 903, 373, 536, 1039, 2126, 351, 331, 397, 355, 2126, 392, 4247, 3372, 189, 1183, 596, 505, 346, 2069, 650, 344, 679, 1286, 346, 365, 2126, 351, 3105, 1239, 356, 2587, 189, 351, 2624, 20, 47, 39, 216, 41, 215, 201, 203, 2559, 212, 19, 63, 222, 2046, 3263, 355, 71, 531, 397, 392, 1265, 4617, 346, 1502, 185, 331, 509, 334, 344, 2216, 334, 3650, 14, 562, 4053, 3873, 15, 347, 3501, 342, 624, 1758, 20, 703, 576, 18, 381, 397, 873, 13, 90, 439, 628, 347, 71, 732, 20]\n"
          ]
        }
      ],
      "source": [
        "output = tokenizer.encode(df_imdb_train[\"text\"].values[0])\n",
        "print(output.tokens)\n",
        "print(output.ids)"
      ]
    },
    {
      "cell_type": "code",
      "execution_count": 9,
      "metadata": {
        "colab": {
          "base_uri": "https://localhost:8080/"
        },
        "id": "pfwIuBPCmw6e",
        "outputId": "2d5ad38b-0ec1-4b9f-d782-8230d318bf22"
      },
      "outputs": [
        {
          "output_type": "stream",
          "name": "stderr",
          "text": [
            "Progress: 100%|██████████| 25000/25000 [00:11<00:00, 2183.08it/s]\n"
          ]
        }
      ],
      "source": [
        "tqdm.pandas(desc=\"Progress\")\n",
        "\n",
        "df_imdb_train[\"count_of_tokens\"] = df_imdb_train[\"text\"].progress_apply(lambda x: len(tokenizer.encode(x).ids))"
      ]
    },
    {
      "cell_type": "code",
      "execution_count": 10,
      "metadata": {
        "colab": {
          "base_uri": "https://localhost:8080/",
          "height": 300
        },
        "id": "IJznYA9ZnY1G",
        "outputId": "c60ec2aa-a74e-418c-bbb0-3ee3d8eaeddf"
      },
      "outputs": [
        {
          "output_type": "execute_result",
          "data": {
            "text/plain": [
              "             label  count_of_tokens\n",
              "count  25000.00000     25000.000000\n",
              "mean       0.50000       352.356520\n",
              "std        0.50001       272.631289\n",
              "min        0.00000        11.000000\n",
              "25%        0.00000       183.000000\n",
              "50%        0.50000       258.000000\n",
              "75%        1.00000       429.000000\n",
              "max        1.00000      4142.000000"
            ],
            "text/html": [
              "\n",
              "  <div id=\"df-42eece7d-c654-4a24-9cef-eb2910218b7d\" class=\"colab-df-container\">\n",
              "    <div>\n",
              "<style scoped>\n",
              "    .dataframe tbody tr th:only-of-type {\n",
              "        vertical-align: middle;\n",
              "    }\n",
              "\n",
              "    .dataframe tbody tr th {\n",
              "        vertical-align: top;\n",
              "    }\n",
              "\n",
              "    .dataframe thead th {\n",
              "        text-align: right;\n",
              "    }\n",
              "</style>\n",
              "<table border=\"1\" class=\"dataframe\">\n",
              "  <thead>\n",
              "    <tr style=\"text-align: right;\">\n",
              "      <th></th>\n",
              "      <th>label</th>\n",
              "      <th>count_of_tokens</th>\n",
              "    </tr>\n",
              "  </thead>\n",
              "  <tbody>\n",
              "    <tr>\n",
              "      <th>count</th>\n",
              "      <td>25000.00000</td>\n",
              "      <td>25000.000000</td>\n",
              "    </tr>\n",
              "    <tr>\n",
              "      <th>mean</th>\n",
              "      <td>0.50000</td>\n",
              "      <td>352.356520</td>\n",
              "    </tr>\n",
              "    <tr>\n",
              "      <th>std</th>\n",
              "      <td>0.50001</td>\n",
              "      <td>272.631289</td>\n",
              "    </tr>\n",
              "    <tr>\n",
              "      <th>min</th>\n",
              "      <td>0.00000</td>\n",
              "      <td>11.000000</td>\n",
              "    </tr>\n",
              "    <tr>\n",
              "      <th>25%</th>\n",
              "      <td>0.00000</td>\n",
              "      <td>183.000000</td>\n",
              "    </tr>\n",
              "    <tr>\n",
              "      <th>50%</th>\n",
              "      <td>0.50000</td>\n",
              "      <td>258.000000</td>\n",
              "    </tr>\n",
              "    <tr>\n",
              "      <th>75%</th>\n",
              "      <td>1.00000</td>\n",
              "      <td>429.000000</td>\n",
              "    </tr>\n",
              "    <tr>\n",
              "      <th>max</th>\n",
              "      <td>1.00000</td>\n",
              "      <td>4142.000000</td>\n",
              "    </tr>\n",
              "  </tbody>\n",
              "</table>\n",
              "</div>\n",
              "    <div class=\"colab-df-buttons\">\n",
              "\n",
              "  <div class=\"colab-df-container\">\n",
              "    <button class=\"colab-df-convert\" onclick=\"convertToInteractive('df-42eece7d-c654-4a24-9cef-eb2910218b7d')\"\n",
              "            title=\"Convert this dataframe to an interactive table.\"\n",
              "            style=\"display:none;\">\n",
              "\n",
              "  <svg xmlns=\"http://www.w3.org/2000/svg\" height=\"24px\" viewBox=\"0 -960 960 960\">\n",
              "    <path d=\"M120-120v-720h720v720H120Zm60-500h600v-160H180v160Zm220 220h160v-160H400v160Zm0 220h160v-160H400v160ZM180-400h160v-160H180v160Zm440 0h160v-160H620v160ZM180-180h160v-160H180v160Zm440 0h160v-160H620v160Z\"/>\n",
              "  </svg>\n",
              "    </button>\n",
              "\n",
              "  <style>\n",
              "    .colab-df-container {\n",
              "      display:flex;\n",
              "      gap: 12px;\n",
              "    }\n",
              "\n",
              "    .colab-df-convert {\n",
              "      background-color: #E8F0FE;\n",
              "      border: none;\n",
              "      border-radius: 50%;\n",
              "      cursor: pointer;\n",
              "      display: none;\n",
              "      fill: #1967D2;\n",
              "      height: 32px;\n",
              "      padding: 0 0 0 0;\n",
              "      width: 32px;\n",
              "    }\n",
              "\n",
              "    .colab-df-convert:hover {\n",
              "      background-color: #E2EBFA;\n",
              "      box-shadow: 0px 1px 2px rgba(60, 64, 67, 0.3), 0px 1px 3px 1px rgba(60, 64, 67, 0.15);\n",
              "      fill: #174EA6;\n",
              "    }\n",
              "\n",
              "    .colab-df-buttons div {\n",
              "      margin-bottom: 4px;\n",
              "    }\n",
              "\n",
              "    [theme=dark] .colab-df-convert {\n",
              "      background-color: #3B4455;\n",
              "      fill: #D2E3FC;\n",
              "    }\n",
              "\n",
              "    [theme=dark] .colab-df-convert:hover {\n",
              "      background-color: #434B5C;\n",
              "      box-shadow: 0px 1px 3px 1px rgba(0, 0, 0, 0.15);\n",
              "      filter: drop-shadow(0px 1px 2px rgba(0, 0, 0, 0.3));\n",
              "      fill: #FFFFFF;\n",
              "    }\n",
              "  </style>\n",
              "\n",
              "    <script>\n",
              "      const buttonEl =\n",
              "        document.querySelector('#df-42eece7d-c654-4a24-9cef-eb2910218b7d button.colab-df-convert');\n",
              "      buttonEl.style.display =\n",
              "        google.colab.kernel.accessAllowed ? 'block' : 'none';\n",
              "\n",
              "      async function convertToInteractive(key) {\n",
              "        const element = document.querySelector('#df-42eece7d-c654-4a24-9cef-eb2910218b7d');\n",
              "        const dataTable =\n",
              "          await google.colab.kernel.invokeFunction('convertToInteractive',\n",
              "                                                    [key], {});\n",
              "        if (!dataTable) return;\n",
              "\n",
              "        const docLinkHtml = 'Like what you see? Visit the ' +\n",
              "          '<a target=\"_blank\" href=https://colab.research.google.com/notebooks/data_table.ipynb>data table notebook</a>'\n",
              "          + ' to learn more about interactive tables.';\n",
              "        element.innerHTML = '';\n",
              "        dataTable['output_type'] = 'display_data';\n",
              "        await google.colab.output.renderOutput(dataTable, element);\n",
              "        const docLink = document.createElement('div');\n",
              "        docLink.innerHTML = docLinkHtml;\n",
              "        element.appendChild(docLink);\n",
              "      }\n",
              "    </script>\n",
              "  </div>\n",
              "\n",
              "\n",
              "<div id=\"df-07fecfa9-4384-4f90-88ac-d2c7a4d3c849\">\n",
              "  <button class=\"colab-df-quickchart\" onclick=\"quickchart('df-07fecfa9-4384-4f90-88ac-d2c7a4d3c849')\"\n",
              "            title=\"Suggest charts\"\n",
              "            style=\"display:none;\">\n",
              "\n",
              "<svg xmlns=\"http://www.w3.org/2000/svg\" height=\"24px\"viewBox=\"0 0 24 24\"\n",
              "     width=\"24px\">\n",
              "    <g>\n",
              "        <path d=\"M19 3H5c-1.1 0-2 .9-2 2v14c0 1.1.9 2 2 2h14c1.1 0 2-.9 2-2V5c0-1.1-.9-2-2-2zM9 17H7v-7h2v7zm4 0h-2V7h2v10zm4 0h-2v-4h2v4z\"/>\n",
              "    </g>\n",
              "</svg>\n",
              "  </button>\n",
              "\n",
              "<style>\n",
              "  .colab-df-quickchart {\n",
              "      --bg-color: #E8F0FE;\n",
              "      --fill-color: #1967D2;\n",
              "      --hover-bg-color: #E2EBFA;\n",
              "      --hover-fill-color: #174EA6;\n",
              "      --disabled-fill-color: #AAA;\n",
              "      --disabled-bg-color: #DDD;\n",
              "  }\n",
              "\n",
              "  [theme=dark] .colab-df-quickchart {\n",
              "      --bg-color: #3B4455;\n",
              "      --fill-color: #D2E3FC;\n",
              "      --hover-bg-color: #434B5C;\n",
              "      --hover-fill-color: #FFFFFF;\n",
              "      --disabled-bg-color: #3B4455;\n",
              "      --disabled-fill-color: #666;\n",
              "  }\n",
              "\n",
              "  .colab-df-quickchart {\n",
              "    background-color: var(--bg-color);\n",
              "    border: none;\n",
              "    border-radius: 50%;\n",
              "    cursor: pointer;\n",
              "    display: none;\n",
              "    fill: var(--fill-color);\n",
              "    height: 32px;\n",
              "    padding: 0;\n",
              "    width: 32px;\n",
              "  }\n",
              "\n",
              "  .colab-df-quickchart:hover {\n",
              "    background-color: var(--hover-bg-color);\n",
              "    box-shadow: 0 1px 2px rgba(60, 64, 67, 0.3), 0 1px 3px 1px rgba(60, 64, 67, 0.15);\n",
              "    fill: var(--button-hover-fill-color);\n",
              "  }\n",
              "\n",
              "  .colab-df-quickchart-complete:disabled,\n",
              "  .colab-df-quickchart-complete:disabled:hover {\n",
              "    background-color: var(--disabled-bg-color);\n",
              "    fill: var(--disabled-fill-color);\n",
              "    box-shadow: none;\n",
              "  }\n",
              "\n",
              "  .colab-df-spinner {\n",
              "    border: 2px solid var(--fill-color);\n",
              "    border-color: transparent;\n",
              "    border-bottom-color: var(--fill-color);\n",
              "    animation:\n",
              "      spin 1s steps(1) infinite;\n",
              "  }\n",
              "\n",
              "  @keyframes spin {\n",
              "    0% {\n",
              "      border-color: transparent;\n",
              "      border-bottom-color: var(--fill-color);\n",
              "      border-left-color: var(--fill-color);\n",
              "    }\n",
              "    20% {\n",
              "      border-color: transparent;\n",
              "      border-left-color: var(--fill-color);\n",
              "      border-top-color: var(--fill-color);\n",
              "    }\n",
              "    30% {\n",
              "      border-color: transparent;\n",
              "      border-left-color: var(--fill-color);\n",
              "      border-top-color: var(--fill-color);\n",
              "      border-right-color: var(--fill-color);\n",
              "    }\n",
              "    40% {\n",
              "      border-color: transparent;\n",
              "      border-right-color: var(--fill-color);\n",
              "      border-top-color: var(--fill-color);\n",
              "    }\n",
              "    60% {\n",
              "      border-color: transparent;\n",
              "      border-right-color: var(--fill-color);\n",
              "    }\n",
              "    80% {\n",
              "      border-color: transparent;\n",
              "      border-right-color: var(--fill-color);\n",
              "      border-bottom-color: var(--fill-color);\n",
              "    }\n",
              "    90% {\n",
              "      border-color: transparent;\n",
              "      border-bottom-color: var(--fill-color);\n",
              "    }\n",
              "  }\n",
              "</style>\n",
              "\n",
              "  <script>\n",
              "    async function quickchart(key) {\n",
              "      const quickchartButtonEl =\n",
              "        document.querySelector('#' + key + ' button');\n",
              "      quickchartButtonEl.disabled = true;  // To prevent multiple clicks.\n",
              "      quickchartButtonEl.classList.add('colab-df-spinner');\n",
              "      try {\n",
              "        const charts = await google.colab.kernel.invokeFunction(\n",
              "            'suggestCharts', [key], {});\n",
              "      } catch (error) {\n",
              "        console.error('Error during call to suggestCharts:', error);\n",
              "      }\n",
              "      quickchartButtonEl.classList.remove('colab-df-spinner');\n",
              "      quickchartButtonEl.classList.add('colab-df-quickchart-complete');\n",
              "    }\n",
              "    (() => {\n",
              "      let quickchartButtonEl =\n",
              "        document.querySelector('#df-07fecfa9-4384-4f90-88ac-d2c7a4d3c849 button');\n",
              "      quickchartButtonEl.style.display =\n",
              "        google.colab.kernel.accessAllowed ? 'block' : 'none';\n",
              "    })();\n",
              "  </script>\n",
              "</div>\n",
              "\n",
              "    </div>\n",
              "  </div>\n"
            ],
            "application/vnd.google.colaboratory.intrinsic+json": {
              "type": "dataframe",
              "summary": "{\n  \"name\": \"df_imdb_train\",\n  \"rows\": 8,\n  \"fields\": [\n    {\n      \"column\": \"label\",\n      \"properties\": {\n        \"dtype\": \"number\",\n        \"std\": 8838.657995712836,\n        \"min\": 0.0,\n        \"max\": 25000.0,\n        \"num_unique_values\": 5,\n        \"samples\": [\n          0.5,\n          1.0,\n          0.50001000030001\n        ],\n        \"semantic_type\": \"\",\n        \"description\": \"\"\n      }\n    },\n    {\n      \"column\": \"count_of_tokens\",\n      \"properties\": {\n        \"dtype\": \"number\",\n        \"std\": 8662.121707638531,\n        \"min\": 11.0,\n        \"max\": 25000.0,\n        \"num_unique_values\": 8,\n        \"samples\": [\n          352.35652,\n          258.0,\n          25000.0\n        ],\n        \"semantic_type\": \"\",\n        \"description\": \"\"\n      }\n    }\n  ]\n}"
            }
          },
          "metadata": {},
          "execution_count": 10
        }
      ],
      "source": [
        "df_imdb_train.describe()"
      ]
    },
    {
      "cell_type": "code",
      "execution_count": 11,
      "metadata": {
        "colab": {
          "base_uri": "https://localhost:8080/",
          "height": 448
        },
        "id": "fR0yenUynlMG",
        "outputId": "35d1489e-f25d-48e9-b3bf-36e0709fd5ff"
      },
      "outputs": [
        {
          "output_type": "execute_result",
          "data": {
            "text/plain": [
              "<Axes: >"
            ]
          },
          "metadata": {},
          "execution_count": 11
        },
        {
          "output_type": "display_data",
          "data": {
            "text/plain": [
              "<Figure size 640x480 with 1 Axes>"
            ],
            "image/png": "[encoded data removed]"
          },
          "metadata": {}
        }
      ],
      "source": [
        "df_imdb_train[\"count_of_tokens\"].hist()"
      ]
    },
    {
      "cell_type": "code",
      "execution_count": 12,
      "metadata": {
        "colab": {
          "base_uri": "https://localhost:8080/"
        },
        "id": "jLjth_kznqcG",
        "outputId": "5cde043f-5d9f-478d-8083-f9ecd6ad1227"
      },
      "outputs": [
        {
          "output_type": "stream",
          "name": "stderr",
          "text": [
            "Progress: 100%|██████████| 5000/5000 [00:02<00:00, 2357.05it/s]\n",
            "Progress: 100%|██████████| 20000/20000 [00:09<00:00, 2195.00it/s]\n"
          ]
        },
        {
          "output_type": "execute_result",
          "data": {
            "text/plain": [
              "(20329, 4144, 16432)"
            ]
          },
          "metadata": {},
          "execution_count": 12
        }
      ],
      "source": [
        "df_imdb_test[\"count_of_tokens\"] = df_imdb_test[\"text\"].progress_apply(lambda x: len(tokenizer.encode(x).ids))\n",
        "df_imdb_validation[\"count_of_tokens\"] = df_imdb_validation[\"text\"].progress_apply(lambda x: len(tokenizer.encode(x).ids))\n",
        "\n",
        "df_imdb_train = df_imdb_train[df_imdb_train[\"count_of_tokens\"] <= 512]\n",
        "df_imdb_test = df_imdb_test[df_imdb_test[\"count_of_tokens\"] <= 512]\n",
        "df_imdb_validation = df_imdb_validation[df_imdb_validation[\"count_of_tokens\"] <= 512]\n",
        "\n",
        "len(df_imdb_train), len(df_imdb_test), len(df_imdb_validation)"
      ]
    },
    {
      "cell_type": "markdown",
      "metadata": {
        "id": "WThEWqAMpB1m"
      },
      "source": [
        "## Prepare to train"
      ]
    },
    {
      "cell_type": "code",
      "execution_count": 13,
      "metadata": {
        "id": "7SyunU8nqn_0"
      },
      "outputs": [],
      "source": [
        "tokenizer.enable_padding(pad_id=tokenizer.token_to_id(\"[PAD]\"), pad_token=\"[PAD]\")\n",
        "tokenizer.enable_truncation(max_length=512)"
      ]
    },
    {
      "cell_type": "code",
      "execution_count": 14,
      "metadata": {
        "id": "2KbWEYavmq3P"
      },
      "outputs": [],
      "source": [
        "def encode_text(texts):\n",
        "    return tokenizer.encode_batch(texts)"
      ]
    },
    {
      "cell_type": "code",
      "execution_count": 15,
      "metadata": {
        "id": "pjx4FTp1pHmn"
      },
      "outputs": [],
      "source": [
        "import torch\n",
        "from torch.utils.data import Dataset\n",
        "\n",
        "class TextDataset(Dataset):\n",
        "    def __init__(self, texts, labels):\n",
        "        self.encodings = encode_text(texts)\n",
        "        self.labels = torch.tensor(labels)\n",
        "\n",
        "    def __len__(self):\n",
        "        return len(self.labels)\n",
        "\n",
        "    def __getitem__(self, idx):\n",
        "        item = {\n",
        "            'input_ids': torch.tensor(self.encodings[idx].ids),\n",
        "            'attention_mask': torch.tensor(self.encodings[idx].attention_mask)\n",
        "        }\n",
        "        return item, self.labels[idx]"
      ]
    },
    {
      "cell_type": "code",
      "execution_count": 35,
      "metadata": {
        "id": "64CPb0FCpfjg"
      },
      "outputs": [],
      "source": [
        "from torch.utils.data import DataLoader\n",
        "\n",
        "dataset_train = TextDataset(df_imdb_train[\"text\"].values, df_imdb_train[\"label\"].values)\n",
        "dataloader_train = DataLoader(dataset_train, batch_size=2, shuffle=True)\n",
        "\n",
        "dataset_validation = TextDataset(df_imdb_validation[\"text\"].values, df_imdb_validation[\"label\"].values)\n",
        "dataloader_validation = DataLoader(dataset_validation, batch_size=2, shuffle=True)\n",
        "\n",
        "dataset_test = TextDataset(df_imdb_test[\"text\"].values, df_imdb_test[\"label\"].values)\n",
        "dataloader_test = DataLoader(dataset_test, batch_size=2, shuffle=True)"
      ]
    },
    {
      "cell_type": "code",
      "execution_count": 17,
      "metadata": {
        "id": "h2OiF-LJrESv"
      },
      "outputs": [],
      "source": [
        "import torch.nn as nn\n",
        "\n",
        "class TextClassifier(nn.Module):\n",
        "    def __init__(self, vocab_size, embedding_dim, hidden_dim, output_dim):\n",
        "        super(TextClassifier, self).__init__()\n",
        "        self.embedding = nn.Embedding(vocab_size, embedding_dim)\n",
        "        self.lstm = nn.LSTM(embedding_dim, hidden_dim, batch_first=True, bidirectional=True)\n",
        "        self.fc = nn.Linear(hidden_dim * 2, output_dim)\n",
        "        self.dropout = nn.Dropout(0.3)\n",
        "\n",
        "    def forward(self, input_ids, attention_mask):\n",
        "        x = self.embedding(input_ids)\n",
        "        x, _ = self.lstm(x)\n",
        "        x = self.dropout(x[:, -1, :])  # Utolsó időlépés\n",
        "        return self.fc(x)"
      ]
    },
    {
      "cell_type": "code",
      "execution_count": 18,
      "metadata": {
        "colab": {
          "base_uri": "https://localhost:8080/"
        },
        "id": "FuiuAURgrLh3",
        "outputId": "0e4a4cac-e6be-4840-e68d-aba8155820c1"
      },
      "outputs": [
        {
          "output_type": "execute_result",
          "data": {
            "text/plain": [
              "(5000, 128, 16, 2)"
            ]
          },
          "metadata": {},
          "execution_count": 18
        }
      ],
      "source": [
        "vocab_size = tokenizer.get_vocab_size()\n",
        "embedding_dim = 128\n",
        "hidden_dim = 16\n",
        "output_dim = 2\n",
        "\n",
        "vocab_size, embedding_dim, hidden_dim, output_dim"
      ]
    },
    {
      "cell_type": "code",
      "execution_count": 30,
      "metadata": {
        "id": "x5pFDvrUrgxv"
      },
      "outputs": [],
      "source": [
        "import torch.optim as optim\n",
        "\n",
        "model = TextClassifier(vocab_size, embedding_dim, hidden_dim, output_dim)\n",
        "criterion = nn.CrossEntropyLoss()\n",
        "optimizer = optim.Adam(model.parameters(), lr=1e-3)"
      ]
    },
    {
      "cell_type": "code",
      "execution_count": 31,
      "metadata": {
        "colab": {
          "base_uri": "https://localhost:8080/"
        },
        "id": "5Q4Hdz_PsfeG",
        "outputId": "b15379fb-5d81-4f59-f8b9-c3db90e0cead"
      },
      "outputs": [
        {
          "output_type": "execute_result",
          "data": {
            "text/plain": [
              "device(type='cuda')"
            ]
          },
          "metadata": {},
          "execution_count": 31
        }
      ],
      "source": [
        "device = torch.device(\"cuda\" if torch.cuda.is_available() else \"cpu\")\n",
        "model.to(device)\n",
        "device"
      ]
    },
    {
      "cell_type": "code",
      "source": [
        "def calculate_accuracy(model, dataloader, device):\n",
        "    model.eval()  # Set the model to evaluation mode\n",
        "    correct_predictions = 0\n",
        "    total_predictions = 0\n",
        "\n",
        "    with torch.no_grad():  # Disable gradient calculation\n",
        "        for batch in dataloader:\n",
        "            inputs, labels = batch\n",
        "            inputs = {key: val.to(device) for key, val in inputs.items()}\n",
        "            labels = labels.to(device)\n",
        "\n",
        "            outputs = model(**inputs)\n",
        "            _, predicted = torch.max(outputs, 1)  # Get the predicted class\n",
        "            total_predictions += labels.size(0)\n",
        "            correct_predictions += (predicted == labels).sum().item()\n",
        "\n",
        "    accuracy = correct_predictions / total_predictions\n",
        "    model.train()\n",
        "    return accuracy"
      ],
      "metadata": {
        "id": "V7gbhKLsNYT2"
      },
      "execution_count": 28,
      "outputs": []
    },
    {
      "cell_type": "code",
      "execution_count": 34,
      "metadata": {
        "colab": {
          "base_uri": "https://localhost:8080/"
        },
        "id": "hJbXzydT2WKx",
        "outputId": "06fc5773-cd3d-4984-c22b-3b75beb250ba"
      },
      "outputs": [
        {
          "output_type": "stream",
          "name": "stderr",
          "text": [
            "epoch: 4, loss: 0.3172, val acc: 0.7843: 100%|██████████| 5/5 [05:53<00:00, 70.67s/it]\n"
          ]
        }
      ],
      "source": [
        "avg_acc = 0\n",
        "pbar = tqdm(range(5))\n",
        "for epoch in pbar:\n",
        "  losses = []\n",
        "  for batch in dataloader_train:\n",
        "      inputs, labels = batch\n",
        "      inputs = {key: val.to(device) for key, val in inputs.items()}\n",
        "      labels = labels.to(device)\n",
        "\n",
        "      optimizer.zero_grad()\n",
        "      outputs = model(**inputs)\n",
        "      loss = criterion(outputs, labels)\n",
        "      loss.backward()\n",
        "      optimizer.step()\n",
        "      losses.append(loss.item())\n",
        "      avg_loss = sum(losses) / len(losses)\n",
        "      pbar.set_description(f\"epoch: {epoch}, loss: {avg_loss:.4f}, val acc: {avg_acc:.4f}\")\n",
        "\n",
        "  avg_loss = sum(losses) / len(losses)\n",
        "  avg_acc = calculate_accuracy(model, dataloader_validation, device)\n",
        "\n",
        "  pbar.set_description(f\"epoch: {epoch+1}, loss: {avg_loss:.4f}, val acc: {avg_acc:.4f}\")"
      ]
    },
    {
      "cell_type": "code",
      "source": [
        "import numpy as np\n",
        "\n",
        "test_samples = []\n",
        "true_labels = []\n",
        "predicted_labels = []\n",
        "\n",
        "random_indices = np.random.choice(len(dataset_test), size=10, replace=False)\n",
        "\n",
        "model.eval()\n",
        "with torch.no_grad():\n",
        "  for i in random_indices:\n",
        "    inputs, label = dataset_test[i]\n",
        "    inputs = {key: val.unsqueeze(0).to(device) for key, val in inputs.items()} # Add batch dimension\n",
        "    label = label.unsqueeze(0).to(device)\n",
        "\n",
        "    outputs = model(**inputs)\n",
        "    _, predicted = torch.max(outputs, 1)\n",
        "\n",
        "    test_samples.append(dataset_test.encodings[i].tokens) # Assuming 'tokens' attribute exists\n",
        "    true_labels.append(label.item())\n",
        "    predicted_labels.append(predicted.item())\n",
        "\n",
        "model.train()\n",
        "\n",
        "for i in range(10):\n",
        "  print(f\"Sample {i+1}:\")\n",
        "  print(f\"\\tTokens: {test_samples[i]}\")\n",
        "  print(f\"\\tTrue Label: {true_labels[i]}\")\n",
        "  print(f\"\\tPredicted Label: {predicted_labels[i]}\")"
      ],
      "metadata": {
        "colab": {
          "base_uri": "https://localhost:8080/"
        },
        "id": "BDsmYS4qSsRY",
        "outputId": "66b0956f-39c9-442c-a955-fd8b1ecb39fd"
      },
      "execution_count": 40,
      "outputs": [
        {
          "output_type": "stream",
          "name": "stdout",
          "text": [
            "Sample 1:\n",
            "\tTokens: ['Jud', '##e', 'Law', ',', 'N', '##ic', '##ole', 'Kid', '##man', ',', 'and', 'Re', '##n', '##ne', 'Z', '##el', '##w', '##ig', '##ger', '.', 'They', 'are', 'all', 'horrible', '.', 'Es', '##pecially', 'the', 'star', ',', 'Jud', '##e', 'Law', '.', '<', 'br', '/><', 'br', '/>', 'It', \"'\", 's', 'directed', 'by', 'the', 'same', 'guy', 'who', 'did', 'the', 'eng', '##lish', 'pat', '##ient', 'and', 'its', 'based', 'on', 'a', 'best', 'sell', '##ing', 'novel', 'of', 'a', 'man', 'ris', '##king', 'all', 'to', 'get', 'back', 'to', 'his', 'lover', 'but', 'unlike', 'the', 'wonderful', 'English', 'pat', '##e', '##int', ',', 'this', 'movie', 'sucks', '.', 'It', 'is', 'really', 'bad', '.<', 'br', '/><', 'br', '/>', 'Wor', '##st', 'dialogue', 'ever', '.', '\"', 'But', 'we', \"'\", 've', 'only', 'know', 'each', 'other', 'for', 'a', 'moment', '\"', '\"', 'But', 'they', 'were', 'a', 'thous', '##and', 'moments', ',', 'like', 'di', '##am', '##ond', '##s', 'in', 'a', 'b', '##ag', '\"', '##<', 'br', '/><', 'br', '/>', 'or', '<', 'br', '/><', 'br', '/>\"', 'In', 'some', 'culture', '##s', 'you', 'just', 'have', 'to', 'say', 'I', 'mar', '##ry', 'you', '3', 'times', 'and', 'you', \"'\", 're', 'married', '\"', 'love', '##y', '-', 'do', '##vey', '-', '##\"', 'I', 'mar', '##ry', 'you', ',', 'I', 'mar', '##ry', 'you', ',', 'I', 'mar', '##ry', 'you', ',', 'I', 'mar', '##ry', 'you', '...', '##\"', '##<', 'br', '/><', 'br', '/>', 'I', \"'\", 'm', 'as', '##ham', '##ed', 'I', 'sat', 'through', 'it', 'all', '.', '<', 'br', '/><', 'br', '/>', 'the', 'whole', 'movie', 'was', 'awful', ',', 'horrible', '....', 'U', '##gh', '##h', 'no', 'words', ',', 'I', \"'\", 'm', 'sick', '.<', 'br', '/><', 'br', '/>', '1', '/', '10', '(', 'the', 'one', 'is', 'for', 'the', 'really', 'loud', 'bull', '##et', 'sounds', ',', 'the', 'sound', 'crew', 'did', 'a', 'good', 'job', ')', '[PAD]', '[PAD]', '[PAD]', '[PAD]', '[PAD]', '[PAD]', '[PAD]', '[PAD]', '[PAD]', '[PAD]', '[PAD]', '[PAD]', '[PAD]', '[PAD]', '[PAD]', '[PAD]', '[PAD]', '[PAD]', '[PAD]', '[PAD]', '[PAD]', '[PAD]', '[PAD]', '[PAD]', '[PAD]', '[PAD]', '[PAD]', '[PAD]', '[PAD]', '[PAD]', '[PAD]', '[PAD]', '[PAD]', '[PAD]', '[PAD]', '[PAD]', '[PAD]', '[PAD]', '[PAD]', '[PAD]', '[PAD]', '[PAD]', '[PAD]', '[PAD]', '[PAD]', '[PAD]', '[PAD]', '[PAD]', '[PAD]', '[PAD]', '[PAD]', '[PAD]', '[PAD]', '[PAD]', '[PAD]', '[PAD]', '[PAD]', '[PAD]', '[PAD]', '[PAD]', '[PAD]', '[PAD]', '[PAD]', '[PAD]', '[PAD]', '[PAD]', '[PAD]', '[PAD]', '[PAD]', '[PAD]', '[PAD]', '[PAD]', '[PAD]', '[PAD]', '[PAD]', '[PAD]', '[PAD]', '[PAD]', '[PAD]', '[PAD]', '[PAD]', '[PAD]', '[PAD]', '[PAD]', '[PAD]', '[PAD]', '[PAD]', '[PAD]', '[PAD]', '[PAD]', '[PAD]', '[PAD]', '[PAD]', '[PAD]', '[PAD]', '[PAD]', '[PAD]', '[PAD]', '[PAD]', '[PAD]', '[PAD]', '[PAD]', '[PAD]', '[PAD]', '[PAD]', '[PAD]', '[PAD]', '[PAD]', '[PAD]', '[PAD]', '[PAD]', '[PAD]', '[PAD]', '[PAD]', '[PAD]', '[PAD]', '[PAD]', '[PAD]', '[PAD]', '[PAD]', '[PAD]', '[PAD]', '[PAD]', '[PAD]', '[PAD]', '[PAD]', '[PAD]', '[PAD]', '[PAD]', '[PAD]', '[PAD]', '[PAD]', '[PAD]', '[PAD]', '[PAD]', '[PAD]', '[PAD]', '[PAD]', '[PAD]', '[PAD]', '[PAD]', '[PAD]', '[PAD]', '[PAD]', '[PAD]', '[PAD]', '[PAD]', '[PAD]', '[PAD]', '[PAD]', '[PAD]', '[PAD]', '[PAD]', '[PAD]', '[PAD]', '[PAD]', '[PAD]', '[PAD]', '[PAD]', '[PAD]', '[PAD]', '[PAD]', '[PAD]', '[PAD]', '[PAD]', '[PAD]', '[PAD]', '[PAD]', '[PAD]', '[PAD]', '[PAD]', '[PAD]', '[PAD]', '[PAD]', '[PAD]', '[PAD]', '[PAD]', '[PAD]', '[PAD]', '[PAD]', '[PAD]', '[PAD]', '[PAD]', '[PAD]', '[PAD]', '[PAD]', '[PAD]', '[PAD]', '[PAD]', '[PAD]', '[PAD]', '[PAD]', '[PAD]', '[PAD]', '[PAD]', '[PAD]', '[PAD]', '[PAD]', '[PAD]', '[PAD]', '[PAD]', '[PAD]', '[PAD]', '[PAD]', '[PAD]', '[PAD]', '[PAD]', '[PAD]', '[PAD]', '[PAD]', '[PAD]', '[PAD]', '[PAD]', '[PAD]', '[PAD]', '[PAD]', '[PAD]', '[PAD]', '[PAD]', '[PAD]', '[PAD]', '[PAD]', '[PAD]', '[PAD]', '[PAD]', '[PAD]', '[PAD]', '[PAD]', '[PAD]', '[PAD]', '[PAD]', '[PAD]', '[PAD]', '[PAD]', '[PAD]', '[PAD]', '[PAD]', '[PAD]', '[PAD]', '[PAD]', '[PAD]', '[PAD]', '[PAD]', '[PAD]', '[PAD]', '[PAD]', '[PAD]', '[PAD]', '[PAD]', '[PAD]']\n",
            "\tTrue Label: 0\n",
            "\tPredicted Label: 0\n",
            "Sample 2:\n",
            "\tTokens: ['I', 'really', 'hope', '##d', 'for', 'the', 'best', 'with', 'this', 'one', ',', 'but', 'it', 'just', 'didn', \"'\", 't', 'happen', '.', 'Fin', '##anced', 'at', 'a', 'very', 'non', '-', 'du', '##t', '##ch', 'manner', 'and', 'still', 'looking', 'great', ',', 'with', 'a', 'style', 'and', 'pace', 'that', \"'\", 's', 'very', 'much', 'like', 'Hollywood', '.', 'What', 'I', 'don', \"'\", 't', 'understand', 'is', 'how', '-', 'with', 'all', 'these', 'great', 'bene', '##f', '##its', '-', 'the', 'director', ',', 'writer', ',', 'producer', 'still', 'managed', 'to', 'make', 'this', 'film', 'a', 'completely', 'horrible', 'picture', 'to', 'watch', '.', 'F', '##illed', 'with', 'bad', 'jokes', ',', 'cheap', 'nudity', 'and', 'actors', 'that', 'just', 'can', \"'\", 't', 'really', 'talk', '[', 'act', ']', 'in', 'the', 'eng', '##lish', 'language', '.', 'K', '##ud', '##o', \"'\", 's', 'for', 'pull', '##ing', 'it', 'off', ',', 'but', 'what', 'was', 'this', 'guy', 'thinking', '!', '[PAD]', '[PAD]', '[PAD]', '[PAD]', '[PAD]', '[PAD]', '[PAD]', '[PAD]', '[PAD]', '[PAD]', '[PAD]', '[PAD]', '[PAD]', '[PAD]', '[PAD]', '[PAD]', '[PAD]', '[PAD]', '[PAD]', '[PAD]', '[PAD]', '[PAD]', '[PAD]', '[PAD]', '[PAD]', '[PAD]', '[PAD]', '[PAD]', '[PAD]', '[PAD]', '[PAD]', '[PAD]', '[PAD]', '[PAD]', '[PAD]', '[PAD]', '[PAD]', '[PAD]', '[PAD]', '[PAD]', '[PAD]', '[PAD]', '[PAD]', '[PAD]', '[PAD]', '[PAD]', '[PAD]', '[PAD]', '[PAD]', '[PAD]', '[PAD]', '[PAD]', '[PAD]', '[PAD]', '[PAD]', '[PAD]', '[PAD]', '[PAD]', '[PAD]', '[PAD]', '[PAD]', '[PAD]', '[PAD]', '[PAD]', '[PAD]', '[PAD]', '[PAD]', '[PAD]', '[PAD]', '[PAD]', '[PAD]', '[PAD]', '[PAD]', '[PAD]', '[PAD]', '[PAD]', '[PAD]', '[PAD]', '[PAD]', '[PAD]', '[PAD]', '[PAD]', '[PAD]', '[PAD]', '[PAD]', '[PAD]', '[PAD]', '[PAD]', '[PAD]', '[PAD]', '[PAD]', '[PAD]', '[PAD]', '[PAD]', '[PAD]', '[PAD]', '[PAD]', '[PAD]', '[PAD]', '[PAD]', '[PAD]', '[PAD]', '[PAD]', '[PAD]', '[PAD]', '[PAD]', '[PAD]', '[PAD]', '[PAD]', '[PAD]', '[PAD]', '[PAD]', '[PAD]', '[PAD]', '[PAD]', '[PAD]', '[PAD]', '[PAD]', '[PAD]', '[PAD]', '[PAD]', '[PAD]', '[PAD]', '[PAD]', '[PAD]', '[PAD]', '[PAD]', '[PAD]', '[PAD]', '[PAD]', '[PAD]', '[PAD]', '[PAD]', '[PAD]', '[PAD]', '[PAD]', '[PAD]', '[PAD]', '[PAD]', '[PAD]', '[PAD]', '[PAD]', '[PAD]', '[PAD]', '[PAD]', '[PAD]', '[PAD]', '[PAD]', '[PAD]', '[PAD]', '[PAD]', '[PAD]', '[PAD]', '[PAD]', '[PAD]', '[PAD]', '[PAD]', '[PAD]', '[PAD]', '[PAD]', '[PAD]', '[PAD]', '[PAD]', '[PAD]', '[PAD]', '[PAD]', '[PAD]', '[PAD]', '[PAD]', '[PAD]', '[PAD]', '[PAD]', '[PAD]', '[PAD]', '[PAD]', '[PAD]', '[PAD]', '[PAD]', '[PAD]', '[PAD]', '[PAD]', '[PAD]', '[PAD]', '[PAD]', '[PAD]', '[PAD]', '[PAD]', '[PAD]', '[PAD]', '[PAD]', '[PAD]', '[PAD]', '[PAD]', '[PAD]', '[PAD]', '[PAD]', '[PAD]', '[PAD]', '[PAD]', '[PAD]', '[PAD]', '[PAD]', '[PAD]', '[PAD]', '[PAD]', '[PAD]', '[PAD]', '[PAD]', '[PAD]', '[PAD]', '[PAD]', '[PAD]', '[PAD]', '[PAD]', '[PAD]', '[PAD]', '[PAD]', '[PAD]', '[PAD]', '[PAD]', '[PAD]', '[PAD]', '[PAD]', '[PAD]', '[PAD]', '[PAD]', '[PAD]', '[PAD]', '[PAD]', '[PAD]', '[PAD]', '[PAD]', '[PAD]', '[PAD]', '[PAD]', '[PAD]', '[PAD]', '[PAD]', '[PAD]', '[PAD]', '[PAD]', '[PAD]', '[PAD]', '[PAD]', '[PAD]', '[PAD]', '[PAD]', '[PAD]', '[PAD]', '[PAD]', '[PAD]', '[PAD]', '[PAD]', '[PAD]', '[PAD]', '[PAD]', '[PAD]', '[PAD]', '[PAD]', '[PAD]', '[PAD]', '[PAD]', '[PAD]', '[PAD]', '[PAD]', '[PAD]', '[PAD]', '[PAD]', '[PAD]', '[PAD]', '[PAD]', '[PAD]', '[PAD]', '[PAD]', '[PAD]', '[PAD]', '[PAD]', '[PAD]', '[PAD]', '[PAD]', '[PAD]', '[PAD]', '[PAD]', '[PAD]', '[PAD]', '[PAD]', '[PAD]', '[PAD]', '[PAD]', '[PAD]', '[PAD]', '[PAD]', '[PAD]', '[PAD]', '[PAD]', '[PAD]', '[PAD]', '[PAD]', '[PAD]', '[PAD]', '[PAD]', '[PAD]', '[PAD]', '[PAD]', '[PAD]', '[PAD]', '[PAD]', '[PAD]', '[PAD]', '[PAD]', '[PAD]', '[PAD]', '[PAD]', '[PAD]', '[PAD]', '[PAD]', '[PAD]', '[PAD]', '[PAD]', '[PAD]', '[PAD]', '[PAD]', '[PAD]', '[PAD]', '[PAD]', '[PAD]', '[PAD]', '[PAD]', '[PAD]', '[PAD]', '[PAD]', '[PAD]', '[PAD]', '[PAD]', '[PAD]', '[PAD]', '[PAD]', '[PAD]', '[PAD]', '[PAD]', '[PAD]', '[PAD]', '[PAD]', '[PAD]', '[PAD]', '[PAD]', '[PAD]', '[PAD]', '[PAD]', '[PAD]', '[PAD]', '[PAD]', '[PAD]', '[PAD]', '[PAD]', '[PAD]', '[PAD]', '[PAD]', '[PAD]', '[PAD]', '[PAD]', '[PAD]', '[PAD]', '[PAD]', '[PAD]', '[PAD]', '[PAD]', '[PAD]', '[PAD]', '[PAD]', '[PAD]', '[PAD]', '[PAD]', '[PAD]', '[PAD]', '[PAD]', '[PAD]', '[PAD]', '[PAD]', '[PAD]', '[PAD]', '[PAD]', '[PAD]', '[PAD]']\n",
            "\tTrue Label: 0\n",
            "\tPredicted Label: 0\n",
            "Sample 3:\n",
            "\tTokens: ['Gar', '##lin', 'out', '##d', '##oes', 'himself', 'as', 'writer', '-', 'director', '-', 'actor', 'in', 'his', 'ind', '##ie', 'production', 'about', 'a', 'big', 'guy', '(', 'Gar', '##lin', ')', 'wa', '##nder', '##ing', 'around', 'Ch', '##ica', '##go', 'with', 'an', 'eye', 'for', 'every', 'woman', 'he', 'sees', '.', 'The', 'laughs', 'keep', 'coming', 'almost', 'every', 'minute', '.', 'It', \"'\", 's', 'a', 'somewhat', 'dramatic', 'and', 'serious', 'story', 'about', 'a', 'man', 'looking', 'for', 'love', ',', 'but', 'done', 'with', 'great', 'comedic', 'writing', 'and', 'acting', '.', 'The', 'supporting', 'roles', 'are', 'also', 'very', 'well', 'done', 'and', 'very', 'funny', 'and', 'really', 'make', 'the', 'movie', 'rich', '.<', 'br', '/><', 'br', '/>', 'Rose', 'Ab', '##d', '##oo', 'is', 'hy', '##ster', '##ical', 'in', 'her', 'rece', '##pt', '##ion', '##ist', 'role', 'taking', 'you', 'right', 'into', 'the', 'mood', 'of', 'the', 'rest', 'of', 'the', 'film', '.', 'Sar', '##a', 'Sil', '##ver', '##man', 'is', 'awesome', 'with', 'some', 'of', 'the', 'great', 'bits', 'she', 'does', 'with', 'Jeff', '.', 'Bo', '##n', '##n', '##ie', 'Hu', '##n', '##t', 'is', 'classic', '##ally', 'great', 'in', 'her', 'role', '.', 'I', 'only', 'wish', 'there', 'was', 'more', 'of', 'her', 'in', 'the', 'film', ',', 'as', 'I', 'think', 'most', 'will', 'agree', '.', 'It', \"'\", 's', 'certainly', 'ref', '##res', '##hing', 'to', 'see', 'her', 'in', 'a', 'tight', 'le', '##ather', 'out', '##f', '##it', '.<', 'br', '/><', 'br', '/>', 'David', 'Pa', '##s', '##que', '##s', '##i', 'was', 'the', 'al', '##oof', 'det', '##ach', '##ed', 'side', '##ki', '##ck', ',', 'and', 'voice', 'of', 'reason', '.', 'Mi', '##na', 'K', '##ol', '##b', 'plays', 'Jeff', \"'\", 's', 'mother', 'who', 'he', 'lives', 'with', '.', 'There', 'were', 'numerous', 'other', 'came', '##os', ',', 'all', 'of', 'them', 'done', 'very', 'well', '.<', 'br', '/><', 'br', '/>', 'At', 'the', 'prem', '##ier', 'Jeff', 'mentioned', 'his', 'in', '##ability', 'to', 'do', 'more', 'with', 'Bo', '##n', '##n', '##ie', 'due', 'to', 'production', 'issues', '.', 'Still', ',', 'it', \"'\", 's', 'good', 'to', 'leave', 'you', 'wanting', 'more', '.', 'I', 'think', 'it', \"'\", 's', 'that', 'ind', '##ie', 'thing', 'of', 'keeping', 'some', 'things', 'amb', '##ig', '##uous', 'to', 'let', 'the', 'audience', 'do', 'some', 'thinking', 'for', 'themselves', 'to', 'fill', 'in', 'the', 'bl', '##anks', '.', 'The', 'word', '##y', 'title', 'should', 'cl', '##ue', 'you', 'in', 'to', 'this', '.<', 'br', '/><', 'br', '/>', 'Jeff', 'said', 'some', 'of', 'the', 'basic', 'characters', 'were', 'based', 'on', 'his', 'past', 'relationships', '.', 'This', 'explain', '##s', 'why', 'they', 'work', 'so', 'well', '.', 'Re', '##al', 'life', 'people', 'are', 'always', 'unusual', '##ly', 'color', '##ful', 'and', 'makes', 'great', 'characters', '.', 'He', 'depart', '##s', 'quite', 'a', 'bit', 'from', 'what', 'you', 'might', 'expect', ',', 'having', 'seen', 'C', '##urb', 'You', '##r', 'En', '##th', '##us', '##ia', '##s', '##m', 'and', 'some', 'of', 'his', 'other', 'work', '.', 'It', \"'\", 's', 'one', 'of', 'those', 'break', 'out', 'things', 'where', 'an', 'actor', 'takes', 'some', 'ris', '##ks', 'to', 'do', 'something', 'they', 'maybe', 'always', 'wanted', 'to', 'do', 'but', 'couldn', \"'\", 't', '.<', 'br', '/><', 'br', '/>', 'I', 'think', 'it', \"'\", 's', 'note', '##wor', '##th', '##y', 'that', 'Gar', '##lin', \"'\", 's', 'impr', '##ov', 'Second', 'City', 'background', ',', 'and', 'Hu', '##n', '##t', \"'\", 's', 'for', 'that', 'matter', ',', 'set', 'the', 'style', 'here', 'of', 'acting', 'being', 'the', 'focus', 'of', 'the', 'story', 'and', 'the', 'directing', '.', 'It', \"'\", 's', 'perhaps', 'a', 'new', 'inn', '##ov', '##ative', 'hy', '##br', '##id', 'of', 'impr', '##ov', 'meets', 'ind', '##ie', 'film', '-', 'making', '.', '[PAD]', '[PAD]', '[PAD]', '[PAD]', '[PAD]']\n",
            "\tTrue Label: 1\n",
            "\tPredicted Label: 1\n",
            "Sample 4:\n",
            "\tTokens: ['people', ',', 'get', 'a', 'cl', '##ue', '!', 'I', 'mean', ',', 'the', 'writers', 'don', '##t', 'have', 'one', ',', 'so', 'I', 'would', 'expect', 'you', 'to', '...', 'this', 'show', 'is', 'S', '##U', '##CH', 'a', 'p', '##ale', 'im', '##itation', 'of', 'the', \"'\", '60', 'show', 'that', 'you', 'can', 'laugh', 'at', 'it', '!', 'and', 'the', 'six', '##t', '##ies', 'show', 'is', 'the', 'one', 'with', 'the', 'cheap', 'special', 'effects', ',', 'and', 'is', 'in', 'B', '&', 'W', 'fe', '##r', 'Chris', '##s', '##akes', '!', 'Yet', 'the', 'mood', 'and', 'the', 'writing', 'on', 'the', 'old', 'show', 'is', 'M', '##IL', '##ES', 'ahead', 'of', 'this', 'drive', '##l', '.', 'Ge', '##t', 'H', '##i', '##P', 'kids', '!', 'if', '9', '##8', 'De', '##gr', '##ee', '##s', 'or', 'Brit', '##ta', '##ny', 'told', 'you', 'to', 'watch', 'it', ',', 'you', 'would', '!', 'You', 'know', 'it', '!', 'Just', 'by', '##p', '##ass', 'them', 'and', 'tell', 'all', 'your', 'friends', 'you', 'were', \"'\", 'IN', \"'\", 'with', 'the', \"'\", 'scene', \"'\", 'B', '##E', '##F', '##OR', '##E', 'it', 'became', 'too', 'cool', '!', '[PAD]', '[PAD]', '[PAD]', '[PAD]', '[PAD]', '[PAD]', '[PAD]', '[PAD]', '[PAD]', '[PAD]', '[PAD]', '[PAD]', '[PAD]', '[PAD]', '[PAD]', '[PAD]', '[PAD]', '[PAD]', '[PAD]', '[PAD]', '[PAD]', '[PAD]', '[PAD]', '[PAD]', '[PAD]', '[PAD]', '[PAD]', '[PAD]', '[PAD]', '[PAD]', '[PAD]', '[PAD]', '[PAD]', '[PAD]', '[PAD]', '[PAD]', '[PAD]', '[PAD]', '[PAD]', '[PAD]', '[PAD]', '[PAD]', '[PAD]', '[PAD]', '[PAD]', '[PAD]', '[PAD]', '[PAD]', '[PAD]', '[PAD]', '[PAD]', '[PAD]', '[PAD]', '[PAD]', '[PAD]', '[PAD]', '[PAD]', '[PAD]', '[PAD]', '[PAD]', '[PAD]', '[PAD]', '[PAD]', '[PAD]', '[PAD]', '[PAD]', '[PAD]', '[PAD]', '[PAD]', '[PAD]', '[PAD]', '[PAD]', '[PAD]', '[PAD]', '[PAD]', '[PAD]', '[PAD]', '[PAD]', '[PAD]', '[PAD]', '[PAD]', '[PAD]', '[PAD]', '[PAD]', '[PAD]', '[PAD]', '[PAD]', '[PAD]', '[PAD]', '[PAD]', '[PAD]', '[PAD]', '[PAD]', '[PAD]', '[PAD]', '[PAD]', '[PAD]', '[PAD]', '[PAD]', '[PAD]', '[PAD]', '[PAD]', '[PAD]', '[PAD]', '[PAD]', '[PAD]', '[PAD]', '[PAD]', '[PAD]', '[PAD]', '[PAD]', '[PAD]', '[PAD]', '[PAD]', '[PAD]', '[PAD]', '[PAD]', '[PAD]', '[PAD]', '[PAD]', '[PAD]', '[PAD]', '[PAD]', '[PAD]', '[PAD]', '[PAD]', '[PAD]', '[PAD]', '[PAD]', '[PAD]', '[PAD]', '[PAD]', '[PAD]', '[PAD]', '[PAD]', '[PAD]', '[PAD]', '[PAD]', '[PAD]', '[PAD]', '[PAD]', '[PAD]', '[PAD]', '[PAD]', '[PAD]', '[PAD]', '[PAD]', '[PAD]', '[PAD]', '[PAD]', '[PAD]', '[PAD]', '[PAD]', '[PAD]', '[PAD]', '[PAD]', '[PAD]', '[PAD]', '[PAD]', '[PAD]', '[PAD]', '[PAD]', '[PAD]', '[PAD]', '[PAD]', '[PAD]', '[PAD]', '[PAD]', '[PAD]', '[PAD]', '[PAD]', '[PAD]', '[PAD]', '[PAD]', '[PAD]', '[PAD]', '[PAD]', '[PAD]', '[PAD]', '[PAD]', '[PAD]', '[PAD]', '[PAD]', '[PAD]', '[PAD]', '[PAD]', '[PAD]', '[PAD]', '[PAD]', '[PAD]', '[PAD]', '[PAD]', '[PAD]', '[PAD]', '[PAD]', '[PAD]', '[PAD]', '[PAD]', '[PAD]', '[PAD]', '[PAD]', '[PAD]', '[PAD]', '[PAD]', '[PAD]', '[PAD]', '[PAD]', '[PAD]', '[PAD]', '[PAD]', '[PAD]', '[PAD]', '[PAD]', '[PAD]', '[PAD]', '[PAD]', '[PAD]', '[PAD]', '[PAD]', '[PAD]', '[PAD]', '[PAD]', '[PAD]', '[PAD]', '[PAD]', '[PAD]', '[PAD]', '[PAD]', '[PAD]', '[PAD]', '[PAD]', '[PAD]', '[PAD]', '[PAD]', '[PAD]', '[PAD]', '[PAD]', '[PAD]', '[PAD]', '[PAD]', '[PAD]', '[PAD]', '[PAD]', '[PAD]', '[PAD]', '[PAD]', '[PAD]', '[PAD]', '[PAD]', '[PAD]', '[PAD]', '[PAD]', '[PAD]', '[PAD]', '[PAD]', '[PAD]', '[PAD]', '[PAD]', '[PAD]', '[PAD]', '[PAD]', '[PAD]', '[PAD]', '[PAD]', '[PAD]', '[PAD]', '[PAD]', '[PAD]', '[PAD]', '[PAD]', '[PAD]', '[PAD]', '[PAD]', '[PAD]', '[PAD]', '[PAD]', '[PAD]', '[PAD]', '[PAD]', '[PAD]', '[PAD]', '[PAD]', '[PAD]', '[PAD]', '[PAD]', '[PAD]', '[PAD]', '[PAD]', '[PAD]', '[PAD]', '[PAD]', '[PAD]', '[PAD]', '[PAD]', '[PAD]', '[PAD]', '[PAD]', '[PAD]', '[PAD]', '[PAD]', '[PAD]', '[PAD]', '[PAD]', '[PAD]', '[PAD]', '[PAD]', '[PAD]', '[PAD]', '[PAD]', '[PAD]', '[PAD]', '[PAD]', '[PAD]', '[PAD]', '[PAD]', '[PAD]', '[PAD]', '[PAD]', '[PAD]', '[PAD]', '[PAD]', '[PAD]', '[PAD]', '[PAD]', '[PAD]', '[PAD]', '[PAD]', '[PAD]', '[PAD]', '[PAD]', '[PAD]', '[PAD]', '[PAD]', '[PAD]', '[PAD]', '[PAD]', '[PAD]', '[PAD]', '[PAD]', '[PAD]', '[PAD]', '[PAD]', '[PAD]', '[PAD]', '[PAD]', '[PAD]', '[PAD]', '[PAD]', '[PAD]', '[PAD]', '[PAD]', '[PAD]', '[PAD]', '[PAD]', '[PAD]', '[PAD]', '[PAD]']\n",
            "\tTrue Label: 0\n",
            "\tPredicted Label: 1\n",
            "Sample 5:\n",
            "\tTokens: ['I', 'bought', 'a', 'DVD', 'collection', '(', '9', 'movies', 'for', '10', 'Eur', '##os', ')', 'where', 'this', 'one', 'was', 'included', '.', 'It', 'turned', 'out', 'to', 'be', 'the', '\"', 'unc', '##ut', 'version', '\"', 'whatever', 'that', 'means', '.', 'Be', '##side', 'the', 'low', 'average', 'quality', 'and', 'short', 'scenes', 'there', 'was', 'one', 'thing', 'that', 'was', 'really', 'strange', '-', 'the', 'soft', 'sex', 'scene', '.', 'It', 'started', 'with', 'a', 'close', 'up', 'of', '2', 'bigger', 'br', '##e', '##asts', '.', 'After', 'around', '2', 'minutes', 'I', 'had', 'an', 'express', '##ion', 'on', 'my', 'face', 'which', 'fit', '##ted', 'the', 'ter', '##m', '\"', 'boo', '##oo', '##oo', '##oo', '##oo', '##oo', '##oring', '!\"', 'quite', 'perfectly', '.', '7', '.', '5', 'minutes', 'of', 'not', 'even', 'bo', '##un', '##cing', 'conc', '##ret', '##e', 'like', 'tit', '##s', '(', 'at', 'this', 'point', 'the', 'ter', '##m', 'br', '##e', '##asts', 'is', 'a', 'bad', 'choice', ')', 'is', 'far', 'beyond', 'from', 'entertainment', '.<', 'br', '/><', 'br', '/>', 'The', 'rest', 'of', 'the', 'movie', 'was', 'more', 'like', '\"', 'people', 'aren', \"'\", 't', '/', 'that', '/', 'stupid', ',', 'are', 'they', '?\"', '<', 'br', '/><', 'br', '/>', 'Luc', '##ky', 'me', ',', 'the', 'DVD', 'was', 'sc', '##ra', '##t', '##ched', 'and', 'I', 'got', 'my', 'money', 'back', '.', '[PAD]', '[PAD]', '[PAD]', '[PAD]', '[PAD]', '[PAD]', '[PAD]', '[PAD]', '[PAD]', '[PAD]', '[PAD]', '[PAD]', '[PAD]', '[PAD]', '[PAD]', '[PAD]', '[PAD]', '[PAD]', '[PAD]', '[PAD]', '[PAD]', '[PAD]', '[PAD]', '[PAD]', '[PAD]', '[PAD]', '[PAD]', '[PAD]', '[PAD]', '[PAD]', '[PAD]', '[PAD]', '[PAD]', '[PAD]', '[PAD]', '[PAD]', '[PAD]', '[PAD]', '[PAD]', '[PAD]', '[PAD]', '[PAD]', '[PAD]', '[PAD]', '[PAD]', '[PAD]', '[PAD]', '[PAD]', '[PAD]', '[PAD]', '[PAD]', '[PAD]', '[PAD]', '[PAD]', '[PAD]', '[PAD]', '[PAD]', '[PAD]', '[PAD]', '[PAD]', '[PAD]', '[PAD]', '[PAD]', '[PAD]', '[PAD]', '[PAD]', '[PAD]', '[PAD]', '[PAD]', '[PAD]', '[PAD]', '[PAD]', '[PAD]', '[PAD]', '[PAD]', '[PAD]', '[PAD]', '[PAD]', '[PAD]', '[PAD]', '[PAD]', '[PAD]', '[PAD]', '[PAD]', '[PAD]', '[PAD]', '[PAD]', '[PAD]', '[PAD]', '[PAD]', '[PAD]', '[PAD]', '[PAD]', '[PAD]', '[PAD]', '[PAD]', '[PAD]', '[PAD]', '[PAD]', '[PAD]', '[PAD]', '[PAD]', '[PAD]', '[PAD]', '[PAD]', '[PAD]', '[PAD]', '[PAD]', '[PAD]', '[PAD]', '[PAD]', '[PAD]', '[PAD]', '[PAD]', '[PAD]', '[PAD]', '[PAD]', '[PAD]', '[PAD]', '[PAD]', '[PAD]', '[PAD]', '[PAD]', '[PAD]', '[PAD]', '[PAD]', '[PAD]', '[PAD]', '[PAD]', '[PAD]', '[PAD]', '[PAD]', '[PAD]', '[PAD]', '[PAD]', '[PAD]', '[PAD]', '[PAD]', '[PAD]', '[PAD]', '[PAD]', '[PAD]', '[PAD]', '[PAD]', '[PAD]', '[PAD]', '[PAD]', '[PAD]', '[PAD]', '[PAD]', '[PAD]', '[PAD]', '[PAD]', '[PAD]', '[PAD]', '[PAD]', '[PAD]', '[PAD]', '[PAD]', '[PAD]', '[PAD]', '[PAD]', '[PAD]', '[PAD]', '[PAD]', '[PAD]', '[PAD]', '[PAD]', '[PAD]', '[PAD]', '[PAD]', '[PAD]', '[PAD]', '[PAD]', '[PAD]', '[PAD]', '[PAD]', '[PAD]', '[PAD]', '[PAD]', '[PAD]', '[PAD]', '[PAD]', '[PAD]', '[PAD]', '[PAD]', '[PAD]', '[PAD]', '[PAD]', '[PAD]', '[PAD]', '[PAD]', '[PAD]', '[PAD]', '[PAD]', '[PAD]', '[PAD]', '[PAD]', '[PAD]', '[PAD]', '[PAD]', '[PAD]', '[PAD]', '[PAD]', '[PAD]', '[PAD]', '[PAD]', '[PAD]', '[PAD]', '[PAD]', '[PAD]', '[PAD]', '[PAD]', '[PAD]', '[PAD]', '[PAD]', '[PAD]', '[PAD]', '[PAD]', '[PAD]', '[PAD]', '[PAD]', '[PAD]', '[PAD]', '[PAD]', '[PAD]', '[PAD]', '[PAD]', '[PAD]', '[PAD]', '[PAD]', '[PAD]', '[PAD]', '[PAD]', '[PAD]', '[PAD]', '[PAD]', '[PAD]', '[PAD]', '[PAD]', '[PAD]', '[PAD]', '[PAD]', '[PAD]', '[PAD]', '[PAD]', '[PAD]', '[PAD]', '[PAD]', '[PAD]', '[PAD]', '[PAD]', '[PAD]', '[PAD]', '[PAD]', '[PAD]', '[PAD]', '[PAD]', '[PAD]', '[PAD]', '[PAD]', '[PAD]', '[PAD]', '[PAD]', '[PAD]', '[PAD]', '[PAD]', '[PAD]', '[PAD]', '[PAD]', '[PAD]', '[PAD]', '[PAD]', '[PAD]', '[PAD]', '[PAD]', '[PAD]', '[PAD]', '[PAD]', '[PAD]', '[PAD]', '[PAD]', '[PAD]', '[PAD]', '[PAD]', '[PAD]', '[PAD]', '[PAD]', '[PAD]', '[PAD]', '[PAD]', '[PAD]', '[PAD]', '[PAD]', '[PAD]', '[PAD]', '[PAD]', '[PAD]', '[PAD]', '[PAD]', '[PAD]', '[PAD]', '[PAD]', '[PAD]', '[PAD]', '[PAD]', '[PAD]', '[PAD]', '[PAD]', '[PAD]', '[PAD]', '[PAD]', '[PAD]', '[PAD]', '[PAD]', '[PAD]', '[PAD]', '[PAD]', '[PAD]', '[PAD]', '[PAD]', '[PAD]', '[PAD]', '[PAD]', '[PAD]', '[PAD]', '[PAD]']\n",
            "\tTrue Label: 0\n",
            "\tPredicted Label: 0\n",
            "Sample 6:\n",
            "\tTokens: ['The', 'first', 'half', 'of', 'this', 'movie', 'was', 'quite', 'good', '.', 'It', 'was', 'interesting', 'and', 'suspense', '##ful', '.', 'The', 'second', 'half', 'was', 'pretty', 'bad', '.', 'The', 'comic', 'book', 'revenge', 'story', 'came', 'full', 'cir', '##cle', 'and', 'we', 'see', 'lots', 'of', 'comic', 'Naz', '##i', 'characters', 'and', 'some', 'badly', 'acted', '\"', 'good', 'guys', '\"', 'bl', '##owing', 'them', 'away', '.', 'There', \"'\", 's', 'a', 'lot', 'of', 'violence', 'in', 'this', 'movie', '.', 'I', \"'\", 'm', 'not', 'squ', '##e', '##am', '##ish', 'about', 'violence', 'but', 'I', 'think', 'it', 'should', 'at', 'least', 'have', 'some', 'purpose', 'in', 'a', 'movie', '.', 'There', 'was', 'little', 'purpose', 'to', 'the', 'violence', 'here', 'except', 'to', 'create', 'a', 'genre', 'film', 'where', 'we', 'see', 'lots', 'of', 'people', 'getting', 'm', '##ow', '##ed', 'down', 'with', 'ri', '##f', '##les', '.', 'We', \"'\", 're', 'somehow', 'supposed', 'to', 'be', 'am', '##used', 'by', 'this', '.<', 'br', '/><', 'br', '/>', 'I', 'watched', 'Re', '##se', '##r', '##v', '##o', '##ir', 'Do', '##g', '##s', 'recently', '.', 'There', 'was', 'a', 'movie', 'where', 'violence', 'was', 'employ', '##ed', 'effective', '##ly', '.', 'It', 'was', 'realistic', 'within', 'the', 'world', 'the', 'movie', 'created', '.', 'There', 'were', 'never', 'any', 'over', '-', 'the', '-', 'top', 'sound', 'effect', '.', 'It', 'was', 'a', 'crime', 'movie', 'which', 'played', 'it', 'straight', '.', 'In', '##gl', '##orious', 'Bas', '##ter', '##d', '##s', 'should', 'have', 'played', 'it', 'straight', 'but', 'didn', \"'\", 't', '.', 'I', 'was', 'roll', '##ing', 'my', 'eyes', 'at', 'how', 'the', 'violence', 'was', 'ex', '##agger', '##ated', 'with', 'sound', 'effects', 'and', 'extra', 'bull', '##ets', 'to', 'the', 'head', 'and', 'face', '.<', 'br', '/><', 'br', '/>', 'No', '##ne', 'of', 'the', 'back', '-', 'story', 'of', 'any', 'of', 'the', 'Bas', '##ter', '##d', '##s', 'is', 'really', 'explained', 'either', ',', 'they', \"'\", 're', 'simply', 'Naz', '##i', 'hun', '##ters', '.', 'We', 'don', \"'\", 't', 'really', 'get', 'to', 'like', 'any', 'of', 'them', 'either', 'because', 'they', \"'\", 're', 'too', 'bus', '##y', 'cut', '##ting', 'sc', '##al', '##ps', 'off', 'and', 'shooting', 'people', 'in', 'the', 'face', '.', 'It', \"'\", 's', 'all', 'about', '\"', 'revenge', '\"', 'and', 'very', 'little', 'else', '.<', 'br', '/><', 'br', '/>', 'There', 'was', '2', '1', '/', '2', 'hours', 'to', 'work', 'with', 'here', 'but', 'few', 'of', 'the', 'Bas', '##ter', '##d', '##s', 'were', 'really', 'exam', '##ined', 'in', 'depth', '.', 'This', 'seems', 'like', 'it', 'was', 'simply', 'a', 'revenge', 'flick', 'pure', 'and', 'simple', '.', 'We', 'saw', 'that', 'in', 'Tar', '##ant', '##ino', \"'\", 's', 'last', 'flick', ',', '\"', 'Death', 'Pro', '##o', '##f', '\"', 'which', 'I', 'didn', \"'\", 't', 'care', 'for', 'either', '.', 'It', 'suffer', '##ed', 'the', 'same', 'problems', '.', 'The', 'characters', 'were', 'almost', 'inter', '##ch', '##ange', '##able', '.<', 'br', '/><', 'br', '/>', 'The', 'first', 'half', 'again', ',', 'was', 'pretty', 'good', '.', 'I', 'wanted', 'to', 'see', 'the', 'explo', '##its', 'of', 'the', 'In', '##gl', '##orious', 'Bas', '##ter', '##d', '##s', 'across', 'Europe', '.', 'I', 'was', 'presented', 'with', 'a', 'much', 'lame', '##r', 'movie', 'about', 'the', 'res', '##ist', '##ance', 'move', '##ment', 'plot', '##ting', 'revenge', 'against', 'some', 'comic', 'book', 'Naz', '##is', 'when', 'they', 'all', 'go', 'to', 'one', 'movie', 'prem', '##ier', '##e', 'in', 'Fran', '##ce', '.', '[PAD]', '[PAD]', '[PAD]', '[PAD]', '[PAD]', '[PAD]', '[PAD]', '[PAD]', '[PAD]', '[PAD]', '[PAD]', '[PAD]', '[PAD]', '[PAD]', '[PAD]', '[PAD]', '[PAD]', '[PAD]', '[PAD]', '[PAD]', '[PAD]', '[PAD]', '[PAD]', '[PAD]', '[PAD]', '[PAD]', '[PAD]', '[PAD]', '[PAD]', '[PAD]', '[PAD]', '[PAD]', '[PAD]', '[PAD]', '[PAD]', '[PAD]', '[PAD]', '[PAD]', '[PAD]', '[PAD]']\n",
            "\tTrue Label: 0\n",
            "\tPredicted Label: 0\n",
            "Sample 7:\n",
            "\tTokens: ['The', 'filmmakers', 'apparently', 'had', 'enough', 'money', 'to', 'be', 'able', 'to', 'aff', '##ord', 'decent', 'make', '##up', 'effects', ',', 'but', 'not', 'enough', 'for', 'a', 'creature', 'that', 'would', 'move', 'around', 'and', 'attack', 'convincing', '##ly', '.', 'We', 'never', 'get', 'a', 'chance', 'to', 'see', 'the', '\"', 'monster', '\"', 'move', 'from', 'one', 'place', 'to', 'another', '-', 'when', '##ever', 'that', 'happens', '(', 'supposedly', '),', 'the', 'camera', 'focus', '##es', 'on', 'the', '\"', 'terrif', '##ied', '\"', 'reaction', '##s', 'of', 'the', 'humans', 'that', 'are', 'near', '##by', '.', 'And', 'when', 'a', 'man', 'is', 'attack', '##ed', 'by', 'it', ',', 'he', 'simply', 'seems', 'to', 'be', 'hold', '##ing', 'an', 'in', '##an', '##im', '##ate', 'object', 'against', 'himself', 'so', 'that', 'it', 'won', \"'\", 't', 'fall', 'to', 'the', 'ground', '.', 'This', 'is', 'still', 'not', 'the', 'worst', '\"', 'Al', '##ien', '\"', 'rip', '-', 'off', 'around', '(', 'the', 'two', '\"', 'X', '##t', '##ro', '\"', 'films', 'are', 'even', 'worse', ',', 'for', 'example', ');', 'it', \"'\", 's', 'actually', 'suff', '##ic', '##ient', '##ly', 'entertaining', 'if', 'you', \"'\", 've', 'got', '6', '##8', '(', '##!!', '##)', 'minutes', 'to', 'sp', '##are', '.', '(', '##*', '1', '/', '2', ')', '[PAD]', '[PAD]', '[PAD]', '[PAD]', '[PAD]', '[PAD]', '[PAD]', '[PAD]', '[PAD]', '[PAD]', '[PAD]', '[PAD]', '[PAD]', '[PAD]', '[PAD]', '[PAD]', '[PAD]', '[PAD]', '[PAD]', '[PAD]', '[PAD]', '[PAD]', '[PAD]', '[PAD]', '[PAD]', '[PAD]', '[PAD]', '[PAD]', '[PAD]', '[PAD]', '[PAD]', '[PAD]', '[PAD]', '[PAD]', '[PAD]', '[PAD]', '[PAD]', '[PAD]', '[PAD]', '[PAD]', '[PAD]', '[PAD]', '[PAD]', '[PAD]', '[PAD]', '[PAD]', '[PAD]', '[PAD]', '[PAD]', '[PAD]', '[PAD]', '[PAD]', '[PAD]', '[PAD]', '[PAD]', '[PAD]', '[PAD]', '[PAD]', '[PAD]', '[PAD]', '[PAD]', '[PAD]', '[PAD]', '[PAD]', '[PAD]', '[PAD]', '[PAD]', '[PAD]', '[PAD]', '[PAD]', '[PAD]', '[PAD]', '[PAD]', '[PAD]', '[PAD]', '[PAD]', '[PAD]', '[PAD]', '[PAD]', '[PAD]', '[PAD]', '[PAD]', '[PAD]', '[PAD]', '[PAD]', '[PAD]', '[PAD]', '[PAD]', '[PAD]', '[PAD]', '[PAD]', '[PAD]', '[PAD]', '[PAD]', '[PAD]', '[PAD]', '[PAD]', '[PAD]', '[PAD]', '[PAD]', '[PAD]', '[PAD]', '[PAD]', '[PAD]', '[PAD]', '[PAD]', '[PAD]', '[PAD]', '[PAD]', '[PAD]', '[PAD]', '[PAD]', '[PAD]', '[PAD]', '[PAD]', '[PAD]', '[PAD]', '[PAD]', '[PAD]', '[PAD]', '[PAD]', '[PAD]', '[PAD]', '[PAD]', '[PAD]', '[PAD]', '[PAD]', '[PAD]', '[PAD]', '[PAD]', '[PAD]', '[PAD]', '[PAD]', '[PAD]', '[PAD]', '[PAD]', '[PAD]', '[PAD]', '[PAD]', '[PAD]', '[PAD]', '[PAD]', '[PAD]', '[PAD]', '[PAD]', '[PAD]', '[PAD]', '[PAD]', '[PAD]', '[PAD]', '[PAD]', '[PAD]', '[PAD]', '[PAD]', '[PAD]', '[PAD]', '[PAD]', '[PAD]', '[PAD]', '[PAD]', '[PAD]', '[PAD]', '[PAD]', '[PAD]', '[PAD]', '[PAD]', '[PAD]', '[PAD]', '[PAD]', '[PAD]', '[PAD]', '[PAD]', '[PAD]', '[PAD]', '[PAD]', '[PAD]', '[PAD]', '[PAD]', '[PAD]', '[PAD]', '[PAD]', '[PAD]', '[PAD]', '[PAD]', '[PAD]', '[PAD]', '[PAD]', '[PAD]', '[PAD]', '[PAD]', '[PAD]', '[PAD]', '[PAD]', '[PAD]', '[PAD]', '[PAD]', '[PAD]', '[PAD]', '[PAD]', '[PAD]', '[PAD]', '[PAD]', '[PAD]', '[PAD]', '[PAD]', '[PAD]', '[PAD]', '[PAD]', '[PAD]', '[PAD]', '[PAD]', '[PAD]', '[PAD]', '[PAD]', '[PAD]', '[PAD]', '[PAD]', '[PAD]', '[PAD]', '[PAD]', '[PAD]', '[PAD]', '[PAD]', '[PAD]', '[PAD]', '[PAD]', '[PAD]', '[PAD]', '[PAD]', '[PAD]', '[PAD]', '[PAD]', '[PAD]', '[PAD]', '[PAD]', '[PAD]', '[PAD]', '[PAD]', '[PAD]', '[PAD]', '[PAD]', '[PAD]', '[PAD]', '[PAD]', '[PAD]', '[PAD]', '[PAD]', '[PAD]', '[PAD]', '[PAD]', '[PAD]', '[PAD]', '[PAD]', '[PAD]', '[PAD]', '[PAD]', '[PAD]', '[PAD]', '[PAD]', '[PAD]', '[PAD]', '[PAD]', '[PAD]', '[PAD]', '[PAD]', '[PAD]', '[PAD]', '[PAD]', '[PAD]', '[PAD]', '[PAD]', '[PAD]', '[PAD]', '[PAD]', '[PAD]', '[PAD]', '[PAD]', '[PAD]', '[PAD]', '[PAD]', '[PAD]', '[PAD]', '[PAD]', '[PAD]', '[PAD]', '[PAD]', '[PAD]', '[PAD]', '[PAD]', '[PAD]', '[PAD]', '[PAD]', '[PAD]', '[PAD]', '[PAD]', '[PAD]', '[PAD]', '[PAD]', '[PAD]', '[PAD]', '[PAD]', '[PAD]', '[PAD]', '[PAD]', '[PAD]', '[PAD]', '[PAD]', '[PAD]', '[PAD]', '[PAD]', '[PAD]', '[PAD]', '[PAD]', '[PAD]', '[PAD]', '[PAD]', '[PAD]', '[PAD]', '[PAD]', '[PAD]', '[PAD]', '[PAD]', '[PAD]', '[PAD]', '[PAD]', '[PAD]', '[PAD]', '[PAD]', '[PAD]', '[PAD]', '[PAD]', '[PAD]', '[PAD]', '[PAD]', '[PAD]', '[PAD]', '[PAD]', '[PAD]', '[PAD]']\n",
            "\tTrue Label: 0\n",
            "\tPredicted Label: 0\n",
            "Sample 8:\n",
            "\tTokens: ['The', 'title', 'is', 'a', 'mis', '##n', '##ome', '##r', ':', 'the', 'movie', 'depict', '##s', 'barely', 'one', 'year', 'of', 'the', 'so', '-', 'called', '\"', 'div', '##in', 'mar', '##qu', '##is', '\"', '.', 'Tw', '##as', 'a', 'hard', 'time', 'for', 'him', \"'\", 'cause', 'he', 'was', 'threat', '##ened', 'by', 'the', 'gu', '##ill', '##ot', '##ine', ':', 'the', 'quiet', 'joy', '##s', 'of', 'the', 're', '##ign', 'of', 'Ter', '##ror', '.<', 'br', '/><', 'br', '/>', 'His', '##to', '##rical', '##ly', 'speaking', ',', 'the', 'background', 'is', 'rather', 'sk', '##et', '##ch', '##y', ':', '\"', 'the', 'f', '##ê', '##te', 'De', 'l', \"'\", 'et', 're', 'su', '##pr', '##em', '##e', '\",', 'Rob', '##es', '##p', '##ier', '##re', \"'\", 's', 'failed', 'attempt', 'to', 'create', 'a', 'sec', '##ular', 'relig', '##ion', ',', 'his', 'down', '##f', '##all', ',', 'a', 'heav', '##en', 'sent', 'opportunity', 'for', 'showing', 'Do', '##ctor', 'Gu', '##ill', '##ot', '##in', \"'\", 's', 'sin', '##ister', 'machine', 'at', 'work', '(', 'full', 'spe', '##ed', ').<', 'br', '/><', 'br', '/>', 'As', 'far', 'as', 'Sad', '##e', 'is', 'concerned', ',', 'it', \"'\", 's', 'a', 'down', '##right', 'mediocre', 'affair', ':', 'he', \"'\", 's', 'waiting', 'in', 'a', 'former', 'nu', '##n', '##ner', '##y', 'with', 'other', 'no', '##ble', '##s', ',', 'a', 'gold', '##en', 'ca', '##ge', 'if', 'you', 'compare', 'it', 'to', ',', 'say', ',', 'Mar', '##ie', '-', 'An', '##to', '##ine', '##t', '##te', \"'\", 's', 'or', 'scientist', 'La', '##v', '##o', '##is', '##ier', \"'\", 's', 'fate', '##s', ',', 'and', 'he', 'exc', '##ha', '##ng', '##es', 'fut', '##ile', 'convers', '##ations', 'with', 'a', 'young', 'v', '##irgin', 'about', 'death', ',', 'love', 'and', 'other', 'tri', '##v', '##ia', '.', 'There', \"'\", 's', 'the', 'ob', '##li', '##g', '##atory', '\"', 'd', '##aring', '\"', 'scene', 'but', 'you', \"'\", 've', 'got', 'to', 'be', 'pat', '##ient', 'because', 'it', \"'\", 's', 'a', 'long', 'time', 'before', 'it', 'comes', 'on', 'the', 'screen', '.', 'And', 'anyway', ',', 'by', 'today', \"'\", 's', 'standards', ',', 'can', 'we', 'call', 'that', 'ris', '##qu', '##é', '?', 'C', '##y', 'En', '##field', \"'\", 's', '\"', 'De', 'Sad', '##e', '\"', ',', 'which', 'enjoy', '##s', 'one', 'of', 'the', 'low', '##est', 'rating', '##s', 'of', 'the', 'IMDb', ',', 'is', 'at', 'least', 'entertaining', ',', 'and', 'Ke', '##ir', 'Du', '##ll', '##e', '##a', 'was', 'a', 'more', 'cred', '##ible', 'mar', '##qu', '##is', 'than', 'the', 'ag', '##ing', 'A', '##ute', '##u', '##il', '.', 'And', 'it', 'feature', '##d', 'John', 'Hu', '##st', '##on', '.', '[PAD]', '[PAD]', '[PAD]', '[PAD]', '[PAD]', '[PAD]', '[PAD]', '[PAD]', '[PAD]', '[PAD]', '[PAD]', '[PAD]', '[PAD]', '[PAD]', '[PAD]', '[PAD]', '[PAD]', '[PAD]', '[PAD]', '[PAD]', '[PAD]', '[PAD]', '[PAD]', '[PAD]', '[PAD]', '[PAD]', '[PAD]', '[PAD]', '[PAD]', '[PAD]', '[PAD]', '[PAD]', '[PAD]', '[PAD]', '[PAD]', '[PAD]', '[PAD]', '[PAD]', '[PAD]', '[PAD]', '[PAD]', '[PAD]', '[PAD]', '[PAD]', '[PAD]', '[PAD]', '[PAD]', '[PAD]', '[PAD]', '[PAD]', '[PAD]', '[PAD]', '[PAD]', '[PAD]', '[PAD]', '[PAD]', '[PAD]', '[PAD]', '[PAD]', '[PAD]', '[PAD]', '[PAD]', '[PAD]', '[PAD]', '[PAD]', '[PAD]', '[PAD]', '[PAD]', '[PAD]', '[PAD]', '[PAD]', '[PAD]', '[PAD]', '[PAD]', '[PAD]', '[PAD]', '[PAD]', '[PAD]', '[PAD]', '[PAD]', '[PAD]', '[PAD]', '[PAD]', '[PAD]', '[PAD]', '[PAD]', '[PAD]', '[PAD]', '[PAD]', '[PAD]', '[PAD]', '[PAD]', '[PAD]', '[PAD]', '[PAD]', '[PAD]', '[PAD]', '[PAD]', '[PAD]', '[PAD]', '[PAD]', '[PAD]', '[PAD]', '[PAD]', '[PAD]', '[PAD]', '[PAD]', '[PAD]', '[PAD]', '[PAD]', '[PAD]', '[PAD]', '[PAD]', '[PAD]', '[PAD]', '[PAD]', '[PAD]', '[PAD]', '[PAD]', '[PAD]', '[PAD]', '[PAD]', '[PAD]', '[PAD]', '[PAD]', '[PAD]', '[PAD]', '[PAD]', '[PAD]', '[PAD]', '[PAD]', '[PAD]', '[PAD]', '[PAD]', '[PAD]', '[PAD]', '[PAD]', '[PAD]', '[PAD]', '[PAD]', '[PAD]', '[PAD]', '[PAD]', '[PAD]', '[PAD]', '[PAD]', '[PAD]', '[PAD]', '[PAD]', '[PAD]', '[PAD]', '[PAD]', '[PAD]', '[PAD]', '[PAD]']\n",
            "\tTrue Label: 0\n",
            "\tPredicted Label: 1\n",
            "Sample 9:\n",
            "\tTokens: ['One', 'unf', '##ortun', '##ate', 'reality', 'of', 'post', '-', 'So', '##v', '##iet', 'Russ', '##ia', 'was', 'that', 'the', 'people', \"'\", 's', 'we', '##lf', '##are', 'didn', \"'\", 't', 'change', 'much', 'from', 'So', '##v', '##iet', 'times', '.', 'As', 'we', 'see', 'in', '\"', 'Win', '##d', '##ow', 'to', 'Paris', '\",', 'most', 'people', 'are', 'still', 'as', 'depress', '##ed', 'as', 'ever', ',', 'while', 'they', 'are', 'enc', '##our', '##aged', 'to', 'go', 'after', 'money', '.<', 'br', '/><', 'br', '/>', 'Then', ',', 'everything', 'changes', 'for', 'music', 'teacher', 'N', '##ik', '##ol', '##ai', 'Ch', '##iz', '##h', '##ov', '(', 'Ser', '##ge', '##i', 'Don', '##ts', '##ov', ')', 'after', 'he', 'finds', 'a', 'wind', '##ow', 'that', 'leads', 'to', 'Paris', '.', 'He', 'and', 'his', 'friends', 'are', 'natural', '##ly', 'quite', 'amaz', '##ed', 'at', 'what', 'they', 'find', '.', 'This', 'movie', 'has', 'one', 'of', 'the', 'funniest', 'discuss', '##ions', 'of', 'El', '##vis', 'Pres', '##ley', 'and', 'Ed', '##ith', 'P', '##ia', '##f', 'that', 'I', \"'\", 've', 'ever', 'heard', '.', 'So', 'watch', 'this', 'movie', '.', 'You', \"'\", 're', 'sure', 'to', 'love', 'it', '.', 'It', \"'\", 's', 'sort', 'of', 'a', 'pre', '##c', '##ur', '##so', '##r', 'to', '\"', 'Be', '##ing', 'John', 'Mal', '##k', '##ov', '##ich', '\".', '[PAD]', '[PAD]', '[PAD]', '[PAD]', '[PAD]', '[PAD]', '[PAD]', '[PAD]', '[PAD]', '[PAD]', '[PAD]', '[PAD]', '[PAD]', '[PAD]', '[PAD]', '[PAD]', '[PAD]', '[PAD]', '[PAD]', '[PAD]', '[PAD]', '[PAD]', '[PAD]', '[PAD]', '[PAD]', '[PAD]', '[PAD]', '[PAD]', '[PAD]', '[PAD]', '[PAD]', '[PAD]', '[PAD]', '[PAD]', '[PAD]', '[PAD]', '[PAD]', '[PAD]', '[PAD]', '[PAD]', '[PAD]', '[PAD]', '[PAD]', '[PAD]', '[PAD]', '[PAD]', '[PAD]', '[PAD]', '[PAD]', '[PAD]', '[PAD]', '[PAD]', '[PAD]', '[PAD]', '[PAD]', '[PAD]', '[PAD]', '[PAD]', '[PAD]', '[PAD]', '[PAD]', '[PAD]', '[PAD]', '[PAD]', '[PAD]', '[PAD]', '[PAD]', '[PAD]', '[PAD]', '[PAD]', '[PAD]', '[PAD]', '[PAD]', '[PAD]', '[PAD]', '[PAD]', '[PAD]', '[PAD]', '[PAD]', '[PAD]', '[PAD]', '[PAD]', '[PAD]', '[PAD]', '[PAD]', '[PAD]', '[PAD]', '[PAD]', '[PAD]', '[PAD]', '[PAD]', '[PAD]', '[PAD]', '[PAD]', '[PAD]', '[PAD]', '[PAD]', '[PAD]', '[PAD]', '[PAD]', '[PAD]', '[PAD]', '[PAD]', '[PAD]', '[PAD]', '[PAD]', '[PAD]', '[PAD]', '[PAD]', '[PAD]', '[PAD]', '[PAD]', '[PAD]', '[PAD]', '[PAD]', '[PAD]', '[PAD]', '[PAD]', '[PAD]', '[PAD]', '[PAD]', '[PAD]', '[PAD]', '[PAD]', '[PAD]', '[PAD]', '[PAD]', '[PAD]', '[PAD]', '[PAD]', '[PAD]', '[PAD]', '[PAD]', '[PAD]', '[PAD]', '[PAD]', '[PAD]', '[PAD]', '[PAD]', '[PAD]', '[PAD]', '[PAD]', '[PAD]', '[PAD]', '[PAD]', '[PAD]', '[PAD]', '[PAD]', '[PAD]', '[PAD]', '[PAD]', '[PAD]', '[PAD]', '[PAD]', '[PAD]', '[PAD]', '[PAD]', '[PAD]', '[PAD]', '[PAD]', '[PAD]', '[PAD]', '[PAD]', '[PAD]', '[PAD]', '[PAD]', '[PAD]', '[PAD]', '[PAD]', '[PAD]', '[PAD]', '[PAD]', '[PAD]', '[PAD]', '[PAD]', '[PAD]', '[PAD]', '[PAD]', '[PAD]', '[PAD]', '[PAD]', '[PAD]', '[PAD]', '[PAD]', '[PAD]', '[PAD]', '[PAD]', '[PAD]', '[PAD]', '[PAD]', '[PAD]', '[PAD]', '[PAD]', '[PAD]', '[PAD]', '[PAD]', '[PAD]', '[PAD]', '[PAD]', '[PAD]', '[PAD]', '[PAD]', '[PAD]', '[PAD]', '[PAD]', '[PAD]', '[PAD]', '[PAD]', '[PAD]', '[PAD]', '[PAD]', '[PAD]', '[PAD]', '[PAD]', '[PAD]', '[PAD]', '[PAD]', '[PAD]', '[PAD]', '[PAD]', '[PAD]', '[PAD]', '[PAD]', '[PAD]', '[PAD]', '[PAD]', '[PAD]', '[PAD]', '[PAD]', '[PAD]', '[PAD]', '[PAD]', '[PAD]', '[PAD]', '[PAD]', '[PAD]', '[PAD]', '[PAD]', '[PAD]', '[PAD]', '[PAD]', '[PAD]', '[PAD]', '[PAD]', '[PAD]', '[PAD]', '[PAD]', '[PAD]', '[PAD]', '[PAD]', '[PAD]', '[PAD]', '[PAD]', '[PAD]', '[PAD]', '[PAD]', '[PAD]', '[PAD]', '[PAD]', '[PAD]', '[PAD]', '[PAD]', '[PAD]', '[PAD]', '[PAD]', '[PAD]', '[PAD]', '[PAD]', '[PAD]', '[PAD]', '[PAD]', '[PAD]', '[PAD]', '[PAD]', '[PAD]', '[PAD]', '[PAD]', '[PAD]', '[PAD]', '[PAD]', '[PAD]', '[PAD]', '[PAD]', '[PAD]', '[PAD]', '[PAD]', '[PAD]', '[PAD]', '[PAD]', '[PAD]', '[PAD]', '[PAD]', '[PAD]', '[PAD]', '[PAD]', '[PAD]', '[PAD]', '[PAD]', '[PAD]', '[PAD]', '[PAD]', '[PAD]', '[PAD]', '[PAD]', '[PAD]', '[PAD]', '[PAD]', '[PAD]', '[PAD]', '[PAD]', '[PAD]', '[PAD]', '[PAD]', '[PAD]', '[PAD]', '[PAD]', '[PAD]', '[PAD]', '[PAD]', '[PAD]', '[PAD]', '[PAD]', '[PAD]', '[PAD]', '[PAD]', '[PAD]', '[PAD]', '[PAD]', '[PAD]', '[PAD]', '[PAD]', '[PAD]', '[PAD]']\n",
            "\tTrue Label: 1\n",
            "\tPredicted Label: 1\n",
            "Sample 10:\n",
            "\tTokens: ['This', 'film', 'was', 'really', 'different', 'from', 'what', 'I', 'had', 'imagine', '##d', 'but', 'exce', '##ed', '##ed', 'my', 'expectations', 'never', '##th', '##eless', '.', 'This', 'film', 'has', 'the', 'exactly', 'right', 'mix', '##t', '##ure', 'of', 'comedy', ',', 'drama', ',', 'political', 'critic', '##ism', 'and', 'satire', '(', 'not', 'ne', '##cess', '##arily', 'in', 'that', 'order', ').', 'With', '##out', 'being', 'pat', '##ron', '##izing', 'or', 'wise', '##n', '##he', '##ime', '##r', 'it', 'reveal', '##s', 'the', 'open', 'and', 'subtle', 'problems', 'of', 'our', 'cap', '##ital', '##ist', 'dem', '##oc', '##ra', '##t', '##ic', 'high', 'techn', '##ology', 'society', '.', 'It', 'makes', 'you', 'laugh', 'inst', '##antly', 'and', 'remain', 'in', 'thought', 'after', '##wards', '.', 'For', 'those', 'of', 'you', 'who', 'liked', '\"', 'wa', '##g', 'the', 'dog', '\"', 'and', 'wish', '##ed', 'to', 'have', 'human', '##e', 'and', 'man', '##like', 'polit', '##ic', '##ians', 'this', 'film', 'should', 'definitely', 'be', 'the', 'choice', '!<', 'br', '/><', 'br', '/>\"', 'polit', '##ic', '##ians', 'are', 'a', 'lot', 'like', 'di', '##aper', '##s', ':', 'they', 'should', 'be', 'changed', 'frequ', '##ently', 'and', 'for', 'the', 'same', 'reasons', '.\"', '[PAD]', '[PAD]', '[PAD]', '[PAD]', '[PAD]', '[PAD]', '[PAD]', '[PAD]', '[PAD]', '[PAD]', '[PAD]', '[PAD]', '[PAD]', '[PAD]', '[PAD]', '[PAD]', '[PAD]', '[PAD]', '[PAD]', '[PAD]', '[PAD]', '[PAD]', '[PAD]', '[PAD]', '[PAD]', '[PAD]', '[PAD]', '[PAD]', '[PAD]', '[PAD]', '[PAD]', '[PAD]', '[PAD]', '[PAD]', '[PAD]', '[PAD]', '[PAD]', '[PAD]', '[PAD]', '[PAD]', '[PAD]', '[PAD]', '[PAD]', '[PAD]', '[PAD]', '[PAD]', '[PAD]', '[PAD]', '[PAD]', '[PAD]', '[PAD]', '[PAD]', '[PAD]', '[PAD]', '[PAD]', '[PAD]', '[PAD]', '[PAD]', '[PAD]', '[PAD]', '[PAD]', '[PAD]', '[PAD]', '[PAD]', '[PAD]', '[PAD]', '[PAD]', '[PAD]', '[PAD]', '[PAD]', '[PAD]', '[PAD]', '[PAD]', '[PAD]', '[PAD]', '[PAD]', '[PAD]', '[PAD]', '[PAD]', '[PAD]', '[PAD]', '[PAD]', '[PAD]', '[PAD]', '[PAD]', '[PAD]', '[PAD]', '[PAD]', '[PAD]', '[PAD]', '[PAD]', '[PAD]', '[PAD]', '[PAD]', '[PAD]', '[PAD]', '[PAD]', '[PAD]', '[PAD]', '[PAD]', '[PAD]', '[PAD]', '[PAD]', '[PAD]', '[PAD]', '[PAD]', '[PAD]', '[PAD]', '[PAD]', '[PAD]', '[PAD]', '[PAD]', '[PAD]', '[PAD]', '[PAD]', '[PAD]', '[PAD]', '[PAD]', '[PAD]', '[PAD]', '[PAD]', '[PAD]', '[PAD]', '[PAD]', '[PAD]', '[PAD]', '[PAD]', '[PAD]', '[PAD]', '[PAD]', '[PAD]', '[PAD]', '[PAD]', '[PAD]', '[PAD]', '[PAD]', '[PAD]', '[PAD]', '[PAD]', '[PAD]', '[PAD]', '[PAD]', '[PAD]', '[PAD]', '[PAD]', '[PAD]', '[PAD]', '[PAD]', '[PAD]', '[PAD]', '[PAD]', '[PAD]', '[PAD]', '[PAD]', '[PAD]', '[PAD]', '[PAD]', '[PAD]', '[PAD]', '[PAD]', '[PAD]', '[PAD]', '[PAD]', '[PAD]', '[PAD]', '[PAD]', '[PAD]', '[PAD]', '[PAD]', '[PAD]', '[PAD]', '[PAD]', '[PAD]', '[PAD]', '[PAD]', '[PAD]', '[PAD]', '[PAD]', '[PAD]', '[PAD]', '[PAD]', '[PAD]', '[PAD]', '[PAD]', '[PAD]', '[PAD]', '[PAD]', '[PAD]', '[PAD]', '[PAD]', '[PAD]', '[PAD]', '[PAD]', '[PAD]', '[PAD]', '[PAD]', '[PAD]', '[PAD]', '[PAD]', '[PAD]', '[PAD]', '[PAD]', '[PAD]', '[PAD]', '[PAD]', '[PAD]', '[PAD]', '[PAD]', '[PAD]', '[PAD]', '[PAD]', '[PAD]', '[PAD]', '[PAD]', '[PAD]', '[PAD]', '[PAD]', '[PAD]', '[PAD]', '[PAD]', '[PAD]', '[PAD]', '[PAD]', '[PAD]', '[PAD]', '[PAD]', '[PAD]', '[PAD]', '[PAD]', '[PAD]', '[PAD]', '[PAD]', '[PAD]', '[PAD]', '[PAD]', '[PAD]', '[PAD]', '[PAD]', '[PAD]', '[PAD]', '[PAD]', '[PAD]', '[PAD]', '[PAD]', '[PAD]', '[PAD]', '[PAD]', '[PAD]', '[PAD]', '[PAD]', '[PAD]', '[PAD]', '[PAD]', '[PAD]', '[PAD]', '[PAD]', '[PAD]', '[PAD]', '[PAD]', '[PAD]', '[PAD]', '[PAD]', '[PAD]', '[PAD]', '[PAD]', '[PAD]', '[PAD]', '[PAD]', '[PAD]', '[PAD]', '[PAD]', '[PAD]', '[PAD]', '[PAD]', '[PAD]', '[PAD]', '[PAD]', '[PAD]', '[PAD]', '[PAD]', '[PAD]', '[PAD]', '[PAD]', '[PAD]', '[PAD]', '[PAD]', '[PAD]', '[PAD]', '[PAD]', '[PAD]', '[PAD]', '[PAD]', '[PAD]', '[PAD]', '[PAD]', '[PAD]', '[PAD]', '[PAD]', '[PAD]', '[PAD]', '[PAD]', '[PAD]', '[PAD]', '[PAD]', '[PAD]', '[PAD]', '[PAD]', '[PAD]', '[PAD]', '[PAD]', '[PAD]', '[PAD]', '[PAD]', '[PAD]', '[PAD]', '[PAD]', '[PAD]', '[PAD]', '[PAD]', '[PAD]', '[PAD]', '[PAD]', '[PAD]', '[PAD]', '[PAD]', '[PAD]', '[PAD]', '[PAD]', '[PAD]', '[PAD]', '[PAD]', '[PAD]', '[PAD]', '[PAD]', '[PAD]', '[PAD]', '[PAD]', '[PAD]', '[PAD]', '[PAD]', '[PAD]', '[PAD]', '[PAD]', '[PAD]', '[PAD]', '[PAD]', '[PAD]', '[PAD]', '[PAD]', '[PAD]', '[PAD]', '[PAD]', '[PAD]', '[PAD]', '[PAD]']\n",
            "\tTrue Label: 1\n",
            "\tPredicted Label: 1\n"
          ]
        }
      ]
    },
    {
      "cell_type": "code",
      "source": [
        "test_accuracy = calculate_accuracy(model, dataloader_test, device)\n",
        "print(f\"Test Accuracy: {test_accuracy}\")"
      ],
      "metadata": {
        "colab": {
          "base_uri": "https://localhost:8080/"
        },
        "id": "k4eVATbQSP7x",
        "outputId": "8e0eda7d-cbe4-4e7d-c59c-89212b0249ff"
      },
      "execution_count": 41,
      "outputs": [
        {
          "output_type": "stream",
          "name": "stdout",
          "text": [
            "Test Accuracy: 0.7852316602316602\n"
          ]
        }
      ]
    }
  ],
  "metadata": {
    "accelerator": "GPU",
    "colab": {
      "gpuType": "T4",
      "provenance": []
    },
    "kernelspec": {
      "display_name": "Python 3",
      "name": "python3"
    },
    "language_info": {
      "name": "python"
    }
  },
  "nbformat": 4,
  "nbformat_minor": 0
}