{
  "cells": [
    {
      "cell_type": "markdown",
      "metadata": {
        "id": "UL1tQ6ZDzJwV"
      },
      "source": [
        "# Filter and Cluster"
      ]
    },
    {
      "cell_type": "code",
      "execution_count": 15,
      "metadata": {
        "vscode": {
          "languageId": "plaintext"
        },
        "id": "AW00NiM7zJwa"
      },
      "outputs": [],
      "source": [
        "import os\n",
        "import kagglehub\n",
        "import pandas as pd"
      ]
    },
    {
      "cell_type": "markdown",
      "source": [
        "## Download data"
      ],
      "metadata": {
        "id": "Q9lNyFXi3N94"
      }
    },
    {
      "cell_type": "code",
      "source": [
        "# Download latest version\n",
        "path = kagglehub.dataset_download(handle=\"googleai/dataset-metadata-for-cord19\")\n",
        "\n",
        "print(\"Path to dataset files:\", path)"
      ],
      "metadata": {
        "colab": {
          "base_uri": "https://localhost:8080/"
        },
        "id": "nG7ZmII3zOeI",
        "outputId": "3972de1f-9aa2-4cdb-fb99-bc8efa45f44b"
      },
      "execution_count": 10,
      "outputs": [
        {
          "output_type": "stream",
          "name": "stdout",
          "text": [
            "Path to dataset files: /root/.cache/kagglehub/datasets/googleai/dataset-metadata-for-cord19/versions/1\n"
          ]
        }
      ]
    },
    {
      "cell_type": "code",
      "source": [
        "os.listdir(path)"
      ],
      "metadata": {
        "colab": {
          "base_uri": "https://localhost:8080/"
        },
        "id": "pou9kBTb0pTJ",
        "outputId": "fe9264d3-2c27-4464-8074-7c9f2315c506"
      },
      "execution_count": 12,
      "outputs": [
        {
          "output_type": "execute_result",
          "data": {
            "text/plain": [
              "['CORD19 datasets - Sheet 1.csv']"
            ]
          },
          "metadata": {},
          "execution_count": 12
        }
      ]
    },
    {
      "cell_type": "code",
      "source": [
        "filename_with_path = path + \"/\" + os.listdir(path)[0]\n",
        "filename_with_path"
      ],
      "metadata": {
        "colab": {
          "base_uri": "https://localhost:8080/",
          "height": 52
        },
        "id": "zw4eNnSn02E5",
        "outputId": "912affa1-3279-4bb9-a5b8-f5d3bdde019a"
      },
      "execution_count": 13,
      "outputs": [
        {
          "output_type": "execute_result",
          "data": {
            "text/plain": [
              "'/root/.cache/kagglehub/datasets/googleai/dataset-metadata-for-cord19/versions/1/CORD19 datasets - Sheet 1.csv'"
            ],
            "application/vnd.google.colaboratory.intrinsic+json": {
              "type": "string"
            }
          },
          "metadata": {},
          "execution_count": 13
        }
      ]
    },
    {
      "cell_type": "code",
      "source": [
        "df_meta_cord19 = pd.read_csv(filename_with_path)\n",
        "df_meta_cord19.head()"
      ],
      "metadata": {
        "colab": {
          "base_uri": "https://localhost:8080/",
          "height": 573
        },
        "id": "A5z2xiCr0wxa",
        "outputId": "690ef433-6d60-4d04-e24d-5a42e5c3e47d"
      },
      "execution_count": 16,
      "outputs": [
        {
          "output_type": "execute_result",
          "data": {
            "text/plain": [
              "   cord_uid                                          paper_url  \\\n",
              "0  rmzpiyqj  https://www.ncbi.nlm.nih.gov/pmc/articles/PMC6...   \n",
              "1  h7g5ecc0  http://europepmc.org/articles/pmc4052367?pdf=r...   \n",
              "2  3uvlmww0  https://jvi.asm.org/content/jvi/88/17/10228.fu...   \n",
              "3  xzps65et            https://doi.org/10.14745/ccdr.v45i04a01   \n",
              "4  a6p8te8q  https://jvi.asm.org/content/jvi/79/6/3370.full...   \n",
              "\n",
              "                                         paper_title  \\\n",
              "0  Nipah virus: epidemiology, pathology, immunobi...   \n",
              "1  Novel approaches and challenges to treatment o...   \n",
              "2  Verdinexor, a Novel Selective Inhibitor of Nuc...   \n",
              "3  Climate change and infectious diseases: What c...   \n",
              "4  Increased Epitope-Specific CD8(+) T Cells Prev...   \n",
              "\n",
              "                                         dataset_url  \\\n",
              "0  https://data.csiro.au/dap/landingpage?pid=csir...   \n",
              "1  https://datamed.org/display-item.php?repositor...   \n",
              "2  https://datamed.org/display-item.php?repositor...   \n",
              "3  https://search.datacite.org/works/10.5065/d6sj...   \n",
              "4  http://www.immunedata.org/display-item.php?rep...   \n",
              "\n",
              "                                        dataset_name alternate_name  \\\n",
              "0  Nature of exposure drives transmission of Nipa...            NaN   \n",
              "1  Key Role of T cell Defects in Age-Related Vuln...            NaN   \n",
              "2        MicroRNA Regulation of Human Protease Genes            NaN   \n",
              "3                              The NA-CORDEX dataset            NaN   \n",
              "4                                    CMV CD8 T Cells            NaN   \n",
              "\n",
              "                                         description  \\\n",
              "0  [\"RT-PCR data of comparative viral loads/ tiss...   \n",
              "1  [\"In a mouse model of age-related vulnerabilit...   \n",
              "2  the human protease genes required for influenz...   \n",
              "3  [\"The NA-CORDEX data archive contains output f...   \n",
              "4  [\"We present human T cell responses in multipl...   \n",
              "\n",
              "                                         author_list last_updated  \\\n",
              "0  Bronwyn Clayton; Deborah Middleton; Rachel Ark...         2016   \n",
              "1                                                NaN   2019-05-06   \n",
              "2                                                NaN   2011-10-13   \n",
              "3  Linda Mearns; Seth McGinnis; Daniel Korytina; ...         2017   \n",
              "4                                                NaN   2018-09-17   \n",
              "\n",
              "                                             license source_organization  \\\n",
              "0  [{\"url\":\"https://confluence.csiro.au/display/d...               CSIRO   \n",
              "1                                                NaN                 NaN   \n",
              "2                                                NaN                 NaN   \n",
              "3         [{\"url\":\"http://na-cordex.org/terms-use\"}]           UCAR/NCAR   \n",
              "4                                                NaN                 NaN   \n",
              "\n",
              "                        doi compact_identifier data_download  \n",
              "0  10.4225/08/56806AAEAD713                NaN           NaN  \n",
              "1                       NaN                NaN           NaN  \n",
              "2                       NaN                NaN           NaN  \n",
              "3          10.5065/d6sj1jch                NaN           NaN  \n",
              "4                       NaN                NaN           NaN  "
            ],
            "text/html": [
              "\n",
              "  <div id=\"df-aa711cbc-b412-49a9-a3c5-da1857b83a26\" class=\"colab-df-container\">\n",
              "    <div>\n",
              "<style scoped>\n",
              "    .dataframe tbody tr th:only-of-type {\n",
              "        vertical-align: middle;\n",
              "    }\n",
              "\n",
              "    .dataframe tbody tr th {\n",
              "        vertical-align: top;\n",
              "    }\n",
              "\n",
              "    .dataframe thead th {\n",
              "        text-align: right;\n",
              "    }\n",
              "</style>\n",
              "<table border=\"1\" class=\"dataframe\">\n",
              "  <thead>\n",
              "    <tr style=\"text-align: right;\">\n",
              "      <th></th>\n",
              "      <th>cord_uid</th>\n",
              "      <th>paper_url</th>\n",
              "      <th>paper_title</th>\n",
              "      <th>dataset_url</th>\n",
              "      <th>dataset_name</th>\n",
              "      <th>alternate_name</th>\n",
              "      <th>description</th>\n",
              "      <th>author_list</th>\n",
              "      <th>last_updated</th>\n",
              "      <th>license</th>\n",
              "      <th>source_organization</th>\n",
              "      <th>doi</th>\n",
              "      <th>compact_identifier</th>\n",
              "      <th>data_download</th>\n",
              "    </tr>\n",
              "  </thead>\n",
              "  <tbody>\n",
              "    <tr>\n",
              "      <th>0</th>\n",
              "      <td>rmzpiyqj</td>\n",
              "      <td>https://www.ncbi.nlm.nih.gov/pmc/articles/PMC6...</td>\n",
              "      <td>Nipah virus: epidemiology, pathology, immunobi...</td>\n",
              "      <td>https://data.csiro.au/dap/landingpage?pid=csir...</td>\n",
              "      <td>Nature of exposure drives transmission of Nipa...</td>\n",
              "      <td>NaN</td>\n",
              "      <td>[\"RT-PCR data of comparative viral loads/ tiss...</td>\n",
              "      <td>Bronwyn Clayton; Deborah Middleton; Rachel Ark...</td>\n",
              "      <td>2016</td>\n",
              "      <td>[{\"url\":\"https://confluence.csiro.au/display/d...</td>\n",
              "      <td>CSIRO</td>\n",
              "      <td>10.4225/08/56806AAEAD713</td>\n",
              "      <td>NaN</td>\n",
              "      <td>NaN</td>\n",
              "    </tr>\n",
              "    <tr>\n",
              "      <th>1</th>\n",
              "      <td>h7g5ecc0</td>\n",
              "      <td>http://europepmc.org/articles/pmc4052367?pdf=r...</td>\n",
              "      <td>Novel approaches and challenges to treatment o...</td>\n",
              "      <td>https://datamed.org/display-item.php?repositor...</td>\n",
              "      <td>Key Role of T cell Defects in Age-Related Vuln...</td>\n",
              "      <td>NaN</td>\n",
              "      <td>[\"In a mouse model of age-related vulnerabilit...</td>\n",
              "      <td>NaN</td>\n",
              "      <td>2019-05-06</td>\n",
              "      <td>NaN</td>\n",
              "      <td>NaN</td>\n",
              "      <td>NaN</td>\n",
              "      <td>NaN</td>\n",
              "      <td>NaN</td>\n",
              "    </tr>\n",
              "    <tr>\n",
              "      <th>2</th>\n",
              "      <td>3uvlmww0</td>\n",
              "      <td>https://jvi.asm.org/content/jvi/88/17/10228.fu...</td>\n",
              "      <td>Verdinexor, a Novel Selective Inhibitor of Nuc...</td>\n",
              "      <td>https://datamed.org/display-item.php?repositor...</td>\n",
              "      <td>MicroRNA Regulation of Human Protease Genes</td>\n",
              "      <td>NaN</td>\n",
              "      <td>the human protease genes required for influenz...</td>\n",
              "      <td>NaN</td>\n",
              "      <td>2011-10-13</td>\n",
              "      <td>NaN</td>\n",
              "      <td>NaN</td>\n",
              "      <td>NaN</td>\n",
              "      <td>NaN</td>\n",
              "      <td>NaN</td>\n",
              "    </tr>\n",
              "    <tr>\n",
              "      <th>3</th>\n",
              "      <td>xzps65et</td>\n",
              "      <td>https://doi.org/10.14745/ccdr.v45i04a01</td>\n",
              "      <td>Climate change and infectious diseases: What c...</td>\n",
              "      <td>https://search.datacite.org/works/10.5065/d6sj...</td>\n",
              "      <td>The NA-CORDEX dataset</td>\n",
              "      <td>NaN</td>\n",
              "      <td>[\"The NA-CORDEX data archive contains output f...</td>\n",
              "      <td>Linda Mearns; Seth McGinnis; Daniel Korytina; ...</td>\n",
              "      <td>2017</td>\n",
              "      <td>[{\"url\":\"http://na-cordex.org/terms-use\"}]</td>\n",
              "      <td>UCAR/NCAR</td>\n",
              "      <td>10.5065/d6sj1jch</td>\n",
              "      <td>NaN</td>\n",
              "      <td>NaN</td>\n",
              "    </tr>\n",
              "    <tr>\n",
              "      <th>4</th>\n",
              "      <td>a6p8te8q</td>\n",
              "      <td>https://jvi.asm.org/content/jvi/79/6/3370.full...</td>\n",
              "      <td>Increased Epitope-Specific CD8(+) T Cells Prev...</td>\n",
              "      <td>http://www.immunedata.org/display-item.php?rep...</td>\n",
              "      <td>CMV CD8 T Cells</td>\n",
              "      <td>NaN</td>\n",
              "      <td>[\"We present human T cell responses in multipl...</td>\n",
              "      <td>NaN</td>\n",
              "      <td>2018-09-17</td>\n",
              "      <td>NaN</td>\n",
              "      <td>NaN</td>\n",
              "      <td>NaN</td>\n",
              "      <td>NaN</td>\n",
              "      <td>NaN</td>\n",
              "    </tr>\n",
              "  </tbody>\n",
              "</table>\n",
              "</div>\n",
              "    <div class=\"colab-df-buttons\">\n",
              "\n",
              "  <div class=\"colab-df-container\">\n",
              "    <button class=\"colab-df-convert\" onclick=\"convertToInteractive('df-aa711cbc-b412-49a9-a3c5-da1857b83a26')\"\n",
              "            title=\"Convert this dataframe to an interactive table.\"\n",
              "            style=\"display:none;\">\n",
              "\n",
              "  <svg xmlns=\"http://www.w3.org/2000/svg\" height=\"24px\" viewBox=\"0 -960 960 960\">\n",
              "    <path d=\"M120-120v-720h720v720H120Zm60-500h600v-160H180v160Zm220 220h160v-160H400v160Zm0 220h160v-160H400v160ZM180-400h160v-160H180v160Zm440 0h160v-160H620v160ZM180-180h160v-160H180v160Zm440 0h160v-160H620v160Z\"/>\n",
              "  </svg>\n",
              "    </button>\n",
              "\n",
              "  <style>\n",
              "    .colab-df-container {\n",
              "      display:flex;\n",
              "      gap: 12px;\n",
              "    }\n",
              "\n",
              "    .colab-df-convert {\n",
              "      background-color: #E8F0FE;\n",
              "      border: none;\n",
              "      border-radius: 50%;\n",
              "      cursor: pointer;\n",
              "      display: none;\n",
              "      fill: #1967D2;\n",
              "      height: 32px;\n",
              "      padding: 0 0 0 0;\n",
              "      width: 32px;\n",
              "    }\n",
              "\n",
              "    .colab-df-convert:hover {\n",
              "      background-color: #E2EBFA;\n",
              "      box-shadow: 0px 1px 2px rgba(60, 64, 67, 0.3), 0px 1px 3px 1px rgba(60, 64, 67, 0.15);\n",
              "      fill: #174EA6;\n",
              "    }\n",
              "\n",
              "    .colab-df-buttons div {\n",
              "      margin-bottom: 4px;\n",
              "    }\n",
              "\n",
              "    [theme=dark] .colab-df-convert {\n",
              "      background-color: #3B4455;\n",
              "      fill: #D2E3FC;\n",
              "    }\n",
              "\n",
              "    [theme=dark] .colab-df-convert:hover {\n",
              "      background-color: #434B5C;\n",
              "      box-shadow: 0px 1px 3px 1px rgba(0, 0, 0, 0.15);\n",
              "      filter: drop-shadow(0px 1px 2px rgba(0, 0, 0, 0.3));\n",
              "      fill: #FFFFFF;\n",
              "    }\n",
              "  </style>\n",
              "\n",
              "    <script>\n",
              "      const buttonEl =\n",
              "        document.querySelector('#df-aa711cbc-b412-49a9-a3c5-da1857b83a26 button.colab-df-convert');\n",
              "      buttonEl.style.display =\n",
              "        google.colab.kernel.accessAllowed ? 'block' : 'none';\n",
              "\n",
              "      async function convertToInteractive(key) {\n",
              "        const element = document.querySelector('#df-aa711cbc-b412-49a9-a3c5-da1857b83a26');\n",
              "        const dataTable =\n",
              "          await google.colab.kernel.invokeFunction('convertToInteractive',\n",
              "                                                    [key], {});\n",
              "        if (!dataTable) return;\n",
              "\n",
              "        const docLinkHtml = 'Like what you see? Visit the ' +\n",
              "          '<a target=\"_blank\" href=https://colab.research.google.com/notebooks/data_table.ipynb>data table notebook</a>'\n",
              "          + ' to learn more about interactive tables.';\n",
              "        element.innerHTML = '';\n",
              "        dataTable['output_type'] = 'display_data';\n",
              "        await google.colab.output.renderOutput(dataTable, element);\n",
              "        const docLink = document.createElement('div');\n",
              "        docLink.innerHTML = docLinkHtml;\n",
              "        element.appendChild(docLink);\n",
              "      }\n",
              "    </script>\n",
              "  </div>\n",
              "\n",
              "\n",
              "<div id=\"df-f09923c4-7515-4aa2-86ee-e8d2b1880859\">\n",
              "  <button class=\"colab-df-quickchart\" onclick=\"quickchart('df-f09923c4-7515-4aa2-86ee-e8d2b1880859')\"\n",
              "            title=\"Suggest charts\"\n",
              "            style=\"display:none;\">\n",
              "\n",
              "<svg xmlns=\"http://www.w3.org/2000/svg\" height=\"24px\"viewBox=\"0 0 24 24\"\n",
              "     width=\"24px\">\n",
              "    <g>\n",
              "        <path d=\"M19 3H5c-1.1 0-2 .9-2 2v14c0 1.1.9 2 2 2h14c1.1 0 2-.9 2-2V5c0-1.1-.9-2-2-2zM9 17H7v-7h2v7zm4 0h-2V7h2v10zm4 0h-2v-4h2v4z\"/>\n",
              "    </g>\n",
              "</svg>\n",
              "  </button>\n",
              "\n",
              "<style>\n",
              "  .colab-df-quickchart {\n",
              "      --bg-color: #E8F0FE;\n",
              "      --fill-color: #1967D2;\n",
              "      --hover-bg-color: #E2EBFA;\n",
              "      --hover-fill-color: #174EA6;\n",
              "      --disabled-fill-color: #AAA;\n",
              "      --disabled-bg-color: #DDD;\n",
              "  }\n",
              "\n",
              "  [theme=dark] .colab-df-quickchart {\n",
              "      --bg-color: #3B4455;\n",
              "      --fill-color: #D2E3FC;\n",
              "      --hover-bg-color: #434B5C;\n",
              "      --hover-fill-color: #FFFFFF;\n",
              "      --disabled-bg-color: #3B4455;\n",
              "      --disabled-fill-color: #666;\n",
              "  }\n",
              "\n",
              "  .colab-df-quickchart {\n",
              "    background-color: var(--bg-color);\n",
              "    border: none;\n",
              "    border-radius: 50%;\n",
              "    cursor: pointer;\n",
              "    display: none;\n",
              "    fill: var(--fill-color);\n",
              "    height: 32px;\n",
              "    padding: 0;\n",
              "    width: 32px;\n",
              "  }\n",
              "\n",
              "  .colab-df-quickchart:hover {\n",
              "    background-color: var(--hover-bg-color);\n",
              "    box-shadow: 0 1px 2px rgba(60, 64, 67, 0.3), 0 1px 3px 1px rgba(60, 64, 67, 0.15);\n",
              "    fill: var(--button-hover-fill-color);\n",
              "  }\n",
              "\n",
              "  .colab-df-quickchart-complete:disabled,\n",
              "  .colab-df-quickchart-complete:disabled:hover {\n",
              "    background-color: var(--disabled-bg-color);\n",
              "    fill: var(--disabled-fill-color);\n",
              "    box-shadow: none;\n",
              "  }\n",
              "\n",
              "  .colab-df-spinner {\n",
              "    border: 2px solid var(--fill-color);\n",
              "    border-color: transparent;\n",
              "    border-bottom-color: var(--fill-color);\n",
              "    animation:\n",
              "      spin 1s steps(1) infinite;\n",
              "  }\n",
              "\n",
              "  @keyframes spin {\n",
              "    0% {\n",
              "      border-color: transparent;\n",
              "      border-bottom-color: var(--fill-color);\n",
              "      border-left-color: var(--fill-color);\n",
              "    }\n",
              "    20% {\n",
              "      border-color: transparent;\n",
              "      border-left-color: var(--fill-color);\n",
              "      border-top-color: var(--fill-color);\n",
              "    }\n",
              "    30% {\n",
              "      border-color: transparent;\n",
              "      border-left-color: var(--fill-color);\n",
              "      border-top-color: var(--fill-color);\n",
              "      border-right-color: var(--fill-color);\n",
              "    }\n",
              "    40% {\n",
              "      border-color: transparent;\n",
              "      border-right-color: var(--fill-color);\n",
              "      border-top-color: var(--fill-color);\n",
              "    }\n",
              "    60% {\n",
              "      border-color: transparent;\n",
              "      border-right-color: var(--fill-color);\n",
              "    }\n",
              "    80% {\n",
              "      border-color: transparent;\n",
              "      border-right-color: var(--fill-color);\n",
              "      border-bottom-color: var(--fill-color);\n",
              "    }\n",
              "    90% {\n",
              "      border-color: transparent;\n",
              "      border-bottom-color: var(--fill-color);\n",
              "    }\n",
              "  }\n",
              "</style>\n",
              "\n",
              "  <script>\n",
              "    async function quickchart(key) {\n",
              "      const quickchartButtonEl =\n",
              "        document.querySelector('#' + key + ' button');\n",
              "      quickchartButtonEl.disabled = true;  // To prevent multiple clicks.\n",
              "      quickchartButtonEl.classList.add('colab-df-spinner');\n",
              "      try {\n",
              "        const charts = await google.colab.kernel.invokeFunction(\n",
              "            'suggestCharts', [key], {});\n",
              "      } catch (error) {\n",
              "        console.error('Error during call to suggestCharts:', error);\n",
              "      }\n",
              "      quickchartButtonEl.classList.remove('colab-df-spinner');\n",
              "      quickchartButtonEl.classList.add('colab-df-quickchart-complete');\n",
              "    }\n",
              "    (() => {\n",
              "      let quickchartButtonEl =\n",
              "        document.querySelector('#df-f09923c4-7515-4aa2-86ee-e8d2b1880859 button');\n",
              "      quickchartButtonEl.style.display =\n",
              "        google.colab.kernel.accessAllowed ? 'block' : 'none';\n",
              "    })();\n",
              "  </script>\n",
              "</div>\n",
              "\n",
              "    </div>\n",
              "  </div>\n"
            ],
            "application/vnd.google.colaboratory.intrinsic+json": {
              "type": "dataframe",
              "variable_name": "df_meta_cord19",
              "summary": "{\n  \"name\": \"df_meta_cord19\",\n  \"rows\": 16070,\n  \"fields\": [\n    {\n      \"column\": \"cord_uid\",\n      \"properties\": {\n        \"dtype\": \"category\",\n        \"num_unique_values\": 4024,\n        \"samples\": [\n          \"exkm0o6p\",\n          \"aprh5q3x\",\n          \"ojp6p31u\"\n        ],\n        \"semantic_type\": \"\",\n        \"description\": \"\"\n      }\n    },\n    {\n      \"column\": \"paper_url\",\n      \"properties\": {\n        \"dtype\": \"category\",\n        \"num_unique_values\": 4024,\n        \"samples\": [\n          \"https://jvi.asm.org/content/jvi/84/15/7880.full.pdf\",\n          \"https://doi.org/10.1016/j.jaci.2018.02.035\",\n          \"https://jvi.asm.org/content/jvi/87/21/11579.full.pdf\"\n        ],\n        \"semantic_type\": \"\",\n        \"description\": \"\"\n      }\n    },\n    {\n      \"column\": \"paper_title\",\n      \"properties\": {\n        \"dtype\": \"category\",\n        \"num_unique_values\": 4024,\n        \"samples\": [\n          \"The Proteasome Inhibitor Velcade Enhances rather than Reduces Disease in Mouse Hepatitis Coronavirus-Infected Mice\",\n          \"Chronic obstructive pulmonary disease subpopulations and phenotyping\",\n          \"Transmissible Gastroenteritis Coronavirus Genome Packaging Signal Is Located at the 5\\u2032 End of the Genome and Promotes Viral RNA Incorporation into Virions in a Replication-Independent Process\"\n        ],\n        \"semantic_type\": \"\",\n        \"description\": \"\"\n      }\n    },\n    {\n      \"column\": \"dataset_url\",\n      \"properties\": {\n        \"dtype\": \"string\",\n        \"num_unique_values\": 11731,\n        \"samples\": [\n          \"https://crrd.mcw.edu/rgdweb/report/gene/main.html?id=14289119\",\n          \"https://rgd.mcw.edu/rgdweb/report/gene/main.html?id=1311528\",\n          \"https://reactome.org/content/detail/R-HSA-163200\"\n        ],\n        \"semantic_type\": \"\",\n        \"description\": \"\"\n      }\n    },\n    {\n      \"column\": \"dataset_name\",\n      \"properties\": {\n        \"dtype\": \"string\",\n        \"num_unique_values\": 8778,\n        \"samples\": [\n          \"pou6f2\",\n          \"dctn3\",\n          \"RNA Viruses in Hymenopteran Pollinators: Evidence of Inter-Taxa Virus Transmission via Pollen and Potential Impact on Non-Apis Hymenopteran Species\"\n        ],\n        \"semantic_type\": \"\",\n        \"description\": \"\"\n      }\n    },\n    {\n      \"column\": \"alternate_name\",\n      \"properties\": {\n        \"dtype\": \"category\",\n        \"num_unique_values\": 72,\n        \"samples\": [\n          \"[\\\"SCR_012983, (Virus Pathogen Resource (ViPR), RRID:SCR_012983), ViPR, ViPR, Virus Pathogen Resource\\\"]\",\n          \"[\\\"SCR_008111, (Biochemical Pathways database, RRID:SCR_008111), Biopath\\\"]\",\n          \"[\\\"SCR_002102, (ASPicDB, RRID:SCR_002102), ASPicDB, ASPicDB - A Database tool for alternative splicing analysis, Alternative Splicing Prediction Data Base\\\"]\"\n        ],\n        \"semantic_type\": \"\",\n        \"description\": \"\"\n      }\n    },\n    {\n      \"column\": \"description\",\n      \"properties\": {\n        \"dtype\": \"string\",\n        \"num_unique_values\": 10236,\n        \"samples\": [\n          \"[\\\"A synergistic combination of two next-generation sequencing platforms with a detailed comparative BAC physical contig map provided a cost-effective assembly of the genome sequence of the domestic turkey (Meleagris gallopavo). Heterozygosity of the sequenced source genome allowed discovery of more than 600,000 high quality single nucleotide variants. Despite this heterozygosity, the current genome assembly (\\u223c1.1 Gb) includes 917 Mb of sequence assigned to specific turkey chromosomes. Annotation identified nearly 16,000 genes, with 15,093 recognized as protein coding and 611 as non-coding RNA genes. Comparative analysis of the turkey, chicken, and zebra finch genomes, and comparing avian to mammalian species, supports the characteristic stability of avian genomes and identifies genes unique to the avian lineage. Clear differences are seen in number and variety of genes of the avian immune system where expansions and novel genes are less frequent than examples of gene loss. The turkey genome sequence provides resources to further understand the evolution of vertebrate genomes and genetic variation underlying economically important quantitative traits in poultry. This integrated approach may be a model for providing both gene and chromosome level assemblies of other species with agricultural, ecological, and evolutionary interest.\\\"]\",\n          \"Exhibits RIG-I binding activity and molecular function regulator. Involved in choline transport and negative regulation of RIG-I signaling pathway. Localizes to the cytosol and nucleoplasm. Colocalizes with the Golgi apparatus. The protein encoded by this gene belongs to the SEC14 cytosolic factor family. It has similarity to yeast SEC14 and to Japanese flying squid RALBP which suggests a possible role of the gene product in an intracellular transport system. Multiple alternatively spliced transcript variants have been found for this gene; some variants represent read-through transcripts that include exons from the upstream gene C17orf86. [provided by RefSeq, Feb 2011]\",\n          \"[\\\"ASSOCIATED WITH Transplant Rejection (ortholog); type 1 diabetes mellitus (ortholog); FOUND IN cytosol (inferred); nucleoplasm (inferred); plasma membrane (inferred)\\\"]\"\n        ],\n        \"semantic_type\": \"\",\n        \"description\": \"\"\n      }\n    },\n    {\n      \"column\": \"author_list\",\n      \"properties\": {\n        \"dtype\": \"category\",\n        \"num_unique_values\": 4036,\n        \"samples\": [\n          \"Dalia A. Conde; Fernando Colchero; Markus Gusset; Paul Pearce-Kelly; Onnie Byers; Nate Flesness; Robert K. Browne; Owen R. Jones\",\n          \"Jonathan S. Towner; Brian R. Amman; Tara K. Sealy; Serena A. Reeder Carroll; James A. Comer; Alan Kemp; Robert Swanepoel; Christopher D. Paddock; Stephen Balinandi; Marina L. Khristova; Pierre B. H. Formenty; Cesar G. Albarino; David M. Miller; Zachary D. Reed; John T. Kayiwa; James N. Mills; Deborah L. Cannon; Patricia W. Greer; Emmanuel Byaruhanga; Eileen C. Farnon; Patrick Atimnedi; Samuel Okware; Edward Katongole-Mbidde; Robert Downing; Jordan W. Tappero; Sherif R. Zaki; Thomas G. Ksiazek; Stuart T. Nichol; Pierre E. Rollin\",\n          \"Yutaka Takebe; Carrie J. Saucedo; Garry Lund; Rie Uenishi; Saiki Hase; Takayo Tsuchiura; Norman Kneteman; Koreen Ramessar; D. Lorne J. Tyrrell; Masayuki Shirakura; Takaji Wakita; James B. McMahon; Barry R. O'Keefe\"\n        ],\n        \"semantic_type\": \"\",\n        \"description\": \"\"\n      }\n    },\n    {\n      \"column\": \"last_updated\",\n      \"properties\": {\n        \"dtype\": \"category\",\n        \"num_unique_values\": 1362,\n        \"samples\": [\n          \"2013-01-28\",\n          \"2010-06-01\",\n          \"2019-01-18\"\n        ],\n        \"semantic_type\": \"\",\n        \"description\": \"\"\n      }\n    },\n    {\n      \"column\": \"license\",\n      \"properties\": {\n        \"dtype\": \"category\",\n        \"num_unique_values\": 65,\n        \"samples\": [\n          \"[{\\\"text\\\":\\\"<span style='font-family: Verdana, Helvetica, sans-serif; font-size: 12px; background-color: rgb(255, 255, 255);'><b>Aviso Legal</b></span><p style='margin-top: 0px; margin-bottom: 1.71429em; padding: 0px; font-size: 0.875em; line-height: 1.71429em; color: rgb(77, 77, 77); font-family: Arial, Helvetica, San-Serif; background-color: rgb(255, 255, 255);'>Este aviso legal recoge las condiciones generales que rigen el acceso y el uso de los datos. El uso del sitio web implica la expresa y plena aceptaci\\u00f3n de las presentes condiciones generales en la versi\\u00f3n publicada en el momento en que el usuario acceda al mismo, sin perjuicio de las condiciones particulares que pudieran aplicarse a algunos de los contenidos o servicios concretos del sitio web.<br />A los efectos del presente documento se entiende por \\u201cagente reutilizador\\u201d toda persona, f\\u00edsica o jur\\u00eddica que reutilice informaci\\u00f3n del sector p\\u00fablico, ya sea para fines comerciales o no comerciales.</p><p style='margin-top: 0px; margin-bottom: 1.71429em; padding: 0px; font-size: 0.875em; line-height: 1.71429em; color: rgb(77, 77, 77); font-family: Arial, Helvetica, San-Serif; background-color: rgb(255, 255, 255);'><span style='font-weight: 700;'>Obligatoriedad de las condiciones generales.</span><br />Las presentes condiciones generales, disponibles con car\\u00e1cter permanente vincular\\u00e1n a cualquier agente reutilizador por el mero hecho de hacer uso de los documentos sometidos a ellas.</p><p style='margin-top: 0px; margin-bottom: 1.71429em; padding: 0px; font-size: 0.875em; line-height: 1.71429em; color: rgb(77, 77, 77); font-family: Arial, Helvetica, San-Serif; background-color: rgb(255, 255, 255);'><span style='font-weight: 700;'>Autorizaci\\u00f3n de reutilizaci\\u00f3n y cesi\\u00f3n no exclusiva de derechos de propiedad intelectual.</span><br />Las presentes condiciones generales permiten la reutilizaci\\u00f3n de los documentos sometidos a ellas para fines comerciales y no comerciales. Se entiende por reutilizaci\\u00f3n el uso de documentos que obran en poder de los \\u00f3rganos de la Administraci\\u00f3n, sobre reutilizaci\\u00f3n de la informaci\\u00f3n del sector p\\u00fablico con fines comerciales o no comerciales, siempre que dicho uso no constituya una actividad administrativa p\\u00fablica. La reutilizaci\\u00f3n autorizada incluye, a modo ilustrativo, actividades como la copia, difusi\\u00f3n, modificaci\\u00f3n, adaptaci\\u00f3n, extracci\\u00f3n, reordenaci\\u00f3n y combinaci\\u00f3n de la informaci\\u00f3n.<br />El concepto de documento es el establecido en el apartado 2 del art\\u00edculo 3 de la Ley 37/2007, de 16 de noviembre, sobre reutilizaci\\u00f3n de la informaci\\u00f3n del sector p\\u00fablico, por lo que comprende toda informaci\\u00f3n cualquiera que sea su soporte material o electr\\u00f3nico as\\u00ed como su forma de expresi\\u00f3n gr\\u00e1fica, sonora o en imagen utilizada, incluyendo, en consecuencia, tambi\\u00e9n los datos en sus niveles m\\u00e1s desagregados o \\u201cen bruto\\u201d.<br />Esta autorizaci\\u00f3n conlleva, asimismo, la cesi\\u00f3n gratuita y no exclusiva de los derechos de propiedad intelectual, en su caso, correspondientes a tales documentos, autoriz\\u00e1ndose la realizaci\\u00f3n de actividades de reproducci\\u00f3n, distribuci\\u00f3n, comunicaci\\u00f3n p\\u00fablica o transformaci\\u00f3n, necesarias para desarrollar la actividad de reutilizaci\\u00f3n autorizada, en cualquier modalidad y bajo cualquier formato, para todo el mundo y por el plazo m\\u00e1ximo permitido por la Ley.</p><p style='margin-top: 0px; margin-bottom: 1.71429em; padding: 0px; font-size: 0.875em; line-height: 1.71429em; color: rgb(77, 77, 77); font-family: Arial, Helvetica, San-Serif; background-color: rgb(255, 255, 255);'><span style='font-weight: 700;'>Condiciones generales para la reutilizaci\\u00f3n.</span><br />Son de aplicaci\\u00f3n las siguientes condiciones generales para la reutilizaci\\u00f3n de los documentos sometidos a ellas:</p><ol><li>Est\\u00e1 prohibido desnaturalizar el sentido de la informaci\\u00f3n.</li><li>Debe citarse la fuente de los documentos objeto de la reutilizaci\\u00f3n.</li><li>Debe mencionarse la fecha de la \\u00faltima actualizaci\\u00f3n de los documentos objeto de la reutilizaci\\u00f3n, siempre cuando estuviera incluida en el documento original.</li><li>No se podr\\u00e1 indicar, insinuar o sugerir que los titulares de la informaci\\u00f3n reutilizada participan, patrocinan o apoyan la reutilizaci\\u00f3n que se lleve a cabo con ella.</li><li>Deben conservarse, no alterarse ni suprimirse los metadatos sobre la fecha de actualizaci\\u00f3n y las condiciones de reutilizaci\\u00f3n aplicables incluidos, en su caso, en el documento puesto a disposici\\u00f3n para su reutilizaci\\u00f3n.</li></ol><p style='margin-top: 0px; margin-bottom: 1.71429em; padding: 0px; font-size: 0.875em; line-height: 1.71429em; color: rgb(77, 77, 77); font-family: Arial, Helvetica, San-Serif; background-color: rgb(255, 255, 255);'><span style='font-weight: 700;'>Exclusi\\u00f3n de responsabilidad.</span><br />La utilizaci\\u00f3n de los conjuntos de datos se realizar\\u00e1 por parte de los usuarios o agentes de la reutilizaci\\u00f3n bajo su propia cuenta y riesgo, correspondi\\u00e9ndoles en exclusiva a ellos responder frente a terceros por da\\u00f1os que pudieran derivarse de ella. El Cabildo de La Palma no ser\\u00e1 responsable del uso que de su informaci\\u00f3n hagan los agentes reutilizadores ni tampoco de los da\\u00f1os sufridos o p\\u00e9rdidas econ\\u00f3micas que, de forma directa o indirecta, produzcan o puedan producir perjuicios econ\\u00f3micos, materiales o sobre datos, provocados por el uso de la informaci\\u00f3n reutilizada. El Cabildo de La Palma no garantiza la continuidad en la puesta a disposici\\u00f3n de los documentos reutilizables, ni en contenido ni en forma, ni asume responsabilidades por cualquier error u omisi\\u00f3n contenido en ellos.</p><p style='margin-top: 0px; margin-bottom: 1.71429em; padding: 0px; font-size: 0.875em; line-height: 1.71429em; color: rgb(77, 77, 77); font-family: Arial, Helvetica, San-Serif; background-color: rgb(255, 255, 255);'><span style='font-weight: 700;'>Responsabilidad del agente reutilizador.</span><br />El agente reutilizador se halla sometido a la normativa aplicable en materia de reutilizaci\\u00f3n de la informaci\\u00f3n del sector p\\u00fablico, incluyendo el r\\u00e9gimen sancionador previsto en el art\\u00edculo 11 de la Ley 37/2007, de 16 de noviembre, sobre reutilizaci\\u00f3n de la informaci\\u00f3n del sector p\\u00fablico.</p><p style='margin-top: 0px; margin-bottom: 1.71429em; padding: 0px; font-size: 0.875em; line-height: 1.71429em; color: rgb(77, 77, 77); font-family: Arial, Helvetica, San-Serif; background-color: rgb(255, 255, 255);'><span style='font-weight: 700;'>Protecci\\u00f3n de datos de car\\u00e1cter personal.</span><br />La web www.opendatalapalma.es est\\u00e1 comprometida con el respeto a la intimidad del usuario. El Cabildo de La Palma , es el responsable del fichero de datos generado con los datos de car\\u00e1cter personal suministrados por los usuarios del sitio web.<br />De acuerdo con lo dispuesto en la Ley Org\\u00e1nica 15/1999, de 13 de diciembre, de Protecci\\u00f3n de Datos de Car\\u00e1cter Personal, el Cabildo de La Palma se compromete al cumplimiento de su obligaci\\u00f3n de secreto con respecto a los datos de car\\u00e1cter personal y al deber de tratarlos con confidencialidad. A estos efectos, adoptar\\u00e1 las medidas necesarias para evitar su alteraci\\u00f3n, p\\u00e9rdida, tratamiento o acceso no autorizado.</p><p style='margin-top: 0px; margin-bottom: 1.71429em; padding: 0px; font-size: 0.875em; line-height: 1.71429em; color: rgb(77, 77, 77); font-family: Arial, Helvetica, San-Serif; background-color: rgb(255, 255, 255);'><span style='font-weight: 700;'>Modificaciones.</span><br />Con el fin de mejorar las prestaciones del sitio web, el Cabildo de La Palma se reserva el derecho, en cualquier momento y sin previa notificaci\\u00f3n al usuario, a modificar ampliar o suspender temporalmente la presentaci\\u00f3n, configuraci\\u00f3n, especificaciones t\\u00e9cnicas y servicios del sitio web, de forma unilateral. Asimismo, se reserva el derecho a modificar en cualquier momento las presentes condiciones de uso as\\u00ed como cualesquiera otras condiciones particulares</p><p style='margin-top: 0px; margin-bottom: 1.71429em; padding: 0px; font-size: 0.875em; line-height: 1.71429em; color: rgb(77, 77, 77); font-family: Arial, Helvetica, San-Serif; background-color: rgb(255, 255, 255);'><span style='font-weight: 700;'>Hiperenlaces.</span><br />Los hiperenlaces contenidos en el sitio web pueden dirigir a p\\u00e1ginas web de terceros. El Cabildo de La Palma no asume ninguna responsabilidad por el contenido, informaciones o servicios que pudieran aparecer en dichos sitios, que tendr\\u00e1n exclusivamente car\\u00e1cter informativo y que en ning\\u00fan caso implican relaci\\u00f3n alguna con los contenidos o titulares de los sitios donde se encuentren.</p>\\\"}]\",\n          \"[{\\\"url\\\":\\\"http://fantom.gsc.riken.jp/4/download/\\\"}]\",\n          \"[{\\\"url\\\":\\\"https://confluence.csiro.au/display/daphelp/CSIRO+Data+Licence\\\"}]\"\n        ],\n        \"semantic_type\": \"\",\n        \"description\": \"\"\n      }\n    },\n    {\n      \"column\": \"source_organization\",\n      \"properties\": {\n        \"dtype\": \"category\",\n        \"num_unique_values\": 151,\n        \"samples\": [\n          \"The Food and Environment Research Agency\",\n          \"PLOS Neglected Tropical Diseases\",\n          \"Natural Resources Canada\"\n        ],\n        \"semantic_type\": \"\",\n        \"description\": \"\"\n      }\n    },\n    {\n      \"column\": \"doi\",\n      \"properties\": {\n        \"dtype\": \"category\",\n        \"num_unique_values\": 3982,\n        \"samples\": [\n          \"10.1172/jci.insight.126543\",\n          \"10.1371/journal.ppat.1003605\",\n          \"10.1371/journal.pone.0000279\"\n        ],\n        \"semantic_type\": \"\",\n        \"description\": \"\"\n      }\n    },\n    {\n      \"column\": \"compact_identifier\",\n      \"properties\": {\n        \"dtype\": \"category\",\n        \"num_unique_values\": 1606,\n        \"samples\": [\n          \"[\\\"HGNC:19080\\\"]\",\n          \"[\\\"ZFIN:ZDB-GENE-080204-45\\\"]\",\n          \"ZFIN:ZDB-GENE-040426-2289\"\n        ],\n        \"semantic_type\": \"\",\n        \"description\": \"\"\n      }\n    },\n    {\n      \"column\": \"data_download\",\n      \"properties\": {\n        \"dtype\": \"category\",\n        \"num_unique_values\": 3795,\n        \"samples\": [\n          \"[{\\\"download_url\\\":\\\"https://ndownloader.figshare.com/files/354760\\\",\\\"file_format\\\":\\\"doc\\\",\\\"file_format_class\\\":\\\"CLASS_DOCUMENT\\\"}]\",\n          \"[{\\\"download_url\\\":\\\"https://ndownloader.figshare.com/files/11277818\\\",\\\"file_format\\\":\\\"tiff\\\",\\\"file_format_class\\\":\\\"CLASS_IMAGE\\\"},{\\\"download_url\\\":\\\"https://ndownloader.figshare.com/files/11277824\\\",\\\"file_format\\\":\\\"tiff\\\",\\\"file_format_class\\\":\\\"CLASS_IMAGE\\\"},{\\\"download_url\\\":\\\"https://ndownloader.figshare.com/files/11277821\\\",\\\"file_format\\\":\\\"tiff\\\",\\\"file_format_class\\\":\\\"CLASS_IMAGE\\\"}]\",\n          \"[{\\\"download_url\\\":\\\"https://plos.figshare.com/ndownloader/files/1635775\\\",\\\"file_format\\\":\\\"doc\\\",\\\"file_format_class\\\":\\\"CLASS_DOCUMENT\\\"}]\"\n        ],\n        \"semantic_type\": \"\",\n        \"description\": \"\"\n      }\n    }\n  ]\n}"
            }
          },
          "metadata": {},
          "execution_count": 16
        }
      ]
    },
    {
      "cell_type": "code",
      "source": [
        "df_meta_cord19.info()"
      ],
      "metadata": {
        "colab": {
          "base_uri": "https://localhost:8080/"
        },
        "id": "emjjksOI1QkY",
        "outputId": "1ca5c6e1-de40-401c-adae-74dac06a17e6"
      },
      "execution_count": 17,
      "outputs": [
        {
          "output_type": "stream",
          "name": "stdout",
          "text": [
            "<class 'pandas.core.frame.DataFrame'>\n",
            "RangeIndex: 16070 entries, 0 to 16069\n",
            "Data columns (total 14 columns):\n",
            " #   Column               Non-Null Count  Dtype \n",
            "---  ------               --------------  ----- \n",
            " 0   cord_uid             16070 non-null  object\n",
            " 1   paper_url            16070 non-null  object\n",
            " 2   paper_title          16070 non-null  object\n",
            " 3   dataset_url          16070 non-null  object\n",
            " 4   dataset_name         16070 non-null  object\n",
            " 5   alternate_name       132 non-null    object\n",
            " 6   description          14126 non-null  object\n",
            " 7   author_list          6052 non-null   object\n",
            " 8   last_updated         12548 non-null  object\n",
            " 9   license              12788 non-null  object\n",
            " 10  source_organization  12518 non-null  object\n",
            " 11  doi                  5923 non-null   object\n",
            " 12  compact_identifier   2080 non-null   object\n",
            " 13  data_download        5500 non-null   object\n",
            "dtypes: object(14)\n",
            "memory usage: 1.7+ MB\n"
          ]
        }
      ]
    },
    {
      "cell_type": "code",
      "source": [
        "df_meta_cord19_filtered = df_meta_cord19[df_meta_cord19['description'].notnull()]\n",
        "df_meta_cord19_filtered.info()"
      ],
      "metadata": {
        "colab": {
          "base_uri": "https://localhost:8080/"
        },
        "id": "B2RDxgO-1kcg",
        "outputId": "8397c890-0811-4daa-86c7-96caef6b58dc"
      },
      "execution_count": 18,
      "outputs": [
        {
          "output_type": "stream",
          "name": "stdout",
          "text": [
            "<class 'pandas.core.frame.DataFrame'>\n",
            "Index: 14126 entries, 0 to 16069\n",
            "Data columns (total 14 columns):\n",
            " #   Column               Non-Null Count  Dtype \n",
            "---  ------               --------------  ----- \n",
            " 0   cord_uid             14126 non-null  object\n",
            " 1   paper_url            14126 non-null  object\n",
            " 2   paper_title          14126 non-null  object\n",
            " 3   dataset_url          14126 non-null  object\n",
            " 4   dataset_name         14126 non-null  object\n",
            " 5   alternate_name       132 non-null    object\n",
            " 6   description          14126 non-null  object\n",
            " 7   author_list          6052 non-null   object\n",
            " 8   last_updated         12548 non-null  object\n",
            " 9   license              12788 non-null  object\n",
            " 10  source_organization  12516 non-null  object\n",
            " 11  doi                  5923 non-null   object\n",
            " 12  compact_identifier   2080 non-null   object\n",
            " 13  data_download        5500 non-null   object\n",
            "dtypes: object(14)\n",
            "memory usage: 1.6+ MB\n"
          ]
        }
      ]
    },
    {
      "cell_type": "code",
      "source": [
        "# Calculate the word in the df_meta_cord19_filtered dataset"
      ],
      "metadata": {
        "id": "hvptrQ683Qnm"
      },
      "execution_count": null,
      "outputs": []
    },
    {
      "cell_type": "markdown",
      "source": [
        "## Kewords with [KeyBERT](https://pypi.org/project/keybert/)"
      ],
      "metadata": {
        "id": "v1Q-RCKr3XcS"
      }
    },
    {
      "cell_type": "code",
      "source": [],
      "metadata": {
        "id": "9of9Hx9-1gyJ"
      },
      "execution_count": null,
      "outputs": []
    },
    {
      "cell_type": "markdown",
      "source": [
        "## Clustering with [BERTTopic](https://pypi.org/project/bertopic/)"
      ],
      "metadata": {
        "id": "ApvVtfK13kax"
      }
    },
    {
      "cell_type": "code",
      "source": [],
      "metadata": {
        "id": "zx3BGfGW3pN1"
      },
      "execution_count": null,
      "outputs": []
    },
    {
      "cell_type": "markdown",
      "source": [
        "## Dimension reduction with [Umap](https://pypi.org/project/umap-learn/)"
      ],
      "metadata": {
        "id": "-vFtcCyZ3y1a"
      }
    },
    {
      "cell_type": "code",
      "source": [],
      "metadata": {
        "id": "0Nikizvm31m5"
      },
      "execution_count": null,
      "outputs": []
    },
    {
      "cell_type": "markdown",
      "source": [
        "## Visualization"
      ],
      "metadata": {
        "id": "RfFtdwHd37Ki"
      }
    },
    {
      "cell_type": "code",
      "source": [],
      "metadata": {
        "id": "7YjSil353_WB"
      },
      "execution_count": null,
      "outputs": []
    }
  ],
  "metadata": {
    "language_info": {
      "name": "python"
    },
    "colab": {
      "provenance": []
    },
    "kernelspec": {
      "name": "python3",
      "display_name": "Python 3"
    }
  },
  "nbformat": 4,
  "nbformat_minor": 0
}