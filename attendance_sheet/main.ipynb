{
 "cells": [
  {
   "cell_type": "code",
   "execution_count": 1,
   "id": "e64a0a31",
   "metadata": {},
   "outputs": [],
   "source": [
    "import pandas as pd"
   ]
  },
  {
   "cell_type": "code",
   "execution_count": 11,
   "id": "ff1d4cfd",
   "metadata": {},
   "outputs": [
    {
     "name": "stdout",
     "output_type": "stream",
     "text": [
      "<class 'pandas.core.frame.DataFrame'>\n",
      "Index: 154 entries, 0 to 172\n",
      "Data columns (total 10 columns):\n",
      " #   Column               Non-Null Count  Dtype         \n",
      "---  ------               --------------  -----         \n",
      " 0   Id                   154 non-null    int64         \n",
      " 1   Kezdés ideje         154 non-null    datetime64[ns]\n",
      " 2   Befejezés időpontja  154 non-null    datetime64[ns]\n",
      " 3   E-mail-cím           153 non-null    object        \n",
      " 4   Név                  154 non-null    object        \n",
      " 5   Name                 154 non-null    object        \n",
      " 6   Neptun code          154 non-null    object        \n",
      " 7   Class                154 non-null    object        \n",
      " 8   OK                   154 non-null    int64         \n",
      " 9   Date                 154 non-null    object        \n",
      "dtypes: datetime64[ns](2), int64(2), object(6)\n",
      "memory usage: 13.2+ KB\n"
     ]
    },
    {
     "data": {
      "text/html": [
       "<div>\n",
       "<style scoped>\n",
       "    .dataframe tbody tr th:only-of-type {\n",
       "        vertical-align: middle;\n",
       "    }\n",
       "\n",
       "    .dataframe tbody tr th {\n",
       "        vertical-align: top;\n",
       "    }\n",
       "\n",
       "    .dataframe thead th {\n",
       "        text-align: right;\n",
       "    }\n",
       "</style>\n",
       "<table border=\"1\" class=\"dataframe\">\n",
       "  <thead>\n",
       "    <tr style=\"text-align: right;\">\n",
       "      <th></th>\n",
       "      <th>Id</th>\n",
       "      <th>Kezdés ideje</th>\n",
       "      <th>Befejezés időpontja</th>\n",
       "      <th>E-mail-cím</th>\n",
       "      <th>Név</th>\n",
       "      <th>Name</th>\n",
       "      <th>Neptun code</th>\n",
       "      <th>Class</th>\n",
       "      <th>OK</th>\n",
       "      <th>Date</th>\n",
       "    </tr>\n",
       "  </thead>\n",
       "  <tbody>\n",
       "    <tr>\n",
       "      <th>0</th>\n",
       "      <td>2</td>\n",
       "      <td>2025-09-18 15:30:03</td>\n",
       "      <td>2025-09-18 15:30:26</td>\n",
       "      <td>NaN</td>\n",
       "      <td>Róka Dávid</td>\n",
       "      <td>Róka Dávid</td>\n",
       "      <td>D3WR6L</td>\n",
       "      <td>NLP CS:14:00-16:00(IK-105)</td>\n",
       "      <td>1</td>\n",
       "      <td>2025-09-18</td>\n",
       "    </tr>\n",
       "    <tr>\n",
       "      <th>1</th>\n",
       "      <td>3</td>\n",
       "      <td>2025-09-18 15:30:03</td>\n",
       "      <td>2025-09-18 15:30:26</td>\n",
       "      <td>vargadavidlajos@mailbox.unideb.hu</td>\n",
       "      <td>Varga Dávid Lajos</td>\n",
       "      <td>Varga Dávid Lajos</td>\n",
       "      <td>DVPJ8L</td>\n",
       "      <td>NLP CS:14:00-16:00(IK-105)</td>\n",
       "      <td>1</td>\n",
       "      <td>2025-09-18</td>\n",
       "    </tr>\n",
       "    <tr>\n",
       "      <th>2</th>\n",
       "      <td>4</td>\n",
       "      <td>2025-09-18 15:30:04</td>\n",
       "      <td>2025-09-18 15:30:34</td>\n",
       "      <td>zalantoth21@mailbox.unideb.hu</td>\n",
       "      <td>Tóth Zalán András</td>\n",
       "      <td>Tóth Zalán András</td>\n",
       "      <td>GAV6G1</td>\n",
       "      <td>NLP CS:14:00-16:00(IK-105)</td>\n",
       "      <td>1</td>\n",
       "      <td>2025-09-18</td>\n",
       "    </tr>\n",
       "    <tr>\n",
       "      <th>3</th>\n",
       "      <td>5</td>\n",
       "      <td>2025-09-18 15:30:17</td>\n",
       "      <td>2025-09-18 15:30:39</td>\n",
       "      <td>zilahi.alexandra04@mailbox.unideb.hu</td>\n",
       "      <td>Zilahi Alexandra</td>\n",
       "      <td>Zilahi Alexandra</td>\n",
       "      <td>A1TPKE</td>\n",
       "      <td>NLP CS:14:00-16:00(IK-105)</td>\n",
       "      <td>1</td>\n",
       "      <td>2025-09-18</td>\n",
       "    </tr>\n",
       "    <tr>\n",
       "      <th>4</th>\n",
       "      <td>6</td>\n",
       "      <td>2025-09-18 15:30:04</td>\n",
       "      <td>2025-09-18 15:30:40</td>\n",
       "      <td>molzsolti03@mailbox.unideb.hu</td>\n",
       "      <td>Molnár Zsolt Levente</td>\n",
       "      <td>Molnár Zsolt Levente</td>\n",
       "      <td>SM84WO</td>\n",
       "      <td>NLP CS:14:00-16:00(IK-105)</td>\n",
       "      <td>1</td>\n",
       "      <td>2025-09-18</td>\n",
       "    </tr>\n",
       "  </tbody>\n",
       "</table>\n",
       "</div>"
      ],
      "text/plain": [
       "   Id        Kezdés ideje Befejezés időpontja  \\\n",
       "0   2 2025-09-18 15:30:03 2025-09-18 15:30:26   \n",
       "1   3 2025-09-18 15:30:03 2025-09-18 15:30:26   \n",
       "2   4 2025-09-18 15:30:04 2025-09-18 15:30:34   \n",
       "3   5 2025-09-18 15:30:17 2025-09-18 15:30:39   \n",
       "4   6 2025-09-18 15:30:04 2025-09-18 15:30:40   \n",
       "\n",
       "                             E-mail-cím                   Név  \\\n",
       "0                                   NaN            Róka Dávid   \n",
       "1     vargadavidlajos@mailbox.unideb.hu     Varga Dávid Lajos   \n",
       "2         zalantoth21@mailbox.unideb.hu     Tóth Zalán András   \n",
       "3  zilahi.alexandra04@mailbox.unideb.hu      Zilahi Alexandra   \n",
       "4         molzsolti03@mailbox.unideb.hu  Molnár Zsolt Levente   \n",
       "\n",
       "                   Name Neptun code                       Class  OK  \\\n",
       "0            Róka Dávid      D3WR6L  NLP CS:14:00-16:00(IK-105)   1   \n",
       "1     Varga Dávid Lajos      DVPJ8L  NLP CS:14:00-16:00(IK-105)   1   \n",
       "2     Tóth Zalán András      GAV6G1  NLP CS:14:00-16:00(IK-105)   1   \n",
       "3      Zilahi Alexandra      A1TPKE  NLP CS:14:00-16:00(IK-105)   1   \n",
       "4  Molnár Zsolt Levente      SM84WO  NLP CS:14:00-16:00(IK-105)   1   \n",
       "\n",
       "         Date  \n",
       "0  2025-09-18  \n",
       "1  2025-09-18  \n",
       "2  2025-09-18  \n",
       "3  2025-09-18  \n",
       "4  2025-09-18  "
      ]
     },
     "execution_count": 11,
     "metadata": {},
     "output_type": "execute_result"
    }
   ],
   "source": [
    "df = pd.read_excel('sheets/act.xlsx')\n",
    "df = df[df['OK'] == 1]\n",
    "df[\"Date\"] = [str(item)[:10] for item in df[\"Kezdés ideje\"].values]\n",
    "# df = df.groupby(['Date', 'Class']).size().reset_index(name='Count')\n",
    "# df = df.sort_values(by='Neptun code', ascending=True)\n",
    "# df.rename(columns={\"Count\":\"Count of participations\"}, inplace=True)\n",
    "\n",
    "df.info()\n",
    "df.head()"
   ]
  },
  {
   "cell_type": "code",
   "execution_count": 12,
   "id": "d7e1eccf",
   "metadata": {
    "vscode": {
     "languageId": "javascript"
    }
   },
   "outputs": [
    {
     "name": "stdout",
     "output_type": "stream",
     "text": [
      "{'AIPD CS:16:00-18:00(IK-103)': ['SKVLGT', 'IXY6RA', 'FVCN6I', 'I8BTEF', 'VQGBU8', 'YYCT8E', 'BQ7I39', 'GVH1R0', 'BW3451', 'GTCFB2', 'H3Q62Q', 'COP3G8', 'DM3NOD'], 'NLP CS:14:00-16:00(IK-105)': ['D3WR6L', 'DVPJ8L', 'GAV6G1', 'A1TPKE', 'SM84WO', 'B906KU', 'DFNZ1N', 'XNQ1NU', 'MSUH6O', 'CTDXKK', 'W1CNPE', 'GWZENN', 'OV1GNP', 'JLJZDD', 'OVQCD1', 'H6SWL7', 'QH5UTC', 'BMLPAG', 'D3WR6L', 'OV1GNP', 'GWZENN', 'DVPJ8L', 'XNQ1NU', 'SM84WO', 'DFNZ1N', 'W1CNPE', 'A1TPKE', 'GAV6G1', 'H6SWL7', 'OVQCD1', 'MSUH6O', 'B906KU', 'QH5UTC', 'BMLPAG', 'JK2E05'], 'NLP CS:18:00-20:00(IK-206)': ['Q66PXT', 'HSME6L', 'BALT4Q', 'CXNOLK', 'EMB4PF', 'F002KD', 'XKLZTB', 'CB52IT', 'C3MG6E', 'O0V6O4', 'AABZM4', 'R5WU7R', 'N12O1L', 'CYF65U', 'AV2KLX', 'PBK5AX', 'GOOXNF', 'CYF65U', 'N12O1L', 'HSME6L', 'CXNOLK', 'CN8END', 'EMB4PF', 'GOOXNF', 'R5WU7R', 'F002KD', 'PBK5AX', 'BALT4Q', 'Q66PXT', 'AV2KLX'], 'NLP K:14:00-16:00(IK-TEOKJ II. em. 106)': ['H9Z9RE', 'WCD2M3', 'MGEBUL', 'BFQBGY', 'D2SBLH', 'VL4F3Q', 'U0I7TX', 'AC4MO7', 'CM903S', 'MKRHR0', 'IKVDYG', 'BLOUW9', 'BOYXNN', 'GMWTEL', 'CPXZ3M', 'G5XMHV', 'ZDV9BS', 'GSJE81', 'P7ZKGB', 'DQMXK2', 'WREKWA', 'G9UB1S', 'H98Y1X', 'JL51SF', 'AD0ULJ', 'VGORG8', 'K1URYN', 'EXYXF8', 'DAEID2', 'GBVMNN', 'SF4BLB'], 'NLP K:16:00-18:00(IK-203)': ['JB25M8', 'YLYPDM', 'I8LM91', 'A2E2QT', 'GLYQ43', 'D48ESY', 'FS0QFY', 'RWBV5H', 'V4PS4K', 'IBRO2O', 'QO2OYW', 'E1RCGX'], 'NLP K:18:00-20:00(IK-203)': ['F8FOX0', 'QX4P71', 'GO1IHI', 'M3N8YE', 'T8XGO6', 'IXSKJR', 'LV4T4L', 'CXFH9G', 'L5B771', 'GHJMFP', 'X5AZ5C', 'GZC5BO', 'B2XKP4', 'DOPB1V', 'SXDWT4', 'VODJS5'], 'NLP\\xa0K:08:00-10:00(IK-204)': ['UOQ1WK', 'WYSP81', 'E17UAW', 'X98U7O', 'NJLRNH', 'RP88LS', 'S4BMSQ', 'MIL8I8', 'NCWS2Q', 'SQAEL4', 'WSZJEV', 'E2DSBD', 'KCRMSH', 'LURJKX', 'CCGXBD', 'KGX83C', 'WFHBK7']}\n"
     ]
    }
   ],
   "source": [
    "neptun_codes_by_class = df.groupby('Class')['Neptun code'].apply(list).to_dict()\n",
    "print(neptun_codes_by_class)"
   ]
  },
  {
   "cell_type": "code",
   "execution_count": 13,
   "id": "c41aa798",
   "metadata": {},
   "outputs": [
    {
     "name": "stdout",
     "output_type": "stream",
     "text": [
      "AIPD CS:16:00-18:00(IK-103) | 2025-09-25 | Hiányzók: []\n",
      "NLP CS:14:00-16:00(IK-105) | 2025-09-18 | Hiányzók: ['JK2E05']\n",
      "NLP CS:14:00-16:00(IK-105) | 2025-09-25 | Hiányzók: ['JLJZDD', 'CTDXKK']\n",
      "NLP CS:18:00-20:00(IK-206) | 2025-09-18 | Hiányzók: ['CN8END']\n",
      "NLP CS:18:00-20:00(IK-206) | 2025-09-25 | Hiányzók: ['CB52IT', 'AABZM4', 'O0V6O4', 'XKLZTB', 'C3MG6E']\n",
      "NLP K:14:00-16:00(IK-TEOKJ II. em. 106) | 2025-09-23 | Hiányzók: []\n",
      "NLP K:16:00-18:00(IK-203) | 2025-09-23 | Hiányzók: []\n",
      "NLP K:18:00-20:00(IK-203) | 2025-09-23 | Hiányzók: []\n",
      "NLP K:08:00-10:00(IK-204) | 2025-09-23 | Hiányzók: []\n"
     ]
    }
   ],
   "source": [
    "from collections import defaultdict\n",
    "\n",
    "absent_by_class_and_date = defaultdict(dict)\n",
    "\n",
    "for class_name, all_neptun_codes in neptun_codes_by_class.items():\n",
    "    class_df = df[df['Class'] == class_name]\n",
    "    for date in class_df['Date'].unique():\n",
    "        present_codes = set(class_df[class_df['Date'] == date]['Neptun code'])\n",
    "        absent_codes = set(all_neptun_codes) - present_codes\n",
    "        absent_by_class_and_date[class_name][date] = list(absent_codes)\n",
    "\n",
    "# Példa kiírás\n",
    "for class_name, dates in absent_by_class_and_date.items():\n",
    "    for date, absent_codes in dates.items():\n",
    "        print(f\"{class_name} | {date} | Hiányzók: {absent_codes}\")"
   ]
  }
 ],
 "metadata": {
  "kernelspec": {
   "display_name": "KSH",
   "language": "python",
   "name": "python3"
  },
  "language_info": {
   "codemirror_mode": {
    "name": "ipython",
    "version": 3
   },
   "file_extension": ".py",
   "mimetype": "text/x-python",
   "name": "python",
   "nbconvert_exporter": "python",
   "pygments_lexer": "ipython3",
   "version": "3.12.9"
  }
 },
 "nbformat": 4,
 "nbformat_minor": 5
}
