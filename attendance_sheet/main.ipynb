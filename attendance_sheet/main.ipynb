{
 "cells": [
  {
   "cell_type": "code",
   "execution_count": 2,
   "id": "e64a0a31",
   "metadata": {},
   "outputs": [],
   "source": [
    "import pandas as pd"
   ]
  },
  {
   "cell_type": "code",
   "execution_count": 3,
   "id": "ff1d4cfd",
   "metadata": {},
   "outputs": [
    {
     "name": "stdout",
     "output_type": "stream",
     "text": [
      "<class 'pandas.core.frame.DataFrame'>\n",
      "Index: 52 entries, 0 to 17\n",
      "Data columns (total 3 columns):\n",
      " #   Column                   Non-Null Count  Dtype \n",
      "---  ------                   --------------  ----- \n",
      " 0   Class                    52 non-null     object\n",
      " 1   Neptun code              52 non-null     object\n",
      " 2   Count of participations  52 non-null     int64 \n",
      "dtypes: int64(1), object(2)\n",
      "memory usage: 1.6+ KB\n"
     ]
    },
    {
     "data": {
      "text/html": [
       "<div>\n",
       "<style scoped>\n",
       "    .dataframe tbody tr th:only-of-type {\n",
       "        vertical-align: middle;\n",
       "    }\n",
       "\n",
       "    .dataframe tbody tr th {\n",
       "        vertical-align: top;\n",
       "    }\n",
       "\n",
       "    .dataframe thead th {\n",
       "        text-align: right;\n",
       "    }\n",
       "</style>\n",
       "<table border=\"1\" class=\"dataframe\">\n",
       "  <thead>\n",
       "    <tr style=\"text-align: right;\">\n",
       "      <th></th>\n",
       "      <th>Class</th>\n",
       "      <th>Neptun code</th>\n",
       "      <th>Count of participations</th>\n",
       "    </tr>\n",
       "  </thead>\n",
       "  <tbody>\n",
       "    <tr>\n",
       "      <th>0</th>\n",
       "      <td>NLP CS:14:00-16:00(IK-105)</td>\n",
       "      <td>A1TPKE</td>\n",
       "      <td>1</td>\n",
       "    </tr>\n",
       "    <tr>\n",
       "      <th>18</th>\n",
       "      <td>NLP CS:18:00-20:00(IK-206)</td>\n",
       "      <td>AABZM4</td>\n",
       "      <td>1</td>\n",
       "    </tr>\n",
       "    <tr>\n",
       "      <th>19</th>\n",
       "      <td>NLP CS:18:00-20:00(IK-206)</td>\n",
       "      <td>AV2KLX</td>\n",
       "      <td>1</td>\n",
       "    </tr>\n",
       "    <tr>\n",
       "      <th>1</th>\n",
       "      <td>NLP CS:14:00-16:00(IK-105)</td>\n",
       "      <td>B906KU</td>\n",
       "      <td>1</td>\n",
       "    </tr>\n",
       "    <tr>\n",
       "      <th>20</th>\n",
       "      <td>NLP CS:18:00-20:00(IK-206)</td>\n",
       "      <td>BALT4Q</td>\n",
       "      <td>1</td>\n",
       "    </tr>\n",
       "  </tbody>\n",
       "</table>\n",
       "</div>"
      ],
      "text/plain": [
       "                         Class Neptun code  Count of participations\n",
       "0   NLP CS:14:00-16:00(IK-105)      A1TPKE                        1\n",
       "18  NLP CS:18:00-20:00(IK-206)      AABZM4                        1\n",
       "19  NLP CS:18:00-20:00(IK-206)      AV2KLX                        1\n",
       "1   NLP CS:14:00-16:00(IK-105)      B906KU                        1\n",
       "20  NLP CS:18:00-20:00(IK-206)      BALT4Q                        1"
      ]
     },
     "execution_count": 3,
     "metadata": {},
     "output_type": "execute_result"
    }
   ],
   "source": [
    "df = pd.read_excel('sheets/act.xlsx')\n",
    "df = df[df['OK'] == 1]\n",
    "\n",
    "df = df.groupby(['Class', 'Neptun code']).size().reset_index(name='Count')\n",
    "df = df.sort_values(by='Neptun code', ascending=True)\n",
    "df.rename(columns={\"Count\":\"Count of participations\"}, inplace=True)\n",
    "\n",
    "df.info()\n",
    "df.head()"
   ]
  },
  {
   "cell_type": "code",
   "execution_count": 5,
   "id": "de1e761c",
   "metadata": {},
   "outputs": [
    {
     "name": "stdout",
     "output_type": "stream",
     "text": [
      "Class | Neptun code | Count of participations\n",
      "--- | --- | --- \n",
      "NLP CS:18:00-20:00(IK-206) | AABZM4 | 1\n",
      "NLP CS:18:00-20:00(IK-206) | AV2KLX | 1\n",
      "NLP CS:18:00-20:00(IK-206) | BALT4Q | 1\n",
      "NLP CS:18:00-20:00(IK-206) | C3MG6E | 1\n",
      "NLP CS:18:00-20:00(IK-206) | CB52IT | 1\n",
      "NLP K:08:00-10:00(IK-204) | CCGXBD | 1\n",
      "NLP CS:18:00-20:00(IK-206) | CXNOLK | 1\n",
      "NLP CS:18:00-20:00(IK-206) | CYF65U | 1\n",
      "NLP K:08:00-10:00(IK-204) | E17UAW | 1\n",
      "NLP K:08:00-10:00(IK-204) | E2DSBD | 1\n",
      "NLP CS:18:00-20:00(IK-206) | EMB4PF | 1\n",
      "NLP CS:18:00-20:00(IK-206) | F002KD | 1\n",
      "NLP CS:18:00-20:00(IK-206) | GOOXNF | 1\n",
      "NLP CS:18:00-20:00(IK-206) | HSME6L | 1\n",
      "NLP K:08:00-10:00(IK-204) | KCRMSH | 1\n",
      "NLP K:08:00-10:00(IK-204) | KGX83C | 1\n",
      "NLP K:08:00-10:00(IK-204) | LURJKX | 1\n",
      "NLP K:08:00-10:00(IK-204) | MIL8I8 | 1\n",
      "NLP CS:18:00-20:00(IK-206) | N12O1L | 1\n",
      "NLP K:08:00-10:00(IK-204) | NCWS2Q | 1\n",
      "NLP K:08:00-10:00(IK-204) | NJLRNH | 1\n",
      "NLP CS:18:00-20:00(IK-206) | O0V6O4 | 1\n",
      "NLP CS:18:00-20:00(IK-206) | PBK5AX | 1\n",
      "NLP CS:18:00-20:00(IK-206) | Q66PXT | 1\n",
      "NLP CS:18:00-20:00(IK-206) | R5WU7R | 1\n",
      "NLP K:08:00-10:00(IK-204) | RP88LS | 1\n",
      "NLP K:08:00-10:00(IK-204) | S4BMSQ | 1\n",
      "NLP K:08:00-10:00(IK-204) | SQAEL4 | 1\n",
      "NLP K:08:00-10:00(IK-204) | UOQ1WK | 1\n",
      "NLP K:08:00-10:00(IK-204) | WFHBK7 | 1\n",
      "NLP K:08:00-10:00(IK-204) | WSZJEV | 1\n",
      "NLP K:08:00-10:00(IK-204) | WYSP81 | 1\n",
      "NLP K:08:00-10:00(IK-204) | X98U7O | 1\n",
      "NLP CS:18:00-20:00(IK-206) | XKLZTB | 1\n"
     ]
    }
   ],
   "source": [
    "# https://pandao.github.io/editor.md/en.html\n",
    "\n",
    "exclude_list = [\n",
    "    'NLP CS:14:00-16:00(IK-105)',\n",
    "]\n",
    "\n",
    "filtered_df = df[~df['Class'].isin(exclude_list)]\n",
    "filtered_df.head()\n",
    "\n",
    "print(\"Class | Neptun code | Count of participations\")\n",
    "print(\"--- | --- | --- \")\n",
    "for i in range(0, len(filtered_df)):\n",
    "    tmp_class = filtered_df[\"Class\"].values[i]\n",
    "    tmp_nk = filtered_df[\"Neptun code\"].values[i]\n",
    "    tmp_cop = filtered_df[\"Count of participations\"].values[i]\n",
    "    print(f\"{tmp_class} | {tmp_nk} | {tmp_cop}\")"
   ]
  }
 ],
 "metadata": {
  "kernelspec": {
   "display_name": "KSH",
   "language": "python",
   "name": "python3"
  },
  "language_info": {
   "codemirror_mode": {
    "name": "ipython",
    "version": 3
   },
   "file_extension": ".py",
   "mimetype": "text/x-python",
   "name": "python",
   "nbconvert_exporter": "python",
   "pygments_lexer": "ipython3",
   "version": "3.12.9"
  }
 },
 "nbformat": 4,
 "nbformat_minor": 5
}
